{
 "cells": [
  {
   "cell_type": "markdown",
   "metadata": {},
   "source": [
    "# Topic model of ACL privacy full docs"
   ]
  },
  {
   "cell_type": "code",
   "execution_count": 1,
   "metadata": {
    "ExecuteTime": {
     "end_time": "2019-02-18T04:14:47.756218Z",
     "start_time": "2019-02-18T04:14:44.138793Z"
    }
   },
   "outputs": [],
   "source": [
    "# general imports\n",
    "import warnings\n",
    "import nltk\n",
    "import pandas as pd\n",
    "import numpy as np\n",
    "import scipy as sp\n",
    "from time import time, sleep\n",
    "import json\n",
    "import requests\n",
    "import random\n",
    "import os\n",
    "import matplotlib.pyplot as plt\n",
    "import re\n",
    "from sklearn.externals import joblib\n",
    "# Clean and lemmatize text\n",
    "from nltk.corpus import stopwords\n",
    "from gensim.utils import smart_open, simple_preprocess\n",
    "from gensim.test.utils import datapath\n",
    "from nltk.stem.wordnet import WordNetLemmatizer\n",
    "from sklearn.feature_extraction.text import CountVectorizer, TfidfTransformer\n",
    "from nltk.tokenize import sent_tokenize, word_tokenize\n",
    "from sklearn.preprocessing import normalize\n",
    "import warnings\n",
    "warnings.filterwarnings('ignore')\n",
    "\n",
    "import html5lib\n",
    "import re\n",
    "from bs4 import BeautifulSoup\n",
    "import requests\n",
    "from pprint import pprint\n",
    "from pickle import dump,load\n",
    "# Gensim\n",
    "from gensim import similarities\n",
    "import gensim\n",
    "from gensim.corpora import Dictionary\n",
    "import gensim.corpora as corpora\n",
    "from gensim.utils import simple_preprocess\n",
    "from gensim.models import CoherenceModel, LdaModel, LsiModel, HdpModel\n",
    "from gensim.models.wrappers import LdaMallet\n",
    "from gensim.summarization.summarizer import summarize\n",
    "from pprint import pprint\n",
    "\n",
    "# spacy for lemmatization\n",
    "import spacy\n",
    "\n",
    "# Plotting tools\n",
    "import pyLDAvis\n",
    "import pyLDAvis.gensim  # don't skip this\n",
    "import matplotlib.pyplot as plt\n",
    "\n",
    "# Enable logging for gensim - optional\n",
    "import logging\n",
    "logging.basicConfig(\n",
    "    format='%(asctime)s : %(levelname)s : %(message)s', level=logging.ERROR)\n",
    "\n",
    "warnings.filterwarnings(\"ignore\", category=DeprecationWarning)\n",
    "\n",
    "random.seed(0)\n",
    "# %matplotlib inline"
   ]
  },
  {
   "cell_type": "code",
   "execution_count": 37,
   "metadata": {
    "ExecuteTime": {
     "end_time": "2019-02-18T05:16:42.565184Z",
     "start_time": "2019-02-18T05:16:42.559030Z"
    }
   },
   "outputs": [],
   "source": [
    "def compute_coherence_lda(dictionary, corpus, texts, limit, start=2, step=3):\n",
    "    \"\"\"\n",
    "    Compute c_v coherence for various number of topics\n",
    "\n",
    "    Parameters:\n",
    "    ----------\n",
    "    dictionary : Gensim dictionary\n",
    "    corpus : Gensim corpus\n",
    "    texts : List of input texts\n",
    "    limit : Max num of topics\n",
    "\n",
    "    Returns:\n",
    "    -------\n",
    "    model_list : List of LDA topic models\n",
    "    coherence_values : Coherence values corresponding to the LDA model with respective number of topics\n",
    "    \"\"\"\n",
    "    coherence_values = []\n",
    "    model_list = []\n",
    "    for num_topics in range(start, limit, step):\n",
    "        model = gensim.models.ldamodel.LdaModel(\n",
    "            corpus=corpus,\n",
    "            random_state=0,\n",
    "            num_topics=num_topics,\n",
    "            id2word=dictionary,\n",
    "#             minimum_probability=0.3, \n",
    "            alpha = 'auto', \n",
    "            eta = 'auto')\n",
    "        model_list.append(model)\n",
    "        coherencemodel = CoherenceModel(\n",
    "            model=model, texts=texts, dictionary=dictionary, coherence='c_v')\n",
    "        coherence_values.append(coherencemodel.get_coherence())\n",
    "\n",
    "    return model_list, coherence_values"
   ]
  },
  {
   "cell_type": "code",
   "execution_count": 83,
   "metadata": {
    "ExecuteTime": {
     "end_time": "2019-02-18T06:59:08.180898Z",
     "start_time": "2019-02-18T06:59:08.170417Z"
    }
   },
   "outputs": [],
   "source": [
    "def format_topics_sentences(ldamodel, #optimal_model\n",
    "                            corpus,#corpus\n",
    "                            texts): #split_data_words\n",
    "    # Init output\n",
    "    sent_topics_df = pd.DataFrame()\n",
    "\n",
    "    # Get main topic in each document\n",
    "    for i, row in enumerate(ldamodel[corpus]):\n",
    "        row = sorted(row, key=lambda x: (x[1]), reverse=True)\n",
    "        # Get the Dominant topic, Perc Contribution and Keywords for each document\n",
    "        for j, (topic_num, prop_topic) in enumerate(row):\n",
    "            if j == 0:  # => dominant topic\n",
    "                wp = ldamodel.show_topic(topic_num)\n",
    "                topic_keywords = \", \".join([word for word, prop in wp])\n",
    "                sent_topics_df = sent_topics_df.append(\n",
    "                    pd.Series(\n",
    "                        [int(topic_num),\n",
    "                         round(prop_topic, 4), topic_keywords]),\n",
    "                    ignore_index=True)\n",
    "            else:\n",
    "                break\n",
    "    sent_topics_df.columns = [\n",
    "        'Dominant_Topic', 'Perc_Contribution', 'Topic_Keywords'\n",
    "    ]\n",
    "\n",
    "    # Add original text to the end of the output\n",
    "    contents = pd.Series(texts)\n",
    "    sent_topics_df = pd.concat([sent_topics_df, contents], axis=1)\n",
    "    return (sent_topics_df)\n",
    "\n",
    "\n",
    "\n",
    "\n",
    "# For new documents, extract the keywords\n",
    "def get_topics_4_new_docs(model, topics,  prob = .3):\n",
    "    topics.sort(key=lambda x: x[1], reverse = True) #This is in-place\n",
    "    topic_keywords = [[topic[0], model.show_topic(topic[0])] for topic in topics if topic[1] > prob]\n",
    "    return topic_keywords\n",
    "\n",
    "\n",
    "# Display topics as a dataframe\n",
    "def display_topics(feature_names, no_top_words, topic_words):\n",
    "    word_dict = {}\n",
    "    for topic_idx, topic in enumerate(model.components_):\n",
    "        #         print(topic_idx)\n",
    "        #         print ([feature_names[i] for i in topic.argsort()[:-no_top_words - 1:-1]])\n",
    "        word_dict['Topic ' + str(topic_idx)] = [\n",
    "            feature_names[i] for i in topic.argsort()[:-no_top_words - 1:-1]\n",
    "        ]\n",
    "    return pd.DataFrame(\n",
    "        word_dict\n",
    "    )  #, columns=['Topic ' + str(k) for k in range(len(model.components_))])\n",
    "\n",
    "\n",
    "# For new documents, extract the keywords\n",
    "def get_similar_docs_4_new_docs(similarities_val, similarity_threshold):\n",
    "    similarities_val.sort(key=lambda x: x[1], reverse = True) #This is in-place\n",
    "#     print(similarities_val)\n",
    "    similarities_val_thresh = [val[0] for val in similarities_val if val[1] > similarity_threshold]\n",
    "    return similarities_val_thresh\n"
   ]
  },
  {
   "cell_type": "code",
   "execution_count": 7,
   "metadata": {
    "ExecuteTime": {
     "end_time": "2019-02-18T04:25:25.044969Z",
     "start_time": "2019-02-18T04:25:24.988455Z"
    }
   },
   "outputs": [
    {
     "name": "stdout",
     "output_type": "stream",
     "text": [
      "(1010, 3) 1010\n"
     ]
    }
   ],
   "source": [
    "# Load data\n",
    "df = load(\n",
    "    open(\"/Users/dbm/Documents/Insight S19/data/acl_privacy_policy_full_docs.pkl\",\n",
    "         \"rb\"))\n",
    "data_words = load(\n",
    "    open(\n",
    "        \"/Users/dbm/Documents/Insight S19/data/acl_privacy_policy_full_doc_words.pkl\",\n",
    "        \"rb\"))\n",
    "print(df.shape, len(data_words))"
   ]
  },
  {
   "cell_type": "code",
   "execution_count": 15,
   "metadata": {
    "ExecuteTime": {
     "end_time": "2019-02-18T04:35:14.530309Z",
     "start_time": "2019-02-18T04:35:14.413235Z"
    }
   },
   "outputs": [],
   "source": [
    "# Split data into words to create a BOW model\n",
    "split_data_words = [content.split() for content in data_words]"
   ]
  },
  {
   "cell_type": "markdown",
   "metadata": {},
   "source": [
    "## Train test split"
   ]
  },
  {
   "cell_type": "code",
   "execution_count": 16,
   "metadata": {
    "ExecuteTime": {
     "end_time": "2019-02-18T04:35:18.256574Z",
     "start_time": "2019-02-18T04:35:18.250739Z"
    }
   },
   "outputs": [
    {
     "name": "stdout",
     "output_type": "stream",
     "text": [
      "Num documents in train set: 808 \n",
      "Num documents in test set: 202\n",
      "Num documents in train set: (808, 3) \n",
      "Num documents in test set: (202, 3)\n"
     ]
    }
   ],
   "source": [
    "# Split data into training and test sets\n",
    "train_prop = 0.8\n",
    "num_train = int(len(data_words)*train_prop)\n",
    "train_words = split_data_words[:num_train]\n",
    "test_words = split_data_words[num_train:]\n",
    "train_df = df.iloc[:num_train,:]\n",
    "test_df = df.iloc[num_train:,:]\n",
    "print(f'Num documents in train set: {len(train_words)} \\nNum documents in test set: {len(test_words)}')\n",
    "print(f'Num documents in train set: {train_df.shape} \\nNum documents in test set: {test_df.shape}')"
   ]
  },
  {
   "cell_type": "code",
   "execution_count": 17,
   "metadata": {
    "ExecuteTime": {
     "end_time": "2019-02-18T04:35:21.378188Z",
     "start_time": "2019-02-18T04:35:21.366698Z"
    }
   },
   "outputs": [
    {
     "data": {
      "text/html": [
       "<div>\n",
       "<style scoped>\n",
       "    .dataframe tbody tr th:only-of-type {\n",
       "        vertical-align: middle;\n",
       "    }\n",
       "\n",
       "    .dataframe tbody tr th {\n",
       "        vertical-align: top;\n",
       "    }\n",
       "\n",
       "    .dataframe thead th {\n",
       "        text-align: right;\n",
       "    }\n",
       "</style>\n",
       "<table border=\"1\" class=\"dataframe\">\n",
       "  <thead>\n",
       "    <tr style=\"text-align: right;\">\n",
       "      <th></th>\n",
       "      <th>file</th>\n",
       "      <th>text</th>\n",
       "      <th>type</th>\n",
       "    </tr>\n",
       "  </thead>\n",
       "  <tbody>\n",
       "    <tr>\n",
       "      <th>0</th>\n",
       "      <td>/Users/dbm/Downloads/corpus/www_google_co_nz.xml</td>\n",
       "      <td>When you share information with us, for exampl...</td>\n",
       "      <td>pp</td>\n",
       "    </tr>\n",
       "    <tr>\n",
       "      <th>1</th>\n",
       "      <td>/Users/dbm/Downloads/corpus/ibnlive_in.xml</td>\n",
       "      <td>Web18 recognizes the importance of protecting...</td>\n",
       "      <td>pp</td>\n",
       "    </tr>\n",
       "    <tr>\n",
       "      <th>2</th>\n",
       "      <td>/Users/dbm/Downloads/corpus/www_gocomics.xml</td>\n",
       "      <td>The privacy policy below details the measures ...</td>\n",
       "      <td>pp</td>\n",
       "    </tr>\n",
       "    <tr>\n",
       "      <th>3</th>\n",
       "      <td>/Users/dbm/Downloads/corpus/www_petsmart.xml</td>\n",
       "      <td>By using this Site, you agree to be bound by o...</td>\n",
       "      <td>pp</td>\n",
       "    </tr>\n",
       "    <tr>\n",
       "      <th>4</th>\n",
       "      <td>/Users/dbm/Downloads/corpus/www_duolingo.xml</td>\n",
       "      <td>By using, accessing or participating in the S...</td>\n",
       "      <td>pp</td>\n",
       "    </tr>\n",
       "  </tbody>\n",
       "</table>\n",
       "</div>"
      ],
      "text/plain": [
       "                                               file  \\\n",
       "0  /Users/dbm/Downloads/corpus/www_google_co_nz.xml   \n",
       "1        /Users/dbm/Downloads/corpus/ibnlive_in.xml   \n",
       "2      /Users/dbm/Downloads/corpus/www_gocomics.xml   \n",
       "3      /Users/dbm/Downloads/corpus/www_petsmart.xml   \n",
       "4      /Users/dbm/Downloads/corpus/www_duolingo.xml   \n",
       "\n",
       "                                                text type  \n",
       "0  When you share information with us, for exampl...   pp  \n",
       "1   Web18 recognizes the importance of protecting...   pp  \n",
       "2  The privacy policy below details the measures ...   pp  \n",
       "3  By using this Site, you agree to be bound by o...   pp  \n",
       "4   By using, accessing or participating in the S...   pp  "
      ]
     },
     "execution_count": 17,
     "metadata": {},
     "output_type": "execute_result"
    }
   ],
   "source": [
    "train_df.head()"
   ]
  },
  {
   "cell_type": "markdown",
   "metadata": {},
   "source": [
    "## Create BOW"
   ]
  },
  {
   "cell_type": "code",
   "execution_count": 18,
   "metadata": {
    "ExecuteTime": {
     "end_time": "2019-02-18T04:35:28.051657Z",
     "start_time": "2019-02-18T04:35:27.039622Z"
    }
   },
   "outputs": [
    {
     "name": "stdout",
     "output_type": "stream",
     "text": [
      "CPU times: user 985 ms, sys: 22.3 ms, total: 1.01 s\n",
      "Wall time: 1.01 s\n"
     ]
    }
   ],
   "source": [
    "%%time\n",
    "# Create corpora for topic modeling\n",
    "# Create dictionary train\n",
    "id2word = corpora.Dictionary(train_words)\n",
    "\n",
    "# Term Document Frequency\n",
    "corpus = [id2word.doc2bow(text) for text in train_words]\n",
    "\n",
    "# Save corpora and dictionary\n",
    "dump(corpus, open('acl_policy_corpus_train_fulldoc.pkl', 'wb'))\n",
    "id2word.save('acl_policy_dictionary_train_fulldoc.gensim')"
   ]
  },
  {
   "cell_type": "code",
   "execution_count": 19,
   "metadata": {
    "ExecuteTime": {
     "end_time": "2019-02-18T04:35:58.447129Z",
     "start_time": "2019-02-18T04:35:58.166619Z"
    }
   },
   "outputs": [
    {
     "name": "stdout",
     "output_type": "stream",
     "text": [
      "CPU times: user 269 ms, sys: 8.55 ms, total: 278 ms\n",
      "Wall time: 277 ms\n"
     ]
    }
   ],
   "source": [
    "%%time\n",
    "# Create dictionary test\n",
    "id2word_test = corpora.Dictionary(test_words)\n",
    "\n",
    "# Term Document Frequency\n",
    "corpus_test = [id2word.doc2bow(text) for text in test_words]\n",
    "\n",
    "# Save corpora and dictionary\n",
    "dump(corpus_test, open('acl_policy_corpus_test_fulldoc.pkl', 'wb'))\n",
    "id2word_test.save('acl_policy_dictionary_test_fulldoc.gensim')"
   ]
  },
  {
   "cell_type": "code",
   "execution_count": null,
   "metadata": {},
   "outputs": [],
   "source": [
    "# Human readable format of corpus (term-frequency)\n",
    "# [[(id2word[id], freq) for id, freq in cp] for cp in corpus[:1]]"
   ]
  },
  {
   "cell_type": "markdown",
   "metadata": {},
   "source": [
    "## LDA model"
   ]
  },
  {
   "cell_type": "code",
   "execution_count": 38,
   "metadata": {
    "ExecuteTime": {
     "end_time": "2019-02-18T05:19:30.725316Z",
     "start_time": "2019-02-18T05:16:49.017142Z"
    }
   },
   "outputs": [
    {
     "name": "stdout",
     "output_type": "stream",
     "text": [
      "CPU times: user 3min 57s, sys: 3.55 s, total: 4min\n",
      "Wall time: 2min 41s\n"
     ]
    }
   ],
   "source": [
    "%%time\n",
    "# Determine optimum number of topics\n",
    "# Can take a long time to run\n",
    "model_list, coherence_values = compute_coherence_lda(\n",
    "    dictionary=id2word, corpus=corpus, texts=train_words, start=2, limit=20, step=1)"
   ]
  },
  {
   "cell_type": "code",
   "execution_count": 39,
   "metadata": {
    "ExecuteTime": {
     "end_time": "2019-02-18T05:20:18.735884Z",
     "start_time": "2019-02-18T05:20:18.591190Z"
    }
   },
   "outputs": [
    {
     "name": "stdout",
     "output_type": "stream",
     "text": [
      "Max coherence: 0.28820981161233966, Num Topics at max coherence: 4\n"
     ]
    },
    {
     "data": {
      "image/png": "[encoded data removed]",
      "text/plain": [
       "<Figure size 432x288 with 1 Axes>"
      ]
     },
     "metadata": {
      "needs_background": "light"
     },
     "output_type": "display_data"
    }
   ],
   "source": [
    "# Show graph\n",
    "limit = 20\n",
    "start = 2\n",
    "step = 1\n",
    "#  Find the index of the max value\n",
    "max_idx = coherence_values.index(max(coherence_values))\n",
    "# Sanity check\n",
    "# coherence_values[19]\n",
    "x = range(start, limit, step)\n",
    "print(f'Max coherence: {max(coherence_values)}, Num Topics at max coherence: {x[max_idx]}')\n",
    "plt.plot(x, coherence_values)\n",
    "plt.xlabel(\"Num Topics\")\n",
    "plt.ylabel(\"Coherence score\")\n",
    "plt.legend((\"coherence_values\"), loc='best')\n",
    "plt.axvline(x=x[max_idx], color = 'orange')\n",
    "plt.show()"
   ]
  },
  {
   "cell_type": "code",
   "execution_count": 23,
   "metadata": {
    "ExecuteTime": {
     "end_time": "2019-02-18T04:47:18.502874Z",
     "start_time": "2019-02-18T04:47:18.500216Z"
    }
   },
   "outputs": [],
   "source": [
    "# Print the coherence scores\n",
    "# for m, cv in zip(x, coherence_values):\n",
    "#     print(\"Num Topics =\", m, \" has Coherence Value of\", round(cv, 4))"
   ]
  },
  {
   "cell_type": "code",
   "execution_count": 40,
   "metadata": {
    "ExecuteTime": {
     "end_time": "2019-02-18T05:20:25.664345Z",
     "start_time": "2019-02-18T05:20:25.659912Z"
    }
   },
   "outputs": [],
   "source": [
    "# Select the model and print the topics\n",
    "optimal_model = model_list[max_idx]\n",
    "model_topics = optimal_model.show_topics(formatted=False)\n",
    "# pprint(optimal_model.print_topics(num_words=10))"
   ]
  },
  {
   "cell_type": "code",
   "execution_count": 41,
   "metadata": {
    "ExecuteTime": {
     "end_time": "2019-02-18T05:20:35.552905Z",
     "start_time": "2019-02-18T05:20:28.370769Z"
    }
   },
   "outputs": [
    {
     "name": "stdout",
     "output_type": "stream",
     "text": [
      "\n",
      "Perplexity:  -6.796049323877958\n",
      "\n",
      "Coherence Score:  0.28820981161233966\n",
      "CPU times: user 8.92 s, sys: 172 ms, total: 9.1 s\n",
      "Wall time: 7.18 s\n"
     ]
    }
   ],
   "source": [
    "%%time\n",
    "# Compute Perplexity\n",
    "print('\\nPerplexity: ', optimal_model.log_perplexity(corpus))  # a measure of how good the model is. lower the better.\n",
    "\n",
    "# Compute Coherence Score\n",
    "coherence_model_lda = CoherenceModel(model=optimal_model, texts=train_words, dictionary=id2word, coherence='c_v')\n",
    "coherence_lda = coherence_model_lda.get_coherence()\n",
    "print('\\nCoherence Score: ', coherence_lda)"
   ]
  },
  {
   "cell_type": "code",
   "execution_count": 42,
   "metadata": {
    "ExecuteTime": {
     "end_time": "2019-02-18T05:20:37.917815Z",
     "start_time": "2019-02-18T05:20:37.904086Z"
    }
   },
   "outputs": [],
   "source": [
    "# Save model to disk.\n",
    "temp_file = datapath(\"./optimal_LDA_model_acl_train_4top_fulldoc\")\n",
    "optimal_model.save(temp_file)"
   ]
  },
  {
   "cell_type": "code",
   "execution_count": 43,
   "metadata": {
    "ExecuteTime": {
     "end_time": "2019-02-18T05:23:28.118533Z",
     "start_time": "2019-02-18T05:20:43.363004Z"
    }
   },
   "outputs": [
    {
     "data": {
      "text/html": [
       "\n",
       "<link rel=\"stylesheet\" type=\"text/css\" href=\"https://cdn.rawgit.com/bmabey/pyLDAvis/files/ldavis.v1.0.0.css\">\n",
       "\n",
       "\n",
       "<div id=\"ldavis_el495911124182399764049341374\"></div>\n",
       "<script type=\"text/javascript\">\n",
       "\n",
       "var ldavis_el495911124182399764049341374_data = {\"mdsDat\": {\"x\": [-0.005634081486878683, 0.0020376204299151863, -0.001808311888087534, 0.005404772945051032], \"y\": [-0.00161641990490357, -0.005341936192604263, 0.004967436089634379, 0.0019909200078734542], \"topics\": [1, 2, 3, 4], \"cluster\": [1, 1, 1, 1], \"Freq\": [36.19511413574219, 31.58375358581543, 19.291645050048828, 12.929485321044922]}, \"tinfo\": {\"Category\": [\"Default\", \"Default\", \"Default\", \"Default\", \"Default\", \"Default\", \"Default\", \"Default\", \"Default\", \"Default\", \"Default\", \"Default\", \"Default\", \"Default\", \"Default\", \"Default\", \"Default\", \"Default\", \"Default\", \"Default\", \"Topic1\", \"Topic1\", \"Topic1\", \"Topic1\", \"Topic1\", \"Topic1\", \"Topic1\", \"Topic1\", \"Topic1\", \"Topic1\", \"Topic1\", \"Topic1\", \"Topic1\", \"Topic1\", \"Topic1\", \"Topic1\", \"Topic1\", \"Topic1\", \"Topic1\", \"Topic1\", \"Topic1\", \"Topic1\", \"Topic1\", \"Topic1\", \"Topic1\", \"Topic1\", \"Topic1\", \"Topic1\", \"Topic1\", \"Topic1\", \"Topic1\", \"Topic1\", \"Topic1\", \"Topic1\", \"Topic1\", \"Topic1\", \"Topic1\", \"Topic1\", \"Topic1\", \"Topic1\", \"Topic1\", \"Topic1\", \"Topic1\", \"Topic1\", \"Topic1\", \"Topic1\", \"Topic1\", \"Topic1\", \"Topic1\", \"Topic1\", \"Topic1\", \"Topic1\", \"Topic1\", \"Topic1\", \"Topic1\", \"Topic1\", \"Topic1\", \"Topic2\", \"Topic2\", \"Topic2\", \"Topic2\", \"Topic2\", \"Topic2\", \"Topic2\", \"Topic2\", \"Topic2\", \"Topic2\", \"Topic2\", \"Topic2\", \"Topic2\", \"Topic2\", \"Topic2\", \"Topic2\", \"Topic2\", \"Topic2\", \"Topic2\", \"Topic2\", \"Topic2\", \"Topic2\", \"Topic2\", \"Topic2\", \"Topic2\", \"Topic2\", \"Topic2\", \"Topic2\", \"Topic2\", \"Topic2\", \"Topic2\", \"Topic2\", \"Topic2\", \"Topic2\", \"Topic2\", \"Topic2\", \"Topic2\", \"Topic2\", \"Topic2\", \"Topic2\", \"Topic2\", \"Topic2\", \"Topic2\", \"Topic2\", \"Topic2\", \"Topic2\", \"Topic2\", \"Topic2\", \"Topic2\", \"Topic2\", \"Topic2\", \"Topic2\", \"Topic2\", \"Topic2\", \"Topic2\", \"Topic2\", \"Topic2\", \"Topic3\", \"Topic3\", \"Topic3\", \"Topic3\", \"Topic3\", \"Topic3\", \"Topic3\", \"Topic3\", \"Topic3\", \"Topic3\", \"Topic3\", \"Topic3\", \"Topic3\", \"Topic3\", \"Topic3\", \"Topic3\", \"Topic3\", \"Topic3\", \"Topic3\", \"Topic3\", \"Topic3\", \"Topic3\", \"Topic3\", \"Topic3\", \"Topic3\", \"Topic3\", \"Topic3\", \"Topic3\", \"Topic3\", \"Topic3\", \"Topic3\", \"Topic3\", \"Topic3\", \"Topic3\", \"Topic3\", \"Topic3\", \"Topic3\", \"Topic3\", \"Topic3\", \"Topic3\", \"Topic3\", \"Topic3\", \"Topic3\", \"Topic3\", \"Topic3\", \"Topic3\", \"Topic3\", \"Topic3\", \"Topic3\", \"Topic3\", \"Topic3\", \"Topic3\", \"Topic3\", \"Topic3\", \"Topic3\", \"Topic3\", \"Topic3\", \"Topic4\", \"Topic4\", \"Topic4\", \"Topic4\", \"Topic4\", \"Topic4\", \"Topic4\", \"Topic4\", \"Topic4\", \"Topic4\", \"Topic4\", \"Topic4\", \"Topic4\", \"Topic4\", \"Topic4\", \"Topic4\", \"Topic4\", \"Topic4\", \"Topic4\", \"Topic4\", \"Topic4\", \"Topic4\", \"Topic4\", \"Topic4\", \"Topic4\", \"Topic4\", \"Topic4\", \"Topic4\", \"Topic4\", \"Topic4\", \"Topic4\", \"Topic4\", \"Topic4\", \"Topic4\", \"Topic4\", \"Topic4\", \"Topic4\", \"Topic4\", \"Topic4\", \"Topic4\", \"Topic4\", \"Topic4\", \"Topic4\", \"Topic4\", \"Topic4\", \"Topic4\", \"Topic4\", \"Topic4\", \"Topic4\", \"Topic4\", \"Topic4\", \"Topic4\", \"Topic4\", \"Topic4\", \"Topic4\", \"Topic4\"], \"Freq\": [16734.0, 46861.0, 10652.0, 6689.0, 11035.0, 3754.0, 8068.0, 3313.0, 10007.0, 9599.0, 6926.0, 2225.0, 5385.0, 8075.0, 7231.0, 12489.0, 4292.0, 4619.0, 3183.0, 6467.0, 1.0098779201507568, 1.0064013004302979, 8.210310935974121, 20.505329132080078, 0.9243170619010925, 1.7317163944244385, 1.7441891431808472, 8.25495719909668, 1.7061450481414795, 8.881543159484863, 0.8974900245666504, 46.72401809692383, 49.57710266113281, 2.390302896499634, 10.367507934570312, 1.642939567565918, 1.6387519836425781, 2.3628127574920654, 39.32052993774414, 0.872742772102356, 35.47649383544922, 7.10441255569458, 10.365082740783691, 40.03800582885742, 87.20696258544922, 50.95130920410156, 31.621946334838867, 23.28883171081543, 22.487024307250977, 20373.50390625, 5664.59521484375, 426.8644104003906, 4258.89404296875, 1060.7030029296875, 1197.293212890625, 1767.4036865234375, 522.4867553710938, 2668.878173828125, 1043.2606201171875, 2159.244384765625, 1091.9154052734375, 2480.1279296875, 3000.271240234375, 1518.8941650390625, 878.1923828125, 2601.5009765625, 1886.10791015625, 3674.204833984375, 2854.74169921875, 3677.153564453125, 2557.857421875, 1423.4453125, 1616.0860595703125, 4781.390625, 2936.114501953125, 2017.0086669921875, 1545.6251220703125, 45.40200424194336, 5.663029670715332, 1.754429817199707, 0.920259952545166, 2.527153730392456, 6.7087578773498535, 0.9081165194511414, 84.6314468383789, 5.908158302307129, 0.8845704197883606, 9.020997047424316, 121.81237030029297, 7.596293926239014, 0.8644490242004395, 0.8635490536689758, 0.8632562160491943, 11.728646278381348, 0.8588271141052246, 0.8583564162254333, 5.475196838378906, 77.86205291748047, 12.214160919189453, 99.41284942626953, 15.61832046508789, 4.832669734954834, 200.93067932128906, 75.28834533691406, 4535.46142578125, 79.39315032958984, 686.0036010742188, 1105.8450927734375, 1843.0635986328125, 2462.149169921875, 4294.953125, 987.5810546875, 903.49658203125, 600.087646484375, 1530.2357177734375, 1172.38671875, 2568.388671875, 1710.2950439453125, 13446.009765625, 3565.8662109375, 5231.39208984375, 2754.124755859375, 1554.45361328125, 2638.442138671875, 2971.83447265625, 2138.285888671875, 3340.735595703125, 1422.0621337890625, 2007.43994140625, 1548.3076171875, 1424.1513671875, 1656.454345703125, 1429.6331787109375, 1463.7088623046875, 6.458776950836182, 18.19715118408203, 16.267295837402344, 0.8075600266456604, 12.011948585510254, 50.37517547607422, 0.7845360040664673, 0.7774866223335266, 6.558479309082031, 0.7723039388656616, 1.4045366048812866, 0.7620852589607239, 0.7566601634025574, 24.19415855407715, 0.7484428286552429, 0.7370709776878357, 13.364068984985352, 11.29504108428955, 0.72654789686203, 3.4993643760681152, 19.40264129638672, 50.19825744628906, 11.155217170715332, 203.1268310546875, 19.081239700317383, 4385.544921875, 186.63473510742188, 30.72066307067871, 1120.1031494140625, 14.215337753295898, 625.6097412109375, 8670.0458984375, 417.6032409667969, 738.460205078125, 463.62847900390625, 841.81298828125, 2387.10302734375, 701.1226806640625, 1424.8433837890625, 1379.005859375, 742.4974365234375, 1485.060791015625, 739.9888916015625, 720.2028198242188, 849.02978515625, 1751.9852294921875, 778.389404296875, 1700.1243896484375, 1544.4521484375, 837.4210815429688, 1306.0322265625, 1182.73388671875, 961.9685668945312, 1045.413330078125, 1140.1689453125, 794.84326171875, 815.44970703125, 11.77601432800293, 4.124353408813477, 1.181758999824524, 1.1671446561813354, 7.62741231918335, 0.6279237866401672, 0.610516369342804, 23.197887420654297, 4.676145553588867, 2.4652345180511475, 0.6135165691375732, 0.6039654016494751, 0.5924059748649597, 0.5914995074272156, 1.1066585779190063, 1.5412729978561401, 1.0635325908660889, 0.5881960988044739, 0.5847890377044678, 0.5836374759674072, 1.9605660438537598, 11.61290454864502, 4.287106990814209, 42.90549850463867, 15.123080253601074, 23.668983459472656, 9.97722053527832, 4.6596245765686035, 14.377124786376953, 466.4243469238281, 733.2210083007812, 31.222702026367188, 604.0994873046875, 1660.4097900390625, 172.21343994140625, 2336.03564453125, 449.8114318847656, 985.1407470703125, 1123.8427734375, 800.3494873046875, 281.6465759277344, 1228.664306640625, 1362.849853515625, 4372.35546875, 337.851806640625, 403.6642150878906, 892.9210205078125, 922.6995239257812, 981.1655883789062, 638.9151000976562, 803.5021362304688, 612.2571411132812, 991.4506225585938, 1096.83544921875, 680.085205078125, 545.5242309570312], \"Term\": [\"site\", \"information\", \"party\", \"data\", \"service\", \"content\", \"cooky\", \"advertising\", \"third\", \"website\", \"address\", \"mobile\", \"also\", \"user\", \"provide\", \"personal\", \"account\", \"access\", \"change\", \"collect\", \"unwomen\", \"ixrkymya\", \"starfall\", \"economist\", \"octet\", \"proposing\", \"tigta\", \"boulder\", \"racecourse\", \"graduate\", \"inspector\", \"lottery\", \"bell\", \"racing\", \"feedly\", \"eyre\", \"openness\", \"galway\", \"researchgate\", \"ballybane\", \"uspto\", \"prnewswire\", \"jockey\", \"onion\", \"lego\", \"volvo\", \"infospace\", \"eurogamer\", \"usda\", \"information\", \"personal\", \"group\", \"website\", \"cookie\", \"using\", \"purpose\", \"register\", \"data\", \"computer\", \"also\", \"security\", \"collect\", \"cooky\", \"page\", \"partner\", \"address\", \"time\", \"party\", \"user\", \"service\", \"provide\", \"used\", \"including\", \"site\", \"third\", \"email\", \"contact\", \"indigo\", \"worldpay\", \"outsources\", \"vistor\", \"copysentry\", \"xkcd\", \"quicktime\", \"barnes\", \"phpbb\", \"discontinues\", \"localstorage\", \"globe\", \"ankama\", \"plagiarism\", \"rbsworldpay\", \"contingency\", \"xbmc\", \"ormation\", \"procuring\", \"sparknotes\", \"noble\", \"casino\", \"jones\", \"poker\", \"groundspeak\", \"operator\", \"stream\", \"third\", \"paid\", \"affiliate\", \"device\", \"company\", \"email\", \"service\", \"technology\", \"practice\", \"necessary\", \"browser\", \"certain\", \"provide\", \"access\", \"information\", \"party\", \"site\", \"user\", \"personally\", \"cooky\", \"website\", \"collect\", \"personal\", \"product\", \"address\", \"time\", \"including\", \"data\", \"account\", \"also\", \"hopkins\", \"ucla\", \"ciao\", \"spinning\", \"behance\", \"scribd\", \"nyiri\", \"diani\", \"john\", \"behancenetwork\", \"webadmin\", \"stephanie\", \"infoucla\", \"spine\", \"fournet\", \"atkinson\", \"hattrick\", \"sutter\", \"kyle\", \"regent\", \"overstock\", \"archive\", \"bloomingdales\", \"health\", \"physician\", \"site\", \"mediabistro\", \"usgs\", \"account\", \"riot\", \"link\", \"information\", \"public\", \"order\", \"process\", \"used\", \"personal\", \"number\", \"address\", \"data\", \"change\", \"user\", \"request\", \"advertising\", \"product\", \"party\", \"page\", \"service\", \"third\", \"contact\", \"cooky\", \"provide\", \"also\", \"collect\", \"website\", \"access\", \"email\", \"bitcoin\", \"bykrbayb\", \"wonder\", \"mixing\", \"icici\", \"tainting\", \"vocibus\", \"wordpress\", \"ealgeone\", \"graceg\", \"hiding\", \"fake\", \"devolved\", \"arse\", \"tainted\", \"shakespeare\", \"buckeye\", \"fresno\", \"warrantless\", \"mercy\", \"rhyme\", \"kinja\", \"gazette\", \"astro\", \"qatar\", \"bible\", \"jerusalem\", \"typed\", \"mappy\", \"mobile\", \"content\", \"reply\", \"advertising\", \"party\", \"well\", \"site\", \"customer\", \"data\", \"cooky\", \"also\", \"regarding\", \"website\", \"service\", \"information\", \"communication\", \"provider\", \"address\", \"provide\", \"user\", \"access\", \"collect\", \"time\", \"third\", \"personal\", \"email\", \"personally\"], \"Total\": [16734.0, 46861.0, 10652.0, 6689.0, 11035.0, 3754.0, 8068.0, 3313.0, 10007.0, 9599.0, 6926.0, 2225.0, 5385.0, 8075.0, 7231.0, 12489.0, 4292.0, 4619.0, 3183.0, 6467.0, 1.1907166242599487, 1.1947623491287231, 10.365081787109375, 27.51325798034668, 1.258905053138733, 2.3626646995544434, 2.410834312438965, 11.624565124511719, 2.429257869720459, 12.698309898376465, 1.3008660078048706, 68.02824401855469, 73.27030181884766, 3.549130916595459, 15.46461296081543, 2.457101821899414, 2.4588215351104736, 3.550258159637451, 59.355220794677734, 1.3180701732635498, 54.331565856933594, 10.744597434997559, 15.740386962890625, 61.90840148925781, 138.35545349121094, 81.0052490234375, 49.571163177490234, 36.239131927490234, 35.48097610473633, 46861.91796875, 12489.26953125, 818.4166259765625, 9599.5615234375, 2219.701904296875, 2705.168212890625, 4161.05078125, 1097.953857421875, 6689.47900390625, 2375.264404296875, 5385.271484375, 2538.835693359375, 6467.3291015625, 8068.58837890625, 3740.668212890625, 2012.508056640625, 6926.705078125, 4832.5869140625, 10652.466796875, 8075.09228515625, 11035.080078125, 7231.6796875, 3584.72802734375, 4192.9052734375, 16734.36328125, 10007.478515625, 5974.6923828125, 4158.99169921875, 57.065547943115234, 7.938392162322998, 2.531054973602295, 1.3333072662353516, 3.6626834869384766, 10.052691459655762, 1.365308403968811, 128.50933837890625, 9.00585651397705, 1.3784544467926025, 14.140451431274414, 191.7843017578125, 12.026670455932617, 1.3891732692718506, 1.3885928392410278, 1.3893318176269531, 18.922779083251953, 1.3907418251037598, 1.3925074338912964, 8.920998573303223, 128.28414916992188, 20.018203735351562, 167.67721557617188, 26.07377052307129, 7.912787437438965, 375.74920654296875, 135.41030883789062, 10007.478515625, 148.42568969726562, 1460.9879150390625, 2479.9541015625, 4371.322265625, 5974.6923828125, 11035.080078125, 2341.231689453125, 2183.920166015625, 1405.8583984375, 3947.5625, 3004.72802734375, 7231.6796875, 4619.67333984375, 46861.91796875, 10652.466796875, 16734.36328125, 8075.09228515625, 4185.12890625, 8068.58837890625, 9599.5615234375, 6467.3291015625, 12489.26953125, 4141.76806640625, 6926.705078125, 4832.5869140625, 4192.9052734375, 6689.47900390625, 4292.9052734375, 5385.271484375, 9.162071228027344, 29.63797950744629, 26.792049407958984, 1.4377096891403198, 21.696218490600586, 91.16694641113281, 1.4382067918777466, 1.4475533962249756, 12.281067848205566, 1.450484275817871, 2.639420509338379, 1.4431449174880981, 1.4441072940826416, 46.29964828491211, 1.4632607698440552, 1.4465177059173584, 26.31119155883789, 22.292280197143555, 1.4516429901123047, 7.0011491775512695, 38.832950592041016, 112.96060943603516, 24.52671241760254, 544.318603515625, 45.27835464477539, 16734.36328125, 544.6283569335938, 79.6989974975586, 4292.9052734375, 34.53961181640625, 2395.88525390625, 46861.91796875, 1525.34033203125, 3047.6171875, 1780.8841552734375, 3584.72802734375, 12489.26953125, 2920.136474609375, 6926.705078125, 6689.47900390625, 3183.14697265625, 8075.09228515625, 3400.477783203125, 3313.91455078125, 4141.76806640625, 10652.466796875, 3740.668212890625, 11035.080078125, 10007.478515625, 4158.99169921875, 8068.58837890625, 7231.6796875, 5385.271484375, 6467.3291015625, 9599.5615234375, 4619.67333984375, 5974.6923828125, 22.082380294799805, 8.502976417541504, 2.449854850769043, 2.5282649993896484, 16.53107452392578, 1.3965131044387817, 1.3646154403686523, 52.00248336791992, 10.50731086730957, 5.573338508605957, 1.39504075050354, 1.377722978591919, 1.367774486541748, 1.3695966005325317, 2.563326835632324, 3.5774497985839844, 2.4821321964263916, 1.374703049659729, 1.367823839187622, 1.3681435585021973, 4.636430740356445, 28.340389251708984, 10.703540802001953, 127.98858642578125, 42.243621826171875, 69.86331939697266, 28.481468200683594, 12.612060546875, 44.920005798339844, 2225.951904296875, 3754.310791015625, 109.4312744140625, 3313.91455078125, 10652.466796875, 799.9127807617188, 16734.36328125, 2625.359375, 6689.47900390625, 8068.58837890625, 5385.271484375, 1576.2008056640625, 9599.5615234375, 11035.080078125, 46861.91796875, 1973.1357421875, 2484.334228515625, 6926.705078125, 7231.6796875, 8075.09228515625, 4619.67333984375, 6467.3291015625, 4832.5869140625, 10007.478515625, 12489.26953125, 5974.6923828125, 4185.12890625], \"loglift\": [20.0, 19.0, 18.0, 17.0, 16.0, 15.0, 14.0, 13.0, 12.0, 11.0, 10.0, 9.0, 8.0, 7.0, 6.0, 5.0, 4.0, 3.0, 2.0, 1.0, 0.8514999747276306, 0.8446999788284302, 0.7832000255584717, 0.7222999930381775, 0.7073000073432922, 0.7056000232696533, 0.6926000118255615, 0.6739000082015991, 0.6628999710083008, 0.6588000059127808, 0.6450999975204468, 0.6406000256538391, 0.6255999803543091, 0.6209999918937683, 0.6164000034332275, 0.6137999892234802, 0.6104999780654907, 0.6090999841690063, 0.6044999957084656, 0.6039999723434448, 0.5899999737739563, 0.6025999784469604, 0.5985000133514404, 0.5803999900817871, 0.5547000169754028, 0.5526000261306763, 0.5666999816894531, 0.5741000175476074, 0.5601999759674072, 0.18330000340938568, 0.225600004196167, 0.3652999997138977, 0.20350000262260437, 0.2777999937534332, 0.20110000669956207, 0.1599999964237213, 0.2736000120639801, 0.09740000218153, 0.19349999725818634, 0.1023000031709671, 0.17249999940395355, 0.05779999867081642, 0.027000000700354576, 0.11500000208616257, 0.18700000643730164, 0.03700000047683716, 0.07540000230073929, -0.04820000007748604, -0.023600000888109207, -0.08269999921321869, -0.023099999874830246, 0.09260000288486481, 0.06289999932050705, -0.23649999499320984, -0.20999999344348907, -0.06970000267028809, 0.026399999856948853, 0.9239000082015991, 0.8148000240325928, 0.7860000133514404, 0.7817999720573425, 0.7814000248908997, 0.7480999827384949, 0.7447999715805054, 0.7347999811172485, 0.7310000061988831, 0.708899974822998, 0.703000009059906, 0.6985999941825867, 0.6930999755859375, 0.6782000064849854, 0.6775000095367432, 0.6766999959945679, 0.6741999983787537, 0.6704999804496765, 0.6686999797821045, 0.6643000245094299, 0.6531999707221985, 0.6585000157356262, 0.629800021648407, 0.6399999856948853, 0.6593999862670898, 0.5266000032424927, 0.565500020980835, 0.3610999882221222, 0.5268999934196472, 0.39649999141693115, 0.3449000120162964, 0.2888999879360199, 0.26600000262260437, 0.20890000462532043, 0.28940001130104065, 0.26989999413490295, 0.3012000024318695, 0.20489999651908875, 0.21140000224113464, 0.11729999631643295, 0.15889999270439148, -0.09600000083446503, 0.05810000002384186, -0.010300000198185444, 0.07680000364780426, 0.16210000216960907, 0.034699998795986176, -0.019999999552965164, 0.04580000042915344, -0.16619999706745148, 0.08349999785423279, -0.0860000029206276, 0.014299999922513962, 0.07270000129938126, -0.24330000579357147, 0.05299999937415123, -0.1501999944448471, 1.2958999872207642, 1.1576999425888062, 1.1464999914169312, 1.0686999559402466, 1.0542999505996704, 1.052299976348877, 1.0393999814987183, 1.023900032043457, 1.0182000398635864, 1.0152000188827515, 1.0146000385284424, 1.0069999694824219, 0.9991999864578247, 0.9965000152587891, 0.9750999808311462, 0.9713000059127808, 0.9681000113487244, 0.9656000137329102, 0.9534000158309937, 0.9520000219345093, 0.9516000151634216, 0.8343999981880188, 0.8575999736785889, 0.6597999930381775, 0.7814000248908997, 0.30630001425743103, 0.5745000243186951, 0.6922000050544739, 0.3019999861717224, 0.7577000260353088, 0.302700012922287, -0.04179999977350235, 0.35010001063346863, 0.2280000001192093, 0.299699991941452, 0.19660000503063202, -0.00930000003427267, 0.21879999339580536, 0.06419999897480011, 0.06629999727010727, 0.1898999959230423, -0.04780000075697899, 0.12049999833106995, 0.11909999698400497, 0.06069999933242798, -0.15950000286102295, 0.07569999992847443, -0.2249000072479248, -0.2231999933719635, 0.04280000180006027, -0.17550000548362732, -0.16509999334812164, -0.07689999788999557, -0.1768999993801117, -0.48500001430511475, -0.1143999993801117, -0.34610000252723694, 1.4169000387191772, 1.3221999406814575, 1.31659996509552, 1.2726999521255493, 1.2721999883651733, 1.2462999820709229, 1.2412999868392944, 1.2383999824523926, 1.2360999584197998, 1.2300000190734863, 1.2242000102996826, 1.2209999561309814, 1.208899974822998, 1.2059999704360962, 1.2057000398635864, 1.2036000490188599, 1.198099970817566, 1.1966999769210815, 1.1958999633789062, 1.1936999559402466, 1.1849000453948975, 1.153499960899353, 1.1306999921798706, 0.9527000188827515, 1.018399953842163, 0.9632999897003174, 0.9966999888420105, 1.0499000549316406, 0.9064000248908997, 0.4828000068664551, 0.4124000072479248, 0.7914999723434448, 0.3434999883174896, 0.18690000474452972, 0.5098999738693237, 0.07670000195503235, 0.2815000116825104, 0.13019999861717224, 0.07440000027418137, 0.13930000364780426, 0.32350000739097595, -0.010099999606609344, -0.04580000042915344, -0.326200008392334, 0.2809000015258789, 0.22849999368190765, -0.003000000026077032, -0.013299999758601189, -0.06210000067949295, 0.0674000009894371, -0.039900001138448715, -0.0203000009059906, -0.2662999927997589, -0.38679999113082886, -0.1273999959230423, 0.008100000210106373], \"logprob\": [20.0, 19.0, 18.0, 17.0, 16.0, 15.0, 14.0, 13.0, 12.0, 11.0, 10.0, 9.0, 8.0, 7.0, 6.0, 5.0, 4.0, 3.0, 2.0, 1.0, -12.654399871826172, -12.65779972076416, -10.558799743652344, -9.643500328063965, -12.742899894714355, -12.115099906921387, -12.10789966583252, -10.553400039672852, -12.130000114440918, -10.480299949645996, -12.77239990234375, -8.819999694824219, -8.760700225830078, -11.792799949645996, -10.325599670410156, -12.167699813842773, -12.170299530029297, -11.804400444030762, -8.992500305175781, -12.800299644470215, -9.095399856567383, -10.703499794006348, -10.325799942016602, -8.97439956665039, -8.195899963378906, -8.733400344848633, -9.210399627685547, -9.516300201416016, -9.551300048828125, -2.7421998977661133, -4.022200107574463, -6.607800006866455, -4.307499885559082, -5.697500228881836, -5.576399803161621, -5.186999797821045, -6.405600070953369, -4.774799823760986, -5.714099884033203, -4.986700057983398, -5.668499946594238, -4.848199844360352, -4.657800197601318, -5.338500022888184, -5.88640022277832, -4.8003997802734375, -5.122000217437744, -4.455100059509277, -4.707499980926514, -4.4542999267578125, -4.817299842834473, -5.40339994430542, -5.276500225067139, -4.191699981689453, -4.6793999671936035, -5.054900169372559, -5.321000099182129, -8.712400436401367, -10.793999671936035, -11.965800285339355, -12.611000061035156, -11.600899696350098, -10.624500274658203, -12.624300003051758, -8.089599609375, -10.75160026550293, -12.65060043334961, -10.328399658203125, -7.725500106811523, -10.500300407409668, -12.673600196838379, -12.674699783325195, -12.675000190734863, -10.065899848937988, -12.680100440979004, -12.680700302124023, -10.827699661254883, -8.17300033569336, -10.025400161743164, -7.928699970245361, -9.779500007629395, -10.952500343322754, -7.224999904632568, -8.206600189208984, -4.10830020904541, -8.153499603271484, -5.997099876403809, -5.519599914550781, -5.008800029754639, -4.719200134277344, -4.162799835205078, -5.632699966430664, -5.721700191497803, -6.130899906158447, -5.194799900054932, -5.46120023727417, -4.6768999099731445, -5.083499908447266, -3.0215001106262207, -4.348800182342529, -3.9655001163482666, -4.607100009918213, -5.179100036621094, -4.650000095367432, -4.531000137329102, -4.860199928283691, -4.414000034332275, -5.268099784851074, -4.923299789428711, -5.183000087738037, -5.266600131988525, -5.115499973297119, -5.262800216674805, -5.239200115203857, -10.169500350952148, -9.133700370788574, -9.245800018310547, -12.248700141906738, -9.549099922180176, -8.115500450134277, -12.277600288391113, -12.286700248718262, -10.154199600219727, -12.293399810791016, -11.695300102233887, -12.306699752807617, -12.313799858093262, -8.848899841308594, -12.324700355529785, -12.34000015258789, -9.442399978637695, -9.610600471496582, -12.354399681091309, -10.782400131225586, -9.069600105285645, -8.119000434875488, -9.623100280761719, -6.721099853515625, -9.086299896240234, -3.648900032043457, -6.805799961090088, -8.609999656677246, -5.013800144195557, -9.38070011138916, -5.59630012512207, -2.9672999382019043, -6.000400066375732, -5.4303998947143555, -5.895899772644043, -5.2993998527526855, -4.2571001052856445, -5.4822998046875, -4.773200035095215, -4.8059000968933105, -5.425000190734863, -4.731800079345703, -5.428299903869629, -5.455399990081787, -5.290900230407715, -4.566500186920166, -5.377799987792969, -4.596499919891357, -4.692599773406982, -5.304599761962891, -4.860199928283691, -4.959400177001953, -5.165999889373779, -5.082799911499023, -4.995999813079834, -5.356800079345703, -5.331200122833252, -9.168800354003906, -10.217900276184082, -11.46780014038086, -11.480299949645996, -9.603099822998047, -12.100199699401855, -12.128299713134766, -8.490799903869629, -10.092300415039062, -10.732500076293945, -12.12339973449707, -12.139100074768066, -12.15839958190918, -12.159899711608887, -11.533499717712402, -11.202199935913086, -11.573200225830078, -12.165499687194824, -12.171299934387207, -12.173299789428711, -10.961600303649902, -9.182700157165527, -10.179200172424316, -7.875800132751465, -8.918600082397461, -8.470600128173828, -9.334500312805176, -10.09589958190918, -8.969200134277344, -5.489699840545654, -5.037399768829346, -8.193699836730957, -5.231100082397461, -4.21999979019165, -6.486100196838379, -3.8785998821258545, -5.526000022888184, -4.742000102996826, -4.610300064086914, -4.94980001449585, -5.994200229644775, -4.521100044250488, -4.417500019073486, -3.251800060272217, -5.81220006942749, -5.634200096130371, -4.8403000831604, -4.807499885559082, -4.746099948883057, -5.175000190734863, -4.945799827575684, -5.217700004577637, -4.735599994659424, -4.6346001625061035, -5.112599849700928, -5.333099842071533]}, \"token.table\": {\"Topic\": [1, 2, 3, 4, 1, 2, 3, 4, 1, 2, 3, 4, 1, 2, 3, 4, 1, 2, 3, 4, 1, 2, 3, 4, 1, 2, 3, 4, 1, 2, 3, 4, 4, 1, 2, 3, 4, 3, 1, 1, 2, 3, 4, 1, 2, 3, 4, 3, 1, 2, 3, 4, 1, 2, 3, 4, 1, 2, 3, 4, 1, 2, 3, 4, 1, 2, 3, 1, 2, 3, 4, 2, 4, 1, 2, 4, 1, 2, 3, 4, 1, 2, 3, 4, 1, 2, 3, 4, 1, 2, 3, 4, 1, 2, 3, 4, 1, 2, 3, 4, 1, 2, 3, 4, 1, 2, 3, 4, 1, 2, 3, 4, 1, 2, 3, 4, 2, 1, 2, 3, 4, 1, 2, 3, 4, 2, 1, 2, 3, 4, 1, 2, 3, 4, 1, 2, 3, 4, 4, 3, 2, 1, 2, 4, 1, 2, 3, 4, 1, 2, 3, 4, 1, 2, 3, 4, 1, 4, 1, 2, 3, 4, 3, 4, 1, 2, 1, 2, 3, 4, 1, 2, 3, 4, 1, 2, 4, 1, 2, 3, 4, 1, 2, 3, 4, 1, 2, 3, 4, 1, 2, 3, 4, 1, 2, 3, 4, 4, 1, 2, 3, 1, 2, 3, 4, 1, 2, 3, 4, 1, 2, 3, 4, 1, 2, 3, 4, 1, 2, 3, 4, 3, 1, 1, 1, 2, 3, 4, 1, 2, 3, 4, 1, 2, 3, 4, 1, 2, 3, 4, 1, 2, 3, 4, 3, 1, 2, 3, 4, 1, 2, 3, 4, 1, 2, 3, 4, 1, 2, 3, 4, 1, 2, 3, 4, 1, 2, 3, 4, 4, 1, 4, 1, 2, 3, 4, 1, 2, 3, 4, 1, 2, 3, 4, 1, 2, 3, 4, 3, 1, 1, 2, 3, 4, 1, 1, 2, 3, 4, 1, 2, 3, 4, 2, 2, 1, 2, 3, 4, 1, 2, 3, 4, 1, 2, 3, 4, 1, 2, 3, 4, 1, 2, 3, 4, 1, 2, 3, 4, 1, 2, 3, 4, 1, 2, 3, 1, 2, 3, 4, 2, 1, 2, 3, 4, 1, 2, 3, 4, 1, 2, 3, 4, 1, 2, 3, 4, 2, 1, 2, 3, 4, 1, 1, 2, 3, 4, 1, 2, 3, 4, 1, 2, 3, 4, 1, 2, 3, 4, 1, 2, 3, 4, 2, 1, 1, 2, 2, 1, 2, 3, 4, 1, 2, 3, 4, 1, 2, 3, 4, 1, 2, 3, 4, 1, 2, 3, 4, 1, 2, 3, 4, 1, 2, 3, 4, 1, 2, 3, 4, 1, 2, 3, 4, 1, 2, 3, 4, 1, 2, 3, 4, 1, 3, 4, 1, 2, 3, 4, 1, 2, 3, 4, 1, 2, 3, 4, 3, 1, 3, 4, 3, 1, 2, 3, 4, 1, 2, 3, 4, 3, 4, 4, 1, 2, 3, 4, 1, 2, 3, 4, 1, 1, 2, 3, 4, 1, 2, 3, 4, 1, 2, 3, 4, 1, 1, 2, 3, 4, 1, 2, 3, 4, 1, 2, 3, 4, 1, 2, 3, 4, 1, 2, 3, 4, 1, 2, 3, 4, 2, 4, 1, 2, 3, 4, 4, 3, 4, 1, 2, 3, 4, 1, 2, 3, 4, 2, 4, 1, 2, 3, 4, 1, 2, 3, 1, 2, 3, 4, 1, 2, 3], \"Freq\": [0.3195030987262726, 0.37015604972839355, 0.172090083360672, 0.13832147419452667, 0.3056205213069916, 0.33310773968696594, 0.26089558005332947, 0.10039820522069931, 0.37564757466316223, 0.2897481620311737, 0.2057255208492279, 0.12892132997512817, 0.26343467831611633, 0.33676186203956604, 0.21726571023464203, 0.18226179480552673, 0.3093796968460083, 0.46954530477523804, 0.11567515134811401, 0.10540812462568283, 0.40090829133987427, 0.2718525826931, 0.178635373711586, 0.14855332672595978, 0.1662970632314682, 0.6651882529258728, 0.0831485316157341, 0.0831485316157341, 0.23902137577533722, 0.17705287039279938, 0.44263216853141785, 0.13278965651988983, 0.7301419973373413, 0.40628623962402344, 0.21876950562000275, 0.046879179775714874, 0.33596745133399963, 0.6913154125213623, 0.7586849331855774, 0.17119377851486206, 0.6614305377006531, 0.031126143410801888, 0.14006763696670532, 0.1382729411125183, 0.23045490682125092, 0.5530917644500732, 0.0460909828543663, 0.6894249320030212, 0.6824046969413757, 0.040944281965494156, 0.054592378437519073, 0.2183695137500763, 0.30058690905570984, 0.30058690905570984, 0.0715683177113533, 0.3435279130935669, 0.22642487287521362, 0.09056994318962097, 0.13585491478443146, 0.5434196591377258, 0.2038593590259552, 0.2038593590259552, 0.44849058985710144, 0.12231561541557312, 0.6881977915763855, 0.17204944789409637, 0.08602472394704819, 0.3143711984157562, 0.387580931186676, 0.18492424488067627, 0.11298111081123352, 0.40287941694259644, 0.40287941694259644, 0.11760587990283966, 0.3528176248073578, 0.47042351961135864, 0.19981813430786133, 0.599454402923584, 0.04995453357696533, 0.149863600730896, 0.3274838924407959, 0.390051931142807, 0.16407474875450134, 0.11814713478088379, 0.3179243803024292, 0.3097563683986664, 0.23310264945030212, 0.13917045295238495, 0.1866225302219391, 0.1492980271577835, 0.597192108631134, 0.07464901357889175, 0.38346588611602783, 0.33058470487594604, 0.1615813821554184, 0.12431716173887253, 0.3152342736721039, 0.30864575505256653, 0.20475022494792938, 0.17130093276500702, 0.29716408252716064, 0.4216115474700928, 0.17065773904323578, 0.11049288511276245, 0.4391089975833893, 0.28880995512008667, 0.1540881097316742, 0.11788161098957062, 0.3717247247695923, 0.3044007122516632, 0.20125070214271545, 0.12262587249279022, 0.2913983464241028, 0.338810533285141, 0.1744661033153534, 0.19524222612380981, 0.7197704315185547, 0.47799211740493774, 0.2293100655078888, 0.17705079913139343, 0.11578131467103958, 0.37181225419044495, 0.3269469141960144, 0.16186226904392242, 0.13930565118789673, 0.8190715909004211, 0.36566421389579773, 0.29595947265625, 0.16683430969715118, 0.1714051067829132, 0.39898473024368286, 0.24755291640758514, 0.20614460110664368, 0.14724615216255188, 0.26532748341560364, 0.44597598910331726, 0.13588960468769073, 0.15282541513442993, 0.7311146855354309, 0.6908208131790161, 0.7254501581192017, 0.09517183154821396, 0.38068732619285583, 0.475859135389328, 0.7632684111595154, 0.07269223034381866, 0.1090383380651474, 0.07269223034381866, 0.33759060502052307, 0.41207143664360046, 0.1364087015390396, 0.11381339281797409, 0.6346730589866638, 0.05518896132707596, 0.16556687653064728, 0.16556687653064728, 0.8139671087265015, 0.7258353233337402, 0.6466375589370728, 0.06466376036405563, 0.06466376036405563, 0.1939912736415863, 0.6834051609039307, 0.7274298071861267, 0.5633392930030823, 0.28166964650154114, 0.1868540495634079, 0.28028109669685364, 0.09342702478170395, 0.3737080991268158, 0.26592373847961426, 0.6361312866210938, 0.06778448075056076, 0.03649933636188507, 0.1794256716966629, 0.3588513433933258, 0.3588513433933258, 0.7087557315826416, 0.15750128030776978, 0.07875064015388489, 0.07875064015388489, 0.25275543332099915, 0.6318885684013367, 0.12637771666049957, 0.12637771666049957, 0.5217391848564148, 0.19305570423603058, 0.17961512506008148, 0.10630282759666443, 0.22803984582424164, 0.07601328194141388, 0.4940863251686096, 0.1900331974029541, 0.29027116298675537, 0.1965760439634323, 0.37294334173202515, 0.13962410390377045, 0.7168249487876892, 0.1091456264257431, 0.1091456264257431, 0.6548737287521362, 0.1209842711687088, 0.3024606704711914, 0.1209842711687088, 0.4839370846748352, 0.38541296124458313, 0.33962130546569824, 0.16217871010303497, 0.1125711128115654, 0.07009483128786087, 0.7885668873786926, 0.1051422506570816, 0.035047415643930435, 0.4347666800022125, 0.28692808747291565, 0.18501164019107819, 0.0932953730225563, 0.6455366015434265, 0.14121113717556, 0.18155716359615326, 0.04034603759646416, 0.6924692988395691, 0.7687186598777771, 0.8369865417480469, 0.14044219255447388, 0.421326607465744, 0.105331651866436, 0.3511054813861847, 0.6353083848953247, 0.19059251248836517, 0.06353083997964859, 0.06353083997964859, 0.2442784309387207, 0.16285228729248047, 0.5699830055236816, 0.08142614364624023, 0.20277054607868195, 0.590420126914978, 0.16102366149425507, 0.04174687713384628, 0.17642664909362793, 0.24699731171131134, 0.17642664909362793, 0.42342397570610046, 0.6888746023178101, 0.6288151144981384, 0.18069399893283844, 0.10118863731622696, 0.08673311769962311, 0.3188800513744354, 0.29133281111717224, 0.261281281709671, 0.12855373322963715, 0.14143820106983185, 0.6364719271659851, 0.14143820106983185, 0.07071910053491592, 0.6908894777297974, 0.17639732360839844, 0.10289843380451202, 0.04409933090209961, 0.35618874430656433, 0.13357077538967133, 0.17809437215328217, 0.3116651475429535, 0.39292848110198975, 0.10649463534355164, 0.34335339069366455, 0.15790584683418274, 0.7309174537658691, 0.3955281674861908, 0.3955281674861908, 0.20755165815353394, 0.3733234405517578, 0.20979788899421692, 0.2093486338853836, 0.27527666091918945, 0.42678552865982056, 0.17000289261341095, 0.12803564965724945, 0.18708468973636627, 0.6080252528190613, 0.05456636846065521, 0.1559039056301117, 0.3599146902561188, 0.2725900113582611, 0.24005727469921112, 0.12739130854606628, 0.6953102946281433, 0.7943410873413086, 0.6461158394813538, 0.19383475184440613, 0.06461158394813538, 0.08076447993516922, 0.8133977651596069, 0.2528282105922699, 0.5349312424659729, 0.09314723312854767, 0.11976072937250137, 0.38160961866378784, 0.26217204332351685, 0.24215640127658844, 0.1141875684261322, 0.7190406918525696, 0.7901843190193176, 0.23176194727420807, 0.18025928735733032, 0.4892752170562744, 0.1030053049325943, 0.40607717633247375, 0.28016385436058044, 0.20798422396183014, 0.10559611022472382, 0.21559609472751617, 0.532252848148346, 0.14822231233119965, 0.10106067359447479, 0.4362715482711792, 0.27130326628685, 0.1704341024160385, 0.12223553657531738, 0.3448966443538666, 0.33475813269615173, 0.1644689440727234, 0.1558324545621872, 0.45358937978744507, 0.2675096392631531, 0.1911240667104721, 0.0878354012966156, 0.3541109561920166, 0.37131473422050476, 0.14408157765865326, 0.1304619312286377, 0.11103885620832443, 0.6662331223487854, 0.22207771241664886, 0.19877047836780548, 0.17668487131595612, 0.4196265637874603, 0.19877047836780548, 0.7198526263237, 0.2301163226366043, 0.6136435270309448, 0.03835272043943405, 0.11505816131830215, 0.31182458996772766, 0.4134766459465027, 0.19689364731311798, 0.07784167677164078, 0.6514902114868164, 0.1861400604248047, 0.09307003021240234, 0.09307003021240234, 0.3908171057701111, 0.2538065016269684, 0.2605447471141815, 0.09489668160676956, 0.71812903881073, 0.3353640139102936, 0.34333163499832153, 0.20498491823673248, 0.11613398045301437, 0.8465018272399902, 0.35372141003608704, 0.3551042377948761, 0.16358578205108643, 0.12763287127017975, 0.3514019846916199, 0.27492275834083557, 0.21092170476913452, 0.16261902451515198, 0.37040913105010986, 0.23076817393302917, 0.2740372121334076, 0.12587355077266693, 0.4246523380279541, 0.29896295070648193, 0.1530863344669342, 0.12304583936929703, 0.21304991841316223, 0.18937769532203674, 0.2603943347930908, 0.3550831973552704, 0.7324352264404297, 0.8232967257499695, 0.563518226146698, 0.281759113073349, 0.7201535105705261, 0.32039064168930054, 0.32610058784484863, 0.17447015643119812, 0.1789112091064453, 0.14283369481563568, 0.14283369481563568, 0.42850106954574585, 0.14283369481563568, 0.47542980313301086, 0.28052181005477905, 0.16394130885601044, 0.0801490843296051, 0.29242098331451416, 0.29242098331451416, 0.12793417274951935, 0.2832828164100647, 0.34259891510009766, 0.3381877839565277, 0.2176164835691452, 0.10145632922649384, 0.657060980796814, 0.050543151795864105, 0.2190203219652176, 0.06739087402820587, 0.21568314731121063, 0.21568314731121063, 0.21568314731121063, 0.43136629462242126, 0.26057037711143494, 0.20266585052013397, 0.40533170104026794, 0.11580906063318253, 0.186471089720726, 0.186471089720726, 0.548444390296936, 0.0767822116613388, 0.4301184117794037, 0.254447340965271, 0.20521217584609985, 0.11028677225112915, 0.3332100808620453, 0.38921329379081726, 0.1540541648864746, 0.12351518869400024, 0.27952873706817627, 0.27952873706817627, 0.5590574741363525, 0.2856995463371277, 0.3125903308391571, 0.2620954215526581, 0.1395930051803589, 0.2241901457309723, 0.5604753494262695, 0.11209507286548615, 0.11209507286548615, 0.17278748750686646, 0.23758280277252197, 0.5183624625205994, 0.06479530781507492, 0.6955507397651672, 0.7718221545219421, 0.09647776931524277, 0.09647776931524277, 0.6929311156272888, 0.2141638994216919, 0.5538721680641174, 0.13292932510375977, 0.09600450843572617, 0.22429288923740387, 0.08971715718507767, 0.4934443533420563, 0.17943431437015533, 0.3901180326938629, 0.3901180326938629, 0.7160691618919373, 0.33700209856033325, 0.42200011014938354, 0.1571822166442871, 0.0841437429189682, 0.29338058829307556, 0.4531610906124115, 0.15428461134433746, 0.09902594238519669, 0.8295883536338806, 0.39026716351509094, 0.3203253448009491, 0.16264580190181732, 0.12664024531841278, 0.31715673208236694, 0.15857836604118347, 0.15857836604118347, 0.3964459300041199, 0.1012214720249176, 0.1012214720249176, 0.6073288321495056, 0.16870245337486267, 0.8398303985595703, 0.6200506091117859, 0.1691047102212906, 0.11273647099733353, 0.0845523551106453, 0.3969617784023285, 0.26306039094924927, 0.2348853200674057, 0.1048894077539444, 0.3535563349723816, 0.3410487473011017, 0.18389882147312164, 0.1214846819639206, 0.25094419717788696, 0.23839697241783142, 0.3889634907245636, 0.12547209858894348, 0.44248634576797485, 0.23066957294940948, 0.1981392502784729, 0.12864264845848083, 0.6441927552223206, 0.12883855402469635, 0.14724405109882355, 0.05521652102470398, 0.7500146627426147, 0.7328071594238281, 0.6295888423919678, 0.09875903278589249, 0.11110391467809677, 0.1604834347963333, 0.7310882806777954, 0.37887105345726013, 0.37887105345726013, 0.44366610050201416, 0.3095974624156952, 0.11875542253255844, 0.12802667915821075, 0.33878692984580994, 0.2587782144546509, 0.1862703114748001, 0.2150234431028366, 0.4081874489784241, 0.4081874489784241, 0.21152836084365845, 0.288447767496109, 0.05768955126404762, 0.44228658080101013, 0.12597009539604187, 0.7558205723762512, 0.12597009539604187, 0.21138544380664825, 0.634156346321106, 0.052846360951662064, 0.10569272190332413, 0.09947584569454193, 0.6963309049606323, 0.19895169138908386], \"Term\": [\"access\", \"access\", \"access\", \"access\", \"account\", \"account\", \"account\", \"account\", \"address\", \"address\", \"address\", \"address\", \"advertising\", \"advertising\", \"advertising\", \"advertising\", \"affiliate\", \"affiliate\", \"affiliate\", \"affiliate\", \"also\", \"also\", \"also\", \"also\", \"ankama\", \"ankama\", \"ankama\", \"ankama\", \"archive\", \"archive\", \"archive\", \"archive\", \"arse\", \"astro\", \"astro\", \"astro\", \"astro\", \"atkinson\", \"ballybane\", \"barnes\", \"barnes\", \"barnes\", \"barnes\", \"behance\", \"behance\", \"behance\", \"behance\", \"behancenetwork\", \"bell\", \"bell\", \"bell\", \"bell\", \"bible\", \"bible\", \"bible\", \"bible\", \"bitcoin\", \"bitcoin\", \"bitcoin\", \"bitcoin\", \"bloomingdales\", \"bloomingdales\", \"bloomingdales\", \"bloomingdales\", \"boulder\", \"boulder\", \"boulder\", \"browser\", \"browser\", \"browser\", \"browser\", \"buckeye\", \"buckeye\", \"bykrbayb\", \"bykrbayb\", \"bykrbayb\", \"casino\", \"casino\", \"casino\", \"casino\", \"certain\", \"certain\", \"certain\", \"certain\", \"change\", \"change\", \"change\", \"change\", \"ciao\", \"ciao\", \"ciao\", \"ciao\", \"collect\", \"collect\", \"collect\", \"collect\", \"communication\", \"communication\", \"communication\", \"communication\", \"company\", \"company\", \"company\", \"company\", \"computer\", \"computer\", \"computer\", \"computer\", \"contact\", \"contact\", \"contact\", \"contact\", \"content\", \"content\", \"content\", \"content\", \"contingency\", \"cookie\", \"cookie\", \"cookie\", \"cookie\", \"cooky\", \"cooky\", \"cooky\", \"cooky\", \"copysentry\", \"customer\", \"customer\", \"customer\", \"customer\", \"data\", \"data\", \"data\", \"data\", \"device\", \"device\", \"device\", \"device\", \"devolved\", \"diani\", \"discontinues\", \"ealgeone\", \"ealgeone\", \"ealgeone\", \"economist\", \"economist\", \"economist\", \"economist\", \"email\", \"email\", \"email\", \"email\", \"eurogamer\", \"eurogamer\", \"eurogamer\", \"eurogamer\", \"eyre\", \"fake\", \"feedly\", \"feedly\", \"feedly\", \"feedly\", \"fournet\", \"fresno\", \"galway\", \"galway\", \"gazette\", \"gazette\", \"gazette\", \"gazette\", \"globe\", \"globe\", \"globe\", \"globe\", \"graceg\", \"graceg\", \"graceg\", \"graduate\", \"graduate\", \"graduate\", \"graduate\", \"groundspeak\", \"groundspeak\", \"groundspeak\", \"groundspeak\", \"group\", \"group\", \"group\", \"group\", \"hattrick\", \"hattrick\", \"hattrick\", \"hattrick\", \"health\", \"health\", \"health\", \"health\", \"hiding\", \"hopkins\", \"hopkins\", \"hopkins\", \"icici\", \"icici\", \"icici\", \"icici\", \"including\", \"including\", \"including\", \"including\", \"indigo\", \"indigo\", \"indigo\", \"indigo\", \"information\", \"information\", \"information\", \"information\", \"infospace\", \"infospace\", \"infospace\", \"infospace\", \"infoucla\", \"inspector\", \"ixrkymya\", \"jerusalem\", \"jerusalem\", \"jerusalem\", \"jerusalem\", \"jockey\", \"jockey\", \"jockey\", \"jockey\", \"john\", \"john\", \"john\", \"john\", \"jones\", \"jones\", \"jones\", \"jones\", \"kinja\", \"kinja\", \"kinja\", \"kinja\", \"kyle\", \"lego\", \"lego\", \"lego\", \"lego\", \"link\", \"link\", \"link\", \"link\", \"localstorage\", \"localstorage\", \"localstorage\", \"localstorage\", \"lottery\", \"lottery\", \"lottery\", \"lottery\", \"mappy\", \"mappy\", \"mappy\", \"mappy\", \"mediabistro\", \"mediabistro\", \"mediabistro\", \"mediabistro\", \"mercy\", \"mixing\", \"mixing\", \"mobile\", \"mobile\", \"mobile\", \"mobile\", \"necessary\", \"necessary\", \"necessary\", \"necessary\", \"noble\", \"noble\", \"noble\", \"noble\", \"number\", \"number\", \"number\", \"number\", \"nyiri\", \"octet\", \"onion\", \"onion\", \"onion\", \"onion\", \"openness\", \"operator\", \"operator\", \"operator\", \"operator\", \"order\", \"order\", \"order\", \"order\", \"ormation\", \"outsources\", \"overstock\", \"overstock\", \"overstock\", \"overstock\", \"page\", \"page\", \"page\", \"page\", \"paid\", \"paid\", \"paid\", \"paid\", \"partner\", \"partner\", \"partner\", \"partner\", \"party\", \"party\", \"party\", \"party\", \"personal\", \"personal\", \"personal\", \"personal\", \"personally\", \"personally\", \"personally\", \"personally\", \"phpbb\", \"phpbb\", \"phpbb\", \"physician\", \"physician\", \"physician\", \"physician\", \"plagiarism\", \"poker\", \"poker\", \"poker\", \"poker\", \"practice\", \"practice\", \"practice\", \"practice\", \"prnewswire\", \"prnewswire\", \"prnewswire\", \"prnewswire\", \"process\", \"process\", \"process\", \"process\", \"procuring\", \"product\", \"product\", \"product\", \"product\", \"proposing\", \"provide\", \"provide\", \"provide\", \"provide\", \"provider\", \"provider\", \"provider\", \"provider\", \"public\", \"public\", \"public\", \"public\", \"purpose\", \"purpose\", \"purpose\", \"purpose\", \"qatar\", \"qatar\", \"qatar\", \"qatar\", \"quicktime\", \"racecourse\", \"racing\", \"racing\", \"rbsworldpay\", \"regarding\", \"regarding\", \"regarding\", \"regarding\", \"regent\", \"regent\", \"regent\", \"regent\", \"register\", \"register\", \"register\", \"register\", \"reply\", \"reply\", \"reply\", \"reply\", \"request\", \"request\", \"request\", \"request\", \"researchgate\", \"researchgate\", \"researchgate\", \"researchgate\", \"rhyme\", \"rhyme\", \"rhyme\", \"rhyme\", \"riot\", \"riot\", \"riot\", \"riot\", \"scribd\", \"scribd\", \"scribd\", \"scribd\", \"security\", \"security\", \"security\", \"security\", \"service\", \"service\", \"service\", \"service\", \"shakespeare\", \"shakespeare\", \"shakespeare\", \"site\", \"site\", \"site\", \"site\", \"sparknotes\", \"sparknotes\", \"sparknotes\", \"sparknotes\", \"spine\", \"spine\", \"spine\", \"spine\", \"spinning\", \"starfall\", \"starfall\", \"starfall\", \"stephanie\", \"stream\", \"stream\", \"stream\", \"stream\", \"sutter\", \"sutter\", \"sutter\", \"sutter\", \"tainted\", \"tainted\", \"tainting\", \"technology\", \"technology\", \"technology\", \"technology\", \"third\", \"third\", \"third\", \"third\", \"tigta\", \"time\", \"time\", \"time\", \"time\", \"typed\", \"typed\", \"typed\", \"typed\", \"ucla\", \"ucla\", \"ucla\", \"ucla\", \"unwomen\", \"usda\", \"usda\", \"usda\", \"usda\", \"used\", \"used\", \"used\", \"used\", \"user\", \"user\", \"user\", \"user\", \"usgs\", \"usgs\", \"usgs\", \"usgs\", \"using\", \"using\", \"using\", \"using\", \"uspto\", \"uspto\", \"uspto\", \"uspto\", \"vistor\", \"vocibus\", \"volvo\", \"volvo\", \"volvo\", \"volvo\", \"warrantless\", \"webadmin\", \"webadmin\", \"website\", \"website\", \"website\", \"website\", \"well\", \"well\", \"well\", \"well\", \"wonder\", \"wonder\", \"wordpress\", \"wordpress\", \"wordpress\", \"wordpress\", \"worldpay\", \"worldpay\", \"worldpay\", \"xbmc\", \"xbmc\", \"xbmc\", \"xbmc\", \"xkcd\", \"xkcd\", \"xkcd\"]}, \"R\": 20, \"lambda.step\": 0.01, \"plot.opts\": {\"xlab\": \"PC1\", \"ylab\": \"PC2\"}, \"topic.order\": [4, 1, 3, 2]};\n",
       "\n",
       "function LDAvis_load_lib(url, callback){\n",
       "  var s = document.createElement('script');\n",
       "  s.src = url;\n",
       "  s.async = true;\n",
       "  s.onreadystatechange = s.onload = callback;\n",
       "  s.onerror = function(){console.warn(\"failed to load library \" + url);};\n",
       "  document.getElementsByTagName(\"head\")[0].appendChild(s);\n",
       "}\n",
       "\n",
       "if(typeof(LDAvis) !== \"undefined\"){\n",
       "   // already loaded: just create the visualization\n",
       "   !function(LDAvis){\n",
       "       new LDAvis(\"#\" + \"ldavis_el495911124182399764049341374\", ldavis_el495911124182399764049341374_data);\n",
       "   }(LDAvis);\n",
       "}else if(typeof define === \"function\" && define.amd){\n",
       "   // require.js is available: use it to load d3/LDAvis\n",
       "   require.config({paths: {d3: \"https://cdnjs.cloudflare.com/ajax/libs/d3/3.5.5/d3.min\"}});\n",
       "   require([\"d3\"], function(d3){\n",
       "      window.d3 = d3;\n",
       "      LDAvis_load_lib(\"https://cdn.rawgit.com/bmabey/pyLDAvis/files/ldavis.v1.0.0.js\", function(){\n",
       "        new LDAvis(\"#\" + \"ldavis_el495911124182399764049341374\", ldavis_el495911124182399764049341374_data);\n",
       "      });\n",
       "    });\n",
       "}else{\n",
       "    // require.js not available: dynamically load d3 & LDAvis\n",
       "    LDAvis_load_lib(\"https://cdnjs.cloudflare.com/ajax/libs/d3/3.5.5/d3.min.js\", function(){\n",
       "         LDAvis_load_lib(\"https://cdn.rawgit.com/bmabey/pyLDAvis/files/ldavis.v1.0.0.js\", function(){\n",
       "                 new LDAvis(\"#\" + \"ldavis_el495911124182399764049341374\", ldavis_el495911124182399764049341374_data);\n",
       "            })\n",
       "         });\n",
       "}\n",
       "</script>"
      ],
      "text/plain": [
       "PreparedData(topic_coordinates=              x         y  topics  cluster       Freq\n",
       "topic                                                \n",
       "3     -0.005634 -0.001616       1        1  36.195114\n",
       "0      0.002038 -0.005342       2        1  31.583754\n",
       "2     -0.001808  0.004967       3        1  19.291645\n",
       "1      0.005405  0.001991       4        1  12.929485, topic_info=     Category          Freq           Term         Total  loglift  logprob\n",
       "372   Default  16734.000000           site  16734.000000  20.0000  20.0000\n",
       "196   Default  46861.000000    information  46861.000000  19.0000  19.0000\n",
       "262   Default  10652.000000          party  10652.000000  18.0000  18.0000\n",
       "101   Default   6689.000000           data   6689.000000  17.0000  17.0000\n",
       "359   Default  11035.000000        service  11035.000000  16.0000  16.0000\n",
       "85    Default   3754.000000        content   3754.000000  15.0000  15.0000\n",
       "91    Default   8068.000000          cooky   8068.000000  14.0000  14.0000\n",
       "18    Default   3313.000000    advertising   3313.000000  13.0000  13.0000\n",
       "650   Default  10007.000000          third  10007.000000  12.0000  12.0000\n",
       "429   Default   9599.000000        website   9599.000000  11.0000  11.0000\n",
       "11    Default   6926.000000        address   6926.000000  10.0000  10.0000\n",
       "235   Default   2225.000000         mobile   2225.000000   9.0000   9.0000\n",
       "24    Default   5385.000000           also   5385.000000   8.0000   8.0000\n",
       "417   Default   8075.000000           user   8075.000000   7.0000   7.0000\n",
       "296   Default   7231.000000        provide   7231.000000   6.0000   6.0000\n",
       "269   Default  12489.000000       personal  12489.000000   5.0000   5.0000\n",
       "4     Default   4292.000000        account   4292.000000   4.0000   4.0000\n",
       "2     Default   4619.000000         access   4619.000000   3.0000   3.0000\n",
       "62    Default   3183.000000         change   3183.000000   2.0000   2.0000\n",
       "68    Default   6467.000000        collect   6467.000000   1.0000   1.0000\n",
       "8199   Topic1      1.009878        unwomen      1.190717   0.8515 -12.6544\n",
       "8198   Topic1      1.006401       ixrkymya      1.194762   0.8447 -12.6578\n",
       "9477   Topic1      8.210311       starfall     10.365082   0.7832 -10.5588\n",
       "8170   Topic1     20.505329      economist     27.513258   0.7223  -9.6435\n",
       "3752   Topic1      0.924317          octet      1.258905   0.7073 -12.7429\n",
       "8762   Topic1      1.731716      proposing      2.362665   0.7056 -12.1151\n",
       "7469   Topic1      1.744189          tigta      2.410834   0.6926 -12.1079\n",
       "5648   Topic1      8.254957        boulder     11.624565   0.6739 -10.5534\n",
       "4604   Topic1      1.706145     racecourse      2.429258   0.6629 -12.1300\n",
       "6557   Topic1      8.881543       graduate     12.698310   0.6588 -10.4803\n",
       "...       ...           ...            ...           ...      ...      ...\n",
       "8623   Topic4      9.977221      jerusalem     28.481468   0.9967  -9.3345\n",
       "7179   Topic4      4.659625          typed     12.612061   1.0499 -10.0959\n",
       "9662   Topic4     14.377125          mappy     44.920006   0.9064  -8.9692\n",
       "235    Topic4    466.424347         mobile   2225.951904   0.4828  -5.4897\n",
       "85     Topic4    733.221008        content   3754.310791   0.4124  -5.0374\n",
       "2263   Topic4     31.222702          reply    109.431274   0.7915  -8.1937\n",
       "18     Topic4    604.099487    advertising   3313.914551   0.3435  -5.2311\n",
       "262    Topic4   1660.409790          party  10652.466797   0.1869  -4.2200\n",
       "1601   Topic4    172.213440           well    799.912781   0.5099  -6.4861\n",
       "372    Topic4   2336.035645           site  16734.363281   0.0767  -3.8786\n",
       "494    Topic4    449.811432       customer   2625.359375   0.2815  -5.5260\n",
       "101    Topic4    985.140747           data   6689.479004   0.1302  -4.7420\n",
       "91     Topic4   1123.842773          cooky   8068.588379   0.0744  -4.6103\n",
       "24     Topic4    800.349487           also   5385.271484   0.1393  -4.9498\n",
       "316    Topic4    281.646576      regarding   1576.200806   0.3235  -5.9942\n",
       "429    Topic4   1228.664307        website   9599.561523  -0.0101  -4.5211\n",
       "359    Topic4   1362.849854        service  11035.080078  -0.0458  -4.4175\n",
       "196    Topic4   4372.355469    information  46861.917969  -0.3262  -3.2518\n",
       "72     Topic4    337.851807  communication   1973.135742   0.2809  -5.8122\n",
       "602    Topic4    403.664215       provider   2484.334229   0.2285  -5.6342\n",
       "11     Topic4    892.921021        address   6926.705078  -0.0030  -4.8403\n",
       "296    Topic4    922.699524        provide   7231.679688  -0.0133  -4.8075\n",
       "417    Topic4    981.165588           user   8075.092285  -0.0621  -4.7461\n",
       "2      Topic4    638.915100         access   4619.673340   0.0674  -5.1750\n",
       "68     Topic4    803.502136        collect   6467.329102  -0.0399  -4.9458\n",
       "398    Topic4    612.257141           time   4832.586914  -0.0203  -5.2177\n",
       "650    Topic4    991.450623          third  10007.478516  -0.2663  -4.7356\n",
       "269    Topic4   1096.835449       personal  12489.269531  -0.3868  -4.6346\n",
       "124    Topic4    680.085205          email   5974.692383  -0.1274  -5.1126\n",
       "270    Topic4    545.524231     personally   4185.128906   0.0081  -5.3331\n",
       "\n",
       "[247 rows x 6 columns], token_table=       Topic      Freq         Term\n",
       "term                               \n",
       "2          1  0.319503       access\n",
       "2          2  0.370156       access\n",
       "2          3  0.172090       access\n",
       "2          4  0.138321       access\n",
       "4          1  0.305621      account\n",
       "4          2  0.333108      account\n",
       "4          3  0.260896      account\n",
       "4          4  0.100398      account\n",
       "11         1  0.375648      address\n",
       "11         2  0.289748      address\n",
       "11         3  0.205726      address\n",
       "11         4  0.128921      address\n",
       "18         1  0.263435  advertising\n",
       "18         2  0.336762  advertising\n",
       "18         3  0.217266  advertising\n",
       "18         4  0.182262  advertising\n",
       "20         1  0.309380    affiliate\n",
       "20         2  0.469545    affiliate\n",
       "20         3  0.115675    affiliate\n",
       "20         4  0.105408    affiliate\n",
       "24         1  0.400908         also\n",
       "24         2  0.271853         also\n",
       "24         3  0.178635         also\n",
       "24         4  0.148553         also\n",
       "10586      1  0.166297       ankama\n",
       "10586      2  0.665188       ankama\n",
       "10586      3  0.083149       ankama\n",
       "10586      4  0.083149       ankama\n",
       "35         1  0.239021      archive\n",
       "35         2  0.177053      archive\n",
       "...      ...       ...          ...\n",
       "9128       2  0.098759        volvo\n",
       "9128       3  0.111104        volvo\n",
       "9128       4  0.160483        volvo\n",
       "5990       4  0.731088  warrantless\n",
       "6476       3  0.378871     webadmin\n",
       "6476       4  0.378871     webadmin\n",
       "429        1  0.443666      website\n",
       "429        2  0.309597      website\n",
       "429        3  0.118755      website\n",
       "429        4  0.128027      website\n",
       "1601       1  0.338787         well\n",
       "1601       2  0.258778         well\n",
       "1601       3  0.186270         well\n",
       "1601       4  0.215023         well\n",
       "5993       2  0.408187       wonder\n",
       "5993       4  0.408187       wonder\n",
       "5135       1  0.211528    wordpress\n",
       "5135       2  0.288448    wordpress\n",
       "5135       3  0.057690    wordpress\n",
       "5135       4  0.442287    wordpress\n",
       "6681       1  0.125970     worldpay\n",
       "6681       2  0.755821     worldpay\n",
       "6681       3  0.125970     worldpay\n",
       "7981       1  0.211385         xbmc\n",
       "7981       2  0.634156         xbmc\n",
       "7981       3  0.052846         xbmc\n",
       "7981       4  0.105693         xbmc\n",
       "9751       1  0.099476         xkcd\n",
       "9751       2  0.696331         xkcd\n",
       "9751       3  0.198952         xkcd\n",
       "\n",
       "[542 rows x 3 columns], R=20, lambda_step=0.01, plot_opts={'xlab': 'PC1', 'ylab': 'PC2'}, topic_order=[4, 1, 3, 2])"
      ]
     },
     "execution_count": 43,
     "metadata": {},
     "output_type": "execute_result"
    }
   ],
   "source": [
    "# Visualize the topics\n",
    "pyLDAvis.enable_notebook()\n",
    "vis = pyLDAvis.gensim.prepare(optimal_model, corpus, id2word, R = 20, sort_topics = True)\n",
    "vis"
   ]
  },
  {
   "cell_type": "code",
   "execution_count": 44,
   "metadata": {
    "ExecuteTime": {
     "end_time": "2019-02-18T05:23:36.514960Z",
     "start_time": "2019-02-18T05:23:36.508813Z"
    }
   },
   "outputs": [],
   "source": [
    "# Save lda vis\n",
    "pyLDAvis.save_html(vis, 'acl_optimal_lda_4top_fulldoc.html')"
   ]
  },
  {
   "cell_type": "code",
   "execution_count": 45,
   "metadata": {
    "ExecuteTime": {
     "end_time": "2019-02-18T05:23:41.091193Z",
     "start_time": "2019-02-18T05:23:38.467152Z"
    }
   },
   "outputs": [
    {
     "data": {
      "text/html": [
       "<div>\n",
       "<style scoped>\n",
       "    .dataframe tbody tr th:only-of-type {\n",
       "        vertical-align: middle;\n",
       "    }\n",
       "\n",
       "    .dataframe tbody tr th {\n",
       "        vertical-align: top;\n",
       "    }\n",
       "\n",
       "    .dataframe thead th {\n",
       "        text-align: right;\n",
       "    }\n",
       "</style>\n",
       "<table border=\"1\" class=\"dataframe\">\n",
       "  <thead>\n",
       "    <tr style=\"text-align: right;\">\n",
       "      <th></th>\n",
       "      <th>Document_No</th>\n",
       "      <th>Dominant_Topic</th>\n",
       "      <th>Topic_Perc_Contrib</th>\n",
       "      <th>Keywords</th>\n",
       "      <th>Text</th>\n",
       "    </tr>\n",
       "  </thead>\n",
       "  <tbody>\n",
       "    <tr>\n",
       "      <th>0</th>\n",
       "      <td>0</td>\n",
       "      <td>3.0</td>\n",
       "      <td>0.3765</td>\n",
       "      <td>information, personal, site, website, service,...</td>\n",
       "      <td>[share, information, example, creating, accoun...</td>\n",
       "    </tr>\n",
       "  </tbody>\n",
       "</table>\n",
       "</div>"
      ],
      "text/plain": [
       "   Document_No  Dominant_Topic  Topic_Perc_Contrib  \\\n",
       "0            0             3.0              0.3765   \n",
       "\n",
       "                                            Keywords  \\\n",
       "0  information, personal, site, website, service,...   \n",
       "\n",
       "                                                Text  \n",
       "0  [share, information, example, creating, accoun...  "
      ]
     },
     "execution_count": 45,
     "metadata": {},
     "output_type": "execute_result"
    }
   ],
   "source": [
    "# Find the dominant topic for each document\n",
    "df_topic_sents_keywords = format_topics_sentences(\n",
    "    ldamodel=optimal_model, corpus=corpus, texts=train_words)\n",
    "\n",
    "# Format\n",
    "df_dominant_topic = df_topic_sents_keywords.reset_index()\n",
    "df_dominant_topic.columns = [\n",
    "    'Document_No', 'Dominant_Topic', 'Topic_Perc_Contrib', 'Keywords', 'Text']\n",
    "\n",
    "df_dominant_topic.head(1)"
   ]
  },
  {
   "cell_type": "code",
   "execution_count": 46,
   "metadata": {
    "ExecuteTime": {
     "end_time": "2019-02-18T05:23:44.975335Z",
     "start_time": "2019-02-18T05:23:44.969272Z"
    }
   },
   "outputs": [
    {
     "data": {
      "text/plain": [
       "[(0,\n",
       "  '0.049*\"information\" + 0.019*\"site\" + 0.016*\"third\" + 0.016*\"service\" + 0.013*\"party\" + 0.012*\"personal\" + 0.011*\"website\" + 0.010*\"user\" + 0.010*\"cooky\" + 0.009*\"provide\"'),\n",
       " (1,\n",
       "  '0.039*\"information\" + 0.021*\"site\" + 0.015*\"party\" + 0.012*\"service\" + 0.011*\"website\" + 0.010*\"cooky\" + 0.010*\"personal\" + 0.009*\"third\" + 0.009*\"data\" + 0.009*\"user\"'),\n",
       " (2,\n",
       "  '0.051*\"information\" + 0.026*\"site\" + 0.014*\"personal\" + 0.010*\"party\" + 0.010*\"service\" + 0.009*\"third\" + 0.009*\"user\" + 0.008*\"address\" + 0.008*\"data\" + 0.008*\"cooky\"'),\n",
       " (3,\n",
       "  '0.064*\"information\" + 0.018*\"personal\" + 0.015*\"site\" + 0.013*\"website\" + 0.012*\"service\" + 0.012*\"party\" + 0.009*\"cooky\" + 0.009*\"third\" + 0.009*\"user\" + 0.008*\"data\"')]"
      ]
     },
     "execution_count": 46,
     "metadata": {},
     "output_type": "execute_result"
    }
   ],
   "source": [
    "optimal_model.show_topics(formatted=True, num_words=10)"
   ]
  },
  {
   "cell_type": "code",
   "execution_count": 47,
   "metadata": {
    "ExecuteTime": {
     "end_time": "2019-02-18T05:23:47.993553Z",
     "start_time": "2019-02-18T05:23:47.971434Z"
    }
   },
   "outputs": [
    {
     "name": "stdout",
     "output_type": "stream",
     "text": [
      "file                  0\n",
      "text                  0\n",
      "type                  0\n",
      "Document_No           0\n",
      "Dominant_Topic        0\n",
      "Topic_Perc_Contrib    0\n",
      "Keywords              0\n",
      "Text                  0\n",
      "dtype: int64\n"
     ]
    },
    {
     "data": {
      "text/html": [
       "<div>\n",
       "<style scoped>\n",
       "    .dataframe tbody tr th:only-of-type {\n",
       "        vertical-align: middle;\n",
       "    }\n",
       "\n",
       "    .dataframe tbody tr th {\n",
       "        vertical-align: top;\n",
       "    }\n",
       "\n",
       "    .dataframe thead th {\n",
       "        text-align: right;\n",
       "    }\n",
       "</style>\n",
       "<table border=\"1\" class=\"dataframe\">\n",
       "  <thead>\n",
       "    <tr style=\"text-align: right;\">\n",
       "      <th></th>\n",
       "      <th>file</th>\n",
       "      <th>text</th>\n",
       "      <th>type</th>\n",
       "      <th>Document_No</th>\n",
       "      <th>Dominant_Topic</th>\n",
       "      <th>Topic_Perc_Contrib</th>\n",
       "      <th>Keywords</th>\n",
       "      <th>Text</th>\n",
       "    </tr>\n",
       "  </thead>\n",
       "  <tbody>\n",
       "    <tr>\n",
       "      <th>0</th>\n",
       "      <td>/Users/dbm/Downloads/corpus/www_google_co_nz.xml</td>\n",
       "      <td>When you share information with us, for exampl...</td>\n",
       "      <td>pp</td>\n",
       "      <td>0</td>\n",
       "      <td>3.0</td>\n",
       "      <td>0.3765</td>\n",
       "      <td>information, personal, site, website, service,...</td>\n",
       "      <td>[share, information, example, creating, accoun...</td>\n",
       "    </tr>\n",
       "    <tr>\n",
       "      <th>1</th>\n",
       "      <td>/Users/dbm/Downloads/corpus/ibnlive_in.xml</td>\n",
       "      <td>Web18 recognizes the importance of protecting...</td>\n",
       "      <td>pp</td>\n",
       "      <td>1</td>\n",
       "      <td>3.0</td>\n",
       "      <td>0.6369</td>\n",
       "      <td>information, personal, site, website, service,...</td>\n",
       "      <td>[recognizes, importance, protecting, informati...</td>\n",
       "    </tr>\n",
       "  </tbody>\n",
       "</table>\n",
       "</div>"
      ],
      "text/plain": [
       "                                               file  \\\n",
       "0  /Users/dbm/Downloads/corpus/www_google_co_nz.xml   \n",
       "1        /Users/dbm/Downloads/corpus/ibnlive_in.xml   \n",
       "\n",
       "                                                text type  Document_No  \\\n",
       "0  When you share information with us, for exampl...   pp            0   \n",
       "1   Web18 recognizes the importance of protecting...   pp            1   \n",
       "\n",
       "   Dominant_Topic  Topic_Perc_Contrib  \\\n",
       "0             3.0              0.3765   \n",
       "1             3.0              0.6369   \n",
       "\n",
       "                                            Keywords  \\\n",
       "0  information, personal, site, website, service,...   \n",
       "1  information, personal, site, website, service,...   \n",
       "\n",
       "                                                Text  \n",
       "0  [share, information, example, creating, accoun...  \n",
       "1  [recognizes, importance, protecting, informati...  "
      ]
     },
     "execution_count": 47,
     "metadata": {},
     "output_type": "execute_result"
    }
   ],
   "source": [
    "# Merge topic info with main df\n",
    "train_df_with_topic = pd.concat([train_df, df_dominant_topic], axis = 1)\n",
    "print(train_df_with_topic.isna().sum())\n",
    "train_df_with_topic.head(2)"
   ]
  },
  {
   "cell_type": "markdown",
   "metadata": {},
   "source": [
    "## Apply topic model to new documents"
   ]
  },
  {
   "cell_type": "code",
   "execution_count": 48,
   "metadata": {
    "ExecuteTime": {
     "end_time": "2019-02-18T05:26:23.035071Z",
     "start_time": "2019-02-18T05:26:22.647727Z"
    }
   },
   "outputs": [
    {
     "name": "stdout",
     "output_type": "stream",
     "text": [
      "CPU times: user 1.51 s, sys: 15 ms, total: 1.52 s\n",
      "Wall time: 383 ms\n"
     ]
    }
   ],
   "source": [
    "%%time\n",
    "# get topic probability distribution for new documents and keywords\n",
    "new_doc_topic =[]\n",
    "new_doc_topic_kwords =[]\n",
    "for i,doc in enumerate(test_words):\n",
    "    new_doc_bow = id2word.doc2bow(doc)\n",
    "    try:\n",
    "        vector = optimal_model[new_doc_bow]#optimal_model.get_document_topics(new_doc_bow) <-- does the same thing\n",
    "        new_doc_topic.append(vector) \n",
    "        new_doc_topic_kwords.append(get_topics_4_new_docs(model = optimal_model, topics= vector, prob = 0.3))        \n",
    "\n",
    "    except:\n",
    "        vector = ''\n",
    "        new_doc_topic.append([i,''])\n",
    "        new_doc_topic_kwords.append([i, ''])"
   ]
  },
  {
   "cell_type": "code",
   "execution_count": 49,
   "metadata": {
    "ExecuteTime": {
     "end_time": "2019-02-18T05:26:34.931641Z",
     "start_time": "2019-02-18T05:26:34.274121Z"
    }
   },
   "outputs": [],
   "source": [
    "# Find the dominant topic for each document\n",
    "df_topic_sents_keywords_test = format_topics_sentences(\n",
    "    ldamodel=optimal_model, corpus=corpus_test, texts=test_words)\n",
    "\n",
    "# Format\n",
    "df_dominant_topic_test = df_topic_sents_keywords_test.reset_index()\n",
    "df_dominant_topic_test.columns = [\n",
    "    'Document_No', 'Dominant_Topic', 'Topic_Perc_Contrib', 'Keywords', 'Text']"
   ]
  },
  {
   "cell_type": "code",
   "execution_count": 50,
   "metadata": {
    "ExecuteTime": {
     "end_time": "2019-02-18T05:26:47.764040Z",
     "start_time": "2019-02-18T05:26:47.756975Z"
    }
   },
   "outputs": [
    {
     "name": "stdout",
     "output_type": "stream",
     "text": [
      "file                  0\n",
      "text                  0\n",
      "type                  0\n",
      "Document_No           0\n",
      "Dominant_Topic        0\n",
      "Topic_Perc_Contrib    0\n",
      "Keywords              0\n",
      "Text                  0\n",
      "dtype: int64\n"
     ]
    }
   ],
   "source": [
    "# Merge in test_df with topic info\n",
    "test_df = test_df.reset_index(drop=True)\n",
    "test_df_with_topic = pd.concat([test_df, df_dominant_topic_test], axis = 1)\n",
    "print(test_df_with_topic.isna().sum())"
   ]
  },
  {
   "cell_type": "code",
   "execution_count": 51,
   "metadata": {
    "ExecuteTime": {
     "end_time": "2019-02-18T05:27:03.569763Z",
     "start_time": "2019-02-18T05:27:03.548987Z"
    }
   },
   "outputs": [
    {
     "data": {
      "text/html": [
       "<div>\n",
       "<style scoped>\n",
       "    .dataframe tbody tr th:only-of-type {\n",
       "        vertical-align: middle;\n",
       "    }\n",
       "\n",
       "    .dataframe tbody tr th {\n",
       "        vertical-align: top;\n",
       "    }\n",
       "\n",
       "    .dataframe thead th {\n",
       "        text-align: right;\n",
       "    }\n",
       "</style>\n",
       "<table border=\"1\" class=\"dataframe\">\n",
       "  <thead>\n",
       "    <tr style=\"text-align: right;\">\n",
       "      <th></th>\n",
       "      <th>file</th>\n",
       "      <th>text</th>\n",
       "      <th>type</th>\n",
       "      <th>Document_No</th>\n",
       "      <th>Dominant_Topic</th>\n",
       "      <th>Topic_Perc_Contrib</th>\n",
       "      <th>Keywords</th>\n",
       "      <th>Text</th>\n",
       "    </tr>\n",
       "  </thead>\n",
       "  <tbody>\n",
       "    <tr>\n",
       "      <th>0</th>\n",
       "      <td>/Users/dbm/Downloads/corpus/www_dhl.xml</td>\n",
       "      <td>(hereinafter called 'DHL') is pleased that you...</td>\n",
       "      <td>pp</td>\n",
       "      <td>0</td>\n",
       "      <td>3.0</td>\n",
       "      <td>0.7007</td>\n",
       "      <td>information, personal, site, website, service,...</td>\n",
       "      <td>[hereinafter, called, pleased, visited, websit...</td>\n",
       "    </tr>\n",
       "    <tr>\n",
       "      <th>1</th>\n",
       "      <td>/Users/dbm/Downloads/corpus/www_yale_edu.xml</td>\n",
       "      <td>Any information you voluntarily provide to us ...</td>\n",
       "      <td>pp</td>\n",
       "      <td>1</td>\n",
       "      <td>3.0</td>\n",
       "      <td>0.5982</td>\n",
       "      <td>information, personal, site, website, service,...</td>\n",
       "      <td>[information, voluntarily, provide, yale, univ...</td>\n",
       "    </tr>\n",
       "    <tr>\n",
       "      <th>2</th>\n",
       "      <td>/Users/dbm/Downloads/corpus/pages_ebay_com_au.xml</td>\n",
       "      <td>This Privacy Policy describes how eBay Intern...</td>\n",
       "      <td>pp</td>\n",
       "      <td>2</td>\n",
       "      <td>3.0</td>\n",
       "      <td>0.6425</td>\n",
       "      <td>information, personal, site, website, service,...</td>\n",
       "      <td>[describes, ebay, international, registered, o...</td>\n",
       "    </tr>\n",
       "    <tr>\n",
       "      <th>3</th>\n",
       "      <td>/Users/dbm/Downloads/corpus/info_sciencedirect...</td>\n",
       "      <td>No. 33156677, BTW No. NL005033019B01 (\"Elsevie...</td>\n",
       "      <td>pp</td>\n",
       "      <td>3</td>\n",
       "      <td>3.0</td>\n",
       "      <td>0.4129</td>\n",
       "      <td>information, personal, site, website, service,...</td>\n",
       "      <td>[committed, maintaining, confidence, trust, re...</td>\n",
       "    </tr>\n",
       "    <tr>\n",
       "      <th>4</th>\n",
       "      <td>/Users/dbm/Downloads/corpus/about_abc_net_au.xml</td>\n",
       "      <td>Our goal is to provide you and your family wit...</td>\n",
       "      <td>pp</td>\n",
       "      <td>4</td>\n",
       "      <td>3.0</td>\n",
       "      <td>0.5556</td>\n",
       "      <td>information, personal, site, website, service,...</td>\n",
       "      <td>[goal, provide, family, medium, experience, in...</td>\n",
       "    </tr>\n",
       "  </tbody>\n",
       "</table>\n",
       "</div>"
      ],
      "text/plain": [
       "                                                file  \\\n",
       "0            /Users/dbm/Downloads/corpus/www_dhl.xml   \n",
       "1       /Users/dbm/Downloads/corpus/www_yale_edu.xml   \n",
       "2  /Users/dbm/Downloads/corpus/pages_ebay_com_au.xml   \n",
       "3  /Users/dbm/Downloads/corpus/info_sciencedirect...   \n",
       "4   /Users/dbm/Downloads/corpus/about_abc_net_au.xml   \n",
       "\n",
       "                                                text type  Document_No  \\\n",
       "0  (hereinafter called 'DHL') is pleased that you...   pp            0   \n",
       "1  Any information you voluntarily provide to us ...   pp            1   \n",
       "2   This Privacy Policy describes how eBay Intern...   pp            2   \n",
       "3  No. 33156677, BTW No. NL005033019B01 (\"Elsevie...   pp            3   \n",
       "4  Our goal is to provide you and your family wit...   pp            4   \n",
       "\n",
       "   Dominant_Topic  Topic_Perc_Contrib  \\\n",
       "0             3.0              0.7007   \n",
       "1             3.0              0.5982   \n",
       "2             3.0              0.6425   \n",
       "3             3.0              0.4129   \n",
       "4             3.0              0.5556   \n",
       "\n",
       "                                            Keywords  \\\n",
       "0  information, personal, site, website, service,...   \n",
       "1  information, personal, site, website, service,...   \n",
       "2  information, personal, site, website, service,...   \n",
       "3  information, personal, site, website, service,...   \n",
       "4  information, personal, site, website, service,...   \n",
       "\n",
       "                                                Text  \n",
       "0  [hereinafter, called, pleased, visited, websit...  \n",
       "1  [information, voluntarily, provide, yale, univ...  \n",
       "2  [describes, ebay, international, registered, o...  \n",
       "3  [committed, maintaining, confidence, trust, re...  \n",
       "4  [goal, provide, family, medium, experience, in...  "
      ]
     },
     "execution_count": 51,
     "metadata": {},
     "output_type": "execute_result"
    }
   ],
   "source": [
    "test_df_with_topic.head()"
   ]
  },
  {
   "cell_type": "markdown",
   "metadata": {},
   "source": [
    "## Update topic model"
   ]
  },
  {
   "cell_type": "code",
   "execution_count": 52,
   "metadata": {
    "ExecuteTime": {
     "end_time": "2019-02-18T05:28:05.632677Z",
     "start_time": "2019-02-18T05:28:04.821767Z"
    }
   },
   "outputs": [],
   "source": [
    "# Update model with the test corpus\n",
    "optimal_model.update(corpus_test)"
   ]
  },
  {
   "cell_type": "code",
   "execution_count": 57,
   "metadata": {
    "ExecuteTime": {
     "end_time": "2019-02-18T05:31:48.199563Z",
     "start_time": "2019-02-18T05:31:45.102109Z"
    }
   },
   "outputs": [
    {
     "name": "stdout",
     "output_type": "stream",
     "text": [
      "\n",
      "Perplexity:  -6.8001539683060495\n",
      "\n",
      "Coherence Score:  0.40871700452187754\n",
      "CPU times: user 8.52 s, sys: 139 ms, total: 8.66 s\n",
      "Wall time: 3.09 s\n"
     ]
    }
   ],
   "source": [
    "%%time\n",
    "# Compute Perplexity\n",
    "# Expect perplexity to decrease and coherence to increase\n",
    "print('\\nPerplexity: ', optimal_model.log_perplexity(corpus))  # a measure of how good the model is. lower the better.\n",
    "\n",
    "# Compute Coherence Score\n",
    "coherence_model_lda = CoherenceModel(model=optimal_model, texts=test_words, dictionary=id2word_test, coherence='c_v')\n",
    "coherence_lda = coherence_model_lda.get_coherence()\n",
    "print('\\nCoherence Score: ', coherence_lda)"
   ]
  },
  {
   "cell_type": "code",
   "execution_count": 58,
   "metadata": {
    "ExecuteTime": {
     "end_time": "2019-02-18T05:37:01.718627Z",
     "start_time": "2019-02-18T05:37:01.693200Z"
    }
   },
   "outputs": [],
   "source": [
    "# Save model to disk.\n",
    "temp_file2 = datapath(\"./optimal_LDA_model_acl_train_4top_fulldoc_updated\")\n",
    "optimal_model.save(temp_file2)"
   ]
  },
  {
   "cell_type": "markdown",
   "metadata": {},
   "source": [
    "## Update model with single document"
   ]
  },
  {
   "cell_type": "code",
   "execution_count": 110,
   "metadata": {
    "ExecuteTime": {
     "end_time": "2019-02-18T07:57:33.363907Z",
     "start_time": "2019-02-18T07:57:33.351094Z"
    }
   },
   "outputs": [
    {
     "data": {
      "text/plain": [
       "[[3,\n",
       "  [('information', 0.0640159),\n",
       "   ('personal', 0.019337073),\n",
       "   ('website', 0.016995635),\n",
       "   ('site', 0.013105628),\n",
       "   ('service', 0.011147188),\n",
       "   ('party', 0.0110497875),\n",
       "   ('data', 0.0100991),\n",
       "   ('cooky', 0.010093257),\n",
       "   ('third', 0.008876132),\n",
       "   ('user', 0.008633475)]]]"
      ]
     },
     "execution_count": 110,
     "metadata": {},
     "output_type": "execute_result"
    }
   ],
   "source": [
    "new_doc = test_words[0]\n",
    "new_doc_bow = id2word.doc2bow(new_doc)\n",
    "new_doc_top_prob_dist = optimal_model[new_doc_bow] \n",
    "new_doc_top_prob_dist_df = pd.DataFrame([{'topic': i[0], 'prob':i[1]} for i in new_doc_top_prob_dist])\n",
    "new_doc_top_kwords = get_topics_4_new_docs(model = optimal_model, topics=new_doc_top_prob_dist, prob = .3)\n",
    "new_doc_top_kwords\n",
    "# optimal_model.update(new_doc_bow)"
   ]
  },
  {
   "cell_type": "code",
   "execution_count": 109,
   "metadata": {
    "ExecuteTime": {
     "end_time": "2019-02-18T07:09:15.329104Z",
     "start_time": "2019-02-18T07:09:15.324661Z"
    }
   },
   "outputs": [
    {
     "data": {
      "text/plain": [
       "[(3, 0.94275415), (1, 0.040611517), (2, 0.012470194)]"
      ]
     },
     "execution_count": 109,
     "metadata": {},
     "output_type": "execute_result"
    }
   ],
   "source": [
    "new_doc_top_prob_dist"
   ]
  },
  {
   "cell_type": "code",
   "execution_count": 60,
   "metadata": {
    "ExecuteTime": {
     "end_time": "2019-02-18T05:40:16.139617Z",
     "start_time": "2019-02-18T05:40:14.418695Z"
    }
   },
   "outputs": [],
   "source": [
    "# Get similarities among topics in the corpus\n",
    "lda_index = similarities.MatrixSimilarity(optimal_model[corpus])"
   ]
  },
  {
   "cell_type": "code",
   "execution_count": 61,
   "metadata": {
    "ExecuteTime": {
     "end_time": "2019-02-18T05:44:22.914448Z",
     "start_time": "2019-02-18T05:44:22.902244Z"
    }
   },
   "outputs": [
    {
     "name": "stdout",
     "output_type": "stream",
     "text": [
      "[475, 176, 754, 294, 412, 108, 505, 7, 564, 40, 644, 317, 693, 724, 702, 152, 591, 262, 337, 223, 92, 213, 122, 373, 600, 378, 5, 48, 73, 89, 249, 389, 547, 575, 647, 461, 313, 593, 326, 75, 261, 6, 231, 155, 685, 250, 393, 515, 768, 408, 254, 651, 579, 133, 166, 306, 52, 193, 797, 45, 616, 101, 472, 244, 96, 77, 196, 211, 462, 691, 518, 728, 68, 218, 136, 507, 124, 783, 406, 661, 746, 154, 405, 388, 760, 608, 139, 446, 717, 753, 607, 454, 119, 189, 325, 285, 295, 284, 741, 304, 586, 72, 581, 46, 328, 733, 100, 190]\n"
     ]
    },
    {
     "data": {
      "text/plain": [
       "\"Files with private key, personal logins, passwords or other secret and significant data are subject to steal because such data provide access to different services and resources. The whole complex of measures and special hard and software devices (firewalls, proxy servers) are used in WebMoney Transfer to prevent unauthorized access. If you wish to prevent your computer from unauthorized access, follow our pieces of advice. In this case, you can make payments worth thousands of dollars from your computer without any fear to lose them. To prevent your computer from unauthorized access you just need to follow these recommendations:\\n\\nIt is advisable to install Windows 7 on your computer. Security of Linux (Unix) requires HIGHLY qualified specialists and therefore it can hardly be advisable for use. Regularly update Service Park and Hot-fix at windowsupdate. Maximally approximate OS security to the S2 standard or ITSEC (refer to\\nhttp://www.microsoft.com/security/default.aspx\\nhttp://www.microsoft.com/security/pc-security/protect-pc.aspx\\nInstall the personal Outpost, ZoneAlarm or analogous to them firewalls (Windows 7 has a built-in firewall) and close all the ports and IP addresses except for the ones necessary for your work (ports and IP addresses required for WebMoney Transfer are described at www.wmtransfer.com). Regularly update your anti-virus base\\nTest all incoming information (email, news) on Trojans or other viruses and never run any software(.com, .exe), scripts (.js, .vbs), files with macrocommands (.doc), and package files (.bat, .pif) if they came from a doubtful source. Store files with secret information on diskettes, CD, smart or flash cards. Regularly back up secret files. Don't forget to remove the diskette and put in a safe place having logged out. Store the removable carrier with secret information and its backup separately, in different places. Study the security possibilities of the systems you are using. Never leave your computer unattended when having logged into WebMoney Transfer. Be sure store diskettes with secret information in a safe place. Never let any extraneous software access your passwords and key. If any extraneous software demands you to specify your WebMoney password, you must not enter it. Only WebMoney Keeper must be able to access your password and key in the system. Our recommendations will increase the security of your computer and help you manage your electronic funds privately and secure.\""
      ]
     },
     "execution_count": 61,
     "metadata": {},
     "output_type": "execute_result"
    }
   ],
   "source": [
    "# Find documents similar to new document\n",
    "# Let's perform some queries\n",
    "similarities_1 = lda_index[optimal_model[new_doc_bow]]\n",
    "\n",
    "# print(similarities_1.shape)\n",
    "# Sort the similarities\n",
    "similarities_1 = sorted(enumerate(similarities_1), key=lambda item: -item[1])\n",
    " \n",
    "# Top most similar documents:\n",
    "# print(similarities_1[:10])\n",
    " \n",
    "# Let's see what's the most similar document\n",
    "document_id, similarity_1 = similarities_1[0]\n",
    "\n",
    "similar_docs = get_similar_docs_4_new_docs(similarities_val = similarities_1, similarity_threshold  = 0.99)\n",
    "print(similar_docs)\n",
    "# Print a similar document\n",
    "train_df_with_topic['text'][similar_docs[0]]"
   ]
  },
  {
   "cell_type": "markdown",
   "metadata": {},
   "source": [
    "## Summarize by topic"
   ]
  },
  {
   "cell_type": "code",
   "execution_count": 64,
   "metadata": {
    "ExecuteTime": {
     "end_time": "2019-02-18T05:52:32.771726Z",
     "start_time": "2019-02-18T05:51:03.499098Z"
    }
   },
   "outputs": [],
   "source": [
    "# Get the top n documents for each topic\n",
    "df_topic_gr = train_df_with_topic.groupby('Dominant_Topic')\n",
    "summary_stories = {}\n",
    "return_prop = 0.05\n",
    "for group, _df in df_topic_gr:  \n",
    "#     display(' '.join(_df['story']))\n",
    "    for doc in _df['text']:\n",
    "        tmp = sent_tokenize(doc)\n",
    "        tmp_clean = [i.split('\\n\\n') for i in tmp]\n",
    "        text_pp = ' '.join(sum(tmp_clean,[]))\n",
    "        try:\n",
    "            summary = summarize(text_pp, ratio = return_prop)   \n",
    "        except:\n",
    "            summary = text_pp\n",
    "#         summary_stories.append({'Dominant Topic':group, 'Summary':summary})\n",
    "        summary_stories = {'Dominant Topic':group, 'Summary':summary}\n",
    "\n",
    "# df_with_topic = dfs.join(df.set_index('Document_No'), on='Document_No')\n",
    "# df_with_topic.head(5)"
   ]
  },
  {
   "cell_type": "code",
   "execution_count": null,
   "metadata": {},
   "outputs": [],
   "source": [
    "summary_stories[3]"
   ]
  },
  {
   "cell_type": "code",
   "execution_count": null,
   "metadata": {},
   "outputs": [],
   "source": [
    "tmp = df_topic_gr.get_group(1)"
   ]
  },
  {
   "cell_type": "code",
   "execution_count": null,
   "metadata": {},
   "outputs": [],
   "source": [
    "tmp = sent_tokenize(test_df_with_topic['text'][0])\n",
    "tmp_clean = [i.split('\\n\\n') for i in tmp]\n",
    "text_pp = ' '.join(sum(tmp_clean,[]))\n",
    "summarize(text_pp, ratio  = 0.05)"
   ]
  }
 ],
 "metadata": {
  "kernelspec": {
   "display_name": "Python 3",
   "language": "python",
   "name": "python3"
  },
  "language_info": {
   "codemirror_mode": {
    "name": "ipython",
    "version": 3
   },
   "file_extension": ".py",
   "mimetype": "text/x-python",
   "name": "python",
   "nbconvert_exporter": "python",
   "pygments_lexer": "ipython3",
   "version": "3.6.0"
  },
  "latex_envs": {
   "LaTeX_envs_menu_present": true,
   "autoclose": false,
   "autocomplete": true,
   "bibliofile": "biblio.bib",
   "cite_by": "apalike",
   "current_citInitial": 1,
   "eqLabelWithNumbers": true,
   "eqNumInitial": 1,
   "hotkeys": {
    "equation": "Ctrl-E",
    "itemize": "Ctrl-I"
   },
   "labels_anchors": false,
   "latex_user_defs": false,
   "report_style_numbering": false,
   "user_envs_cfg": false
  },
  "toc": {
   "base_numbering": 1,
   "nav_menu": {},
   "number_sections": true,
   "sideBar": true,
   "skip_h1_title": false,
   "title_cell": "Table of Contents",
   "title_sidebar": "Contents",
   "toc_cell": false,
   "toc_position": {},
   "toc_section_display": true,
   "toc_window_display": false
  },
  "varInspector": {
   "cols": {
    "lenName": 16,
    "lenType": 16,
    "lenVar": 40
   },
   "kernels_config": {
    "python": {
     "delete_cmd_postfix": "",
     "delete_cmd_prefix": "del ",
     "library": "var_list.py",
     "varRefreshCmd": "print(var_dic_list())"
    },
    "r": {
     "delete_cmd_postfix": ") ",
     "delete_cmd_prefix": "rm(",
     "library": "var_list.r",
     "varRefreshCmd": "cat(var_dic_list()) "
    }
   },
   "types_to_exclude": [
    "module",
    "function",
    "builtin_function_or_method",
    "instance",
    "_Feature"
   ],
   "window_display": false
  }
 },
 "nbformat": 4,
 "nbformat_minor": 2
}

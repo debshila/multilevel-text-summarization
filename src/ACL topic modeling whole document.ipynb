{
 "cells": [
  {
   "cell_type": "markdown",
   "metadata": {},
   "source": [
    "# Topic model of ACL privacy full docs"
   ]
  },
  {
   "cell_type": "code",
   "execution_count": 97,
   "metadata": {
    "ExecuteTime": {
     "end_time": "2019-02-19T06:38:31.827329Z",
     "start_time": "2019-02-19T06:38:31.824281Z"
    }
   },
   "outputs": [],
   "source": [
    "from preproc_utils import *\n",
    "from topic_model_utils import *"
   ]
  },
  {
   "cell_type": "code",
   "execution_count": 3,
   "metadata": {
    "ExecuteTime": {
     "end_time": "2019-02-19T05:51:49.957425Z",
     "start_time": "2019-02-19T05:51:49.950738Z"
    }
   },
   "outputs": [
    {
     "name": "stdout",
     "output_type": "stream",
     "text": [
      "BeautifulSoup\t CoherenceModel\t CountVectorizer\t Dictionary\t HdpModel\t LdaMallet\t LdaModel\t LsiModel\t NamespaceMagics\t \n",
      "TfidfTransformer\t WordNetLemmatizer\t autopep8\t compute_coherence_lda\t corpora\t datapath\t display_topics\t dump\t format_topics_sentences\t \n",
      "gensim\t get_ipython\t get_similar_docs_4_new_docs\t get_topics_4_new_docs\t getsizeof\t html5lib\t joblib\t json\t load\t \n",
      "logging\t nltk\t normalize\t np\t os\t pd\t plt\t pprint\t pyLDAvis\t \n",
      "random\t re\t read_data_from_url\t requests\t sent_tokenize\t similarities\t simple_preprocess\t sleep\t smart_open\t \n",
      "sp\t spacy\t stopwords\t summarize\t time\t var_dic_list\t warnings\t word_tokenize\t yapf_reformat\t \n",
      "\n"
     ]
    }
   ],
   "source": [
    "# %who shows the namespace"
   ]
  },
  {
   "cell_type": "code",
   "execution_count": 98,
   "metadata": {
    "ExecuteTime": {
     "end_time": "2019-02-19T06:38:40.352752Z",
     "start_time": "2019-02-19T06:38:40.289411Z"
    }
   },
   "outputs": [
    {
     "name": "stdout",
     "output_type": "stream",
     "text": [
      "(1001, 5) 1001\n"
     ]
    }
   ],
   "source": [
    "# Load data\n",
    "df = load(\n",
    "    open(\n",
    "        \"/Users/dbm/Documents/Insight S19/data/acl_privacy_policy_full_docs.pkl\",\n",
    "        \"rb\"))\n",
    "data_words = load(\n",
    "    open(\n",
    "        \"/Users/dbm/Documents/Insight S19/data/acl_privacy_policy_full_doc_words.pkl\",\n",
    "        \"rb\"))\n",
    "print(df.shape, len(data_words))"
   ]
  },
  {
   "cell_type": "code",
   "execution_count": 5,
   "metadata": {
    "ExecuteTime": {
     "end_time": "2019-02-19T05:52:13.092009Z",
     "start_time": "2019-02-19T05:52:13.014522Z"
    }
   },
   "outputs": [],
   "source": [
    "# Split data into words to create a BOW model\n",
    "split_data_words = [content.split() for content in data_words]"
   ]
  },
  {
   "cell_type": "markdown",
   "metadata": {},
   "source": [
    "## Train test split"
   ]
  },
  {
   "cell_type": "code",
   "execution_count": 99,
   "metadata": {
    "ExecuteTime": {
     "end_time": "2019-02-19T06:38:49.940525Z",
     "start_time": "2019-02-19T06:38:49.926243Z"
    }
   },
   "outputs": [
    {
     "name": "stdout",
     "output_type": "stream",
     "text": [
      "Num documents in train set: 800; Num documents in test set: 201\n",
      "Num documents in train set: (800, 5)\n",
      "Num documents in test set: (201, 5)\n"
     ]
    }
   ],
   "source": [
    "# Split data into training and test sets\n",
    "train_prop = 0.8\n",
    "num_train = int(len(data_words)*train_prop)\n",
    "train_words = split_data_words[:num_train]\n",
    "test_words = split_data_words[num_train:]\n",
    "train_df = df.iloc[:num_train,:]\n",
    "test_df = df.iloc[num_train:,:]\n",
    "print(f'Num documents in train set: {len(train_words)}; Num documents in test set: {len(test_words)}')\n",
    "print(f'Num documents in train set: {train_df.shape}\\nNum documents in test set: {test_df.shape}')"
   ]
  },
  {
   "cell_type": "code",
   "execution_count": 100,
   "metadata": {
    "ExecuteTime": {
     "end_time": "2019-02-19T06:38:58.332069Z",
     "start_time": "2019-02-19T06:38:58.320623Z"
    }
   },
   "outputs": [
    {
     "data": {
      "text/html": [
       "<div>\n",
       "<style scoped>\n",
       "    .dataframe tbody tr th:only-of-type {\n",
       "        vertical-align: middle;\n",
       "    }\n",
       "\n",
       "    .dataframe tbody tr th {\n",
       "        vertical-align: top;\n",
       "    }\n",
       "\n",
       "    .dataframe thead th {\n",
       "        text-align: right;\n",
       "    }\n",
       "</style>\n",
       "<table border=\"1\" class=\"dataframe\">\n",
       "  <thead>\n",
       "    <tr style=\"text-align: right;\">\n",
       "      <th></th>\n",
       "      <th>file</th>\n",
       "      <th>text</th>\n",
       "      <th>type</th>\n",
       "      <th>co_name</th>\n",
       "      <th>word_count_filt</th>\n",
       "    </tr>\n",
       "  </thead>\n",
       "  <tbody>\n",
       "    <tr>\n",
       "      <th>0</th>\n",
       "      <td>/Users/dbm/Downloads/corpus/www_google_co_nz.xml</td>\n",
       "      <td>When you share information with us, for exampl...</td>\n",
       "      <td>pp</td>\n",
       "      <td>google</td>\n",
       "      <td>763</td>\n",
       "    </tr>\n",
       "    <tr>\n",
       "      <th>1</th>\n",
       "      <td>/Users/dbm/Downloads/corpus/ibnlive_in.xml</td>\n",
       "      <td>Web18 recognizes the importance of protecting...</td>\n",
       "      <td>pp</td>\n",
       "      <td>ibnlive</td>\n",
       "      <td>571</td>\n",
       "    </tr>\n",
       "    <tr>\n",
       "      <th>2</th>\n",
       "      <td>/Users/dbm/Downloads/corpus/www_gocomics.xml</td>\n",
       "      <td>The privacy policy below details the measures ...</td>\n",
       "      <td>pp</td>\n",
       "      <td>gocomics</td>\n",
       "      <td>1405</td>\n",
       "    </tr>\n",
       "    <tr>\n",
       "      <th>3</th>\n",
       "      <td>/Users/dbm/Downloads/corpus/www_petsmart.xml</td>\n",
       "      <td>By using this Site, you agree to be bound by o...</td>\n",
       "      <td>pp</td>\n",
       "      <td>petsmart</td>\n",
       "      <td>942</td>\n",
       "    </tr>\n",
       "    <tr>\n",
       "      <th>4</th>\n",
       "      <td>/Users/dbm/Downloads/corpus/www_duolingo.xml</td>\n",
       "      <td>By using, accessing or participating in the S...</td>\n",
       "      <td>pp</td>\n",
       "      <td>duolingo</td>\n",
       "      <td>255</td>\n",
       "    </tr>\n",
       "  </tbody>\n",
       "</table>\n",
       "</div>"
      ],
      "text/plain": [
       "                                               file  \\\n",
       "0  /Users/dbm/Downloads/corpus/www_google_co_nz.xml   \n",
       "1        /Users/dbm/Downloads/corpus/ibnlive_in.xml   \n",
       "2      /Users/dbm/Downloads/corpus/www_gocomics.xml   \n",
       "3      /Users/dbm/Downloads/corpus/www_petsmart.xml   \n",
       "4      /Users/dbm/Downloads/corpus/www_duolingo.xml   \n",
       "\n",
       "                                                text type   co_name  \\\n",
       "0  When you share information with us, for exampl...   pp    google   \n",
       "1   Web18 recognizes the importance of protecting...   pp   ibnlive   \n",
       "2  The privacy policy below details the measures ...   pp  gocomics   \n",
       "3  By using this Site, you agree to be bound by o...   pp  petsmart   \n",
       "4   By using, accessing or participating in the S...   pp  duolingo   \n",
       "\n",
       "   word_count_filt  \n",
       "0              763  \n",
       "1              571  \n",
       "2             1405  \n",
       "3              942  \n",
       "4              255  "
      ]
     },
     "execution_count": 100,
     "metadata": {},
     "output_type": "execute_result"
    }
   ],
   "source": [
    "train_df.head()"
   ]
  },
  {
   "cell_type": "markdown",
   "metadata": {},
   "source": [
    "## Create BOW"
   ]
  },
  {
   "cell_type": "code",
   "execution_count": 101,
   "metadata": {
    "ExecuteTime": {
     "end_time": "2019-02-19T06:39:07.763060Z",
     "start_time": "2019-02-19T06:39:07.001904Z"
    }
   },
   "outputs": [
    {
     "name": "stdout",
     "output_type": "stream",
     "text": [
      "number of words in dictionary 10882\n",
      "CPU times: user 731 ms, sys: 21.2 ms, total: 752 ms\n",
      "Wall time: 757 ms\n"
     ]
    }
   ],
   "source": [
    "%%time\n",
    "# Create corpora for topic modeling\n",
    "# Create dictionary train\n",
    "id2word = corpora.Dictionary(train_words)\n",
    "\n",
    "# Filter extremes in dictionary\n",
    "id2word.filter_extremes(no_below=1, no_above=0.75)\n",
    "\n",
    "print(f'number of words in dictionary {len(id2word)}')\n",
    "\n",
    "# Term Document Frequency\n",
    "corpus = [id2word.doc2bow(text) for text in train_words]\n",
    "\n",
    "# Save corpora and dictionary\n",
    "dump(corpus, open('acl_policy_corpus_train_fulldoc.pkl', 'wb'))\n",
    "id2word.save('acl_policy_dictionary_train_fulldoc.gensim')"
   ]
  },
  {
   "cell_type": "code",
   "execution_count": 102,
   "metadata": {
    "ExecuteTime": {
     "end_time": "2019-02-19T06:39:16.772516Z",
     "start_time": "2019-02-19T06:39:16.404404Z"
    }
   },
   "outputs": [
    {
     "name": "stdout",
     "output_type": "stream",
     "text": [
      "number of words in test dictionary 6050\n",
      "CPU times: user 356 ms, sys: 7.27 ms, total: 363 ms\n",
      "Wall time: 364 ms\n"
     ]
    }
   ],
   "source": [
    "%%time\n",
    "# Create dictionary test\n",
    "id2word_test = corpora.Dictionary(test_words)\n",
    "\n",
    "# Filter extremes in dictionary\n",
    "id2word_test.filter_extremes(no_below=1, no_above=0.75)\n",
    "print(f'number of words in test dictionary {len(id2word_test)}')\n",
    "\n",
    "# Term Document Frequency\n",
    "corpus_test = [id2word.doc2bow(text) for text in test_words]\n",
    "\n",
    "# Save corpora and dictionary\n",
    "dump(corpus_test, open('acl_policy_corpus_test_fulldoc.pkl', 'wb'))\n",
    "id2word_test.save('acl_policy_dictionary_test_fulldoc.gensim')"
   ]
  },
  {
   "cell_type": "code",
   "execution_count": 11,
   "metadata": {
    "ExecuteTime": {
     "end_time": "2019-02-19T00:40:16.786223Z",
     "start_time": "2019-02-19T00:40:16.783861Z"
    }
   },
   "outputs": [],
   "source": [
    "# Human readable format of corpus (term-frequency)\n",
    "# [[(id2word[id], freq) for id, freq in cp] for cp in corpus[:1]]"
   ]
  },
  {
   "cell_type": "markdown",
   "metadata": {},
   "source": [
    "## LDA model"
   ]
  },
  {
   "cell_type": "code",
   "execution_count": 104,
   "metadata": {
    "ExecuteTime": {
     "end_time": "2019-02-19T06:45:04.964132Z",
     "start_time": "2019-02-19T06:43:20.363959Z"
    }
   },
   "outputs": [
    {
     "name": "stdout",
     "output_type": "stream",
     "text": [
      "CPU times: user 3min 10s, sys: 3.32 s, total: 3min 14s\n",
      "Wall time: 1min 44s\n"
     ]
    }
   ],
   "source": [
    "%%time\n",
    "# Determine optimum number of topics\n",
    "# Can take a long time to run\n",
    "model_list, coherence_values = compute_coherence_lda(\n",
    "    dictionary=id2word, corpus=corpus, texts=train_words, start=2, limit=20, step=1)"
   ]
  },
  {
   "cell_type": "code",
   "execution_count": 105,
   "metadata": {
    "ExecuteTime": {
     "end_time": "2019-02-19T06:45:22.828826Z",
     "start_time": "2019-02-19T06:45:22.688609Z"
    }
   },
   "outputs": [
    {
     "name": "stdout",
     "output_type": "stream",
     "text": [
      "Max coherence: 0.2940653768955771, Num Topics at max coherence: 16\n"
     ]
    },
    {
     "data": {
      "image/png": "[encoded data removed]",
      "text/plain": [
       "<Figure size 432x288 with 1 Axes>"
      ]
     },
     "metadata": {
      "needs_background": "light"
     },
     "output_type": "display_data"
    }
   ],
   "source": [
    "# Show graph\n",
    "limit = 20\n",
    "start = 2\n",
    "step = 1\n",
    "#  Find the index of the max value\n",
    "max_idx = coherence_values.index(max(coherence_values))\n",
    "# Sanity check\n",
    "# coherence_values[19]\n",
    "x = range(start, limit, step)\n",
    "print(f'Max coherence: {max(coherence_values)}, Num Topics at max coherence: {x[max_idx]}')\n",
    "plt.plot(x, coherence_values)\n",
    "plt.xlabel(\"Num Topics\")\n",
    "plt.ylabel(\"Coherence score\")\n",
    "plt.legend((\"coherence_values\"), loc='best')\n",
    "plt.axvline(x=x[max_idx], color = 'orange')\n",
    "plt.show()"
   ]
  },
  {
   "cell_type": "code",
   "execution_count": null,
   "metadata": {
    "ExecuteTime": {
     "end_time": "2019-02-18T04:47:18.502874Z",
     "start_time": "2019-02-18T04:47:18.500216Z"
    }
   },
   "outputs": [],
   "source": [
    "# Print the coherence scores\n",
    "# for m, cv in zip(x, coherence_values):\n",
    "#     print(\"Num Topics =\", m, \" has Coherence Value of\", round(cv, 4))"
   ]
  },
  {
   "cell_type": "code",
   "execution_count": 106,
   "metadata": {
    "ExecuteTime": {
     "end_time": "2019-02-19T06:45:31.408015Z",
     "start_time": "2019-02-19T06:45:31.402700Z"
    }
   },
   "outputs": [],
   "source": [
    "# Select the model and print the topics\n",
    "optimal_model = model_list[max_idx]\n",
    "model_topics = optimal_model.show_topics(formatted=False)\n",
    "# pprint(optimal_model.print_topics(num_words=10))"
   ]
  },
  {
   "cell_type": "code",
   "execution_count": 107,
   "metadata": {
    "ExecuteTime": {
     "end_time": "2019-02-19T06:45:44.815670Z",
     "start_time": "2019-02-19T06:45:39.635385Z"
    }
   },
   "outputs": [
    {
     "name": "stdout",
     "output_type": "stream",
     "text": [
      "\n",
      "Perplexity:  -7.618705476753672\n",
      "\n",
      "Coherence Score:  0.2940653768955771\n",
      "CPU times: user 7.24 s, sys: 165 ms, total: 7.41 s\n",
      "Wall time: 5.17 s\n"
     ]
    }
   ],
   "source": [
    "%%time\n",
    "# Compute Perplexity\n",
    "print('\\nPerplexity: ', optimal_model.log_perplexity(corpus))  # a measure of how good the model is. lower the better.\n",
    "\n",
    "# Compute Coherence Score\n",
    "coherence_model_lda = CoherenceModel(model=optimal_model, texts=train_words, dictionary=id2word, coherence='c_v')\n",
    "coherence_lda = coherence_model_lda.get_coherence()\n",
    "print('\\nCoherence Score: ', coherence_lda)"
   ]
  },
  {
   "cell_type": "code",
   "execution_count": 108,
   "metadata": {
    "ExecuteTime": {
     "end_time": "2019-02-19T06:45:55.971770Z",
     "start_time": "2019-02-19T06:45:55.946136Z"
    }
   },
   "outputs": [],
   "source": [
    "# Save model to disk.\n",
    "temp_file = datapath(\"./optimal_LDA_model_acl_train_16top_fulldoc\")\n",
    "# temp_file = datapath(\"./optimal_LDA_model_acl_train_4top_fulldoc\")\n",
    "optimal_model.save(temp_file)"
   ]
  },
  {
   "cell_type": "code",
   "execution_count": 58,
   "metadata": {
    "ExecuteTime": {
     "end_time": "2019-02-19T04:06:15.757337Z",
     "start_time": "2019-02-19T04:03:13.483386Z"
    }
   },
   "outputs": [
    {
     "name": "stdout",
     "output_type": "stream",
     "text": [
      "CPU times: user 10.2 s, sys: 237 ms, total: 10.5 s\n",
      "Wall time: 3min 2s\n"
     ]
    }
   ],
   "source": [
    "%%time\n",
    "# Visualize the topics \n",
    "pyLDAvis.enable_notebook()\n",
    "vis = pyLDAvis.gensim.prepare(optimal_model, corpus, id2word, R = 5, sort_topics = True)"
   ]
  },
  {
   "cell_type": "code",
   "execution_count": 59,
   "metadata": {
    "ExecuteTime": {
     "end_time": "2019-02-19T04:07:04.499973Z",
     "start_time": "2019-02-19T04:07:04.467484Z"
    }
   },
   "outputs": [
    {
     "data": {
      "text/html": [
       "\n",
       "<link rel=\"stylesheet\" type=\"text/css\" href=\"https://cdn.rawgit.com/bmabey/pyLDAvis/files/ldavis.v1.0.0.css\">\n",
       "\n",
       "\n",
       "<div id=\"ldavis_el540771121804440406183689966\"></div>\n",
       "<script type=\"text/javascript\">\n",
       "\n",
       "var ldavis_el540771121804440406183689966_data = {\"mdsDat\": {\"x\": [0.005132287231371735, 0.0053336169064008235, 0.005986327433912055, 0.002647189673987907, 0.002141431385493087, 0.0015038788701038385, 0.005389522105567617, -0.01073596927117624, 5.3605586474833174e-05, -0.00386710632776461, -0.0001726114076741657, -0.0007155723007764605, -0.0038594248484303175, -0.0051309208738852235, -0.00011560855023408653, -0.003590645613370824], \"y\": [0.0035570683514385983, 0.00043358294520242675, 0.002467803888370822, -0.00023392196459411189, 0.00020550827983406003, -0.003668865686751907, -0.0011906890988957642, 0.007451380722738752, -0.003933042141756892, -0.004352357768102261, 0.006088891718510869, 0.002847241329637721, 0.004244866823560671, -0.008997052990440645, -0.0012113498630936827, -0.003709064545658618], \"topics\": [1, 2, 3, 4, 5, 6, 7, 8, 9, 10, 11, 12, 13, 14, 15, 16], \"cluster\": [1, 1, 1, 1, 1, 1, 1, 1, 1, 1, 1, 1, 1, 1, 1, 1], \"Freq\": [16.46681785583496, 11.927823066711426, 11.17077350616455, 7.852217674255371, 7.5345940589904785, 6.323716163635254, 5.774126052856445, 5.720672130584717, 5.5937604904174805, 5.341958045959473, 5.081438064575195, 3.443042278289795, 2.8441944122314453, 2.1826212406158447, 1.462904691696167, 1.2793413400650024]}, \"tinfo\": {\"Category\": [\"Default\", \"Default\", \"Default\", \"Default\", \"Default\", \"Topic1\", \"Topic1\", \"Topic1\", \"Topic1\", \"Topic1\", \"Topic1\", \"Topic1\", \"Topic1\", \"Topic1\", \"Topic1\", \"Topic1\", \"Topic1\", \"Topic1\", \"Topic1\", \"Topic1\", \"Topic2\", \"Topic2\", \"Topic2\", \"Topic2\", \"Topic2\", \"Topic2\", \"Topic2\", \"Topic2\", \"Topic2\", \"Topic2\", \"Topic2\", \"Topic3\", \"Topic3\", \"Topic3\", \"Topic3\", \"Topic3\", \"Topic3\", \"Topic3\", \"Topic3\", \"Topic3\", \"Topic3\", \"Topic3\", \"Topic3\", \"Topic3\", \"Topic4\", \"Topic4\", \"Topic4\", \"Topic4\", \"Topic4\", \"Topic4\", \"Topic4\", \"Topic4\", \"Topic4\", \"Topic4\", \"Topic4\", \"Topic4\", \"Topic4\", \"Topic4\", \"Topic5\", \"Topic5\", \"Topic5\", \"Topic5\", \"Topic5\", \"Topic5\", \"Topic5\", \"Topic5\", \"Topic5\", \"Topic5\", \"Topic5\", \"Topic5\", \"Topic5\", \"Topic5\", \"Topic6\", \"Topic6\", \"Topic6\", \"Topic6\", \"Topic6\", \"Topic6\", \"Topic6\", \"Topic6\", \"Topic6\", \"Topic6\", \"Topic6\", \"Topic7\", \"Topic7\", \"Topic7\", \"Topic7\", \"Topic7\", \"Topic7\", \"Topic7\", \"Topic7\", \"Topic7\", \"Topic7\", \"Topic7\", \"Topic7\", \"Topic7\", \"Topic7\", \"Topic7\", \"Topic7\", \"Topic8\", \"Topic8\", \"Topic8\", \"Topic8\", \"Topic8\", \"Topic8\", \"Topic8\", \"Topic8\", \"Topic8\", \"Topic8\", \"Topic8\", \"Topic9\", \"Topic9\", \"Topic9\", \"Topic9\", \"Topic9\", \"Topic9\", \"Topic9\", \"Topic9\", \"Topic9\", \"Topic9\", \"Topic9\", \"Topic9\", \"Topic9\", \"Topic9\", \"Topic10\", \"Topic10\", \"Topic10\", \"Topic10\", \"Topic10\", \"Topic10\", \"Topic10\", \"Topic10\", \"Topic10\", \"Topic10\", \"Topic10\", \"Topic10\", \"Topic10\", \"Topic10\", \"Topic10\", \"Topic10\", \"Topic11\", \"Topic11\", \"Topic11\", \"Topic11\", \"Topic11\", \"Topic11\", \"Topic11\", \"Topic11\", \"Topic11\", \"Topic11\", \"Topic11\", \"Topic11\", \"Topic11\", \"Topic12\", \"Topic12\", \"Topic12\", \"Topic12\", \"Topic12\", \"Topic12\", \"Topic12\", \"Topic12\", \"Topic12\", \"Topic12\", \"Topic12\", \"Topic12\", \"Topic12\", \"Topic12\", \"Topic12\", \"Topic13\", \"Topic13\", \"Topic13\", \"Topic13\", \"Topic13\", \"Topic13\", \"Topic13\", \"Topic13\", \"Topic13\", \"Topic13\", \"Topic13\", \"Topic13\", \"Topic13\", \"Topic14\", \"Topic14\", \"Topic14\", \"Topic14\", \"Topic14\", \"Topic14\", \"Topic14\", \"Topic14\", \"Topic14\", \"Topic14\", \"Topic14\", \"Topic14\", \"Topic14\", \"Topic14\", \"Topic14\", \"Topic15\", \"Topic15\", \"Topic15\", \"Topic15\", \"Topic15\", \"Topic15\", \"Topic15\", \"Topic15\", \"Topic15\", \"Topic15\", \"Topic15\", \"Topic15\", \"Topic15\", \"Topic15\", \"Topic15\", \"Topic15\", \"Topic16\", \"Topic16\", \"Topic16\", \"Topic16\", \"Topic16\", \"Topic16\", \"Topic16\", \"Topic16\", \"Topic16\", \"Topic16\", \"Topic16\", \"Topic16\", \"Topic16\", \"Topic16\", \"Topic16\", \"Topic16\", \"Topic16\", \"Topic16\"], \"Freq\": [3537.0, 2825.0, 1757.0, 1754.0, 2271.0, 1.8862348794937134, 1.8862348794937134, 1.8464672565460205, 2.4867289066314697, 1.7127554416656494, 42.8011474609375, 641.7352294921875, 457.2337951660156, 282.1525573730469, 469.1197814941406, 220.9953155517578, 371.4884948730469, 440.19549560546875, 390.1494445800781, 408.11883544921875, 2.566835403442383, 2.5080277919769287, 2.4188315868377686, 3.2541792392730713, 1.3473122119903564, 601.1090698242188, 435.0183410644531, 325.9772033691406, 345.68328857421875, 311.3289794921875, 332.8730773925781, 51.89875411987305, 1.2317280769348145, 1.2302526235580444, 4.88299560546875, 1.211129069328308, 6.68013334274292, 3.2166597843170166, 371.1759948730469, 280.2362365722656, 254.77175903320312, 274.08074951171875, 268.465576171875, 314.8981018066406, 6.047329425811768, 6.319901466369629, 0.9142976403236389, 0.8895432949066162, 0.8477505445480347, 4.9052557945251465, 3.8138201236724854, 1.4163033962249756, 12.044569969177246, 327.9144287109375, 229.70037841796875, 335.7218017578125, 218.45802307128906, 222.83609008789062, 0.9239370822906494, 0.9239572882652283, 0.8879237771034241, 2.306610345840454, 0.6694068312644958, 1.6780506372451782, 138.83250427246094, 183.32481384277344, 151.99569702148438, 189.89161682128906, 130.93910217285156, 276.80889892578125, 179.9907989501953, 181.0846710205078, 7.580249786376953, 1.655258297920227, 1.2272348403930664, 1.2820062637329102, 1.0064640045166016, 4.377480983734131, 210.33872985839844, 142.5330352783203, 182.43125915527344, 157.63894653320312, 245.38723754882812, 4.6402482986450195, 0.719465970993042, 0.7185782194137573, 1.2581524848937988, 1.114214539527893, 2.2529501914978027, 11.236222267150879, 8.440791130065918, 92.88329315185547, 151.90420532226562, 159.92926025390625, 163.84451293945312, 145.61944580078125, 149.80393981933594, 201.7930450439453, 153.90643310546875, 3.853400707244873, 1.9194811582565308, 2.2188971042633057, 1.3099770545959473, 6.307258129119873, 307.1111145019531, 177.49880981445312, 111.10249328613281, 139.0731658935547, 134.0956573486328, 161.53140258789062, 3.515533208847046, 0.7484980821609497, 0.741350531578064, 15.838305473327637, 0.5105429291725159, 4.384354591369629, 5.654427528381348, 62.754703521728516, 57.3038215637207, 152.80044555664062, 145.1892852783203, 202.69464111328125, 127.2391586303711, 134.7998046875, 0.5419779419898987, 0.5321090817451477, 0.5298940539360046, 0.5127966403961182, 0.7654237747192383, 1.2544437646865845, 10.087571144104004, 7.484869956970215, 116.44606018066406, 147.8825225830078, 218.8118896484375, 70.59517669677734, 76.77948760986328, 105.26528930664062, 139.74234008789062, 128.80044555664062, 0.6990213990211487, 5.691440582275391, 2.7509946823120117, 1.1897034645080566, 1.0555230379104614, 1.3063315153121948, 2.2431588172912598, 135.7498779296875, 133.38458251953125, 162.11558532714844, 95.82991790771484, 136.6555938720703, 179.19119262695312, 1.246712565422058, 1.145406723022461, 0.801744282245636, 0.27688929438591003, 0.5608000755310059, 1.6715965270996094, 7.869693756103516, 85.40833282470703, 47.63935852050781, 64.68921661376953, 77.04085540771484, 97.74412536621094, 68.76415252685547, 78.65287780761719, 84.04561614990234, 8.04719352722168, 0.8506795763969421, 3.6544511318206787, 0.34273532032966614, 5.236413478851318, 0.5471986532211304, 2.4547247886657715, 90.25148010253906, 68.76142120361328, 89.02775573730469, 62.435916900634766, 64.25321197509766, 70.13239288330078, 0.4735552966594696, 0.3024316728115082, 0.2667842507362366, 0.38540956377983093, 0.23420415818691254, 0.3755703568458557, 138.1873016357422, 27.008312225341797, 35.246925354003906, 56.91225051879883, 53.85130310058594, 39.68553161621094, 48.286277770996094, 44.94396209716797, 47.980167388916016, 1.8312171697616577, 0.897117018699646, 0.3659358620643616, 0.3387153148651123, 0.49560195207595825, 6.341969013214111, 4.503671169281006, 1.6582015752792358, 42.88038635253906, 38.508548736572266, 60.64449691772461, 33.08332443237305, 30.854785919189453, 34.18586730957031, 35.57130432128906, 37.74766540527344, 0.27943670749664307, 0.8416216969490051, 0.2797626852989197, 0.2417716085910797, 0.8910015821456909, 3.8999273777008057, 4.650699615478516, 3.4003746509552, 20.18976593017578, 58.40800094604492, 32.286781311035156, 15.611828804016113, 25.502994537353516, 21.644487380981445, 26.989423751831055, 36.40727996826172, 29.3883056640625, 27.885313034057617], \"Term\": [\"personally\", \"advertising\", \"application\", \"communication\", \"customer\", \"vistor\", \"cryptography\", \"sdsu\", \"nacelink\", \"leadback\", \"nickelodeon\", \"advertising\", \"mobile\", \"review\", \"feature\", \"additional\", \"application\", \"business\", \"marketing\", \"personally\", \"proposing\", \"pageviews\", \"likebox\", \"apassah\", \"consentif\", \"personally\", \"advertising\", \"activity\", \"feature\", \"interest\", \"cookie\", \"pinterest\", \"repinned\", \"repins\", \"prweb\", \"traded\", \"scripting\", \"geekdo\", \"cookie\", \"type\", \"advertiser\", \"technology\", \"activity\", \"personally\", \"phpbb\", \"xkcd\", \"materialyou\", \"thrid\", \"recieve\", \"correios\", \"manliness\", \"pooling\", \"hereinafter\", \"advertising\", \"advertisement\", \"personally\", \"mobile\", \"business\", \"timesaving\", \"etesz\", \"conger\", \"geekdo\", \"expressway\", \"sthash\", \"http\", \"choose\", \"public\", \"message\", \"identify\", \"personally\", \"activity\", \"customer\", \"feedly\", \"diskette\", \"wewill\", \"requestor\", \"port\", \"league\", \"child\", \"individual\", \"message\", \"partner\", \"personally\", \"sutter\", \"forus\", \"comfax\", \"southern\", \"dedication\", \"door\", \"cbbb\", \"lottery\", \"material\", \"visitor\", \"interest\", \"cookie\", \"advertisement\", \"marketing\", \"personally\", \"advertising\", \"ankama\", \"pronunciation\", \"rhyme\", \"poem\", \"typed\", \"customer\", \"credit\", \"purchase\", \"communication\", \"consent\", \"personally\", \"starfall\", \"updations\", \"portalswe\", \"physician\", \"norman\", \"supporter\", \"github\", \"health\", \"protected\", \"activity\", \"marketing\", \"personally\", \"application\", \"cookie\", \"itto\", \"changesmay\", \"inception\", \"productsto\", \"czech\", \"nacelink\", \"forever\", \"tier\", \"system\", \"visitor\", \"personally\", \"affiliate\", \"list\", \"required\", \"customer\", \"advertising\", \"concessioner\", \"webhost\", \"testosterone\", \"idnm\", \"organizationsof\", \"visitorfrom\", \"daily\", \"credit\", \"partner\", \"customer\", \"improve\", \"offer\", \"personally\", \"factory\", \"forex\", \"ffed\", \"constitues\", \"margin\", \"bloomingdales\", \"reply\", \"marketing\", \"list\", \"card\", \"disclose\", \"advertising\", \"application\", \"customer\", \"personally\", \"macys\", \"regent\", \"musician\", \"sight\", \"campus\", \"webadmin\", \"bloomingdales\", \"communication\", \"notice\", \"advertising\", \"partner\", \"consent\", \"business\", \"bulbagarden\", \"maillol\", \"collaborator\", \"domicile\", \"wordcamp\", \"pronouncement\", \"personally\", \"identifying\", \"statement\", \"mobile\", \"visitor\", \"right\", \"message\", \"preference\", \"marketing\", \"forecast\", \"wind\", \"bdnews\", \"rainfall\", \"norwegian\", \"talk\", \"football\", \"campus\", \"child\", \"application\", \"personally\", \"card\", \"control\", \"communication\", \"mobile\", \"advertising\", \"addressemail\", \"staffing\", \"addresscredit\", \"southern\", \"caremark\", \"gaia\", \"vehicle\", \"dealer\", \"affiliate\", \"personally\", \"application\", \"game\", \"public\", \"beacon\", \"include\", \"advertising\", \"marketing\", \"message\"], \"Total\": [3537.0, 2825.0, 1757.0, 1754.0, 2271.0, 2.5517754554748535, 2.5517754554748535, 3.501451015472412, 4.719395160675049, 3.6253647804260254, 115.58598327636719, 2825.111328125, 1964.30419921875, 1151.59765625, 2173.30810546875, 892.6941528320312, 1757.1160888671875, 2261.250732421875, 2052.7431640625, 3537.76123046875, 3.4542086124420166, 3.4372403621673584, 3.4392032623291016, 4.6896281242370605, 2.1180641651153564, 3537.76123046875, 2825.111328125, 1987.422607421875, 2173.30810546875, 1973.2349853515625, 2172.246826171875, 77.23493194580078, 2.0560355186462402, 2.05378794670105, 8.3081636428833, 2.166137933731079, 14.435809135437012, 6.439613342285156, 2172.246826171875, 1634.2840576171875, 1482.35986328125, 1931.5728759765625, 1987.422607421875, 3537.76123046875, 8.856781005859375, 9.822009086608887, 1.7765849828720093, 1.7732690572738647, 1.7688863277435303, 10.748278617858887, 8.524487495422363, 3.009253978729248, 43.34335708618164, 2825.111328125, 1864.4736328125, 3537.76123046875, 1964.30419921875, 2261.250732421875, 1.7251981496810913, 1.7259800434112549, 1.7142910957336426, 6.439613342285156, 1.9031246900558472, 5.1136555671691895, 1082.5618896484375, 1760.4481201171875, 1393.9188232421875, 1902.048828125, 1181.1146240234375, 3537.76123046875, 1987.422607421875, 2271.015869140625, 14.767338752746582, 3.416656494140625, 2.907754898071289, 3.089918375015259, 2.566215991973877, 14.468026161193848, 1995.4017333984375, 1289.732421875, 1902.048828125, 1745.3436279296875, 3537.76123046875, 8.636448860168457, 1.6331162452697754, 1.6333720684051514, 3.1571075916290283, 2.818235158920288, 6.00394344329834, 38.717838287353516, 36.771392822265625, 912.0012817382812, 1828.413330078125, 1973.2349853515625, 2172.246826171875, 1864.4736328125, 2052.7431640625, 3537.76123046875, 2825.111328125, 6.115741729736328, 4.020787715911865, 5.024481296539307, 2.970923900604248, 14.337295532226562, 2271.015869140625, 1626.4166259765625, 1112.41845703125, 1754.4857177734375, 1858.9818115234375, 3537.76123046875, 7.347851276397705, 1.627515196800232, 1.6300636529922485, 43.15959930419922, 1.5549399852752686, 13.560518264770508, 17.774127960205078, 377.52752685546875, 364.6098327636719, 1987.422607421875, 2052.7431640625, 3537.76123046875, 1757.1160888671875, 2172.246826171875, 1.905661940574646, 1.8752379417419434, 1.8688254356384277, 1.868097186088562, 2.795196294784546, 4.719395160675049, 44.90369415283203, 43.765132904052734, 1292.7994384765625, 1828.413330078125, 3537.76123046875, 859.8782348632812, 967.75244140625, 1511.18359375, 2271.015869140625, 2825.111328125, 1.7073472738265991, 15.083115577697754, 8.67883014678955, 3.7581746578216553, 3.8539576530456543, 4.890893459320068, 9.01856517791748, 1626.4166259765625, 1745.3436279296875, 2271.015869140625, 1178.798828125, 1938.5936279296875, 3537.76123046875, 5.349868297576904, 5.498636245727539, 4.003273963928223, 1.5139557123184204, 3.446155071258545, 12.488983154296875, 95.28156280517578, 2052.7431640625, 967.75244140625, 1458.93701171875, 1893.74755859375, 2825.111328125, 1757.1160888671875, 2271.015869140625, 3537.76123046875, 22.832866668701172, 3.3194127082824707, 16.626314163208008, 1.576120376586914, 24.10662269592285, 2.556190252304077, 12.488983154296875, 1754.4857177734375, 1592.3702392578125, 2825.111328125, 1745.3436279296875, 1858.9818115234375, 2261.250732421875, 2.2029266357421875, 1.5030068159103394, 1.5061002969741821, 2.6142866611480713, 1.6328538656234741, 2.8276774883270264, 3537.76123046875, 571.388427734375, 858.430419921875, 1964.30419921875, 1828.413330078125, 1220.7998046875, 1902.048828125, 1660.43359375, 2052.7431640625, 16.821453094482422, 8.632821083068848, 3.5476417541503906, 3.3146109580993652, 4.85946798324585, 95.63024139404297, 78.49620056152344, 24.10662269592285, 1995.4017333984375, 1757.1160888671875, 3537.76123046875, 1458.93701171875, 1464.342041015625, 1754.4857177734375, 1964.30419921875, 2825.111328125, 3.5149946212768555, 10.657726287841797, 3.5617709159851074, 3.1571075916290283, 11.997549057006836, 73.54644012451172, 114.80540466308594, 83.15153503417969, 859.8782348632812, 3537.76123046875, 1757.1160888671875, 639.845947265625, 1393.9188232421875, 1097.879638671875, 1613.985107421875, 2825.111328125, 2052.7431640625, 1902.048828125], \"loglift\": [5.0, 4.0, 3.0, 2.0, 1.0, 1.5016000270843506, 1.5016000270843506, 1.1639000177383423, 1.163100004196167, 1.0540000200271606, 0.8104000091552734, 0.32170000672340393, 0.34610000252723694, 0.39739999175071716, 0.27070000767707825, 0.4077000021934509, 0.2498999983072281, 0.16740000247955322, 0.14339999854564667, -0.35589998960494995, 1.8293999433517456, 1.8111000061035156, 1.7742999792099, 1.7609000205993652, 1.6739000082015991, 0.3537999987602234, 0.25540000200271606, 0.31850001215934753, 0.28780001401901245, 0.27970001101493835, 0.25049999356269836, 1.7942999601364136, 1.6794999837875366, 1.6793999671936035, 1.6604000329971313, 1.6104999780654907, 1.4213000535964966, 1.4976999759674072, 0.42500001192092896, 0.4284999966621399, 0.4307999908924103, 0.23919999599456787, 0.1899999976158142, -0.22709999978542328, 2.1628000736236572, 2.1034998893737793, 1.8801000118255615, 1.8545000553131104, 1.808899998664856, 1.7598999738693237, 1.7401000261306763, 1.7906999588012695, 1.263800024986267, 0.39079999923706055, 0.4503999948501587, 0.18940000236034393, 0.3481000065803528, 0.22709999978542328, 1.9611999988555908, 1.960800051689148, 1.9278000593185425, 1.559000015258789, 1.5407999753952026, 1.4714000225067139, 0.5317999720573425, 0.32359999418258667, 0.36959999799728394, 0.28139999508857727, 0.3862000107765198, 0.037700001150369644, 0.18400000035762787, 0.05660000070929527, 2.0940001010894775, 2.0362000465393066, 1.8982000350952148, 1.881100058555603, 1.8249000310897827, 1.5654000043869019, 0.5109999775886536, 0.5582000017166138, 0.4165000021457672, 0.3564999997615814, 0.0925000011920929, 2.230600118637085, 2.0320000648498535, 2.0306999683380127, 1.9318000078201294, 1.923799991607666, 1.8716000318527222, 1.6145999431610107, 1.3801000118255615, 0.5674999952316284, 0.3637999892234802, 0.3391000032424927, 0.2671999931335449, 0.3019999861717224, 0.23420000076293945, -0.012199999764561653, -0.05820000171661377, 2.399199962615967, 2.1217000484466553, 2.043800115585327, 2.0422000885009766, 2.039900064468384, 0.8603000044822693, 0.6459000110626221, 0.557200014591217, 0.326200008392334, 0.23190000653266907, -0.22550000250339508, 2.1463000774383545, 2.106800079345703, 2.095599889755249, 1.88100004196167, 1.7697999477386475, 1.7544000148773193, 1.7381999492645264, 1.0891000032424927, 1.0331000089645386, 0.3181000053882599, 0.2345999926328659, 0.024000000208616257, 0.2581999897956848, 0.10379999876022339, 1.6721999645233154, 1.6698999404907227, 1.6691999435424805, 1.6368000507354736, 1.6342999935150146, 1.604599952697754, 1.436400055885315, 1.163599967956543, 0.5224000215530396, 0.4147999882698059, 0.14650000631809235, 0.42969998717308044, 0.3955000042915344, 0.2653999924659729, 0.14139999449253082, -0.15850000083446503, 2.0866000652313232, 2.005000114440918, 1.8307000398635864, 1.829300045967102, 1.684499979019165, 1.6593999862670898, 1.5881999731063843, 0.49630001187324524, 0.4081000089645386, 0.3398999869823456, 0.4699000120162964, 0.3273000121116638, -0.0031999999191612005, 1.9122999906539917, 1.8000999689102173, 1.760699987411499, 1.6699999570846558, 1.5532000064849854, 1.357699990272522, 0.875, 0.18930000066757202, 0.35749998688697815, 0.25290000438690186, 0.16680000722408295, 0.004900000058114529, 0.12809999287128448, 0.005900000222027302, -0.3711000084877014, 2.5169999599456787, 2.1984000205993652, 2.044800043106079, 2.03410005569458, 2.0329999923706055, 2.018399953842163, 1.9330999851226807, 0.5925999879837036, 0.41760000586509705, 0.10249999910593033, 0.22930000722408295, 0.1949000060558319, 0.08659999817609787, 2.287400007247925, 2.221299886703491, 2.0938000679016113, 1.9101999998092651, 1.8827999830245972, 1.805899977684021, 0.5820000171661377, 0.7727000117301941, 0.6319000124931335, 0.2833000123500824, 0.299699991941452, 0.3984000086784363, 0.15109999477863312, 0.2152000069618225, 0.06849999725818634, 2.0071001052856445, 1.9606000185012817, 1.9531999826431274, 1.9437999725341797, 1.9417999982833862, 1.5113999843597412, 1.3666000366210938, 1.5479999780654907, 0.3846000134944916, 0.4041999876499176, 0.15850000083446503, 0.4383000135421753, 0.36489999294281006, 0.2865999937057495, 0.2134000062942505, -0.09059999883174896, 1.826799988746643, 1.820099949836731, 1.8148000240325928, 1.7893999814987183, 1.7587000131607056, 1.4219000339508057, 1.1526000499725342, 1.1619999408721924, 0.607200026512146, 0.2549999952316284, 0.3621000051498413, 0.6456000208854675, 0.357699990272522, 0.4323999881744385, 0.2678000032901764, 0.007300000172108412, 0.11249999701976776, 0.13619999587535858], \"logprob\": [5.0, 4.0, 3.0, 2.0, 1.0, -10.533499717712402, -10.533499717712402, -10.554800033569336, -10.257100105285645, -10.630000114440918, -7.411499977111816, -4.70389986038208, -5.042900085449219, -5.525599956512451, -5.017199993133545, -5.769899845123291, -5.250500202178955, -5.0808000564575195, -5.201499938964844, -5.156499862670898, -9.902899742126465, -9.92609977722168, -9.962300300598145, -9.665599822998047, -10.547499656677246, -4.446800231933594, -4.770199775695801, -5.058800220489502, -5.000100135803223, -5.104700088500977, -5.037799835205078, -6.830699920654297, -10.571599960327148, -10.572799682617188, -9.194299697875977, -10.588500022888184, -8.880900382995605, -9.611700057983398, -4.86329984664917, -5.144400119781494, -5.23960018157959, -5.166600227355957, -5.187300205230713, -5.0278000831604, -8.627900123596191, -8.583800315856934, -10.51710033416748, -10.544599533081055, -10.592700004577637, -8.837200164794922, -9.088899612426758, -10.079500198364258, -7.938899993896484, -4.634799957275391, -4.990699768066406, -4.611199855804443, -5.040900230407715, -5.021100044250488, -10.465299606323242, -10.465299606323242, -10.50510025024414, -9.550399780273438, -10.787599563598633, -9.868599891662598, -5.452899932861328, -5.175000190734863, -5.362400054931641, -5.139800071716309, -5.511499881744385, -4.762899875640869, -5.193299770355225, -5.18720006942749, -8.185500144958496, -9.707099914550781, -10.00629997253418, -9.962599754333496, -10.20460033416748, -8.73449993133545, -4.862299919128418, -5.251399993896484, -5.0046000480651855, -5.150700092315674, -4.708199977874756, -8.58530044555664, -10.449299812316895, -10.450599670410156, -9.89050006866455, -10.011899948120117, -9.307900428771973, -7.701000213623047, -7.986999988555908, -5.588799953460693, -5.096799850463867, -5.045400142669678, -5.021200180053711, -5.139100074768066, -5.110799789428711, -4.812900066375732, -5.083799839019775, -8.761799812316895, -9.458700180053711, -9.313799858093262, -9.840800285339355, -8.269100189208984, -4.383600234985352, -4.93179988861084, -5.400300025939941, -5.17579984664917, -5.212200164794922, -5.026100158691406, -8.831199645996094, -10.378000259399414, -10.38759994506836, -7.325900077819824, -10.760600090026855, -8.610300064086914, -8.355899810791016, -5.949100017547607, -6.039999961853027, -5.059199810028076, -5.110300064086914, -4.776700019836426, -5.242300033569336, -5.184599876403809, -10.654800415039062, -10.673199653625488, -10.677399635314941, -10.710200309753418, -10.309599876403809, -9.815600395202637, -7.730999946594238, -8.029399871826172, -5.284900188446045, -5.045899868011475, -4.654099941253662, -5.785299777984619, -5.701399803161621, -5.385799884796143, -5.102499961853027, -5.184000015258789, -10.3503999710083, -8.253299713134766, -8.980299949645996, -9.818599700927734, -9.938300132751465, -9.725099563598633, -9.184399604797363, -5.081500053405762, -5.099100112915039, -4.9039998054504395, -5.429699897766113, -5.07480001449585, -4.803899765014648, -9.382599830627441, -9.467300415039062, -9.824000358581543, -10.887200355529785, -10.181500434875488, -9.089300155639648, -7.539999961853027, -5.155600070953369, -5.7393999099731445, -5.433499813079834, -5.258699893951416, -5.020699977874756, -5.372399806976318, -5.23799991607666, -5.1717000007629395, -7.326700210571289, -9.573699951171875, -8.116000175476074, -10.482799530029297, -7.756400108337402, -10.014900207519531, -8.513999938964844, -4.90939998626709, -5.181300163269043, -4.922999858856201, -5.2778000831604, -5.249199867248535, -5.161600112915039, -9.894700050354004, -10.343099594116211, -10.468600273132324, -10.100700378417969, -10.598799705505371, -10.126500129699707, -4.218599796295166, -5.851099967956543, -5.58489990234375, -5.1057000160217285, -5.160999774932861, -5.46619987487793, -5.270100116729736, -5.341800212860107, -5.276400089263916, -8.142200469970703, -8.85569953918457, -9.752400398254395, -9.829700469970703, -9.44909954071045, -6.899899959564209, -7.242199897766113, -8.241399765014648, -4.988699913024902, -5.09630012512207, -4.642099857330322, -5.2480998039245605, -5.317800045013428, -5.2153000831604, -5.175600051879883, -5.116199970245361, -9.887999534606934, -8.785499572753906, -9.886899948120117, -10.03279972076416, -8.728500366210938, -7.252099990844727, -7.076000213623047, -7.389200210571289, -5.607900142669678, -4.545599937438965, -5.138400077819824, -5.864999771118164, -5.374300003051758, -5.538300037384033, -5.317599773406982, -5.0183000564575195, -5.232500076293945, -5.284999847412109]}, \"token.table\": {\"Topic\": [1, 2, 3, 4, 5, 6, 7, 8, 9, 10, 11, 12, 13, 14, 15, 16, 1, 2, 3, 4, 5, 6, 7, 8, 9, 10, 11, 12, 13, 14, 15, 16, 1, 2, 3, 4, 5, 6, 7, 8, 9, 10, 11, 12, 13, 14, 15, 16, 1, 2, 3, 4, 5, 6, 7, 8, 9, 10, 11, 12, 13, 14, 15, 16, 1, 2, 3, 4, 5, 6, 7, 8, 9, 10, 11, 12, 13, 14, 15, 16, 1, 2, 3, 4, 5, 6, 7, 8, 9, 10, 11, 12, 13, 14, 15, 16, 8, 10, 2, 8, 1, 2, 3, 4, 5, 6, 7, 8, 9, 10, 11, 12, 13, 14, 15, 16, 2, 1, 2, 3, 4, 5, 6, 7, 8, 9, 10, 11, 12, 13, 14, 15, 16, 1, 2, 4, 8, 11, 12, 13, 1, 2, 3, 4, 5, 6, 7, 8, 9, 10, 11, 12, 13, 14, 15, 16, 1, 2, 3, 4, 5, 8, 9, 10, 13, 15, 1, 2, 3, 4, 5, 6, 7, 8, 9, 10, 11, 12, 13, 14, 15, 16, 1, 3, 4, 5, 6, 7, 8, 9, 11, 16, 1, 3, 4, 7, 9, 10, 12, 10, 1, 2, 3, 4, 5, 6, 7, 8, 9, 10, 11, 12, 13, 14, 15, 16, 1, 2, 3, 4, 5, 6, 7, 8, 9, 10, 11, 12, 13, 14, 15, 16, 7, 1, 2, 3, 4, 5, 6, 7, 8, 9, 10, 11, 12, 13, 14, 15, 16, 11, 5, 1, 2, 3, 4, 5, 6, 7, 8, 9, 10, 11, 12, 13, 14, 15, 16, 2, 1, 2, 3, 4, 5, 6, 7, 8, 9, 10, 11, 12, 13, 14, 15, 16, 1, 2, 3, 4, 5, 6, 7, 8, 9, 10, 11, 12, 13, 14, 15, 16, 2, 4, 8, 1, 2, 3, 4, 5, 6, 7, 8, 9, 10, 11, 12, 13, 14, 15, 16, 1, 1, 2, 3, 4, 5, 6, 7, 8, 9, 10, 11, 12, 13, 14, 15, 16, 10, 1, 2, 3, 5, 6, 10, 11, 1, 2, 3, 4, 5, 6, 7, 8, 9, 10, 11, 12, 13, 14, 15, 16, 7, 1, 2, 3, 4, 5, 6, 7, 8, 9, 10, 11, 12, 13, 14, 15, 16, 6, 1, 4, 7, 5, 5, 3, 5, 6, 12, 15, 1, 2, 3, 4, 5, 6, 7, 8, 9, 10, 11, 12, 13, 14, 15, 16, 6, 8, 10, 12, 13, 2, 5, 12, 1, 2, 3, 4, 5, 6, 7, 8, 9, 10, 11, 12, 13, 14, 15, 1, 2, 3, 4, 5, 6, 8, 9, 11, 12, 13, 14, 15, 16, 1, 2, 3, 4, 5, 6, 7, 8, 10, 11, 13, 14, 2, 5, 6, 12, 7, 1, 2, 3, 4, 5, 6, 8, 9, 10, 11, 12, 13, 14, 16, 1, 2, 3, 4, 5, 6, 7, 8, 9, 10, 11, 12, 13, 14, 15, 16, 3, 5, 1, 2, 3, 4, 8, 9, 12, 16, 1, 2, 3, 4, 5, 6, 7, 8, 9, 10, 11, 12, 13, 14, 15, 16, 1, 2, 3, 4, 5, 6, 7, 8, 9, 10, 11, 12, 13, 14, 1, 2, 3, 4, 5, 6, 7, 8, 9, 10, 11, 12, 13, 14, 15, 16, 1, 2, 3, 4, 5, 6, 7, 8, 9, 10, 11, 12, 13, 14, 15, 16, 1, 2, 3, 4, 5, 6, 7, 8, 9, 10, 11, 12, 13, 14, 15, 16, 11, 1, 2, 3, 4, 5, 6, 7, 8, 9, 10, 11, 12, 13, 14, 15, 16, 10, 1, 2, 3, 4, 5, 6, 7, 8, 9, 10, 11, 12, 13, 14, 15, 16, 1, 2, 3, 4, 5, 6, 7, 8, 9, 10, 11, 12, 13, 14, 15, 16, 1, 2, 3, 4, 5, 6, 7, 8, 9, 10, 11, 12, 13, 14, 15, 16, 10, 1, 1, 2, 3, 4, 6, 2, 1, 2, 3, 4, 5, 6, 7, 8, 9, 10, 11, 12, 13, 14, 15, 16, 1, 2, 3, 4, 5, 6, 7, 8, 9, 10, 11, 12, 14, 1, 2, 4, 5, 8, 9, 10, 12, 13, 1, 4, 7, 12, 1, 2, 3, 4, 5, 6, 7, 8, 9, 10, 11, 12, 13, 14, 15, 16, 1, 2, 3, 4, 5, 6, 7, 8, 9, 10, 11, 12, 13, 14, 15, 16, 4, 1, 2, 3, 4, 5, 6, 7, 8, 9, 10, 11, 12, 13, 14, 15, 16, 1, 2, 3, 4, 5, 6, 7, 8, 9, 10, 11, 12, 13, 14, 15, 16, 1, 2, 3, 4, 5, 6, 7, 11, 12, 13, 1, 10, 1, 2, 3, 4, 5, 6, 7, 8, 9, 10, 11, 12, 13, 14, 15, 16, 9, 2, 3, 1, 2, 3, 4, 5, 6, 7, 8, 9, 10, 11, 12, 13, 14, 15, 16, 1, 2, 3, 4, 5, 6, 7, 8, 9, 10, 11, 12, 13, 14, 15, 16, 11, 2, 1, 2, 3, 4, 5, 6, 7, 8, 9, 10, 11, 12, 13, 14, 15, 16, 1, 2, 3, 4, 5, 6, 7, 8, 9, 10, 11, 12, 13, 14, 15, 16, 1, 4, 10, 1, 2, 3, 4, 5, 6, 7, 9, 11, 13, 1, 2, 3, 4, 5, 6, 7, 8, 9, 10, 11, 12, 13, 14, 8, 2, 4, 6, 9, 1, 2, 3, 4, 5, 6, 7, 8, 9, 10, 11, 12, 13, 14, 15, 16, 10, 5, 8, 2, 1, 2, 3, 4, 5, 6, 7, 8, 9, 10, 11, 12, 13, 14, 15, 16, 2, 3, 7, 1, 2, 3, 4, 5, 6, 7, 8, 9, 10, 11, 12, 13, 14, 15, 16, 1, 2, 3, 4, 5, 6, 7, 8, 9, 10, 11, 12, 13, 14, 15, 16, 3, 4, 1, 13, 3, 3, 1, 2, 3, 4, 5, 6, 7, 8, 9, 10, 11, 12, 13, 14, 15, 16, 6, 1, 2, 3, 4, 5, 6, 7, 8, 9, 10, 11, 12, 13, 14, 15, 16, 1, 2, 3, 4, 5, 6, 7, 8, 9, 10, 11, 12, 13, 14, 15, 16, 5, 8, 1, 2, 3, 4, 5, 6, 7, 8, 9, 10, 11, 12, 13, 14, 15, 16, 1, 2, 3, 6, 10, 11, 1, 10, 7, 1, 2, 3, 4, 5, 6, 7, 8, 9, 10, 12, 16, 1, 9, 1, 2, 3, 4, 5, 6, 7, 8, 9, 10, 11, 12, 13, 14, 15, 16, 5, 2, 3, 9, 10, 1, 7, 1, 2, 3, 4, 5, 6, 7, 8, 9, 10, 11, 12, 13, 14, 15, 16, 1, 2, 3, 4, 5, 6, 7, 8, 9, 10, 11, 12, 13, 14, 15, 1, 2, 3, 4, 5, 6, 7, 8, 9, 10, 11, 12, 13, 14, 15, 16, 1, 3, 4, 6, 11, 4, 1, 2, 3, 4, 5, 6, 7, 8, 9, 10, 11, 12, 13, 14, 15, 5, 3, 1, 2, 3, 4, 5, 6, 7, 8, 9, 10, 11, 12, 13, 14, 15, 16, 1, 2, 4, 5, 8, 9, 1, 2, 3, 4, 5, 6, 7, 8, 9, 10, 11, 12, 13, 14, 15, 16, 1, 2, 3, 4, 5, 6, 7, 8, 9, 10, 11, 12, 13, 14, 15, 16, 3, 6, 11, 1, 1, 13, 4, 5, 11, 16, 6, 1, 2, 3, 6, 11, 13, 15, 1, 4, 10], \"Freq\": [0.12277207523584366, 0.16403155028820038, 0.13484801352024078, 0.07547463476657867, 0.09056956321001053, 0.0684303343296051, 0.04880693182349205, 0.03119618259370327, 0.07698412984609604, 0.05081959068775177, 0.04176263138651848, 0.027674034237861633, 0.025661377236247063, 0.02062973380088806, 0.011572777293622494, 0.009056956507265568, 0.24756519496440887, 0.11426085978746414, 0.13330432772636414, 0.06497186422348022, 0.0694526806473732, 0.0515294075012207, 0.045928385108709335, 0.04144756495952606, 0.04816879332065582, 0.04032736271619797, 0.05376981571316719, 0.03136572614312172, 0.017923271283507347, 0.017923271283507347, 0.012322249822318554, 0.011202044785022736, 0.17216655611991882, 0.11263232678174973, 0.10405081510543823, 0.12335921078920364, 0.07616090774536133, 0.06543401628732681, 0.07830628007650375, 0.030571630224585533, 0.05041637271642685, 0.0461256206035614, 0.03968948498368263, 0.03486238792538643, 0.026280876249074936, 0.015553987585008144, 0.01287226565182209, 0.010726887732744217, 0.21047520637512207, 0.11063440144062042, 0.1720230132341385, 0.0782536044716835, 0.05194420367479324, 0.039801400154829025, 0.07285680621862411, 0.03912680223584175, 0.031706202775239944, 0.024960201233625412, 0.062063202261924744, 0.03912680223584175, 0.0290078017860651, 0.012142800725996494, 0.013492000289261341, 0.011468200013041496, 0.2272476851940155, 0.1539762318134308, 0.09096986800432205, 0.11610162258148193, 0.0569889061152935, 0.02867143601179123, 0.05451112613081932, 0.03929048776626587, 0.03999842330813408, 0.04566191881895065, 0.04070635885000229, 0.03468889743089676, 0.03150318190455437, 0.013804765418171883, 0.013450797647237778, 0.012742860242724419, 0.17793217301368713, 0.11396962404251099, 0.09187347441911697, 0.07442913949489594, 0.07559210062026978, 0.045355260372161865, 0.05582185834646225, 0.05698481202125549, 0.03954048082232475, 0.08256983011960983, 0.05117003619670868, 0.04302934929728508, 0.02093319594860077, 0.031399793922901154, 0.016281375661492348, 0.023259107023477554, 0.6540498733520508, 0.1635124683380127, 0.6397095918655396, 0.21323652565479279, 0.2111414223909378, 0.11666844040155411, 0.09105829894542694, 0.04040712118148804, 0.058618780225515366, 0.06886284053325653, 0.07170841097831726, 0.03869977593421936, 0.07227752357721329, 0.057480551302433014, 0.051789406687021255, 0.039268892258405685, 0.025610147044062614, 0.015366087667644024, 0.02219546027481556, 0.01821165904402733, 0.28187739849090576, 0.1703283190727234, 0.12205345183610916, 0.10747990757226944, 0.08470874279737473, 0.05647249147295952, 0.0701351910829544, 0.06831350177526474, 0.05647249147295952, 0.055561646819114685, 0.03187963366508484, 0.051918260753154755, 0.033701326698064804, 0.0364338681101799, 0.01821693405508995, 0.01730608567595482, 0.020038627088069916, 0.08007057011127472, 0.16014114022254944, 0.16014114022254944, 0.08007057011127472, 0.08007057011127472, 0.16014114022254944, 0.16014114022254944, 0.19458258152008057, 0.1123272180557251, 0.11498061567544937, 0.09861798584461212, 0.07119953632354736, 0.05262574180960655, 0.05572137609124184, 0.05351020768284798, 0.04864564538002014, 0.03891651704907417, 0.05704807490110397, 0.026533987373113632, 0.030956318601965904, 0.020784957334399223, 0.013266993686556816, 0.010171362198889256, 0.24889425933361053, 0.08296475559473038, 0.04148237779736519, 0.04148237779736519, 0.12444712966680527, 0.04148237779736519, 0.08296475559473038, 0.04148237779736519, 0.20741188526153564, 0.08296475559473038, 0.1720430701971054, 0.07471193373203278, 0.11857948452234268, 0.07745365053415298, 0.07471193373203278, 0.06922848522663116, 0.0411258339881897, 0.06374504417181015, 0.044552985578775406, 0.05963245779275894, 0.06580132991075516, 0.044552985578775406, 0.03427152708172798, 0.026731790974736214, 0.022619208320975304, 0.010281458497047424, 0.08335036039352417, 0.08335036039352417, 0.16670072078704834, 0.08335036039352417, 0.08335036039352417, 0.08335036039352417, 0.08335036039352417, 0.16670072078704834, 0.08335036039352417, 0.08335036039352417, 0.25827887654304504, 0.12913943827152252, 0.12913943827152252, 0.2841067612171173, 0.025827888399362564, 0.10331155359745026, 0.0774836614727974, 0.5332656502723694, 0.1774078905582428, 0.14984451234340668, 0.08720048516988754, 0.07717744261026382, 0.07667628675699234, 0.10524196177721024, 0.05612904950976372, 0.02806452475488186, 0.054124440997838974, 0.04109448194503784, 0.03508065640926361, 0.027563372626900673, 0.031071437522768974, 0.01954493671655655, 0.021549545228481293, 0.012528805062174797, 0.1993810534477234, 0.1255362182855606, 0.08406950533390045, 0.07782109826803207, 0.10395080596208572, 0.06134801730513573, 0.05680371820926666, 0.05566764622926712, 0.041466712951660156, 0.05453157052397728, 0.04714708775281906, 0.02783382311463356, 0.025561673566699028, 0.01817719079554081, 0.00965663231909275, 0.010792706161737442, 0.6122303605079651, 0.14420180022716522, 0.10430406779050827, 0.11570341885089874, 0.06725617498159409, 0.08549513667821884, 0.06326640397310257, 0.059276629239320755, 0.07922549545764923, 0.04901721328496933, 0.037047892808914185, 0.05357695370912552, 0.03761786222457886, 0.051297083497047424, 0.018238963559269905, 0.019378898665308952, 0.014819157309830189, 0.5857039093971252, 0.5833315253257751, 0.13824772834777832, 0.1274891495704651, 0.1317925751209259, 0.08714447915554047, 0.07154454290866852, 0.07531004399061203, 0.05164117366075516, 0.07208246737718582, 0.04518602415919304, 0.05002738535404205, 0.04249638319015503, 0.0322757326066494, 0.034427449107170105, 0.017751652747392654, 0.010758577845990658, 0.011834435164928436, 0.472129225730896, 0.20350436866283417, 0.09560608118772507, 0.12360499799251556, 0.08672837167978287, 0.07443615794181824, 0.05394914373755455, 0.05394914373755455, 0.05190044268965721, 0.06419265270233154, 0.05394914373755455, 0.0355108305811882, 0.03755953162908554, 0.019121216610074043, 0.014340911991894245, 0.021169917657971382, 0.009560608305037022, 0.14731290936470032, 0.15329749882221222, 0.1707909107208252, 0.07687892764806747, 0.07411681115627289, 0.034526463598012924, 0.07549786567687988, 0.02808152325451374, 0.062147632241249084, 0.04465422406792641, 0.04649563878774643, 0.029462581500411034, 0.020255524665117264, 0.012429527007043362, 0.012889879755675793, 0.011048467829823494, 0.0930381566286087, 0.4651907682418823, 0.2791144549846649, 0.15678639709949493, 0.08853819966316223, 0.1364963948726654, 0.06087001413106918, 0.0596403144299984, 0.03750576451420784, 0.053491830825805664, 0.10882820188999176, 0.04488394781947136, 0.05041758716106415, 0.08361940830945969, 0.038120612502098083, 0.030742431059479713, 0.027053339406847954, 0.01045242603868246, 0.012911820784211159, 0.7837679982185364, 0.14310775697231293, 0.12197184562683105, 0.09158896654844284, 0.05680277198553085, 0.07970001548528671, 0.05195912718772888, 0.06076575815677643, 0.13518179953098297, 0.02950221486389637, 0.06164642050862312, 0.07133371382951736, 0.03478619456291199, 0.025539232417941093, 0.017172930762171745, 0.010567957535386086, 0.008366299793124199, 0.3577566146850586, 0.11088238656520844, 0.11088238656520844, 0.11088238656520844, 0.11088238656520844, 0.11088238656520844, 0.11088238656520844, 0.22176477313041687, 0.19241978228092194, 0.1803935468196869, 0.10823612660169601, 0.048104945570230484, 0.03607871010899544, 0.09620989114046097, 0.048104945570230484, 0.07215742021799088, 0.024052472785115242, 0.03607871010899544, 0.048104945570230484, 0.024052472785115242, 0.012026236392557621, 0.024052472785115242, 0.012026236392557621, 0.03607871010899544, 0.3548319935798645, 0.14891108870506287, 0.1330694854259491, 0.12250840663909912, 0.08079218119382858, 0.07128722220659256, 0.07445554435253143, 0.04752481356263161, 0.05702977627515793, 0.05227729678153992, 0.053861454129219055, 0.042772334069013596, 0.04066011682152748, 0.027458781376481056, 0.02112213894724846, 0.014257444068789482, 0.011617176234722137, 0.5853676199913025, 0.1665571928024292, 0.1665571928024292, 0.3331143856048584, 0.579380989074707, 0.52545166015625, 0.18692049384117126, 0.18692049384117126, 0.18692049384117126, 0.18692049384117126, 0.18692049384117126, 0.21580004692077637, 0.15920430421829224, 0.11043073236942291, 0.0773015096783638, 0.06119702756404877, 0.05153433978557587, 0.058436259627342224, 0.05061408504843712, 0.044172290712594986, 0.04509254917502403, 0.028067810460925102, 0.032208964228630066, 0.02070576138794422, 0.02162601798772812, 0.016104482114315033, 0.007362048607319593, 0.5417360663414001, 0.20315101742744446, 0.13543401658535004, 0.06771700829267502, 0.06771700829267502, 0.24979554116725922, 0.24979554116725922, 0.24979554116725922, 0.012739470228552818, 0.025478940457105637, 0.19109204411506653, 0.038218408823013306, 0.1656131148338318, 0.025478940457105637, 0.012739470228552818, 0.025478940457105637, 0.14013417065143585, 0.08917628973722458, 0.11465523391962051, 0.012739470228552818, 0.06369735300540924, 0.025478940457105637, 0.06369735300540924, 0.05944789573550224, 0.11889579147100449, 0.17834368348121643, 0.05944789573550224, 0.05944789573550224, 0.05944789573550224, 0.05944789573550224, 0.05944789573550224, 0.05944789573550224, 0.05944789573550224, 0.05944789573550224, 0.05944789573550224, 0.11889579147100449, 0.05944789573550224, 0.044539764523506165, 0.2895084619522095, 0.06680964678525925, 0.022269882261753082, 0.022269882261753082, 0.06680964678525925, 0.022269882261753082, 0.08907952904701233, 0.22269882261753082, 0.044539764523506165, 0.06680964678525925, 0.044539764523506165, 0.18186327815055847, 0.18186327815055847, 0.18186327815055847, 0.18186327815055847, 0.6123262643814087, 0.1087748110294342, 0.2175496220588684, 0.06798425316810608, 0.013596851378679276, 0.08158110827207565, 0.013596851378679276, 0.013596851378679276, 0.1631622165441513, 0.14956536889076233, 0.0543874055147171, 0.02719370275735855, 0.02719370275735855, 0.013596851378679276, 0.0543874055147171, 0.20004814863204956, 0.13128159940242767, 0.06095217168331146, 0.07501805573701859, 0.07189230620861053, 0.02656889520585537, 0.07345518469810486, 0.06251505017280579, 0.07970668375492096, 0.048449162393808365, 0.054700665175914764, 0.02969464845955372, 0.025006018579006195, 0.021880267187952995, 0.010940133593976498, 0.025006018579006195, 0.46586647629737854, 0.3105776607990265, 0.11252310127019882, 0.05626155063509941, 0.22504620254039764, 0.05626155063509941, 0.05626155063509941, 0.33756929636001587, 0.05626155063509941, 0.05626155063509941, 0.23309558629989624, 0.047678641974925995, 0.09005966037511826, 0.08476202934980392, 0.05827389657497406, 0.03443457558751106, 0.07416677474975586, 0.04502983018755913, 0.16687524318695068, 0.03443457558751106, 0.04502983018755913, 0.026488134637475014, 0.02913694828748703, 0.01059525366872549, 0.007946440018713474, 0.01059525366872549, 0.16150110960006714, 0.09228634834289551, 0.046143174171447754, 0.2768590450286865, 0.046143174171447754, 0.046143174171447754, 0.023071587085723877, 0.023071587085723877, 0.046143174171447754, 0.06921476125717163, 0.046143174171447754, 0.046143174171447754, 0.023071587085723877, 0.023071587085723877, 0.1792045384645462, 0.10438202321529388, 0.1053057610988617, 0.06096649169921875, 0.12839911878108978, 0.06096649169921875, 0.06281396001577377, 0.04711047187447548, 0.044339265674352646, 0.04526299983263016, 0.04156806319952011, 0.03325444832444191, 0.024940837174654007, 0.029559511691331863, 0.018474694341421127, 0.01293228566646576, 0.18965137004852295, 0.11429881304502487, 0.09990563243627548, 0.07873918116092682, 0.11091218143701553, 0.05503276363015175, 0.06265268474817276, 0.06095936894416809, 0.0440262109041214, 0.041486237198114395, 0.0440262109041214, 0.033866316080093384, 0.028786368668079376, 0.012699868530035019, 0.010159894824028015, 0.01100655272603035, 0.11550811678171158, 0.12075848132371902, 0.07525528967380524, 0.08575602620840073, 0.13125921785831451, 0.06650467216968536, 0.056003935635089874, 0.049003440886735916, 0.03850270435214043, 0.08400589972734451, 0.05425381287932396, 0.03675258159637451, 0.015751106664538383, 0.04725331813097, 0.012250860221683979, 0.012250860221683979, 0.266086608171463, 0.15354612469673157, 0.120461605489254, 0.12639985978603363, 0.06277576833963394, 0.097556933760643, 0.05683751776814461, 0.04496102035045624, 0.06277576833963394, 0.03987109661102295, 0.04835430532693863, 0.0814388319849968, 0.033932846039533615, 0.024601314216852188, 0.02375299297273159, 0.014421460218727589, 0.008483211509883404, 0.5350954532623291, 0.17286404967308044, 0.13568899035453796, 0.10594893246889114, 0.09045932441949844, 0.059480104595422745, 0.06009968742728233, 0.05204508826136589, 0.06133885681629181, 0.06381719559431076, 0.0514255054295063, 0.04275132343173027, 0.034696727991104126, 0.019826700910925865, 0.019207116216421127, 0.014250441454350948, 0.016728779301047325, 0.16204911470413208, 0.1077742949128151, 0.12173067778348923, 0.08528900891542435, 0.07055727392435074, 0.11087571084499359, 0.05892695114016533, 0.046521276235580444, 0.04884734004735947, 0.04264450445771217, 0.0418691486120224, 0.03954308480024338, 0.02481134794652462, 0.022485284134745598, 0.006202836986631155, 0.010079610161483288, 0.15811598300933838, 0.15760920941829681, 0.10895813256502151, 0.07246983051300049, 0.07804442942142487, 0.06233418732881546, 0.08108512312173843, 0.046623945236206055, 0.053718894720077515, 0.029393356293439865, 0.04459681734442711, 0.03598152473568916, 0.026352664455771446, 0.018244152888655663, 0.01723058894276619, 0.009628858417272568, 0.5247520208358765, 0.551668643951416, 0.20735378563404083, 0.13823585212230682, 0.06911792606115341, 0.06911792606115341, 0.27647170424461365, 0.5815300345420837, 0.18393133580684662, 0.10539885610342026, 0.08266577124595642, 0.07336586713790894, 0.09093234688043594, 0.06716594099998474, 0.07543251663446426, 0.038232918828725815, 0.04959946125745773, 0.07956580072641373, 0.03926623985171318, 0.04959946125745773, 0.02583305351436138, 0.013433187268674374, 0.014466509222984314, 0.011366543360054493, 0.10878021270036697, 0.10878021270036697, 0.027195053175091743, 0.08158516138792038, 0.08158516138792038, 0.05439010635018349, 0.21756042540073395, 0.08158516138792038, 0.027195053175091743, 0.05439010635018349, 0.05439010635018349, 0.08158516138792038, 0.027195053175091743, 0.08759303390979767, 0.08759303390979767, 0.08759303390979767, 0.043796516954898834, 0.043796516954898834, 0.043796516954898834, 0.1313895434141159, 0.08759303390979767, 0.3503721356391907, 0.3519273102283478, 0.46923643350601196, 0.11730910837650299, 0.29017847776412964, 0.18998967111110687, 0.13299277424812317, 0.06868857145309448, 0.06089412420988083, 0.07794447988271713, 0.05358682945370674, 0.07307294756174088, 0.056509748101234436, 0.07063718885183334, 0.03361355885863304, 0.06138128042221069, 0.041408006101846695, 0.029716333374381065, 0.02338334359228611, 0.011691671796143055, 0.014127437025308609, 0.11732439696788788, 0.13486823439598083, 0.08333321660757065, 0.0942981094121933, 0.05263150483369827, 0.07017534226179123, 0.10197354108095169, 0.0504385270178318, 0.0800437480211258, 0.06140342354774475, 0.039473630487918854, 0.037280648946762085, 0.026315752416849136, 0.024122772738337517, 0.012061386369168758, 0.013157876208424568, 0.5628776550292969, 0.1897953450679779, 0.10935576260089874, 0.11776774376630783, 0.06308986246585846, 0.0998922809958458, 0.09568629413843155, 0.047843147069215775, 0.037853918969631195, 0.036802418529987335, 0.05362638458609581, 0.04363715648651123, 0.028916187584400177, 0.024710197001695633, 0.025235945358872414, 0.011040725745260715, 0.014720967970788479, 0.23265235126018524, 0.07941743731498718, 0.0855264663696289, 0.11098077148199081, 0.06872662901878357, 0.054472215473651886, 0.04072688892483711, 0.06770845502614975, 0.05905399098992348, 0.0300360806286335, 0.05294495448470116, 0.03105425275862217, 0.02799973636865616, 0.02901790849864483, 0.018327100202441216, 0.011708980426192284, 0.1804368644952774, 0.06014562025666237, 0.12029124051332474, 0.06014562025666237, 0.06014562025666237, 0.06014562025666237, 0.06014562025666237, 0.06014562025666237, 0.06014562025666237, 0.24058248102664948, 0.4237831234931946, 0.2118915617465973, 0.37201741337776184, 0.05190940946340561, 0.12112195044755936, 0.06056097522377968, 0.025954704731702805, 0.04325783997774124, 0.06056097522377968, 0.025954704731702805, 0.025954704731702805, 0.08651567995548248, 0.04325783997774124, 0.008651567623019218, 0.008651567623019218, 0.034606270492076874, 0.008651567623019218, 0.008651567623019218, 0.6431116461753845, 0.20578384399414062, 0.20578384399414062, 0.19907431304454803, 0.1086430773139, 0.08101131021976471, 0.1011071428656578, 0.07410337030887604, 0.06405545771121979, 0.032027728855609894, 0.05840350314974785, 0.05086756870150566, 0.06154347583651543, 0.048983581364154816, 0.03830767422914505, 0.043331630527973175, 0.015071871690452099, 0.013187888078391552, 0.010675908997654915, 0.14030790328979492, 0.10265173763036728, 0.13618119060993195, 0.07221730053424835, 0.07221730053424835, 0.054162975400686264, 0.0711856260895729, 0.06293222308158875, 0.04487789422273636, 0.054162975400686264, 0.07066978514194489, 0.03559281304478645, 0.029918596148490906, 0.02269686572253704, 0.01650681160390377, 0.014443459920585155, 0.2594735324382782, 0.8727931976318359, 0.14724893867969513, 0.10828813165426254, 0.14381122589111328, 0.06588960438966751, 0.0853700116276741, 0.09052658826112747, 0.04182557389140129, 0.03724195063114166, 0.05271168425679207, 0.038387857377529144, 0.07620275765657425, 0.03609604388475418, 0.03552309051156044, 0.01833449862897396, 0.012604967691004276, 0.00916724931448698, 0.11532717198133469, 0.1698814481496811, 0.08903936296701431, 0.0949753150343895, 0.07829810678958893, 0.06925283372402191, 0.057098258286714554, 0.04579167068004608, 0.05738092213869095, 0.06190355494618416, 0.050596971064805984, 0.023743828758597374, 0.014133231714367867, 0.03900771960616112, 0.017242543399333954, 0.01639454811811447, 0.11290784180164337, 0.6774470210075378, 0.11290784180164337, 0.30120760202407837, 0.02316981740295887, 0.02316981740295887, 0.04633963480591774, 0.02316981740295887, 0.02316981740295887, 0.1158490851521492, 0.3707170784473419, 0.02316981740295887, 0.02316981740295887, 0.03884252905845642, 0.025895018130540848, 0.6732704639434814, 0.025895018130540848, 0.03884252905845642, 0.025895018130540848, 0.025895018130540848, 0.012947509065270424, 0.025895018130540848, 0.025895018130540848, 0.025895018130540848, 0.012947509065270424, 0.012947509065270424, 0.03884252905845642, 0.3365956246852875, 0.33230826258659363, 0.33230826258659363, 0.38967880606651306, 0.6134729981422424, 0.19512975215911865, 0.12225722521543503, 0.13731352984905243, 0.06805451214313507, 0.06685000658035278, 0.06925901770591736, 0.044566672295331955, 0.04095315933227539, 0.04697568342089653, 0.042759913951158524, 0.06383875012397766, 0.02589685097336769, 0.02890811115503311, 0.02710135467350483, 0.010840541683137417, 0.009636037051677704, 0.535304069519043, 0.24870748817920685, 0.4974149763584137, 0.8685057163238525, 0.18101541697978973, 0.09050770848989487, 0.06308113038539886, 0.10696365684270859, 0.057595815509557724, 0.060338471084833145, 0.03565455228090286, 0.046625182032585144, 0.15633149445056915, 0.060338471084833145, 0.03565455228090286, 0.03291189298033714, 0.038397207856178284, 0.019198603928089142, 0.013713289052248001, 0.008227973245084286, 0.12036354094743729, 0.6018177270889282, 0.12036354094743729, 0.11334949731826782, 0.09397964924573898, 0.1499369889497757, 0.07532719522714615, 0.10904508829116821, 0.0523703396320343, 0.0495007298886776, 0.06097916141152382, 0.07532719522714615, 0.0530877411365509, 0.0530877411365509, 0.037304896861314774, 0.022239457815885544, 0.019369851797819138, 0.015065439976751804, 0.018652448430657387, 0.1492244154214859, 0.11596355587244034, 0.1114688441157341, 0.07011749595403671, 0.0907931700348854, 0.06562278419733047, 0.04494711384177208, 0.09978259354829788, 0.039553459733724594, 0.04135134443640709, 0.05843124911189079, 0.02606932632625103, 0.031462978571653366, 0.02247355692088604, 0.01887778751552105, 0.012585191987454891, 0.3016945421695709, 0.5653274655342102, 0.3012581169605255, 0.3012581169605255, 0.4863729178905487, 0.48690518736839294, 0.1469329446554184, 0.10495209693908691, 0.06297125667333603, 0.11544730514287949, 0.11544730514287949, 0.041980840265750885, 0.041980840265750885, 0.041980840265750885, 0.031485628336668015, 0.11544730514287949, 0.041980840265750885, 0.08396168053150177, 0.010495210066437721, 0.020990420132875443, 0.010495210066437721, 0.010495210066437721, 0.3236331343650818, 0.17602096498012543, 0.11845020204782486, 0.12175886332988739, 0.05690903589129448, 0.06683503091335297, 0.06617330014705658, 0.05690903589129448, 0.04896824061870575, 0.060879431664943695, 0.06948196142911911, 0.05227690562605858, 0.027792785316705704, 0.021175455302000046, 0.02845451794564724, 0.013896392658352852, 0.013896392658352852, 0.2448771893978119, 0.05818004161119461, 0.1137550100684166, 0.05991676077246666, 0.07381050288677216, 0.05296988785266876, 0.04341794177889824, 0.04168122261762619, 0.07467886060476303, 0.05644332617521286, 0.06165347620844841, 0.037339430302381516, 0.03647107258439064, 0.02170897088944912, 0.013025382533669472, 0.011288665235042572, 0.19902552664279938, 0.39805105328559875, 0.16710355877876282, 0.11959372460842133, 0.09665794670581818, 0.08191351592540741, 0.09010486304759979, 0.05897773057222366, 0.042595025151968, 0.05652032420039177, 0.07208389043807983, 0.06716907769441605, 0.027850594371557236, 0.03030799888074398, 0.03112713433802128, 0.032765403389930725, 0.01720183715224266, 0.00901048630475998, 0.20781654119491577, 0.06927218288183212, 0.48490527272224426, 0.06927218288183212, 0.06927218288183212, 0.06927218288183212, 0.5711917877197266, 0.2855958938598633, 0.3167456090450287, 0.09382864087820053, 0.09382864087820053, 0.09382864087820053, 0.09382864087820053, 0.09382864087820053, 0.09382864087820053, 0.09382864087820053, 0.09382864087820053, 0.09382864087820053, 0.09382864087820053, 0.09382864087820053, 0.09382864087820053, 0.40828263759613037, 0.5443768501281738, 0.1456145942211151, 0.14328476786613464, 0.10134775936603546, 0.08387400954961777, 0.0780494213104248, 0.05591600388288498, 0.09086351096630096, 0.050091423094272614, 0.05941075459122658, 0.04892650619149208, 0.023298336192965508, 0.030287835747003555, 0.01980358548462391, 0.04077208787202835, 0.013979000970721245, 0.015143917873501778, 0.3911096453666687, 0.2949739694595337, 0.07374349236488342, 0.2949739694595337, 0.14748698472976685, 0.23157666623592377, 0.5789416432380676, 0.13072407245635986, 0.13691218197345734, 0.11215969920158386, 0.07812503725290298, 0.08431315422058105, 0.05491957813501358, 0.055693093687295914, 0.053372547030448914, 0.047184426337480545, 0.08972775936126709, 0.05646660923957825, 0.036355212330818176, 0.02629951573908329, 0.013149757869541645, 0.016243819147348404, 0.01005569752305746, 0.04182777181267738, 0.03137082979083061, 0.16731108725070953, 0.04182777181267738, 0.12548331916332245, 0.05228471755981445, 0.02091388590633869, 0.02091388590633869, 0.1777680367231369, 0.09411248564720154, 0.08365554362535477, 0.010456942953169346, 0.04182777181267738, 0.03137082979083061, 0.06274165958166122, 0.1977662891149521, 0.09422373026609421, 0.14185330271720886, 0.09111744910478592, 0.07558606564998627, 0.053324420005083084, 0.05850154533982277, 0.044005587697029114, 0.05177127942442894, 0.0481472909450531, 0.0491827167570591, 0.02588563971221447, 0.026921065524220467, 0.015531384386122227, 0.017084522172808647, 0.00983654335141182, 0.11522290110588074, 0.11522290110588074, 0.11522290110588074, 0.11522290110588074, 0.3456687033176422, 0.5639302134513855, 0.09139695763587952, 0.15994468331336975, 0.1142461970448494, 0.04569847881793976, 0.1142461970448494, 0.02284923940896988, 0.06854771822690964, 0.02284923940896988, 0.04569847881793976, 0.15994468331336975, 0.04569847881793976, 0.02284923940896988, 0.02284923940896988, 0.02284923940896988, 0.02284923940896988, 0.5796435475349426, 0.46165111660957336, 0.18234284222126007, 0.10463297367095947, 0.1713288426399231, 0.06791964918375015, 0.07526231557130814, 0.05017487704753876, 0.061188872903585434, 0.05017487704753876, 0.053234320133924484, 0.04344410076737404, 0.0458916537463665, 0.028146881610155106, 0.01835666224360466, 0.01958043873310089, 0.017744773998856544, 0.011013996787369251, 0.0697481632232666, 0.0697481632232666, 0.0697481632232666, 0.2092444896697998, 0.4184889793395996, 0.6144335865974426, 0.15678703784942627, 0.1916286051273346, 0.11323508620262146, 0.08710391074419022, 0.03484156355261803, 0.05226234719157219, 0.06097273901104927, 0.07839351892471313, 0.026131173595786095, 0.03484156355261803, 0.03484156355261803, 0.03484156355261803, 0.008710390888154507, 0.04355195537209511, 0.008710390888154507, 0.04355195537209511, 0.15095055103302002, 0.09461755305528641, 0.1383713334798813, 0.10172754526138306, 0.08203834295272827, 0.048676084727048874, 0.08313218504190445, 0.026252269744873047, 0.030080726370215416, 0.0809445008635521, 0.062349140644073486, 0.024064579978585243, 0.027893036603927612, 0.029533803462982178, 0.011485368013381958, 0.008203834295272827, 0.20446161925792694, 0.20446161925792694, 0.20446161925792694, 0.7837679982185364, 0.39120718836784363, 0.39120718836784363, 0.19889789819717407, 0.26519718766212463, 0.39779579639434814, 0.06629929691553116, 0.3439079523086548, 0.1158369854092598, 0.1158369854092598, 0.2316739708185196, 0.1158369854092598, 0.1158369854092598, 0.1158369854092598, 0.1158369854092598, 0.10181216150522232, 0.6108729839324951, 0.10181216150522232], \"Term\": [\"activity\", \"activity\", \"activity\", \"activity\", \"activity\", \"activity\", \"activity\", \"activity\", \"activity\", \"activity\", \"activity\", \"activity\", \"activity\", \"activity\", \"activity\", \"activity\", \"additional\", \"additional\", \"additional\", \"additional\", \"additional\", \"additional\", \"additional\", \"additional\", \"additional\", \"additional\", \"additional\", \"additional\", \"additional\", \"additional\", \"additional\", \"additional\", \"advertisement\", \"advertisement\", \"advertisement\", \"advertisement\", \"advertisement\", \"advertisement\", \"advertisement\", \"advertisement\", \"advertisement\", \"advertisement\", \"advertisement\", \"advertisement\", \"advertisement\", \"advertisement\", \"advertisement\", \"advertisement\", \"advertiser\", \"advertiser\", \"advertiser\", \"advertiser\", \"advertiser\", \"advertiser\", \"advertiser\", \"advertiser\", \"advertiser\", \"advertiser\", \"advertiser\", \"advertiser\", \"advertiser\", \"advertiser\", \"advertiser\", \"advertiser\", \"advertising\", \"advertising\", \"advertising\", \"advertising\", \"advertising\", \"advertising\", \"advertising\", \"advertising\", \"advertising\", \"advertising\", \"advertising\", \"advertising\", \"advertising\", \"advertising\", \"advertising\", \"advertising\", \"affiliate\", \"affiliate\", \"affiliate\", \"affiliate\", \"affiliate\", \"affiliate\", \"affiliate\", \"affiliate\", \"affiliate\", \"affiliate\", \"affiliate\", \"affiliate\", \"affiliate\", \"affiliate\", \"affiliate\", \"affiliate\", \"ankama\", \"ankama\", \"apassah\", \"apassah\", \"application\", \"application\", \"application\", \"application\", \"application\", \"application\", \"application\", \"application\", \"application\", \"application\", \"application\", \"application\", \"application\", \"application\", \"application\", \"application\", \"bdnews\", \"beacon\", \"beacon\", \"beacon\", \"beacon\", \"beacon\", \"beacon\", \"beacon\", \"beacon\", \"beacon\", \"beacon\", \"beacon\", \"beacon\", \"beacon\", \"beacon\", \"beacon\", \"beacon\", \"bloomingdales\", \"bloomingdales\", \"bloomingdales\", \"bloomingdales\", \"bloomingdales\", \"bloomingdales\", \"bloomingdales\", \"business\", \"business\", \"business\", \"business\", \"business\", \"business\", \"business\", \"business\", \"business\", \"business\", \"business\", \"business\", \"business\", \"business\", \"business\", \"business\", \"campus\", \"campus\", \"campus\", \"campus\", \"campus\", \"campus\", \"campus\", \"campus\", \"campus\", \"campus\", \"card\", \"card\", \"card\", \"card\", \"card\", \"card\", \"card\", \"card\", \"card\", \"card\", \"card\", \"card\", \"card\", \"card\", \"card\", \"card\", \"caremark\", \"caremark\", \"caremark\", \"caremark\", \"caremark\", \"caremark\", \"caremark\", \"caremark\", \"caremark\", \"caremark\", \"cbbb\", \"cbbb\", \"cbbb\", \"cbbb\", \"cbbb\", \"cbbb\", \"cbbb\", \"changesmay\", \"child\", \"child\", \"child\", \"child\", \"child\", \"child\", \"child\", \"child\", \"child\", \"child\", \"child\", \"child\", \"child\", \"child\", \"child\", \"child\", \"choose\", \"choose\", \"choose\", \"choose\", \"choose\", \"choose\", \"choose\", \"choose\", \"choose\", \"choose\", \"choose\", \"choose\", \"choose\", \"choose\", \"choose\", \"choose\", \"comfax\", \"communication\", \"communication\", \"communication\", \"communication\", \"communication\", \"communication\", \"communication\", \"communication\", \"communication\", \"communication\", \"communication\", \"communication\", \"communication\", \"communication\", \"communication\", \"communication\", \"concessioner\", \"conger\", \"consent\", \"consent\", \"consent\", \"consent\", \"consent\", \"consent\", \"consent\", \"consent\", \"consent\", \"consent\", \"consent\", \"consent\", \"consent\", \"consent\", \"consent\", \"consent\", \"consentif\", \"control\", \"control\", \"control\", \"control\", \"control\", \"control\", \"control\", \"control\", \"control\", \"control\", \"control\", \"control\", \"control\", \"control\", \"control\", \"control\", \"cookie\", \"cookie\", \"cookie\", \"cookie\", \"cookie\", \"cookie\", \"cookie\", \"cookie\", \"cookie\", \"cookie\", \"cookie\", \"cookie\", \"cookie\", \"cookie\", \"cookie\", \"cookie\", \"correios\", \"correios\", \"correios\", \"credit\", \"credit\", \"credit\", \"credit\", \"credit\", \"credit\", \"credit\", \"credit\", \"credit\", \"credit\", \"credit\", \"credit\", \"credit\", \"credit\", \"credit\", \"credit\", \"cryptography\", \"customer\", \"customer\", \"customer\", \"customer\", \"customer\", \"customer\", \"customer\", \"customer\", \"customer\", \"customer\", \"customer\", \"customer\", \"customer\", \"customer\", \"customer\", \"customer\", \"czech\", \"daily\", \"daily\", \"daily\", \"daily\", \"daily\", \"daily\", \"daily\", \"dealer\", \"dealer\", \"dealer\", \"dealer\", \"dealer\", \"dealer\", \"dealer\", \"dealer\", \"dealer\", \"dealer\", \"dealer\", \"dealer\", \"dealer\", \"dealer\", \"dealer\", \"dealer\", \"dedication\", \"disclose\", \"disclose\", \"disclose\", \"disclose\", \"disclose\", \"disclose\", \"disclose\", \"disclose\", \"disclose\", \"disclose\", \"disclose\", \"disclose\", \"disclose\", \"disclose\", \"disclose\", \"disclose\", \"diskette\", \"door\", \"door\", \"door\", \"etesz\", \"expressway\", \"factory\", \"factory\", \"factory\", \"factory\", \"factory\", \"feature\", \"feature\", \"feature\", \"feature\", \"feature\", \"feature\", \"feature\", \"feature\", \"feature\", \"feature\", \"feature\", \"feature\", \"feature\", \"feature\", \"feature\", \"feature\", \"feedly\", \"feedly\", \"feedly\", \"feedly\", \"feedly\", \"ffed\", \"ffed\", \"ffed\", \"football\", \"football\", \"football\", \"football\", \"football\", \"football\", \"football\", \"football\", \"football\", \"football\", \"football\", \"football\", \"football\", \"football\", \"football\", \"forecast\", \"forecast\", \"forecast\", \"forecast\", \"forecast\", \"forecast\", \"forecast\", \"forecast\", \"forecast\", \"forecast\", \"forecast\", \"forecast\", \"forecast\", \"forecast\", \"forever\", \"forever\", \"forever\", \"forever\", \"forever\", \"forever\", \"forever\", \"forever\", \"forever\", \"forever\", \"forever\", \"forever\", \"forex\", \"forex\", \"forex\", \"forex\", \"forus\", \"gaia\", \"gaia\", \"gaia\", \"gaia\", \"gaia\", \"gaia\", \"gaia\", \"gaia\", \"gaia\", \"gaia\", \"gaia\", \"gaia\", \"gaia\", \"gaia\", \"game\", \"game\", \"game\", \"game\", \"game\", \"game\", \"game\", \"game\", \"game\", \"game\", \"game\", \"game\", \"game\", \"game\", \"game\", \"game\", \"geekdo\", \"geekdo\", \"github\", \"github\", \"github\", \"github\", \"github\", \"github\", \"github\", \"github\", \"health\", \"health\", \"health\", \"health\", \"health\", \"health\", \"health\", \"health\", \"health\", \"health\", \"health\", \"health\", \"health\", \"health\", \"health\", \"health\", \"hereinafter\", \"hereinafter\", \"hereinafter\", \"hereinafter\", \"hereinafter\", \"hereinafter\", \"hereinafter\", \"hereinafter\", \"hereinafter\", \"hereinafter\", \"hereinafter\", \"hereinafter\", \"hereinafter\", \"hereinafter\", \"http\", \"http\", \"http\", \"http\", \"http\", \"http\", \"http\", \"http\", \"http\", \"http\", \"http\", \"http\", \"http\", \"http\", \"http\", \"http\", \"identify\", \"identify\", \"identify\", \"identify\", \"identify\", \"identify\", \"identify\", \"identify\", \"identify\", \"identify\", \"identify\", \"identify\", \"identify\", \"identify\", \"identify\", \"identify\", \"identifying\", \"identifying\", \"identifying\", \"identifying\", \"identifying\", \"identifying\", \"identifying\", \"identifying\", \"identifying\", \"identifying\", \"identifying\", \"identifying\", \"identifying\", \"identifying\", \"identifying\", \"identifying\", \"idnm\", \"improve\", \"improve\", \"improve\", \"improve\", \"improve\", \"improve\", \"improve\", \"improve\", \"improve\", \"improve\", \"improve\", \"improve\", \"improve\", \"improve\", \"improve\", \"improve\", \"inception\", \"include\", \"include\", \"include\", \"include\", \"include\", \"include\", \"include\", \"include\", \"include\", \"include\", \"include\", \"include\", \"include\", \"include\", \"include\", \"include\", \"individual\", \"individual\", \"individual\", \"individual\", \"individual\", \"individual\", \"individual\", \"individual\", \"individual\", \"individual\", \"individual\", \"individual\", \"individual\", \"individual\", \"individual\", \"individual\", \"interest\", \"interest\", \"interest\", \"interest\", \"interest\", \"interest\", \"interest\", \"interest\", \"interest\", \"interest\", \"interest\", \"interest\", \"interest\", \"interest\", \"interest\", \"interest\", \"itto\", \"leadback\", \"league\", \"league\", \"league\", \"league\", \"league\", \"likebox\", \"list\", \"list\", \"list\", \"list\", \"list\", \"list\", \"list\", \"list\", \"list\", \"list\", \"list\", \"list\", \"list\", \"list\", \"list\", \"list\", \"lottery\", \"lottery\", \"lottery\", \"lottery\", \"lottery\", \"lottery\", \"lottery\", \"lottery\", \"lottery\", \"lottery\", \"lottery\", \"lottery\", \"lottery\", \"macys\", \"macys\", \"macys\", \"macys\", \"macys\", \"macys\", \"macys\", \"macys\", \"macys\", \"manliness\", \"manliness\", \"manliness\", \"margin\", \"marketing\", \"marketing\", \"marketing\", \"marketing\", \"marketing\", \"marketing\", \"marketing\", \"marketing\", \"marketing\", \"marketing\", \"marketing\", \"marketing\", \"marketing\", \"marketing\", \"marketing\", \"marketing\", \"material\", \"material\", \"material\", \"material\", \"material\", \"material\", \"material\", \"material\", \"material\", \"material\", \"material\", \"material\", \"material\", \"material\", \"material\", \"material\", \"materialyou\", \"message\", \"message\", \"message\", \"message\", \"message\", \"message\", \"message\", \"message\", \"message\", \"message\", \"message\", \"message\", \"message\", \"message\", \"message\", \"message\", \"mobile\", \"mobile\", \"mobile\", \"mobile\", \"mobile\", \"mobile\", \"mobile\", \"mobile\", \"mobile\", \"mobile\", \"mobile\", \"mobile\", \"mobile\", \"mobile\", \"mobile\", \"mobile\", \"musician\", \"musician\", \"musician\", \"musician\", \"musician\", \"musician\", \"musician\", \"musician\", \"musician\", \"musician\", \"nacelink\", \"nacelink\", \"nickelodeon\", \"nickelodeon\", \"nickelodeon\", \"nickelodeon\", \"nickelodeon\", \"nickelodeon\", \"nickelodeon\", \"nickelodeon\", \"nickelodeon\", \"nickelodeon\", \"nickelodeon\", \"nickelodeon\", \"nickelodeon\", \"nickelodeon\", \"nickelodeon\", \"nickelodeon\", \"norman\", \"norwegian\", \"norwegian\", \"notice\", \"notice\", \"notice\", \"notice\", \"notice\", \"notice\", \"notice\", \"notice\", \"notice\", \"notice\", \"notice\", \"notice\", \"notice\", \"notice\", \"notice\", \"notice\", \"offer\", \"offer\", \"offer\", \"offer\", \"offer\", \"offer\", \"offer\", \"offer\", \"offer\", \"offer\", \"offer\", \"offer\", \"offer\", \"offer\", \"offer\", \"offer\", \"organizationsof\", \"pageviews\", \"partner\", \"partner\", \"partner\", \"partner\", \"partner\", \"partner\", \"partner\", \"partner\", \"partner\", \"partner\", \"partner\", \"partner\", \"partner\", \"partner\", \"partner\", \"partner\", \"personally\", \"personally\", \"personally\", \"personally\", \"personally\", \"personally\", \"personally\", \"personally\", \"personally\", \"personally\", \"personally\", \"personally\", \"personally\", \"personally\", \"personally\", \"personally\", \"phpbb\", \"phpbb\", \"phpbb\", \"physician\", \"physician\", \"physician\", \"physician\", \"physician\", \"physician\", \"physician\", \"physician\", \"physician\", \"physician\", \"pinterest\", \"pinterest\", \"pinterest\", \"pinterest\", \"pinterest\", \"pinterest\", \"pinterest\", \"pinterest\", \"pinterest\", \"pinterest\", \"pinterest\", \"pinterest\", \"pinterest\", \"pinterest\", \"poem\", \"pooling\", \"pooling\", \"port\", \"portalswe\", \"preference\", \"preference\", \"preference\", \"preference\", \"preference\", \"preference\", \"preference\", \"preference\", \"preference\", \"preference\", \"preference\", \"preference\", \"preference\", \"preference\", \"preference\", \"preference\", \"productsto\", \"pronunciation\", \"pronunciation\", \"proposing\", \"protected\", \"protected\", \"protected\", \"protected\", \"protected\", \"protected\", \"protected\", \"protected\", \"protected\", \"protected\", \"protected\", \"protected\", \"protected\", \"protected\", \"protected\", \"protected\", \"prweb\", \"prweb\", \"prweb\", \"public\", \"public\", \"public\", \"public\", \"public\", \"public\", \"public\", \"public\", \"public\", \"public\", \"public\", \"public\", \"public\", \"public\", \"public\", \"public\", \"purchase\", \"purchase\", \"purchase\", \"purchase\", \"purchase\", \"purchase\", \"purchase\", \"purchase\", \"purchase\", \"purchase\", \"purchase\", \"purchase\", \"purchase\", \"purchase\", \"purchase\", \"purchase\", \"rainfall\", \"recieve\", \"regent\", \"regent\", \"repinned\", \"repins\", \"reply\", \"reply\", \"reply\", \"reply\", \"reply\", \"reply\", \"reply\", \"reply\", \"reply\", \"reply\", \"reply\", \"reply\", \"reply\", \"reply\", \"reply\", \"reply\", \"requestor\", \"required\", \"required\", \"required\", \"required\", \"required\", \"required\", \"required\", \"required\", \"required\", \"required\", \"required\", \"required\", \"required\", \"required\", \"required\", \"required\", \"review\", \"review\", \"review\", \"review\", \"review\", \"review\", \"review\", \"review\", \"review\", \"review\", \"review\", \"review\", \"review\", \"review\", \"review\", \"review\", \"rhyme\", \"rhyme\", \"right\", \"right\", \"right\", \"right\", \"right\", \"right\", \"right\", \"right\", \"right\", \"right\", \"right\", \"right\", \"right\", \"right\", \"right\", \"right\", \"scripting\", \"scripting\", \"scripting\", \"scripting\", \"scripting\", \"scripting\", \"sdsu\", \"sdsu\", \"southern\", \"staffing\", \"staffing\", \"staffing\", \"staffing\", \"staffing\", \"staffing\", \"staffing\", \"staffing\", \"staffing\", \"staffing\", \"staffing\", \"staffing\", \"starfall\", \"starfall\", \"statement\", \"statement\", \"statement\", \"statement\", \"statement\", \"statement\", \"statement\", \"statement\", \"statement\", \"statement\", \"statement\", \"statement\", \"statement\", \"statement\", \"statement\", \"statement\", \"sthash\", \"supporter\", \"supporter\", \"supporter\", \"supporter\", \"sutter\", \"sutter\", \"system\", \"system\", \"system\", \"system\", \"system\", \"system\", \"system\", \"system\", \"system\", \"system\", \"system\", \"system\", \"system\", \"system\", \"system\", \"system\", \"talk\", \"talk\", \"talk\", \"talk\", \"talk\", \"talk\", \"talk\", \"talk\", \"talk\", \"talk\", \"talk\", \"talk\", \"talk\", \"talk\", \"talk\", \"technology\", \"technology\", \"technology\", \"technology\", \"technology\", \"technology\", \"technology\", \"technology\", \"technology\", \"technology\", \"technology\", \"technology\", \"technology\", \"technology\", \"technology\", \"technology\", \"testosterone\", \"testosterone\", \"testosterone\", \"testosterone\", \"testosterone\", \"thrid\", \"tier\", \"tier\", \"tier\", \"tier\", \"tier\", \"tier\", \"tier\", \"tier\", \"tier\", \"tier\", \"tier\", \"tier\", \"tier\", \"tier\", \"tier\", \"timesaving\", \"traded\", \"type\", \"type\", \"type\", \"type\", \"type\", \"type\", \"type\", \"type\", \"type\", \"type\", \"type\", \"type\", \"type\", \"type\", \"type\", \"type\", \"typed\", \"typed\", \"typed\", \"typed\", \"typed\", \"updations\", \"vehicle\", \"vehicle\", \"vehicle\", \"vehicle\", \"vehicle\", \"vehicle\", \"vehicle\", \"vehicle\", \"vehicle\", \"vehicle\", \"vehicle\", \"vehicle\", \"vehicle\", \"vehicle\", \"vehicle\", \"vehicle\", \"visitor\", \"visitor\", \"visitor\", \"visitor\", \"visitor\", \"visitor\", \"visitor\", \"visitor\", \"visitor\", \"visitor\", \"visitor\", \"visitor\", \"visitor\", \"visitor\", \"visitor\", \"visitor\", \"visitorfrom\", \"visitorfrom\", \"visitorfrom\", \"vistor\", \"webadmin\", \"webadmin\", \"webhost\", \"webhost\", \"webhost\", \"webhost\", \"wewill\", \"wind\", \"wind\", \"wind\", \"wind\", \"wind\", \"wind\", \"wind\", \"xkcd\", \"xkcd\", \"xkcd\"]}, \"R\": 5, \"lambda.step\": 0.01, \"plot.opts\": {\"xlab\": \"PC1\", \"ylab\": \"PC2\"}, \"topic.order\": [16, 9, 13, 12, 7, 6, 14, 15, 2, 1, 11, 3, 5, 4, 8, 10]};\n",
       "\n",
       "function LDAvis_load_lib(url, callback){\n",
       "  var s = document.createElement('script');\n",
       "  s.src = url;\n",
       "  s.async = true;\n",
       "  s.onreadystatechange = s.onload = callback;\n",
       "  s.onerror = function(){console.warn(\"failed to load library \" + url);};\n",
       "  document.getElementsByTagName(\"head\")[0].appendChild(s);\n",
       "}\n",
       "\n",
       "if(typeof(LDAvis) !== \"undefined\"){\n",
       "   // already loaded: just create the visualization\n",
       "   !function(LDAvis){\n",
       "       new LDAvis(\"#\" + \"ldavis_el540771121804440406183689966\", ldavis_el540771121804440406183689966_data);\n",
       "   }(LDAvis);\n",
       "}else if(typeof define === \"function\" && define.amd){\n",
       "   // require.js is available: use it to load d3/LDAvis\n",
       "   require.config({paths: {d3: \"https://cdnjs.cloudflare.com/ajax/libs/d3/3.5.5/d3.min\"}});\n",
       "   require([\"d3\"], function(d3){\n",
       "      window.d3 = d3;\n",
       "      LDAvis_load_lib(\"https://cdn.rawgit.com/bmabey/pyLDAvis/files/ldavis.v1.0.0.js\", function(){\n",
       "        new LDAvis(\"#\" + \"ldavis_el540771121804440406183689966\", ldavis_el540771121804440406183689966_data);\n",
       "      });\n",
       "    });\n",
       "}else{\n",
       "    // require.js not available: dynamically load d3 & LDAvis\n",
       "    LDAvis_load_lib(\"https://cdnjs.cloudflare.com/ajax/libs/d3/3.5.5/d3.min.js\", function(){\n",
       "         LDAvis_load_lib(\"https://cdn.rawgit.com/bmabey/pyLDAvis/files/ldavis.v1.0.0.js\", function(){\n",
       "                 new LDAvis(\"#\" + \"ldavis_el540771121804440406183689966\", ldavis_el540771121804440406183689966_data);\n",
       "            })\n",
       "         });\n",
       "}\n",
       "</script>"
      ],
      "text/plain": [
       "PreparedData(topic_coordinates=              x         y  topics  cluster       Freq\n",
       "topic                                                \n",
       "15     0.005132  0.003557       1        1  16.466818\n",
       "8      0.005334  0.000434       2        1  11.927823\n",
       "12     0.005986  0.002468       3        1  11.170774\n",
       "11     0.002647 -0.000234       4        1   7.852218\n",
       "6      0.002141  0.000206       5        1   7.534594\n",
       "5      0.001504 -0.003669       6        1   6.323716\n",
       "13     0.005390 -0.001191       7        1   5.774126\n",
       "14    -0.010736  0.007451       8        1   5.720672\n",
       "1      0.000054 -0.003933       9        1   5.593760\n",
       "0     -0.003867 -0.004352      10        1   5.341958\n",
       "10    -0.000173  0.006089      11        1   5.081438\n",
       "2     -0.000716  0.002847      12        1   3.443042\n",
       "4     -0.003859  0.004245      13        1   2.844194\n",
       "3     -0.005131 -0.008997      14        1   2.182621\n",
       "7     -0.000116 -0.001211      15        1   1.462905\n",
       "9     -0.003591 -0.003709      16        1   1.279341, topic_info=      Category         Freq           Term        Total  loglift  logprob\n",
       "193    Default  3537.000000     personally  3537.000000   5.0000   5.0000\n",
       "13     Default  2825.000000    advertising  2825.000000   4.0000   4.0000\n",
       "21     Default  1757.000000    application  1757.000000   3.0000   3.0000\n",
       "47     Default  1754.000000  communication  1754.000000   2.0000   2.0000\n",
       "359    Default  2271.000000       customer  2271.000000   1.0000   1.0000\n",
       "3521    Topic1     1.886235         vistor     2.551775   1.5016 -10.5335\n",
       "9358    Topic1     1.886235   cryptography     2.551775   1.5016 -10.5335\n",
       "10819   Topic1     1.846467           sdsu     3.501451   1.1639 -10.5548\n",
       "10818   Topic1     2.486729       nacelink     4.719395   1.1631 -10.2571\n",
       "6656    Topic1     1.712755       leadback     3.625365   1.0540 -10.6300\n",
       "5487    Topic1    42.801147    nickelodeon   115.585983   0.8104  -7.4115\n",
       "13      Topic1   641.735229    advertising  2825.111328   0.3217  -4.7039\n",
       "174     Topic1   457.233795         mobile  1964.304199   0.3461  -5.0429\n",
       "246     Topic1   282.152557         review  1151.597656   0.3974  -5.5256\n",
       "109     Topic1   469.119781        feature  2173.308105   0.2707  -5.0172\n",
       "502     Topic1   220.995316     additional   892.694153   0.4077  -5.7699\n",
       "21      Topic1   371.488495    application  1757.116089   0.2499  -5.2505\n",
       "34      Topic1   440.195496       business  2261.250732   0.1674  -5.0808\n",
       "418     Topic1   390.149445      marketing  2052.743164   0.1434  -5.2015\n",
       "193     Topic1   408.118835     personally  3537.761230  -0.3559  -5.1565\n",
       "8491    Topic2     2.566835      proposing     3.454209   1.8294  -9.9029\n",
       "5362    Topic2     2.508028      pageviews     3.437240   1.8111  -9.9261\n",
       "6043    Topic2     2.418832        likebox     3.439203   1.7743  -9.9623\n",
       "6173    Topic2     3.254179        apassah     4.689628   1.7609  -9.6656\n",
       "8489    Topic2     1.347312      consentif     2.118064   1.6739 -10.5475\n",
       "193     Topic2   601.109070     personally  3537.761230   0.3538  -4.4468\n",
       "13      Topic2   435.018341    advertising  2825.111328   0.2554  -4.7702\n",
       "4       Topic2   325.977203       activity  1987.422607   0.3185  -5.0588\n",
       "109     Topic2   345.683289        feature  2173.308105   0.2878  -5.0001\n",
       "150     Topic2   311.328979       interest  1973.234985   0.2797  -5.1047\n",
       "...        ...          ...            ...          ...      ...      ...\n",
       "4165   Topic15     0.495602      norwegian     4.859468   1.9418  -9.4491\n",
       "4595   Topic15     6.341969           talk    95.630241   1.5114  -6.8999\n",
       "6002   Topic15     4.503671       football    78.496201   1.3666  -7.2422\n",
       "5718   Topic15     1.658202         campus    24.106623   1.5480  -8.2414\n",
       "528    Topic15    42.880386          child  1995.401733   0.3846  -4.9887\n",
       "21     Topic15    38.508549    application  1757.116089   0.4042  -5.0963\n",
       "193    Topic15    60.644497     personally  3537.761230   0.1585  -4.6421\n",
       "38     Topic15    33.083324           card  1458.937012   0.4383  -5.2481\n",
       "61     Topic15    30.854786        control  1464.342041   0.3649  -5.3178\n",
       "47     Topic15    34.185867  communication  1754.485718   0.2866  -5.2153\n",
       "174    Topic15    35.571304         mobile  1964.304199   0.2134  -5.1756\n",
       "13     Topic15    37.747665    advertising  2825.111328  -0.0906  -5.1162\n",
       "7183   Topic16     0.279437   addressemail     3.514995   1.8268  -9.8880\n",
       "7191   Topic16     0.841622       staffing    10.657726   1.8201  -8.7855\n",
       "7182   Topic16     0.279763  addresscredit     3.561771   1.8148  -9.8869\n",
       "8155   Topic16     0.241772       southern     3.157108   1.7894 -10.0328\n",
       "2270   Topic16     0.891002       caremark    11.997549   1.7587  -8.7285\n",
       "8605   Topic16     3.899927           gaia    73.546440   1.4219  -7.2521\n",
       "2792   Topic16     4.650700        vehicle   114.805405   1.1526  -7.0760\n",
       "2775   Topic16     3.400375         dealer    83.151535   1.1620  -7.3892\n",
       "14     Topic16    20.189766      affiliate   859.878235   0.6072  -5.6079\n",
       "193    Topic16    58.408001     personally  3537.761230   0.2550  -4.5456\n",
       "21     Topic16    32.286781    application  1757.116089   0.3621  -5.1384\n",
       "384    Topic16    15.611829           game   639.845947   0.6456  -5.8650\n",
       "212    Topic16    25.502995         public  1393.918823   0.3577  -5.3743\n",
       "340    Topic16    21.644487         beacon  1097.879639   0.4324  -5.5383\n",
       "139    Topic16    26.989424        include  1613.985107   0.2678  -5.3176\n",
       "13     Topic16    36.407280    advertising  2825.111328   0.0073  -5.0183\n",
       "418    Topic16    29.388306      marketing  2052.743164   0.1125  -5.2325\n",
       "420    Topic16    27.885313        message  1902.048828   0.1362  -5.2850\n",
       "\n",
       "[230 rows x 6 columns], token_table=      Topic      Freq         Term\n",
       "term                              \n",
       "4         1  0.122772     activity\n",
       "4         2  0.164032     activity\n",
       "4         3  0.134848     activity\n",
       "4         4  0.075475     activity\n",
       "4         5  0.090570     activity\n",
       "4         6  0.068430     activity\n",
       "4         7  0.048807     activity\n",
       "4         8  0.031196     activity\n",
       "4         9  0.076984     activity\n",
       "4        10  0.050820     activity\n",
       "4        11  0.041763     activity\n",
       "4        12  0.027674     activity\n",
       "4        13  0.025661     activity\n",
       "4        14  0.020630     activity\n",
       "4        15  0.011573     activity\n",
       "4        16  0.009057     activity\n",
       "502       1  0.247565   additional\n",
       "502       2  0.114261   additional\n",
       "502       3  0.133304   additional\n",
       "502       4  0.064972   additional\n",
       "502       5  0.069453   additional\n",
       "502       6  0.051529   additional\n",
       "502       7  0.045928   additional\n",
       "502       8  0.041448   additional\n",
       "502       9  0.048169   additional\n",
       "502      10  0.040327   additional\n",
       "502      11  0.053770   additional\n",
       "502      12  0.031366   additional\n",
       "502      13  0.017923   additional\n",
       "502      14  0.017923   additional\n",
       "...     ...       ...          ...\n",
       "496       8  0.026252      visitor\n",
       "496       9  0.030081      visitor\n",
       "496      10  0.080945      visitor\n",
       "496      11  0.062349      visitor\n",
       "496      12  0.024065      visitor\n",
       "496      13  0.027893      visitor\n",
       "496      14  0.029534      visitor\n",
       "496      15  0.011485      visitor\n",
       "496      16  0.008204      visitor\n",
       "9012      3  0.204462  visitorfrom\n",
       "9012      6  0.204462  visitorfrom\n",
       "9012     11  0.204462  visitorfrom\n",
       "3521      1  0.783768       vistor\n",
       "6110      1  0.391207     webadmin\n",
       "6110     13  0.391207     webadmin\n",
       "7114      4  0.198898      webhost\n",
       "7114      5  0.265197      webhost\n",
       "7114     11  0.397796      webhost\n",
       "7114     16  0.066299      webhost\n",
       "7719      6  0.343908       wewill\n",
       "4190      1  0.115837         wind\n",
       "4190      2  0.115837         wind\n",
       "4190      3  0.231674         wind\n",
       "4190      6  0.115837         wind\n",
       "4190     11  0.115837         wind\n",
       "4190     13  0.115837         wind\n",
       "4190     15  0.115837         wind\n",
       "9528      1  0.101812         xkcd\n",
       "9528      4  0.610873         xkcd\n",
       "9528     10  0.101812         xkcd\n",
       "\n",
       "[1221 rows x 3 columns], R=5, lambda_step=0.01, plot_opts={'xlab': 'PC1', 'ylab': 'PC2'}, topic_order=[16, 9, 13, 12, 7, 6, 14, 15, 2, 1, 11, 3, 5, 4, 8, 10])"
      ]
     },
     "execution_count": 59,
     "metadata": {},
     "output_type": "execute_result"
    }
   ],
   "source": [
    "vis"
   ]
  },
  {
   "cell_type": "code",
   "execution_count": null,
   "metadata": {
    "ExecuteTime": {
     "end_time": "2019-02-18T05:23:36.514960Z",
     "start_time": "2019-02-18T05:23:36.508813Z"
    }
   },
   "outputs": [],
   "source": [
    "# Save lda vis 'acl_optimal_lda_4top_fulldoc.html'\n",
    "# pyLDAvis.save_html(vis, 'acl_optimal_lda_5top_fulldoc.html')"
   ]
  },
  {
   "cell_type": "code",
   "execution_count": 113,
   "metadata": {
    "ExecuteTime": {
     "end_time": "2019-02-19T06:59:22.365680Z",
     "start_time": "2019-02-19T06:56:42.768649Z"
    }
   },
   "outputs": [],
   "source": [
    "pyLDAvis.enable_notebook()\n",
    "vis_tsne = pyLDAvis.gensim.prepare(optimal_model, corpus, id2word, R = 10, sort_topics = True, mds = 'tsne')"
   ]
  },
  {
   "cell_type": "code",
   "execution_count": 114,
   "metadata": {
    "ExecuteTime": {
     "end_time": "2019-02-19T07:00:27.594833Z",
     "start_time": "2019-02-19T07:00:27.556782Z"
    }
   },
   "outputs": [
    {
     "data": {
      "text/html": [
       "\n",
       "<link rel=\"stylesheet\" type=\"text/css\" href=\"https://cdn.rawgit.com/bmabey/pyLDAvis/files/ldavis.v1.0.0.css\">\n",
       "\n",
       "\n",
       "<div id=\"ldavis_el566241123161156085833820394\"></div>\n",
       "<script type=\"text/javascript\">\n",
       "\n",
       "var ldavis_el566241123161156085833820394_data = {\"mdsDat\": {\"x\": [-577.0946044921875, -438.3121032714844, 924.6384887695312, 203.73590087890625, -142.4636688232422, -199.2244110107422, 511.8996887207031, 573.0048217773438, -570.4946899414062, 162.25074768066406, 396.500732421875, 514.3424682617188, -60.11979293823242, 749.943603515625, 182.9134063720703, -181.77357482910156], \"y\": [383.4209899902344, -491.51025390625, 44.13772201538086, -350.3422546386719, -174.75177001953125, 707.7056274414062, -107.08255004882812, 311.0408935546875, -69.53804016113281, 497.8714904785156, -736.6021728515625, 738.47900390625, -696.4905395507812, -446.56451416015625, 89.00847625732422, 232.76983642578125], \"topics\": [1, 2, 3, 4, 5, 6, 7, 8, 9, 10, 11, 12, 13, 14, 15, 16], \"cluster\": [1, 1, 1, 1, 1, 1, 1, 1, 1, 1, 1, 1, 1, 1, 1, 1], \"Freq\": [16.5339412689209, 11.882207870483398, 11.148902893066406, 7.943484306335449, 7.517119407653809, 6.248161792755127, 5.783246040344238, 5.757191181182861, 5.5961012840271, 5.33656120300293, 5.169854640960693, 3.4064791202545166, 2.8333802223205566, 2.1523356437683105, 1.4589720964431763, 1.2320587635040283]}, \"tinfo\": {\"Category\": [\"Default\", \"Default\", \"Default\", \"Default\", \"Default\", \"Default\", \"Default\", \"Default\", \"Default\", \"Default\", \"Topic1\", \"Topic1\", \"Topic1\", \"Topic1\", \"Topic1\", \"Topic1\", \"Topic1\", \"Topic1\", \"Topic1\", \"Topic1\", \"Topic1\", \"Topic1\", \"Topic1\", \"Topic1\", \"Topic1\", \"Topic1\", \"Topic1\", \"Topic1\", \"Topic1\", \"Topic1\", \"Topic1\", \"Topic1\", \"Topic1\", \"Topic1\", \"Topic1\", \"Topic1\", \"Topic1\", \"Topic1\", \"Topic1\", \"Topic1\", \"Topic1\", \"Topic2\", \"Topic2\", \"Topic2\", \"Topic2\", \"Topic2\", \"Topic2\", \"Topic2\", \"Topic2\", \"Topic2\", \"Topic2\", \"Topic2\", \"Topic2\", \"Topic2\", \"Topic2\", \"Topic2\", \"Topic2\", \"Topic2\", \"Topic2\", \"Topic2\", \"Topic2\", \"Topic2\", \"Topic2\", \"Topic2\", \"Topic2\", \"Topic2\", \"Topic2\", \"Topic3\", \"Topic3\", \"Topic3\", \"Topic3\", \"Topic3\", \"Topic3\", \"Topic3\", \"Topic3\", \"Topic3\", \"Topic3\", \"Topic3\", \"Topic3\", \"Topic3\", \"Topic3\", \"Topic3\", \"Topic3\", \"Topic3\", \"Topic3\", \"Topic3\", \"Topic3\", \"Topic3\", \"Topic3\", \"Topic3\", \"Topic3\", \"Topic3\", \"Topic4\", \"Topic4\", \"Topic4\", \"Topic4\", \"Topic4\", \"Topic4\", \"Topic4\", \"Topic4\", \"Topic4\", \"Topic4\", \"Topic4\", \"Topic4\", \"Topic4\", \"Topic4\", \"Topic4\", \"Topic4\", \"Topic4\", \"Topic4\", \"Topic4\", \"Topic4\", \"Topic4\", \"Topic4\", \"Topic4\", \"Topic4\", \"Topic4\", \"Topic5\", \"Topic5\", \"Topic5\", \"Topic5\", \"Topic5\", \"Topic5\", \"Topic5\", \"Topic5\", \"Topic5\", \"Topic5\", \"Topic5\", \"Topic5\", \"Topic5\", \"Topic5\", \"Topic5\", \"Topic5\", \"Topic5\", \"Topic5\", \"Topic5\", \"Topic5\", \"Topic5\", \"Topic5\", \"Topic5\", \"Topic5\", \"Topic5\", \"Topic5\", \"Topic5\", \"Topic5\", \"Topic5\", \"Topic5\", \"Topic5\", \"Topic6\", \"Topic6\", \"Topic6\", \"Topic6\", \"Topic6\", \"Topic6\", \"Topic6\", \"Topic6\", \"Topic6\", \"Topic6\", \"Topic6\", \"Topic6\", \"Topic6\", \"Topic6\", \"Topic6\", \"Topic6\", \"Topic6\", \"Topic6\", \"Topic6\", \"Topic6\", \"Topic6\", \"Topic6\", \"Topic6\", \"Topic6\", \"Topic6\", \"Topic6\", \"Topic6\", \"Topic6\", \"Topic7\", \"Topic7\", \"Topic7\", \"Topic7\", \"Topic7\", \"Topic7\", \"Topic7\", \"Topic7\", \"Topic7\", \"Topic7\", \"Topic7\", \"Topic7\", \"Topic7\", \"Topic7\", \"Topic7\", \"Topic7\", \"Topic7\", \"Topic7\", \"Topic7\", \"Topic7\", \"Topic7\", \"Topic7\", \"Topic7\", \"Topic7\", \"Topic7\", \"Topic8\", \"Topic8\", \"Topic8\", \"Topic8\", \"Topic8\", \"Topic8\", \"Topic8\", \"Topic8\", \"Topic8\", \"Topic8\", \"Topic8\", \"Topic8\", \"Topic8\", \"Topic8\", \"Topic8\", \"Topic8\", \"Topic8\", \"Topic8\", \"Topic8\", \"Topic8\", \"Topic8\", \"Topic8\", \"Topic8\", \"Topic8\", \"Topic8\", \"Topic8\", \"Topic8\", \"Topic8\", \"Topic9\", \"Topic9\", \"Topic9\", \"Topic9\", \"Topic9\", \"Topic9\", \"Topic9\", \"Topic9\", \"Topic9\", \"Topic9\", \"Topic9\", \"Topic9\", \"Topic9\", \"Topic9\", \"Topic9\", \"Topic9\", \"Topic9\", \"Topic9\", \"Topic9\", \"Topic9\", \"Topic9\", \"Topic9\", \"Topic9\", \"Topic9\", \"Topic9\", \"Topic9\", \"Topic9\", \"Topic10\", \"Topic10\", \"Topic10\", \"Topic10\", \"Topic10\", \"Topic10\", \"Topic10\", \"Topic10\", \"Topic10\", \"Topic10\", \"Topic10\", \"Topic10\", \"Topic10\", \"Topic10\", \"Topic10\", \"Topic10\", \"Topic10\", \"Topic10\", \"Topic10\", \"Topic10\", \"Topic10\", \"Topic10\", \"Topic10\", \"Topic10\", \"Topic10\", \"Topic10\", \"Topic10\", \"Topic10\", \"Topic10\", \"Topic10\", \"Topic10\", \"Topic10\", \"Topic10\", \"Topic11\", \"Topic11\", \"Topic11\", \"Topic11\", \"Topic11\", \"Topic11\", \"Topic11\", \"Topic11\", \"Topic11\", \"Topic11\", \"Topic11\", \"Topic11\", \"Topic11\", \"Topic11\", \"Topic11\", \"Topic11\", \"Topic11\", \"Topic11\", \"Topic11\", \"Topic11\", \"Topic11\", \"Topic11\", \"Topic11\", \"Topic12\", \"Topic12\", \"Topic12\", \"Topic12\", \"Topic12\", \"Topic12\", \"Topic12\", \"Topic12\", \"Topic12\", \"Topic12\", \"Topic12\", \"Topic12\", \"Topic12\", \"Topic12\", \"Topic12\", \"Topic12\", \"Topic12\", \"Topic12\", \"Topic12\", \"Topic12\", \"Topic12\", \"Topic12\", \"Topic12\", \"Topic12\", \"Topic12\", \"Topic12\", \"Topic12\", \"Topic12\", \"Topic12\", \"Topic13\", \"Topic13\", \"Topic13\", \"Topic13\", \"Topic13\", \"Topic13\", \"Topic13\", \"Topic13\", \"Topic13\", \"Topic13\", \"Topic13\", \"Topic13\", \"Topic13\", \"Topic13\", \"Topic13\", \"Topic13\", \"Topic13\", \"Topic13\", \"Topic13\", \"Topic13\", \"Topic13\", \"Topic13\", \"Topic13\", \"Topic13\", \"Topic14\", \"Topic14\", \"Topic14\", \"Topic14\", \"Topic14\", \"Topic14\", \"Topic14\", \"Topic14\", \"Topic14\", \"Topic14\", \"Topic14\", \"Topic14\", \"Topic14\", \"Topic14\", \"Topic14\", \"Topic14\", \"Topic14\", \"Topic14\", \"Topic14\", \"Topic14\", \"Topic14\", \"Topic14\", \"Topic14\", \"Topic14\", \"Topic14\", \"Topic14\", \"Topic14\", \"Topic14\", \"Topic15\", \"Topic15\", \"Topic15\", \"Topic15\", \"Topic15\", \"Topic15\", \"Topic15\", \"Topic15\", \"Topic15\", \"Topic15\", \"Topic15\", \"Topic15\", \"Topic15\", \"Topic15\", \"Topic15\", \"Topic15\", \"Topic15\", \"Topic15\", \"Topic15\", \"Topic15\", \"Topic15\", \"Topic15\", \"Topic15\", \"Topic15\", \"Topic15\", \"Topic15\", \"Topic15\", \"Topic16\", \"Topic16\", \"Topic16\", \"Topic16\", \"Topic16\", \"Topic16\", \"Topic16\", \"Topic16\", \"Topic16\", \"Topic16\", \"Topic16\", \"Topic16\", \"Topic16\", \"Topic16\", \"Topic16\", \"Topic16\", \"Topic16\", \"Topic16\", \"Topic16\", \"Topic16\", \"Topic16\", \"Topic16\", \"Topic16\", \"Topic16\", \"Topic16\", \"Topic16\", \"Topic16\", \"Topic16\", \"Topic16\", \"Topic16\"], \"Freq\": [3535.0, 2827.0, 1756.0, 1754.0, 2273.0, 1993.0, 1966.0, 2052.0, 1939.0, 1628.0, 1.8939237594604492, 1.8939237594604492, 1.8539938926696777, 2.4968655109405518, 1.7197370529174805, 1.6774533987045288, 1.0695759057998657, 1.021903157234192, 1.6416947841644287, 1.6483592987060547, 6.7501935958862305, 10.728075981140137, 42.975616455078125, 3.1714189052581787, 5.230989933013916, 644.35107421875, 459.09759521484375, 283.30267333984375, 221.89614868164062, 471.03204345703125, 183.5263671875, 373.0027770996094, 279.6955871582031, 441.9898376464844, 313.53900146484375, 383.4637756347656, 352.7814636230469, 391.73980712890625, 362.18743896484375, 355.8623046875, 409.78240966796875, 2.5570192337036133, 2.498436450958252, 2.409581422805786, 3.241734504699707, 1.3421597480773926, 1.3421552181243896, 1.2874305248260498, 1.2559258937835693, 0.8591185212135315, 1.321961760520935, 2.0093131065368652, 598.810302734375, 12.830880165100098, 324.7305603027344, 433.3547058105469, 344.3612976074219, 310.1383972167969, 331.60009765625, 297.7724914550781, 232.3803253173828, 204.08982849121094, 142.0888671875, 271.693603515625, 250.5460968017578, 275.73321533203125, 253.40164184570312, 51.79714584350586, 1.2293165922164917, 1.2278441190719604, 4.8734354972839355, 1.208757996559143, 1.0535972118377686, 3.210362195968628, 0.9356907606124878, 6.667055130004883, 6.370183944702148, 370.4493103027344, 279.6875915527344, 254.27296447753906, 273.5441589355469, 250.78379821777344, 161.64784240722656, 209.05862426757812, 263.4481201171875, 267.9399719238281, 252.0238037109375, 244.55860900878906, 227.1477508544922, 259.5201721191406, 314.2815856933594, 256.49298095703125, 6.117617130279541, 6.393357753753662, 0.9249245524406433, 0.899882435798645, 0.8576039671897888, 1.4327651262283325, 4.962269306182861, 3.8581480979919434, 0.7804175615310669, 0.7558531761169434, 2.6725683212280273, 12.184563636779785, 331.72576904296875, 232.37017822265625, 220.99716186523438, 339.6239013671875, 225.4261016845703, 187.8217315673828, 163.1193389892578, 177.90396118164062, 164.15260314941406, 137.642578125, 147.61611938476562, 169.84165954589844, 168.54066467285156, 0.9217942953109741, 0.9218143820762634, 0.8858644962310791, 2.3012607097625732, 0.6678543090820312, 0.5818713903427124, 0.8617784976959229, 0.6361420750617981, 1.6741588115692139, 1.6719509363174438, 5.118587017059326, 3.8109264373779297, 138.51051330566406, 74.54994201660156, 151.6431884765625, 182.89964294433594, 101.33158874511719, 80.28929901123047, 189.4512176513672, 130.6354217529297, 276.16693115234375, 179.57334899902344, 110.22189331054688, 180.66468811035156, 149.12271118164062, 149.1829376220703, 159.21800231933594, 161.033203125, 160.89283752441406, 153.6234893798828, 160.29669189453125, 7.489683151245117, 1.635481834411621, 1.2125722169876099, 1.2666891813278198, 0.9944390058517456, 0.6394757628440857, 0.6182482838630676, 1.0914463996887207, 0.6629857420921326, 0.6509155035018921, 2.3910562992095947, 1.2712973356246948, 4.3251800537109375, 207.82566833496094, 140.83009338378906, 180.2516326904297, 155.75552368164062, 96.84162139892578, 242.45542907714844, 77.54022979736328, 138.54457092285156, 139.18312072753906, 115.9775390625, 105.65803527832031, 134.09393310546875, 119.80574798583984, 120.50425720214844, 121.16636657714844, 3.895550012588501, 1.9404770135879517, 2.2431678771972656, 1.3243058919906616, 6.376248359680176, 1.2756329774856567, 0.7747787833213806, 1.1881389617919922, 0.7322417497634888, 0.7247831225395203, 310.47039794921875, 179.44033813476562, 112.31775665283203, 41.17485809326172, 140.59439086914062, 53.42612075805664, 135.56243896484375, 103.86307525634766, 134.64820861816406, 123.2664566040039, 98.1343002319336, 163.29827880859375, 117.70933532714844, 122.70787048339844, 112.3589096069336, 4.626638889312744, 0.7173558473587036, 0.7164706587791443, 1.2544623613357544, 1.1109466552734375, 1.1095606088638306, 2.246342420578003, 1.1047667264938354, 0.6444465517997742, 0.6175289750099182, 11.203267097473145, 2.806276559829712, 8.416034698486328, 92.61087036132812, 19.57000160217285, 151.4586944580078, 159.46018981933594, 163.3639678955078, 145.19236755371094, 149.3645782470703, 102.96930694580078, 78.16999816894531, 137.32034301757812, 201.20118713378906, 125.48917388916016, 153.4550323486328, 137.84092712402344, 126.75788879394531, 3.5170042514801025, 0.7488113045692444, 0.7416607737541199, 15.84493350982666, 0.5107565522193909, 4.3861894607543945, 5.656793594360352, 0.5614108443260193, 0.5572771430015564, 0.5488693118095398, 4.8184099197387695, 62.78096389770508, 57.32780075073242, 16.759855270385742, 152.8643798828125, 145.2500457763672, 127.29240417480469, 202.77944946289062, 105.13396453857422, 134.85621643066406, 94.02494049072266, 116.33744049072266, 102.61943054199219, 108.063232421875, 106.10578155517578, 109.71613311767578, 112.83421325683594, 0.5414304137229919, 0.5315715074539185, 0.5293586850166321, 0.5122785568237305, 0.7646504640579224, 0.5093737840652466, 1.2531763315200806, 0.4942804276943207, 0.49805405735969543, 0.49504610896110535, 10.07737922668457, 1.9864239692687988, 7.47730827331543, 3.5642788410186768, 116.32841491699219, 147.73312377929688, 10.658162117004395, 15.352377891540527, 218.59083557128906, 70.52384948730469, 76.70191192626953, 105.15894317626953, 40.94099044799805, 139.6011505126953, 80.6657943725586, 82.4046859741211, 97.6424560546875, 100.72216033935547, 128.67031860351562, 104.54132843017578, 101.9079818725586, 101.71573638916016, 100.95841217041016, 0.7111843228340149, 5.79047155380249, 2.7988617420196533, 1.2104042768478394, 1.0738890171051025, 1.329061508178711, 1.2833396196365356, 1.5624239444732666, 2.28218936920166, 0.5144147872924805, 1.0789681673049927, 138.11192321777344, 135.70545959472656, 164.93638610839844, 97.49735260009766, 139.03338623046875, 85.01886749267578, 128.21505737304688, 107.96517181396484, 115.82495880126953, 182.30909729003906, 130.91732788085938, 117.20506286621094, 1.2334731817245483, 1.133243203163147, 0.7932302355766296, 0.27394887804985046, 0.5548446774482727, 0.24563759565353394, 0.23424232006072998, 0.23640915751457214, 0.5043359994888306, 0.22927384078502655, 1.653845191001892, 0.8268337845802307, 0.822411835193634, 7.7861223220825195, 47.13345718383789, 84.50135040283203, 64.00225830078125, 46.4392204284668, 76.22272491455078, 49.70176696777344, 68.0339126586914, 96.70614624023438, 65.61381530761719, 77.817626953125, 70.26541900634766, 67.93183135986328, 61.01240158081055, 69.04813385009766, 83.1530990600586, 8.016596794128418, 0.8474451303482056, 3.6405563354492188, 0.3414321839809418, 5.216503620147705, 0.5451181530952454, 0.3359411060810089, 0.3199499845504761, 0.31469255685806274, 2.4453914165496826, 0.5298840403556824, 2.7015345096588135, 89.9083251953125, 68.4999771118164, 43.90778732299805, 88.68925476074219, 62.198524475097656, 64.0089111328125, 40.31636047363281, 69.86573791503906, 61.563148498535156, 61.03485107421875, 58.09659194946289, 58.03616714477539, 0.4669843316078186, 0.2982351779937744, 0.2630824148654938, 0.38006168603897095, 0.2309543788433075, 0.37035900354385376, 0.33664801716804504, 0.46671679615974426, 0.20558010041713715, 0.3019939064979553, 0.31400105357170105, 0.6730656623840332, 2.0046770572662354, 136.26983642578125, 26.633548736572266, 34.75784683227539, 39.13486099243164, 56.1225471496582, 53.10407257080078, 42.705997467041016, 44.32033157348633, 28.558504104614258, 43.178443908691406, 47.61626434326172, 47.31440353393555, 46.802703857421875, 46.24631118774414, 43.701847076416016, 1.8262944221496582, 0.8947053551673889, 0.3649521470069885, 0.33780479431152344, 0.4942696690559387, 0.49913474917411804, 0.14749369025230408, 0.23476822674274445, 0.2230144739151001, 0.3511999547481537, 0.47668465971946716, 6.324920654296875, 1.6537439823150635, 4.4915642738342285, 42.765113830566406, 38.405029296875, 32.994388580322266, 60.48147201538086, 30.771841049194336, 26.329769134521484, 34.093971252441406, 25.03458595275879, 35.475677490234375, 33.961544036865234, 34.97239685058594, 32.56585693359375, 37.64619064331055, 0.2691091299057007, 0.8105165958404541, 0.26942306756973267, 0.23283608257770538, 0.8580714464187622, 0.24888505041599274, 0.18818122148513794, 0.12804490327835083, 0.1771511286497116, 0.2276581972837448, 3.755791664123535, 0.8905796408653259, 4.478816509246826, 1.2184354066848755, 3.2747018337249756, 19.443580627441406, 56.249324798583984, 15.03483772277832, 31.093509674072266, 20.84453773498535, 24.560440063476562, 25.991933822631836, 19.912782669067383, 35.06171798706055, 28.302154541015625, 26.854711532592773, 26.82583236694336, 25.251821517944336, 22.675710678100586, 23.678102493286133], \"Term\": [\"personally\", \"advertising\", \"application\", \"communication\", \"customer\", \"child\", \"mobile\", \"marketing\", \"offer\", \"credit\", \"vistor\", \"cryptography\", \"sdsu\", \"nacelink\", \"leadback\", \"impress\", \"bskyb\", \"editoronline\", \"rubiconproject\", \"rubicon\", \"bean\", \"comscore\", \"nickelodeon\", \"starfall\", \"kijiji\", \"advertising\", \"mobile\", \"review\", \"additional\", \"feature\", \"option\", \"application\", \"disclosure\", \"business\", \"advertiser\", \"technology\", \"choose\", \"marketing\", \"message\", \"child\", \"personally\", \"proposing\", \"pageviews\", \"likebox\", \"apassah\", \"consentif\", \"continental\", \"portalthe\", \"neal\", \"intruded\", \"railway\", \"imagine\", \"personally\", \"ithaka\", \"activity\", \"advertising\", \"feature\", \"interest\", \"cookie\", \"child\", \"network\", \"social\", \"comment\", \"marketing\", \"disclose\", \"customer\", \"business\", \"pinterest\", \"repinned\", \"repins\", \"prweb\", \"traded\", \"costly\", \"geekdo\", \"tiered\", \"scripting\", \"spine\", \"cookie\", \"type\", \"advertiser\", \"technology\", \"partner\", \"specific\", \"public\", \"offer\", \"activity\", \"visitor\", \"consent\", \"preference\", \"business\", \"personally\", \"advertising\", \"phpbb\", \"xkcd\", \"materialyou\", \"thrid\", \"recieve\", \"pooling\", \"correios\", \"manliness\", \"bare\", \"ciphered\", \"greynium\", \"hereinafter\", \"advertising\", \"advertisement\", \"mobile\", \"personally\", \"business\", \"visitor\", \"notice\", \"technology\", \"consent\", \"collection\", \"include\", \"feature\", \"cookie\", \"timesaving\", \"etesz\", \"conger\", \"geekdo\", \"expressway\", \"octet\", \"pobox\", \"tegrazone\", \"sthash\", \"dpuf\", \"million\", \"webhost\", \"http\", \"identifying\", \"public\", \"choose\", \"measure\", \"sell\", \"message\", \"identify\", \"personally\", \"activity\", \"applicable\", \"customer\", \"partner\", \"communication\", \"marketing\", \"cookie\", \"business\", \"interest\", \"advertising\", \"feedly\", \"diskette\", \"wewill\", \"requestor\", \"port\", \"wmtransfer\", \"tohttp\", \"minister\", \"usor\", \"shouldbe\", \"notation\", \"extraneous\", \"league\", \"child\", \"individual\", \"message\", \"partner\", \"promotion\", \"personally\", \"parent\", \"consent\", \"disclose\", \"server\", \"social\", \"activity\", \"application\", \"advertisement\", \"interest\", \"ankama\", \"pronunciation\", \"rhyme\", \"poem\", \"typed\", \"synonym\", \"pointing\", \"consonant\", \"policyeach\", \"fanatic\", \"customer\", \"credit\", \"purchase\", \"harbor\", \"communication\", \"safe\", \"consent\", \"update\", \"mobile\", \"offer\", \"collection\", \"personally\", \"marketing\", \"business\", \"advertising\", \"sutter\", \"forus\", \"comfax\", \"southern\", \"dedication\", \"fios\", \"door\", \"aligned\", \"wage\", \"healthwise\", \"cbbb\", \"housing\", \"lottery\", \"material\", \"monster\", \"visitor\", \"interest\", \"cookie\", \"advertisement\", \"marketing\", \"click\", \"statement\", \"offer\", \"personally\", \"application\", \"advertising\", \"customer\", \"feature\", \"starfall\", \"updations\", \"portalswe\", \"physician\", \"norman\", \"supporter\", \"github\", \"clergy\", \"laboratory\", \"approves\", \"volvo\", \"health\", \"protected\", \"talk\", \"activity\", \"marketing\", \"application\", \"personally\", \"public\", \"cookie\", \"social\", \"mobile\", \"include\", \"child\", \"interest\", \"business\", \"advertising\", \"itto\", \"changesmay\", \"inception\", \"productsto\", \"czech\", \"websiteyour\", \"nacelink\", \"exceeds\", \"applicationsnon\", \"uspersonal\", \"forever\", \"qualifies\", \"tier\", \"translation\", \"system\", \"visitor\", \"gaia\", \"monster\", \"personally\", \"affiliate\", \"list\", \"required\", \"persistent\", \"customer\", \"password\", \"right\", \"notice\", \"application\", \"advertising\", \"offer\", \"disclose\", \"message\", \"activity\", \"concessioner\", \"webhost\", \"testosterone\", \"idnm\", \"organizationsof\", \"visitorfrom\", \"bodiesfrom\", \"soccer\", \"daily\", \"andusing\", \"honored\", \"credit\", \"partner\", \"customer\", \"improve\", \"offer\", \"based\", \"marketing\", \"preference\", \"visitor\", \"personally\", \"business\", \"advertising\", \"factory\", \"forex\", \"ffed\", \"constitues\", \"margin\", \"painstakingly\", \"proportional\", \"profitable\", \"checkm\", \"planted\", \"bloomingdales\", \"bykrbayb\", \"cienega\", \"reply\", \"list\", \"marketing\", \"card\", \"event\", \"disclose\", \"password\", \"application\", \"advertising\", \"communication\", \"customer\", \"interest\", \"offer\", \"credit\", \"feature\", \"personally\", \"macys\", \"regent\", \"musician\", \"sight\", \"campus\", \"webadmin\", \"prominence\", \"iteration\", \"subpages\", \"bloomingdales\", \"laurel\", \"coremetrics\", \"communication\", \"notice\", \"transaction\", \"advertising\", \"partner\", \"consent\", \"promotion\", \"business\", \"child\", \"marketing\", \"offer\", \"customer\", \"bulbagarden\", \"maillol\", \"collaborator\", \"domicile\", \"wordcamp\", \"pronouncement\", \"pobox\", \"clickbank\", \"intruded\", \"oppose\", \"usercp\", \"caveat\", \"deviantart\", \"personally\", \"identifying\", \"statement\", \"right\", \"mobile\", \"visitor\", \"required\", \"preference\", \"agreement\", \"credit\", \"message\", \"marketing\", \"feature\", \"business\", \"offer\", \"forecast\", \"wind\", \"bdnews\", \"rainfall\", \"norwegian\", \"factory\", \"carnival\", \"sunrise\", \"contentious\", \"ffed\", \"forex\", \"talk\", \"campus\", \"football\", \"child\", \"application\", \"card\", \"personally\", \"control\", \"experience\", \"communication\", \"location\", \"mobile\", \"interest\", \"feature\", \"technology\", \"advertising\", \"addressemail\", \"staffing\", \"addresscredit\", \"southern\", \"caremark\", \"diabetic\", \"winter\", \"empower\", \"itbusinessedge\", \"checkm\", \"gaia\", \"arranger\", \"vehicle\", \"suppress\", \"dealer\", \"affiliate\", \"personally\", \"game\", \"application\", \"beacon\", \"public\", \"include\", \"connection\", \"advertising\", \"marketing\", \"message\", \"offer\", \"communication\", \"server\", \"child\"], \"Total\": [3535.0, 2827.0, 1756.0, 1754.0, 2273.0, 1993.0, 1966.0, 2052.0, 1939.0, 1628.0, 2.558631658554077, 2.5586318969726562, 3.5074260234832764, 4.727488994598389, 3.6263623237609863, 3.593550443649292, 2.3145651817321777, 2.21858549118042, 3.572617292404175, 3.5943267345428467, 15.982479095458984, 26.135921478271484, 115.69466400146484, 7.361276149749756, 12.833685874938965, 2827.35302734375, 1966.6053466796875, 1152.2135009765625, 893.061279296875, 2173.29541015625, 738.6126708984375, 1756.0064697265625, 1272.614990234375, 2263.0146484375, 1483.143310546875, 1932.630126953125, 1760.908935546875, 2052.843017578125, 1900.4305419921875, 1993.3704833984375, 3535.6708984375, 3.4446163177490234, 3.429786205291748, 3.428600311279297, 4.684638023376465, 2.1128296852111816, 2.1137030124664307, 2.1024837493896484, 2.1014459133148193, 1.8482081890106201, 3.0283584594726562, 4.66072940826416, 3535.6708984375, 41.378604888916016, 1986.0472412109375, 2827.35302734375, 2173.29541015625, 1972.5526123046875, 2171.945556640625, 1993.3704833984375, 1449.34912109375, 1291.9844970703125, 826.7579345703125, 2052.843017578125, 1893.0579833984375, 2273.8515625, 2263.0146484375, 77.08928680419922, 2.0529026985168457, 2.0506253242492676, 8.283159255981445, 2.1643900871276855, 2.00773549079895, 6.427659034729004, 1.9733638763427734, 14.433036804199219, 15.758543968200684, 2171.945556640625, 1634.39990234375, 1483.143310546875, 1932.630126953125, 1745.0579833984375, 996.069091796875, 1393.5889892578125, 1939.0306396484375, 1986.0472412109375, 1829.042724609375, 1858.84912109375, 1660.65869140625, 2263.0146484375, 3535.6708984375, 2827.35302734375, 8.92361831665039, 9.891369819641113, 1.7857540845870972, 1.7820900678634644, 1.7771152257919312, 3.0249500274658203, 10.819159507751465, 8.565666198730469, 1.858926773071289, 1.8609064817428589, 6.892045497894287, 43.45696258544922, 2827.35302734375, 1864.8277587890625, 1966.6053466796875, 3535.6708984375, 2263.0146484375, 1829.042724609375, 1593.3486328125, 1932.630126953125, 1858.84912109375, 1425.7252197265625, 1614.05517578125, 2173.29541015625, 2171.945556640625, 1.722132682800293, 1.722966194152832, 1.711174488067627, 6.427659034729004, 1.9035853147506714, 1.7034212350845337, 2.605276584625244, 1.9284780025482178, 5.111536026000977, 5.1250691413879395, 20.339927673339844, 15.19061279296875, 1081.9757080078125, 571.0475463867188, 1393.5889892578125, 1760.908935546875, 848.245361328125, 637.7562866210938, 1900.4305419921875, 1181.4410400390625, 3535.6708984375, 1986.0472412109375, 1040.6297607421875, 2273.8515625, 1745.0579833984375, 1754.363525390625, 2052.843017578125, 2171.945556640625, 2263.0146484375, 1972.5526123046875, 2827.35302734375, 14.692909240722656, 3.393008232116699, 2.894818067550659, 3.0775115489959717, 2.5517313480377197, 1.719865083694458, 1.7204982042312622, 3.0812454223632812, 1.8900967836380005, 1.9001147747039795, 7.22891902923584, 3.810046911239624, 14.434783935546875, 1993.3704833984375, 1288.8717041015625, 1900.4305419921875, 1745.0579833984375, 955.3052978515625, 3535.6708984375, 760.7572631835938, 1858.84912109375, 1893.0579833984375, 1481.8953857421875, 1291.9844970703125, 1986.0472412109375, 1756.0064697265625, 1864.8277587890625, 1972.5526123046875, 6.153035640716553, 4.041020393371582, 5.047586441040039, 2.9845714569091797, 14.403457641601562, 2.9831321239471436, 1.9090125560760498, 2.9716267585754395, 1.9038349390029907, 1.9148223400115967, 2273.8515625, 1628.4034423828125, 1112.97705078125, 329.65032958984375, 1754.363525390625, 505.7436828613281, 1858.84912109375, 1279.5025634765625, 1966.6053466796875, 1939.0306396484375, 1425.7252197265625, 3535.6708984375, 2052.843017578125, 2263.0146484375, 2827.35302734375, 8.633541107177734, 1.6303136348724365, 1.630569577217102, 3.1418638229370117, 2.813636064529419, 2.888484477996826, 6.005527496337891, 2.9709224700927734, 1.826969027519226, 1.8519182205200195, 38.73281478881836, 9.311795234680176, 36.760494232177734, 911.5299072265625, 123.11561584472656, 1829.042724609375, 1972.5526123046875, 2171.945556640625, 1864.8277587890625, 2052.843017578125, 1262.1962890625, 857.6317749023438, 1939.0306396484375, 3535.6708984375, 1756.0064697265625, 2827.35302734375, 2273.8515625, 2173.29541015625, 7.361276149749756, 1.6269479990005493, 1.62945556640625, 43.19744110107422, 1.5519992113113403, 13.540273666381836, 17.752025604248047, 1.847477674484253, 1.860266089439392, 1.8420618772506714, 18.559377670288086, 377.9717712402344, 364.84796142578125, 95.62218475341797, 1986.0472412109375, 2052.843017578125, 1756.0064697265625, 3535.6708984375, 1393.5889892578125, 2171.945556640625, 1291.9844970703125, 1966.6053466796875, 1614.05517578125, 1993.3704833984375, 1972.5526123046875, 2263.0146484375, 2827.35302734375, 1.9065024852752686, 1.8762292861938477, 1.870084285736084, 1.8687618970870972, 2.79468035697937, 1.8895517587661743, 4.727488994598389, 1.8848780393600464, 1.9052455425262451, 1.8971474170684814, 44.84111404418945, 9.273365020751953, 43.740272521972656, 18.76170539855957, 1292.90283203125, 1829.042724609375, 73.35710906982422, 123.11561584472656, 3535.6708984375, 859.6019287109375, 967.3472290039062, 1510.6617431640625, 445.58953857421875, 2273.8515625, 1148.0, 1220.496826171875, 1593.3486328125, 1756.0064697265625, 2827.35302734375, 1939.0306396484375, 1893.0579833984375, 1900.4305419921875, 1986.0472412109375, 1.716132402420044, 15.19061279296875, 8.716150283813477, 3.7757463455200195, 3.8674209117889404, 4.9068450927734375, 4.868173599243164, 5.973028182983398, 9.034869194030762, 2.054964542388916, 4.956187725067139, 1628.4034423828125, 1745.0579833984375, 2273.8515625, 1179.4388427734375, 1939.0306396484375, 1176.8221435546875, 2052.843017578125, 1660.65869140625, 1829.042724609375, 3535.6708984375, 2263.0146484375, 2827.35302734375, 5.325203895568848, 5.473229885101318, 3.986342668533325, 1.5095736980438232, 3.4375569820404053, 1.6701765060424805, 1.6652297973632812, 1.6844569444656372, 3.6610872745513916, 1.6758729219436646, 12.495965957641602, 6.440268039703369, 6.586716175079346, 95.27779388427734, 967.3472290039062, 2052.843017578125, 1459.428466796875, 979.304931640625, 1893.0579833984375, 1148.0, 1756.0064697265625, 2827.35302734375, 1754.363525390625, 2273.8515625, 1972.5526123046875, 1939.0306396484375, 1628.4034423828125, 2173.29541015625, 3535.6708984375, 22.81009292602539, 3.312631607055664, 16.623916625976562, 1.5737760066986084, 24.094114303588867, 2.550661325454712, 1.5773757696151733, 1.5853747129440308, 1.607606053352356, 12.495965957641602, 2.7083568572998047, 18.96486473083496, 1754.363525390625, 1593.3486328125, 949.6561279296875, 2827.35302734375, 1745.0579833984375, 1858.84912109375, 955.3052978515625, 2263.0146484375, 1993.3704833984375, 2052.843017578125, 1939.0306396484375, 2273.8515625, 2.1917481422424316, 1.5008139610290527, 1.5043166875839233, 2.6113948822021484, 1.6293808221817017, 2.82208251953125, 2.605276584625244, 3.9707512855529785, 1.8482081890106201, 2.719531297683716, 2.8309667110443115, 6.4751296043396, 21.875425338745117, 3535.6708984375, 571.0475463867188, 857.6317749023438, 1220.496826171875, 1966.6053466796875, 1829.042724609375, 1510.6617431640625, 1660.65869140625, 904.0924682617188, 1628.4034423828125, 1900.4305419921875, 2052.843017578125, 2173.29541015625, 2263.0146484375, 1939.0306396484375, 16.783859252929688, 8.611655235290527, 3.545380115509033, 3.3079464435577393, 4.8498759269714355, 5.325203895568848, 1.6185156106948853, 2.5859811305999756, 2.4705939292907715, 3.986342668533325, 5.473229885101318, 95.62218475341797, 24.094114303588867, 78.52934265136719, 1993.3704833984375, 1756.0064697265625, 1459.428466796875, 3535.6708984375, 1464.8489990234375, 1194.9267578125, 1754.363525390625, 1138.0404052734375, 1966.6053466796875, 1972.5526123046875, 2173.29541015625, 1932.630126953125, 2827.35302734375, 3.5018978118896484, 10.619035720825195, 3.550323247909546, 3.1418638229370117, 11.98774242401123, 3.5776302814483643, 2.7314679622650146, 1.9678947925567627, 2.772216320037842, 3.6610872745513916, 73.35710906982422, 17.080028533935547, 114.64298248291016, 25.23935317993164, 83.02027130126953, 859.6019287109375, 3535.6708984375, 640.0831298828125, 1756.0064697265625, 1097.6746826171875, 1393.5889892578125, 1614.05517578125, 1130.14501953125, 2827.35302734375, 2052.843017578125, 1900.4305419921875, 1939.0306396484375, 1754.363525390625, 1481.8953857421875, 1993.3704833984375], \"loglift\": [10.0, 9.0, 8.0, 7.0, 6.0, 5.0, 4.0, 3.0, 2.0, 1.0, 1.498900055885315, 1.498900055885315, 1.1621999740600586, 1.1613999605178833, 1.0536999702453613, 1.0378999710083008, 1.0277999639511108, 1.0246000289916992, 1.0221999883651733, 1.0202000141143799, 0.9377999901771545, 0.9093000292778015, 0.8094000220298767, 0.9577000141143799, 0.9023000001907349, 0.32089999318122864, 0.3449999988079071, 0.3968000113964081, 0.4072999954223633, 0.27070000767707825, 0.4072999954223633, 0.25049999356269836, 0.28459998965263367, 0.16660000383853912, 0.24580000340938568, 0.18240000307559967, 0.19200000166893005, 0.14339999854564667, 0.1421000063419342, 0.07670000195503235, -0.35530000925064087, 1.832200050354004, 1.8133000135421753, 1.777400016784668, 1.7618999481201172, 1.6763999462127686, 1.6759999990463257, 1.6397000551223755, 1.615399956703186, 1.3640999794006348, 1.301200032234192, 1.288699984550476, 0.35440000891685486, 0.9592000246047974, 0.3192000091075897, 0.25459998846054077, 0.28780001401901245, 0.2800999879837036, 0.2506999969482422, 0.2289000004529953, 0.2996000051498413, 0.2847999930381775, 0.36910000443458557, 0.10779999941587448, 0.10779999941587448, 0.0203000009059906, -0.059300001710653305, 1.7962000370025635, 1.680999994277954, 1.680899977684021, 1.6634000539779663, 1.611299991607666, 1.5490000247955322, 1.4996000528335571, 1.44760000705719, 1.4214999675750732, 1.288100004196167, 0.4251999855041504, 0.4284999966621399, 0.4302999973297119, 0.2387000024318695, 0.2538999915122986, 0.37540000677108765, 0.29679998755455017, 0.19769999384880066, 0.1906999945640564, 0.2117999941110611, 0.1656000018119812, 0.2045000046491623, 0.028200000524520874, -0.226500004529953, -0.2062000036239624, 2.1552999019622803, 2.096400022506714, 1.874899983406067, 1.8494999408721924, 1.8042000532150269, 1.7855000495910645, 1.7533999681472778, 1.735200047492981, 1.6648999452590942, 1.6318000555038452, 1.5855000019073486, 1.261199951171875, 0.38999998569488525, 0.45019999146461487, 0.34689998626708984, 0.1899999976158142, 0.2264000028371811, 0.25679999589920044, 0.25369998812675476, 0.14740000665187836, 0.10589999705553055, 0.19499999284744263, 0.14090000092983246, -0.016300000250339508, -0.023399999365210533, 1.9630000591278076, 1.962499976158142, 1.9296000003814697, 1.5607999563217163, 1.5405999422073364, 1.513800024986267, 1.4816999435424805, 1.4788999557495117, 1.4717999696731567, 1.4678000211715698, 1.208299994468689, 1.205199956893921, 0.5324000120162964, 0.5519999861717224, 0.3698999881744385, 0.32330000400543213, 0.46320000290870667, 0.5156999826431274, 0.2822999954223633, 0.38589999079704285, 0.03830000013113022, 0.18469999730587006, 0.34290000796318054, 0.055399999022483826, 0.1281999945640564, 0.12330000102519989, 0.031300000846385956, -0.013799999840557575, -0.05570000037550926, 0.03539999946951866, -0.28209999203681946, 2.0989999771118164, 2.043100118637085, 1.9026999473571777, 1.885200023651123, 1.8305000066757202, 1.7834999561309814, 1.749400019645691, 1.7351000308990479, 1.7252999544143677, 1.7015999555587769, 1.6664999723434448, 1.6753000020980835, 1.5677000284194946, 0.5120000243186951, 0.558899998664856, 0.4174000024795532, 0.35659998655319214, 0.4839000105857849, 0.09300000220537186, 0.4893999993801117, 0.17640000581741333, 0.16269999742507935, 0.22519999742507935, 0.26919999718666077, 0.07750000059604645, 0.08799999952316284, 0.03359999880194664, -0.017000000923871994, 2.3931000232696533, 2.1166000366210938, 2.0392000675201416, 2.037600040435791, 2.0353000164031982, 2.000699996948242, 1.9484000205993652, 1.933500051498413, 1.894700050354004, 1.8787000179290771, 0.8590999841690063, 0.6446999907493591, 0.5566999912261963, 0.7699999809265137, 0.326200008392334, 0.6025000214576721, 0.23190000653266907, 0.3391000032424927, 0.1687999963760376, 0.09459999948740005, 0.17409999668598175, -0.2249000072479248, -0.00860000029206276, -0.06440000236034393, -0.3752000033855438, 2.2309000492095947, 2.033799886703491, 2.032399892807007, 1.9365999698638916, 1.9255000352859497, 1.8980000019073486, 1.8712999820709229, 1.8654999732971191, 1.8127000331878662, 1.756500005722046, 1.6141999959945679, 1.6553000211715698, 1.3803999423980713, 0.5680000185966492, 1.0155999660491943, 0.3634999990463257, 0.3393999934196472, 0.267300009727478, 0.3018999993801117, 0.23409999907016754, 0.34850001335144043, 0.4593999981880188, 0.2071000039577484, -0.011599999852478504, 0.21610000729560852, -0.05900000035762787, 0.051600001752376556, 0.013000000268220901, 2.1445000171661377, 2.107100009918213, 2.0959999561309814, 1.8802000284194946, 1.7717000246047974, 1.7559000253677368, 1.7395000457763672, 1.6920000314712524, 1.6777000427246094, 1.6722999811172485, 1.534600019454956, 1.0879000425338745, 1.0324000120162964, 1.141700029373169, 0.31869998574256897, 0.2345999926328659, 0.2587999999523163, 0.02459999918937683, 0.2987000048160553, 0.1039000004529953, 0.26269999146461487, 0.05550000071525574, 0.12759999930858612, -0.03180000185966492, -0.039500001817941666, -0.14350000023841858, -0.33809998631477356, 1.6718000173568726, 1.6693999767303467, 1.6684999465942383, 1.6363999843597412, 1.6345000267028809, 1.6196999549865723, 1.6029000282287598, 1.5921000242233276, 1.5888999700546265, 1.5871000289916992, 1.4378000497817993, 1.389799952507019, 1.164199948310852, 1.269700050354004, 0.5224000215530396, 0.41440001130104065, 1.0016000270843506, 0.8486999869346619, 0.14710000157356262, 0.4300999939441681, 0.3959999978542328, 0.26579999923706055, 0.5432999730110168, 0.14010000228881836, 0.2750999927520752, 0.23520000278949738, 0.13830000162124634, 0.0722000002861023, -0.15929999947547913, 0.010200000368058681, 0.008700000122189522, 0.002899999963119626, -0.04859999939799309, 2.081399917602539, 1.9979000091552734, 1.8264000415802002, 1.8246999979019165, 1.680999994277954, 1.6562000513076782, 1.62909996509552, 1.6212999820709229, 1.586400032043457, 1.577299952507019, 1.4377000331878662, 0.4950000047683716, 0.4083000123500824, 0.33869999647140503, 0.46939998865127563, 0.32710000872612, 0.3346000015735626, 0.1890999972820282, 0.22920000553131104, 0.2029000073671341, -0.0026000000070780516, 0.11240000277757645, -0.2207999974489212, 1.9169000387191772, 1.8047000169754028, 1.7649999856948853, 1.6727999448776245, 1.5556999444961548, 1.4627000093460083, 1.4180999994277954, 1.4158999919891357, 1.3971999883651733, 1.3903000354766846, 1.357200026512146, 1.326799988746643, 1.2989000082015991, 0.875, 0.3578999936580658, 0.18930000066757202, 0.2526000142097473, 0.33079999685287476, 0.1671999990940094, 0.23980000615119934, 0.12870000302791595, 0.004100000020116568, 0.0934000015258789, 0.004600000102072954, 0.04470000043511391, 0.02810000069439411, 0.09520000219345093, -0.06970000267028809, -0.37049999833106995, 2.5179998874664307, 2.2004001140594482, 2.0450000762939453, 2.035599946975708, 2.033600091934204, 2.0206000804901123, 2.0171000957489014, 1.9632999897003174, 1.932800054550171, 1.9325000047683716, 1.9322999715805054, 1.61489999294281, 0.5925999879837036, 0.41690000891685486, 0.48969998955726624, 0.10170000046491623, 0.22949999570846558, 0.19499999284744263, 0.3984000086784363, 0.08579999953508377, 0.08619999885559082, 0.04820000007748604, 0.05590000003576279, -0.10450000315904617, 2.2925000190734863, 2.2227001190185547, 2.0950000286102295, 1.9112999439239502, 1.8848999738693237, 1.8078999519348145, 1.7924000024795532, 1.69760000705719, 1.6425000429153442, 1.6407999992370605, 1.6396000385284424, 1.5746999979019165, 1.448699951171875, 0.5825999975204468, 0.7732999920845032, 0.6327999830245972, 0.3986000120639801, 0.28209999203681946, 0.2992999851703644, 0.2727000117301941, 0.2151000052690506, 0.38359999656677246, 0.2085999995470047, 0.15199999511241913, 0.06849999725818634, 0.0006000000284984708, -0.051899999380111694, 0.04610000178217888, 2.0092999935150146, 1.9630999565124512, 1.9537999629974365, 1.9457999467849731, 1.9437999725341797, 1.8601000308990479, 1.8320000171661377, 1.8281999826431274, 1.8224999904632568, 1.798200011253357, 1.7867000102996826, 1.5115000009536743, 1.5484999418258667, 1.3661999702453613, 0.3856000006198883, 0.4047999978065491, 0.43799999356269836, 0.1590999960899353, 0.3644999861717224, 0.4122999906539917, 0.2867000102996826, 0.4106000065803528, 0.21220000088214874, 0.1656000018119812, 0.09799999743700027, 0.14409999549388885, -0.09139999747276306, 1.8305000066757202, 1.823799967765808, 1.8179999589920044, 1.7941999435424805, 1.7595000267028809, 1.7309999465942383, 1.7213000059127808, 1.6641000509262085, 1.6461000442504883, 1.6188000440597534, 1.424399971961975, 1.4427000284194946, 1.1540000438690186, 1.3655999898910522, 1.163599967956543, 0.6075000166893005, 0.2556000053882599, 0.6452999711036682, 0.3626999855041504, 0.4325999915599823, 0.3580000102519989, 0.2678000032901764, 0.357699990272522, 0.006500000134110451, 0.11240000277757645, 0.1370999962091446, 0.11590000241994858, 0.15549999475479126, 0.2167000025510788, -0.0364999994635582], \"logprob\": [10.0, 9.0, 8.0, 7.0, 6.0, 5.0, 4.0, 3.0, 2.0, 1.0, -10.533499717712402, -10.533499717712402, -10.554800033569336, -10.257100105285645, -10.630000114440918, -10.654800415039062, -11.104900360107422, -11.150500297546387, -10.676400184631348, -10.672300338745117, -9.26259994506836, -8.799300193786621, -7.411499977111816, -10.017900466918945, -9.517499923706055, -4.70389986038208, -5.042900085449219, -5.525599956512451, -5.769899845123291, -5.017199993133545, -5.959799766540527, -5.250500202178955, -5.538400173187256, -5.0808000564575195, -5.424200057983398, -5.222899913787842, -5.306300163269043, -5.201499938964844, -5.28000020980835, -5.297599792480469, -5.156499862670898, -9.902899742126465, -9.92609977722168, -9.962300300598145, -9.665599822998047, -10.547499656677246, -10.547499656677246, -10.589099884033203, -10.613900184631348, -10.993599891662598, -10.562600135803223, -10.144000053405762, -4.446800231933594, -8.289899826049805, -5.058800220489502, -4.770199775695801, -5.000100135803223, -5.104700088500977, -5.037799835205078, -5.145400047302246, -5.393400192260742, -5.523200035095215, -5.885300159454346, -5.237100124359131, -5.3180999755859375, -5.222300052642822, -5.30679988861084, -6.830699920654297, -10.571599960327148, -10.572799682617188, -9.194299697875977, -10.588500022888184, -10.725799560546875, -9.611700057983398, -10.844499588012695, -8.880900382995605, -8.926400184631348, -4.86329984664917, -5.144400119781494, -5.23960018157959, -5.166600227355957, -5.253499984741211, -5.692599773406982, -5.435400009155273, -5.20419979095459, -5.187300205230713, -5.248499870300293, -5.278600215911865, -5.352499961853027, -5.219200134277344, -5.0278000831604, -5.230899810791016, -8.627900123596191, -8.583800315856934, -10.51710033416748, -10.544599533081055, -10.592700004577637, -10.079500198364258, -8.837200164794922, -9.088899612426758, -10.687000274658203, -10.718999862670898, -9.456000328063965, -7.938899993896484, -4.634799957275391, -4.990699768066406, -5.040900230407715, -4.611199855804443, -5.021100044250488, -5.20359992980957, -5.344600200653076, -5.257800102233887, -5.3383002281188965, -5.514400005340576, -5.444399833679199, -5.304200172424316, -5.3119001388549805, -10.465299606323242, -10.465299606323242, -10.50510025024414, -9.550399780273438, -10.787599563598633, -10.925399780273438, -10.532600402832031, -10.836199760437012, -9.868599891662598, -9.86989974975586, -8.75100040435791, -9.045999526977539, -5.452899932861328, -6.072400093078613, -5.362400054931641, -5.175000190734863, -5.765500068664551, -5.998300075531006, -5.139800071716309, -5.511499881744385, -4.762899875640869, -5.193299770355225, -5.681399822235107, -5.18720006942749, -5.3790998458862305, -5.378699779510498, -5.313600063323975, -5.302299976348877, -5.303199768066406, -5.349400043487549, -5.3069000244140625, -8.185500144958496, -9.707099914550781, -10.00629997253418, -9.962599754333496, -10.20460033416748, -10.646100044250488, -10.679900169372559, -10.111499786376953, -10.609999656677246, -10.628399848937988, -9.327300071716309, -9.958999633789062, -8.73449993133545, -4.862299919128418, -5.251399993896484, -5.0046000480651855, -5.150700092315674, -5.625899791717529, -4.708199977874756, -5.848199844360352, -5.2677998542785645, -5.263199806213379, -5.4456000328063965, -5.53879976272583, -5.30049991607666, -5.413099765777588, -5.407299995422363, -5.401800155639648, -8.761799812316895, -9.458700180053711, -9.313799858093262, -9.840800285339355, -8.269100189208984, -9.878199577331543, -10.376899719238281, -9.949299812316895, -10.433300018310547, -10.443599700927734, -4.383600234985352, -4.93179988861084, -5.400300025939941, -6.403800010681152, -5.17579984664917, -6.143400192260742, -5.212200164794922, -5.478600025177002, -5.218999862670898, -5.307300090789795, -5.535299777984619, -5.026100158691406, -5.353499889373779, -5.3119001388549805, -5.400000095367432, -8.58530044555664, -10.449299812316895, -10.450599670410156, -9.89050006866455, -10.011899948120117, -10.013199806213379, -9.307900428771973, -10.017499923706055, -10.556500434875488, -10.599200248718262, -7.701000213623047, -9.08530044555664, -7.986999988555908, -5.588799953460693, -7.143199920654297, -5.096799850463867, -5.045400142669678, -5.021200180053711, -5.139100074768066, -5.110799789428711, -5.482699871063232, -5.758299827575684, -5.194799900054932, -4.812900066375732, -5.284900188446045, -5.083799839019775, -5.191100120544434, -5.274899959564209, -8.831199645996094, -10.378000259399414, -10.38759994506836, -7.325900077819824, -10.760600090026855, -8.610300064086914, -8.355899810791016, -10.666099548339844, -10.673500061035156, -10.688699722290039, -8.516300201416016, -5.949100017547607, -6.039999961853027, -7.269800186157227, -5.059199810028076, -5.110300064086914, -5.242300033569336, -4.776700019836426, -5.433499813079834, -5.184599876403809, -5.545199871063232, -5.332300186157227, -5.457799911499023, -5.406099796295166, -5.424300193786621, -5.390900135040283, -5.3628997802734375, -10.654800415039062, -10.673199653625488, -10.677399635314941, -10.710200309753418, -10.309599876403809, -10.715900421142578, -9.815600395202637, -10.74590015411377, -10.738300323486328, -10.744400024414062, -7.730999946594238, -9.354999542236328, -8.029399871826172, -8.770299911499023, -5.284900188446045, -5.045899868011475, -7.675000190734863, -7.309999942779541, -4.654099941253662, -5.785299777984619, -5.701399803161621, -5.385799884796143, -6.32919979095459, -5.102499961853027, -5.651000022888184, -5.6296000480651855, -5.460000038146973, -5.428899765014648, -5.184000015258789, -5.39169979095459, -5.417200088500977, -5.419099807739258, -5.426599979400635, -10.3503999710083, -8.253299713134766, -8.980299949645996, -9.818599700927734, -9.938300132751465, -9.725099563598633, -9.760100364685059, -9.563300132751465, -9.184399604797363, -10.674300193786621, -9.933500289916992, -5.081500053405762, -5.099100112915039, -4.9039998054504395, -5.429699897766113, -5.07480001449585, -5.566699981689453, -5.155799865722656, -5.327700138092041, -5.257500171661377, -4.803899765014648, -5.135000228881836, -5.24560022354126, -9.382599830627441, -9.467300415039062, -9.824000358581543, -10.887200355529785, -10.181500434875488, -10.996299743652344, -11.043800354003906, -11.034600257873535, -10.276900291442871, -11.065199851989746, -9.089300155639648, -9.782500267028809, -9.7878999710083, -7.539999961853027, -5.7393999099731445, -5.155600070953369, -5.433499813079834, -5.754199981689453, -5.258699893951416, -5.686299800872803, -5.372399806976318, -5.020699977874756, -5.408599853515625, -5.23799991607666, -5.340099811553955, -5.373899936676025, -5.481299877166748, -5.357600212097168, -5.1717000007629395, -7.326700210571289, -9.573699951171875, -8.116000175476074, -10.482799530029297, -7.756400108337402, -10.014900207519531, -10.49899959564209, -10.547800064086914, -10.564299583435059, -8.513999938964844, -10.043299674987793, -8.414400100708008, -4.90939998626709, -5.181300163269043, -5.626100063323975, -4.922999858856201, -5.2778000831604, -5.249199867248535, -5.711400032043457, -5.161600112915039, -5.288099765777588, -5.2967000007629395, -5.346099853515625, -5.347099781036377, -9.894700050354004, -10.343099594116211, -10.468600273132324, -10.100700378417969, -10.598799705505371, -10.126500129699707, -10.222000122070312, -9.895299911499023, -10.715200424194336, -10.330599784851074, -10.291600227355957, -9.529199600219727, -8.437800407409668, -4.218599796295166, -5.851099967956543, -5.58489990234375, -5.46619987487793, -5.1057000160217285, -5.160999774932861, -5.378900051116943, -5.341800212860107, -5.781300067901611, -5.3678998947143555, -5.270100116729736, -5.276400089263916, -5.287300109863281, -5.299300193786621, -5.355899810791016, -8.142200469970703, -8.85569953918457, -9.752400398254395, -9.829700469970703, -9.44909954071045, -9.439299583435059, -10.65839958190918, -10.193599700927734, -10.244999885559082, -9.790800094604492, -9.485300064086914, -6.899899959564209, -8.241399765014648, -7.242199897766113, -4.988699913024902, -5.09630012512207, -5.2480998039245605, -4.642099857330322, -5.317800045013428, -5.473700046539307, -5.2153000831604, -5.524199962615967, -5.175600051879883, -5.219200134277344, -5.189899921417236, -5.261199951171875, -5.116199970245361, -9.887999534606934, -8.785499572753906, -9.886899948120117, -10.03279972076416, -8.728500366210938, -9.96619987487793, -10.245699882507324, -10.630800247192383, -10.306099891662598, -10.055299758911133, -7.252099990844727, -8.691300392150879, -7.076000213623047, -8.377799987792969, -7.389200210571289, -5.607900142669678, -4.545599937438965, -5.864999771118164, -5.138400077819824, -5.538300037384033, -5.374300003051758, -5.317599773406982, -5.584000110626221, -5.0183000564575195, -5.232500076293945, -5.284999847412109, -5.285999774932861, -5.346499919891357, -5.454100131988525, -5.410799980163574]}, \"token.table\": {\"Topic\": [1, 2, 3, 4, 5, 6, 7, 8, 9, 10, 11, 12, 13, 14, 15, 16, 1, 2, 3, 4, 5, 6, 7, 8, 9, 10, 11, 12, 13, 14, 15, 16, 1, 2, 3, 4, 5, 6, 7, 8, 9, 10, 11, 12, 13, 14, 15, 16, 1, 2, 3, 4, 5, 6, 7, 8, 9, 10, 11, 12, 13, 14, 15, 16, 1, 2, 3, 4, 5, 6, 7, 8, 9, 10, 11, 12, 13, 14, 15, 16, 1, 2, 3, 4, 5, 6, 7, 8, 9, 10, 11, 12, 13, 14, 15, 16, 1, 2, 3, 4, 5, 6, 7, 8, 9, 10, 11, 12, 13, 14, 15, 16, 1, 8, 1, 11, 7, 10, 2, 7, 1, 2, 3, 4, 5, 6, 7, 8, 9, 10, 11, 12, 13, 14, 15, 16, 1, 2, 3, 4, 5, 6, 7, 8, 9, 10, 11, 12, 13, 14, 15, 16, 9, 1, 2, 3, 5, 9, 10, 11, 13, 14, 16, 4, 1, 2, 3, 4, 5, 6, 7, 8, 9, 10, 11, 12, 13, 14, 15, 16, 2, 1, 2, 3, 4, 5, 6, 7, 8, 9, 10, 11, 12, 13, 14, 15, 16, 1, 3, 4, 5, 7, 11, 13, 1, 2, 4, 7, 11, 12, 13, 3, 4, 6, 11, 1, 1, 2, 3, 4, 5, 6, 7, 8, 9, 10, 11, 12, 13, 14, 15, 16, 1, 4, 5, 10, 12, 1, 2, 3, 4, 5, 7, 9, 10, 13, 15, 1, 2, 3, 4, 5, 6, 7, 8, 9, 10, 11, 12, 13, 14, 15, 16, 1, 3, 4, 5, 6, 7, 8, 9, 11, 16, 2, 4, 5, 10, 14, 1, 3, 4, 8, 9, 10, 12, 10, 1, 12, 1, 2, 3, 4, 5, 6, 7, 8, 9, 10, 11, 12, 13, 14, 15, 16, 1, 2, 3, 4, 5, 6, 7, 8, 9, 10, 11, 12, 13, 14, 15, 16, 1, 2, 4, 12, 4, 9, 1, 2, 3, 4, 5, 6, 7, 8, 9, 10, 11, 12, 13, 14, 15, 16, 1, 3, 4, 1, 2, 3, 4, 5, 6, 7, 8, 9, 10, 11, 12, 13, 14, 15, 16, 8, 1, 2, 3, 4, 5, 6, 7, 8, 9, 10, 11, 12, 13, 14, 15, 16, 1, 2, 3, 4, 5, 6, 7, 8, 9, 10, 11, 12, 13, 14, 15, 16, 1, 2, 3, 4, 5, 7, 8, 9, 10, 16, 11, 5, 1, 2, 3, 4, 5, 6, 7, 8, 9, 10, 11, 12, 13, 14, 15, 16, 1, 2, 3, 4, 5, 6, 7, 8, 9, 10, 11, 12, 13, 14, 15, 16, 2, 7, 2, 1, 2, 3, 4, 5, 6, 7, 8, 9, 10, 11, 12, 13, 14, 15, 16, 1, 2, 3, 4, 5, 6, 7, 8, 9, 10, 11, 12, 13, 14, 15, 16, 1, 2, 3, 4, 5, 7, 8, 9, 10, 11, 12, 13, 2, 4, 7, 3, 1, 2, 3, 4, 5, 6, 7, 8, 9, 10, 11, 12, 13, 14, 15, 16, 1, 1, 2, 3, 4, 5, 6, 7, 8, 9, 10, 11, 12, 13, 14, 15, 16, 10, 1, 2, 3, 5, 6, 10, 11, 1, 2, 3, 4, 5, 6, 7, 8, 9, 10, 11, 12, 13, 14, 15, 16, 8, 1, 2, 3, 4, 5, 8, 9, 10, 11, 13, 14, 1, 2, 3, 4, 5, 6, 7, 8, 9, 10, 11, 12, 13, 14, 15, 16, 1, 2, 3, 4, 5, 6, 7, 8, 9, 10, 11, 12, 13, 14, 15, 16, 6, 1, 4, 8, 1, 5, 1, 1, 5, 1, 2, 3, 4, 5, 6, 7, 8, 9, 10, 11, 12, 13, 14, 15, 16, 1, 2, 3, 4, 5, 6, 7, 8, 9, 10, 11, 12, 13, 14, 15, 16, 5, 6, 3, 5, 6, 12, 7, 1, 2, 3, 4, 5, 6, 7, 8, 9, 10, 11, 12, 13, 14, 15, 16, 6, 7, 10, 12, 13, 2, 5, 12, 1, 8, 1, 2, 3, 4, 5, 6, 7, 8, 9, 10, 11, 12, 13, 14, 15, 1, 2, 3, 4, 5, 6, 7, 9, 11, 12, 13, 14, 15, 16, 1, 2, 3, 4, 5, 6, 7, 8, 10, 11, 13, 14, 2, 5, 6, 12, 8, 1, 2, 3, 4, 5, 6, 7, 9, 10, 11, 12, 13, 14, 16, 1, 2, 3, 4, 5, 6, 7, 8, 9, 10, 11, 12, 13, 14, 15, 16, 3, 5, 1, 2, 3, 4, 7, 9, 12, 16, 1, 3, 4, 11, 12, 1, 2, 3, 4, 5, 6, 7, 8, 9, 10, 11, 12, 13, 14, 15, 16, 1, 2, 3, 4, 5, 6, 7, 8, 9, 10, 11, 12, 13, 14, 15, 16, 8, 1, 2, 3, 4, 5, 6, 7, 8, 9, 10, 11, 12, 13, 14, 3, 6, 11, 2, 4, 8, 9, 1, 2, 3, 4, 5, 6, 7, 8, 9, 10, 11, 12, 13, 14, 15, 16, 1, 2, 3, 4, 5, 6, 7, 8, 9, 10, 11, 12, 13, 14, 15, 16, 1, 2, 3, 4, 5, 6, 7, 8, 9, 10, 11, 12, 13, 14, 15, 16, 11, 1, 2, 1, 1, 2, 3, 4, 5, 6, 7, 8, 9, 10, 11, 12, 13, 14, 15, 16, 10, 1, 2, 3, 4, 5, 6, 7, 8, 9, 10, 11, 12, 13, 14, 15, 16, 1, 2, 3, 4, 5, 6, 7, 8, 9, 10, 11, 12, 13, 14, 15, 16, 1, 2, 3, 4, 5, 6, 7, 8, 9, 10, 11, 12, 13, 14, 15, 16, 2, 1, 2, 3, 4, 5, 6, 7, 8, 9, 10, 11, 12, 14, 16, 10, 1, 2, 5, 11, 12, 9, 13, 1, 1, 2, 3, 4, 6, 2, 1, 2, 3, 4, 5, 6, 7, 8, 9, 10, 11, 12, 13, 14, 15, 16, 1, 2, 3, 4, 5, 6, 7, 8, 9, 10, 11, 12, 13, 14, 15, 16, 1, 2, 3, 4, 5, 6, 7, 8, 9, 10, 11, 12, 14, 1, 2, 4, 5, 7, 9, 10, 12, 13, 1, 4, 8, 12, 1, 2, 3, 4, 5, 6, 7, 8, 9, 10, 11, 12, 13, 14, 15, 16, 1, 2, 3, 4, 5, 6, 7, 8, 9, 10, 11, 12, 13, 14, 15, 16, 4, 1, 2, 3, 4, 5, 6, 7, 8, 9, 10, 11, 12, 13, 14, 15, 16, 1, 2, 3, 4, 5, 6, 7, 8, 9, 10, 11, 12, 13, 14, 15, 16, 1, 2, 3, 5, 7, 9, 11, 13, 6, 1, 2, 3, 4, 5, 6, 7, 8, 9, 10, 11, 12, 13, 14, 15, 16, 1, 2, 3, 4, 5, 6, 7, 8, 9, 10, 11, 12, 13, 14, 15, 16, 1, 2, 3, 4, 5, 6, 8, 11, 12, 13, 1, 10, 2, 1, 2, 3, 4, 5, 6, 7, 8, 9, 10, 11, 12, 13, 14, 15, 16, 1, 2, 3, 4, 5, 6, 7, 8, 9, 10, 11, 12, 13, 14, 15, 16, 9, 3, 1, 3, 4, 6, 1, 2, 3, 4, 5, 6, 7, 8, 9, 10, 11, 12, 13, 14, 15, 16, 5, 1, 2, 3, 4, 5, 6, 7, 8, 9, 10, 11, 12, 13, 14, 15, 16, 1, 2, 3, 4, 5, 6, 7, 8, 9, 10, 11, 12, 13, 14, 15, 16, 11, 2, 1, 2, 3, 4, 5, 6, 7, 8, 9, 10, 11, 12, 13, 14, 15, 16, 1, 2, 3, 4, 5, 6, 7, 8, 9, 10, 11, 12, 13, 14, 15, 16, 1, 2, 3, 4, 5, 6, 7, 8, 9, 10, 11, 12, 13, 14, 15, 16, 1, 2, 3, 4, 5, 6, 7, 8, 9, 10, 11, 12, 13, 14, 15, 16, 1, 2, 3, 4, 5, 6, 7, 8, 9, 10, 11, 12, 13, 14, 15, 16, 1, 4, 10, 1, 2, 3, 4, 5, 6, 8, 9, 11, 13, 1, 2, 3, 4, 5, 6, 7, 8, 9, 10, 11, 12, 13, 14, 5, 7, 7, 7, 2, 4, 6, 9, 2, 1, 2, 3, 4, 5, 6, 7, 8, 9, 10, 11, 12, 13, 14, 15, 16, 10, 1, 2, 3, 4, 5, 6, 7, 8, 9, 10, 11, 12, 13, 14, 15, 16, 5, 7, 2, 1, 2, 3, 4, 5, 6, 7, 8, 9, 10, 11, 12, 13, 14, 15, 16, 2, 3, 8, 1, 2, 3, 4, 5, 6, 7, 8, 9, 10, 11, 12, 13, 14, 15, 16, 1, 2, 3, 4, 5, 6, 7, 8, 9, 10, 11, 12, 13, 14, 15, 16, 1, 2, 3, 5, 10, 2, 8, 3, 4, 1, 13, 3, 3, 1, 2, 3, 4, 5, 6, 7, 8, 9, 10, 11, 12, 13, 14, 15, 16, 6, 1, 2, 3, 4, 5, 6, 7, 8, 9, 10, 11, 12, 13, 14, 15, 16, 1, 2, 3, 4, 5, 6, 7, 8, 9, 10, 11, 12, 13, 14, 15, 16, 5, 7, 1, 2, 3, 4, 5, 6, 7, 8, 9, 10, 11, 12, 13, 14, 15, 16, 1, 1, 1, 2, 3, 4, 5, 6, 7, 8, 9, 10, 11, 12, 13, 14, 15, 16, 1, 2, 3, 6, 10, 11, 1, 10, 1, 2, 3, 4, 5, 6, 7, 8, 9, 10, 11, 12, 13, 14, 15, 16, 1, 2, 3, 4, 5, 6, 7, 8, 9, 10, 11, 12, 13, 14, 15, 16, 6, 3, 7, 8, 11, 12, 1, 2, 3, 4, 5, 6, 7, 8, 9, 10, 11, 12, 13, 14, 15, 16, 8, 1, 2, 3, 4, 5, 6, 7, 8, 9, 10, 11, 12, 13, 14, 15, 16, 1, 3, 4, 5, 8, 1, 2, 3, 4, 5, 6, 7, 8, 9, 10, 12, 16, 1, 9, 1, 2, 3, 4, 5, 6, 7, 8, 9, 10, 11, 12, 13, 14, 15, 16, 5, 2, 3, 9, 10, 1, 2, 3, 4, 5, 6, 7, 8, 9, 10, 11, 12, 13, 14, 16, 1, 8, 5, 7, 1, 2, 3, 4, 5, 6, 7, 8, 9, 10, 11, 12, 13, 14, 15, 16, 1, 2, 3, 4, 5, 6, 7, 8, 9, 10, 11, 12, 13, 14, 15, 1, 2, 3, 4, 5, 6, 7, 8, 9, 10, 11, 12, 13, 14, 15, 16, 5, 1, 3, 4, 6, 11, 4, 1, 2, 3, 4, 5, 6, 7, 8, 9, 10, 11, 12, 13, 14, 15, 3, 5, 6, 3, 1, 2, 3, 4, 5, 6, 7, 8, 9, 10, 11, 12, 13, 14, 15, 16, 1, 2, 3, 4, 5, 6, 7, 8, 10, 11, 1, 2, 3, 4, 5, 6, 7, 8, 9, 10, 11, 12, 13, 14, 15, 16, 1, 2, 4, 5, 7, 1, 2, 3, 4, 5, 6, 7, 8, 9, 10, 11, 12, 13, 14, 15, 16, 9, 3, 6, 1, 2, 3, 4, 5, 6, 7, 8, 9, 10, 11, 12, 13, 14, 15, 16, 1, 2, 3, 4, 5, 6, 7, 8, 9, 10, 11, 12, 13, 14, 15, 16, 3, 6, 11, 1, 1, 2, 3, 4, 6, 8, 9, 12, 13, 8, 1, 13, 4, 5, 11, 16, 10, 6, 1, 2, 3, 6, 11, 13, 15, 1, 6, 1, 4, 10], \"Freq\": [0.12336061149835587, 0.16364163160324097, 0.13494139909744263, 0.07653392851352692, 0.09063228219747543, 0.06747069954872131, 0.0312177874147892, 0.048840731382369995, 0.07703743875026703, 0.05085478350520134, 0.04229506477713585, 0.02718968503177166, 0.025679146870970726, 0.020644020289182663, 0.011580792255699635, 0.009063228964805603, 0.24858316779136658, 0.11309414356946945, 0.13212978839874268, 0.06606489419937134, 0.06942413002252579, 0.05038847774267197, 0.041430529206991196, 0.04590950533747673, 0.0481489934027195, 0.04031078517436981, 0.05374770984053612, 0.03135283291339874, 0.01791590452194214, 0.016796160489320755, 0.012317183427512646, 0.011197440326213837, 0.17267009615898132, 0.11207469552755356, 0.10349481552839279, 0.12440827488899231, 0.0761464461684227, 0.06488534808158875, 0.031102068722248077, 0.0777551680803299, 0.0504067987203598, 0.04611685872077942, 0.04021819308400154, 0.034319523721933365, 0.026275884360074997, 0.015551034361124039, 0.012869820930063725, 0.010188608430325985, 0.21171250939369202, 0.10990171879529953, 0.1712578982114792, 0.07888650894165039, 0.05191676318645477, 0.039780378341674805, 0.039780378341674805, 0.07214407622814178, 0.03168945387005806, 0.024947015568614006, 0.06337890774011612, 0.038431890308856964, 0.02899247780442238, 0.012136385776102543, 0.013484873808920383, 0.011462142691016197, 0.22777488827705383, 0.15314677357673645, 0.09054405242204666, 0.11742431670427322, 0.05659003183245659, 0.028295015916228294, 0.0396130234003067, 0.054114218801259995, 0.03996670991182327, 0.0456257127225399, 0.041381459683179855, 0.034307707101106644, 0.03147820383310318, 0.013440133072435856, 0.013440133072435856, 0.012379069812595844, 0.1791526973247528, 0.11284293234348297, 0.09190300107002258, 0.07561639696359634, 0.07561639696359634, 0.04536983743309975, 0.05816645920276642, 0.05583979934453964, 0.039553191512823105, 0.08259636908769608, 0.05234981328248978, 0.04187985137104988, 0.02093992568552494, 0.030246557667851448, 0.016286607831716537, 0.02210325375199318, 0.11282031983137131, 0.11171423643827438, 0.10618382692337036, 0.06636489182710648, 0.07521354407072067, 0.07853178679943085, 0.0807439535856247, 0.04756150767207146, 0.0674709752202034, 0.07300138473510742, 0.051985833793878555, 0.042031098157167435, 0.03207636624574661, 0.03207636624574661, 0.011060815304517746, 0.013272978365421295, 0.3365958034992218, 0.3365958034992218, 0.48662638664245605, 0.48662638664245605, 0.6500856280326843, 0.16252140700817108, 0.6403909921646118, 0.2134636640548706, 0.12492435425519943, 0.09897852689027786, 0.11627574265003204, 0.05189165472984314, 0.10570522397756577, 0.06150121986865997, 0.07399365305900574, 0.06630600243806839, 0.0643840879201889, 0.06918887048959732, 0.04612591490149498, 0.03459443524479866, 0.03267252445220947, 0.02018008753657341, 0.022102000191807747, 0.010570522397756577, 0.21241380274295807, 0.11617269366979599, 0.09111583977937698, 0.04100212827324867, 0.05865582078695297, 0.06833688169717789, 0.03929370641708374, 0.07118424773216248, 0.07232319563627243, 0.05751687288284302, 0.05239160731434822, 0.03872423246502876, 0.025626329705119133, 0.015375797636806965, 0.02164001204073429, 0.01765369437634945, 0.5428699254989624, 0.2341916412115097, 0.058547910302877426, 0.17564374208450317, 0.058547910302877426, 0.058547910302877426, 0.11709582060575485, 0.058547910302877426, 0.058547910302877426, 0.058547910302877426, 0.058547910302877426, 0.5379447937011719, 0.15720301866531372, 0.14955531060695648, 0.12576241791248322, 0.07902638614177704, 0.0841248631477356, 0.04163755849003792, 0.05268425494432449, 0.046736035495996475, 0.05098476633429527, 0.04248730465769768, 0.07222841680049896, 0.0356893353164196, 0.022943144664168358, 0.0178446676582098, 0.012746191583573818, 0.007647714577615261, 0.2820571959018707, 0.17036013305187225, 0.12116522341966629, 0.10749997198581696, 0.08563557267189026, 0.056483037769794464, 0.06923726946115494, 0.056483037769794464, 0.06832625716924667, 0.0555720217525959, 0.03188558667898178, 0.052838969975709915, 0.033707618713378906, 0.03644067049026489, 0.018220335245132446, 0.017309317365288734, 0.01913135126233101, 0.4379796087741852, 0.06256851553916931, 0.06256851553916931, 0.12513703107833862, 0.06256851553916931, 0.12513703107833862, 0.06256851553916931, 0.08002582937479019, 0.16005165874958038, 0.16005165874958038, 0.08002582937479019, 0.08002582937479019, 0.16005165874958038, 0.16005165874958038, 0.20541584491729736, 0.20541584491729736, 0.20541584491729736, 0.20541584491729736, 0.4320465922355652, 0.1953146904706955, 0.1117977723479271, 0.11489099264144897, 0.09942489862442017, 0.07114403694868088, 0.05214283615350723, 0.054352276027202606, 0.055236052721738815, 0.048607729375362396, 0.0388861820101738, 0.05788738653063774, 0.026071418076753616, 0.030932189896702766, 0.020326867699623108, 0.01325665321201086, 0.00972154550254345, 0.15527303516864777, 0.15527303516864777, 0.15527303516864777, 0.15527303516864777, 0.15527303516864777, 0.2490234673023224, 0.0830078274011612, 0.0415039137005806, 0.0415039137005806, 0.1245117336511612, 0.0415039137005806, 0.0830078274011612, 0.0415039137005806, 0.2075195610523224, 0.0830078274011612, 0.17267033457756042, 0.07400157302618027, 0.11853955686092377, 0.07811277359724045, 0.07468677312135696, 0.0685199722647667, 0.06440877169370651, 0.041111983358860016, 0.0445379838347435, 0.05961237847805023, 0.0671495720744133, 0.0438527837395668, 0.03425998613238335, 0.02672278881072998, 0.0226115919649601, 0.010277995839715004, 0.08341854065656662, 0.08341854065656662, 0.16683708131313324, 0.08341854065656662, 0.08341854065656662, 0.08341854065656662, 0.08341854065656662, 0.16683708131313324, 0.08341854065656662, 0.08341854065656662, 0.15443706512451172, 0.15443706512451172, 0.30887413024902344, 0.15443706512451172, 0.15443706512451172, 0.2581790089607239, 0.12908950448036194, 0.12908950448036194, 0.28399690985679626, 0.025817900896072388, 0.10327160358428955, 0.07745370268821716, 0.5329838991165161, 0.27314290404319763, 0.27314290404319763, 0.1785919964313507, 0.14949554204940796, 0.08728934079408646, 0.0782594084739685, 0.07675442099571228, 0.1043458804488182, 0.028093121945858, 0.056186243891716, 0.0541795939207077, 0.04113635793328285, 0.03561806678771973, 0.02708979696035385, 0.031103098765015602, 0.01906318962574005, 0.021571503952145576, 0.01203990913927555, 0.2004646509885788, 0.12493547797203064, 0.08404750376939774, 0.07836861908435822, 0.10392360389232635, 0.06076407432556152, 0.0567888543009758, 0.05622096359729767, 0.041455864906311035, 0.05451729893684387, 0.04827052727341652, 0.027826538309454918, 0.024987095966935158, 0.017604544758796692, 0.009654104709625244, 0.010221993550658226, 0.15182071924209595, 0.15182071924209595, 0.3036414384841919, 0.15182071924209595, 0.5373725295066833, 0.5412785410881042, 0.15449261665344238, 0.14181628823280334, 0.1291399747133255, 0.06496611982584, 0.08635740727186203, 0.0562511570751667, 0.05545888468623161, 0.08160378783941269, 0.0483284592628479, 0.03802895173430443, 0.0404057614505291, 0.019014475867152214, 0.03406760096549988, 0.021391283720731735, 0.017429934814572334, 0.011884046718478203, 0.2518415153026581, 0.2518415153026581, 0.2518415153026581, 0.20621083676815033, 0.12484873831272125, 0.08767467737197876, 0.09679284691810608, 0.04839642345905304, 0.05541039630770683, 0.06873694807291031, 0.05891738459467888, 0.04629223048686981, 0.05751458927989006, 0.044889435172080994, 0.030861487612128258, 0.027354499325156212, 0.02034052461385727, 0.013326550833880901, 0.012625154107809067, 0.6132826209068298, 0.1149066686630249, 0.17175522446632385, 0.10039214044809341, 0.09071578830480576, 0.08587761223316193, 0.06047719344496727, 0.05563901737332344, 0.05080084130167961, 0.0665249153971672, 0.06410582363605499, 0.03386722877621651, 0.030238596722483635, 0.029029052704572678, 0.024190878495573997, 0.009676351211965084, 0.008466807194054127, 0.14478185772895813, 0.10431133210659027, 0.11571148037910461, 0.06783086806535721, 0.08493108302354813, 0.0627008005976677, 0.08037102967500687, 0.05928075686097145, 0.04902062565088272, 0.03705047443509102, 0.054150693118572235, 0.037620481103658676, 0.05130065605044365, 0.01824023388326168, 0.019380247220396996, 0.014250182546675205, 0.420876681804657, 0.11478455364704132, 0.07652303576469421, 0.07652303576469421, 0.03826151788234711, 0.03826151788234711, 0.07652303576469421, 0.03826151788234711, 0.03826151788234711, 0.03826151788234711, 0.5827056169509888, 0.5843939185142517, 0.21944086253643036, 0.07609643042087555, 0.11679916828870773, 0.07078737765550613, 0.08671453595161438, 0.0805206373333931, 0.048666320741176605, 0.049551162868738174, 0.06459347903728485, 0.04424211010336876, 0.04247242584824562, 0.024775581434369087, 0.024775581434369087, 0.02123621292412281, 0.014157474972307682, 0.017696844413876534, 0.13879555463790894, 0.12696027755737305, 0.13180197775363922, 0.08822663128376007, 0.07154964655637741, 0.07477745413780212, 0.07316354662179947, 0.051644857972860336, 0.04518925026059151, 0.05003095790743828, 0.043037381023168564, 0.03174006938934326, 0.03442990407347679, 0.01775291934609413, 0.010759345255792141, 0.011297312565147877, 0.47329890727996826, 0.33651602268218994, 0.4731033742427826, 0.2041165977716446, 0.09557299315929413, 0.12356222420930862, 0.08806368708610535, 0.07441040128469467, 0.053247809410095215, 0.05256514623761177, 0.05393047258257866, 0.06485310196876526, 0.05393047258257866, 0.03618120402097702, 0.036863867193460464, 0.019114598631858826, 0.01433594897389412, 0.021162590011954308, 0.008874635212123394, 0.1482541710138321, 0.15285834670066833, 0.17035417258739471, 0.07781042158603668, 0.07412708550691605, 0.03407083451747894, 0.028545835986733437, 0.07504792511463165, 0.062156252562999725, 0.04466041922569275, 0.04742291942238808, 0.02900625206530094, 0.020258335396647453, 0.012431250885128975, 0.012431250885128975, 0.010589583776891232, 0.21091634035110474, 0.10545817017555237, 0.052729085087776184, 0.052729085087776184, 0.052729085087776184, 0.10545817017555237, 0.052729085087776184, 0.052729085087776184, 0.052729085087776184, 0.052729085087776184, 0.10545817017555237, 0.15818725526332855, 0.09242862462997437, 0.46214309334754944, 0.2772858738899231, 0.4980735778808594, 0.15720920264720917, 0.08843017369508743, 0.13571575284004211, 0.061409842222929, 0.05895344913005829, 0.03684590756893158, 0.10992361605167389, 0.05281246453523636, 0.04482918605208397, 0.050356071442365646, 0.08474558591842651, 0.037460003048181534, 0.0307049211114645, 0.02640623226761818, 0.010439673438668251, 0.012281968258321285, 0.7816677093505859, 0.14380885660648346, 0.12137995660305023, 0.091474749147892, 0.057171717286109924, 0.07960062474012375, 0.05145454779267311, 0.13633255660533905, 0.060689978301525116, 0.02946542389690876, 0.061569541692733765, 0.07256410270929337, 0.034303031861782074, 0.025507381185889244, 0.017151515930891037, 0.010554778389632702, 0.007916083559393883, 0.3578226864337921, 0.11068228632211685, 0.11068228632211685, 0.11068228632211685, 0.11068228632211685, 0.11068228632211685, 0.11068228632211685, 0.2213645726442337, 0.19272401928901672, 0.18067876994609833, 0.10840725898742676, 0.04818100482225418, 0.036135751754045486, 0.09636200964450836, 0.07227150350809097, 0.04818100482225418, 0.02409050241112709, 0.036135751754045486, 0.04818100482225418, 0.02409050241112709, 0.012045251205563545, 0.02409050241112709, 0.012045251205563545, 0.036135751754045486, 0.35541200637817383, 0.0914267972111702, 0.2742803692817688, 0.0914267972111702, 0.0457133986055851, 0.1371401846408844, 0.0457133986055851, 0.0457133986055851, 0.0457133986055851, 0.0914267972111702, 0.0457133986055851, 0.0914267972111702, 0.14949357509613037, 0.1325896978378296, 0.1225530356168747, 0.08187810331583023, 0.07131318747997284, 0.07342617213726044, 0.05757879465818405, 0.04754212498664856, 0.052824582904577255, 0.053881075233221054, 0.04331615939736366, 0.040146682411432266, 0.027468783780932426, 0.021129833534359932, 0.014262638054788113, 0.011093162931501865, 0.2200194150209427, 0.11393862217664719, 0.10058030486106873, 0.07464944571256638, 0.06600582599639893, 0.08093570917844772, 0.04243231564760208, 0.05107593536376953, 0.06207690387964249, 0.05657641962170601, 0.03850339725613594, 0.028288209810853004, 0.019644590094685555, 0.023573508486151695, 0.011786754243075848, 0.009429403580725193, 0.5894474387168884, 0.16651326417922974, 0.16651326417922974, 0.3330265283584595, 0.19511932134628296, 0.3902386426925659, 0.4507376551628113, 0.5081572532653809, 0.580394446849823, 0.14704306423664093, 0.12457815557718277, 0.13581061363220215, 0.08169059455394745, 0.07454266399145126, 0.0541200190782547, 0.0551411509513855, 0.039824165403842926, 0.06024681031703949, 0.04697209224104881, 0.051056619733572006, 0.04697209224104881, 0.034718502312898636, 0.019401514902710915, 0.015316986478865147, 0.0132747208699584, 0.1857854425907135, 0.1389206498861313, 0.08619774878025055, 0.07699216902256012, 0.0711340680718422, 0.053559768944978714, 0.055233512073755264, 0.053559768944978714, 0.05774412676692009, 0.04853853955864906, 0.06192848086357117, 0.032637983560562134, 0.027616756036877632, 0.018411170691251755, 0.021758655086159706, 0.010042456910014153, 0.5253245234489441, 0.2624639570713043, 0.18778623640537262, 0.18778623640537262, 0.18778623640537262, 0.18778623640537262, 0.5222416520118713, 0.2167215794324875, 0.1582849770784378, 0.10997124761343002, 0.07822222262620926, 0.060737255960702896, 0.05107451230287552, 0.05107451230287552, 0.05843660235404968, 0.04417255148291588, 0.045092809945344925, 0.028528105467557907, 0.031749021261930466, 0.02070588245987892, 0.021626144647598267, 0.016104575246572495, 0.007362091448158026, 0.4764202833175659, 0.20418012142181396, 0.13612008094787598, 0.06806004047393799, 0.06806004047393799, 0.25085651874542236, 0.25085651874542236, 0.25085651874542236, 0.3462023138999939, 0.3462023138999939, 0.012734093703329563, 0.025468187406659126, 0.19101139903068542, 0.038202282041311264, 0.16554321348667145, 0.025468187406659126, 0.025468187406659126, 0.012734093703329563, 0.14007502794265747, 0.08913865685462952, 0.12734094262123108, 0.012734093703329563, 0.06367047131061554, 0.025468187406659126, 0.05093637481331825, 0.059581052511930466, 0.11916210502386093, 0.1787431538105011, 0.059581052511930466, 0.059581052511930466, 0.059581052511930466, 0.059581052511930466, 0.059581052511930466, 0.059581052511930466, 0.059581052511930466, 0.059581052511930466, 0.059581052511930466, 0.11916210502386093, 0.059581052511930466, 0.0446019247174263, 0.28991252183914185, 0.06690289080142975, 0.02230096235871315, 0.02230096235871315, 0.06690289080142975, 0.0892038494348526, 0.02230096235871315, 0.2230096310377121, 0.0446019247174263, 0.0446019247174263, 0.0446019247174263, 0.18270747363567352, 0.18270747363567352, 0.18270747363567352, 0.18270747363567352, 0.6133788824081421, 0.1090555489063263, 0.2181110978126526, 0.06815972179174423, 0.013631943613290787, 0.08179166167974472, 0.013631943613290787, 0.013631943613290787, 0.16358332335948944, 0.14995138347148895, 0.05452777445316315, 0.027263887226581573, 0.027263887226581573, 0.013631943613290787, 0.05452777445316315, 0.20153632760047913, 0.13123294711112976, 0.06092958524823189, 0.07655255496501923, 0.07186566293239594, 0.02499675378203392, 0.06405418366193771, 0.0734279602766037, 0.07967714965343475, 0.04843121021986008, 0.0562426932156086, 0.0281213466078043, 0.02499675378203392, 0.021872159093618393, 0.010936079546809196, 0.023434456437826157, 0.466732919216156, 0.3111552596092224, 0.11266320198774338, 0.05633160099387169, 0.22532640397548676, 0.05633160099387169, 0.05633160099387169, 0.33798959851264954, 0.05633160099387169, 0.05633160099387169, 0.14509481191635132, 0.14509481191635132, 0.43528440594673157, 0.14509481191635132, 0.14509481191635132, 0.14257532358169556, 0.10617310553789139, 0.13954180479049683, 0.09403903782367706, 0.07583793252706528, 0.03033517301082611, 0.12437421083450317, 0.039435725659132004, 0.045502759516239166, 0.05763683095574379, 0.039435725659132004, 0.03033517301082611, 0.02426813915371895, 0.021234622225165367, 0.012134069576859474, 0.018201103433966637, 0.2354673147201538, 0.04762260243296623, 0.08995380997657776, 0.08730810880661011, 0.05820540338754654, 0.03439410403370857, 0.04497690498828888, 0.07407960295677185, 0.16667911410331726, 0.03439410403370857, 0.04497690498828888, 0.026457002386450768, 0.02910270169377327, 0.010582800954580307, 0.00793710071593523, 0.010582800954580307, 0.5399806499481201, 0.16107890009880066, 0.09204509109258652, 0.04602254554629326, 0.27613526582717896, 0.04602254554629326, 0.04602254554629326, 0.02301127277314663, 0.02301127277314663, 0.04602254554629326, 0.06903381645679474, 0.04602254554629326, 0.04602254554629326, 0.02301127277314663, 0.02301127277314663, 0.20176798105239868, 0.20176798105239868, 0.20176798105239868, 0.21478135883808136, 0.10739067941904068, 0.32217204570770264, 0.10739067941904068, 0.18022586405277252, 0.10443857312202454, 0.10536281019449234, 0.06192375719547272, 0.12846869230270386, 0.06099952012300491, 0.04713599383831024, 0.06284799426794052, 0.04436328634619713, 0.04528752341866493, 0.04251481592655182, 0.03327246755361557, 0.02495434880256653, 0.029575524851679802, 0.01756046898663044, 0.012015056796371937, 0.19044539332389832, 0.11426723748445511, 0.09987802803516388, 0.07956384867429733, 0.11088153719902039, 0.05501755699515343, 0.061788950115442276, 0.06263536959886551, 0.04401404410600662, 0.04147477447986603, 0.04486047104001045, 0.03385695815086365, 0.02877841517329216, 0.012696359306573868, 0.010157087817788124, 0.011003511026501656, 0.11557706445455551, 0.12083056569099426, 0.07530020922422409, 0.08580721914768219, 0.13133756816387177, 0.06654436886310577, 0.04903269559144974, 0.05603736639022827, 0.03852568939328194, 0.08405604958534241, 0.05603736639022827, 0.036774519830942154, 0.0157605092972517, 0.047281526029109955, 0.012258173897862434, 0.012258173897862434, 0.2648482918739319, 0.2145586907863617, 0.4291173815727234, 0.5565526485443115, 0.1543106734752655, 0.12039624154567719, 0.1254834085702896, 0.06358956545591354, 0.09750399738550186, 0.055958814918994904, 0.06358956545591354, 0.04408876225352287, 0.03984946012496948, 0.04832806810736656, 0.08224250376224518, 0.03391443192958832, 0.02458796463906765, 0.022892242297530174, 0.014413634315133095, 0.00847860798239708, 0.5347352623939514, 0.17409566044807434, 0.1350635290145874, 0.10532477498054504, 0.09169451147317886, 0.05947751924395561, 0.05885796248912811, 0.06195574998855591, 0.05142327398061752, 0.0638144239783287, 0.05142327398061752, 0.043369024991989136, 0.03469521924853325, 0.01982584036886692, 0.01920628361403942, 0.014249823056161404, 0.016108494251966476, 0.16293320059776306, 0.10784626752138138, 0.12181197106838226, 0.08612183481454849, 0.06982851773500443, 0.1093980073928833, 0.047328218817710876, 0.05896630510687828, 0.0488799624145031, 0.042672984302043915, 0.041897110641002655, 0.039569493383169174, 0.02482791803777218, 0.021724427118897438, 0.006206979509443045, 0.010086341761052608, 0.15867763757705688, 0.15715676546096802, 0.10848886519670486, 0.07350881397724152, 0.07807143032550812, 0.06134183704853058, 0.047147031873464584, 0.08060621470212936, 0.05373747646808624, 0.029403524473309517, 0.04511920362710953, 0.035487011075019836, 0.026361780241131783, 0.017743505537509918, 0.01723654940724373, 0.009125231765210629, 0.5410645604133606, 0.14500246942043304, 0.31417202949523926, 0.04833415895700455, 0.04833415895700455, 0.024167079478502274, 0.024167079478502274, 0.0966683179140091, 0.024167079478502274, 0.024167079478502274, 0.12083539366722107, 0.024167079478502274, 0.024167079478502274, 0.04833415895700455, 0.024167079478502274, 0.5245206952095032, 0.38959968090057373, 0.15583987534046173, 0.15583987534046173, 0.07791993767023087, 0.07791993767023087, 0.5375574827194214, 0.3692275583744049, 0.5515168905258179, 0.20783130824565887, 0.13855420053005219, 0.06927710026502609, 0.06927710026502609, 0.27710840106010437, 0.5833284258842468, 0.18400838971138, 0.10440925508737564, 0.08270039409399033, 0.07339660078287125, 0.09097043424844742, 0.06719407439231873, 0.03928268700838089, 0.07546411454677582, 0.049620237201452255, 0.07959913462400436, 0.040316443890333176, 0.04858648404479027, 0.025843873620033264, 0.0134388143196702, 0.014472569338977337, 0.01033754926174879, 0.18189160525798798, 0.13619902729988098, 0.10280830413103104, 0.10017219185829163, 0.08523423224687576, 0.05623701959848404, 0.04920739307999611, 0.052722204476594925, 0.04481387510895729, 0.036026839166879654, 0.0465712808072567, 0.0237249918282032, 0.027239806950092316, 0.02108888141810894, 0.021967586129903793, 0.013180551119148731, 0.10881246626377106, 0.10881246626377106, 0.027203116565942764, 0.081609345972538, 0.081609345972538, 0.05440623313188553, 0.081609345972538, 0.21762493252754211, 0.027203116565942764, 0.05440623313188553, 0.081609345972538, 0.081609345972538, 0.027203116565942764, 0.08768048137426376, 0.08768048137426376, 0.08768048137426376, 0.04384024068713188, 0.04384024068713188, 0.04384024068713188, 0.13152073323726654, 0.08768048137426376, 0.35072192549705505, 0.3502354621887207, 0.46698060631752014, 0.11674515157938004, 0.29090428352355957, 0.19095468521118164, 0.13249917328357697, 0.06868523359298706, 0.0618654228746891, 0.07745356112718582, 0.05309709534049034, 0.05748125910758972, 0.07258226722478867, 0.07063374668359756, 0.03361192345619202, 0.06235255300998688, 0.04140599071979523, 0.029714887961745262, 0.022895077243447304, 0.01169110368937254, 0.013639620505273342, 0.11848212778568268, 0.13493797183036804, 0.08337631076574326, 0.09544393420219421, 0.052658721804618835, 0.07021162658929825, 0.051561664789915085, 0.10202627629041672, 0.0800851434469223, 0.06143517419695854, 0.04059109836816788, 0.037299927324056625, 0.026329360902309418, 0.024135246872901917, 0.012067623436450958, 0.013164680451154709, 0.5599875450134277, 0.14854192733764648, 0.114353708922863, 0.11671151220798492, 0.07898657768964767, 0.11906932294368744, 0.06130301579833031, 0.045977264642715454, 0.05422959104180336, 0.06366082280874252, 0.04833507165312767, 0.04361945390701294, 0.03183041140437126, 0.028293700888752937, 0.020041370764374733, 0.01061013713479042, 0.014146850444376469, 0.19048315286636353, 0.10892268270254135, 0.11734183132648468, 0.06366978585720062, 0.09945114701986313, 0.09471537917852402, 0.03841234743595123, 0.047883886843919754, 0.036833759397268295, 0.053672049194574356, 0.044200509786605835, 0.02894080989062786, 0.024731237441301346, 0.02525743469595909, 0.011050127446651459, 0.014207307249307632, 0.049164384603500366, 0.09832876920700073, 0.1474931538105011, 0.24582192301750183, 0.19665753841400146, 0.049164384603500366, 0.049164384603500366, 0.049164384603500366, 0.32454410195350647, 0.23339711129665375, 0.07932450622320175, 0.08491790294647217, 0.1123763844370842, 0.06813772022724152, 0.05339149385690689, 0.06864620745182037, 0.04067923501133919, 0.05898489058017731, 0.03000093623995781, 0.05339149385690689, 0.030509425327181816, 0.027966974303126335, 0.028475463390350342, 0.017797164618968964, 0.011695279739797115, 0.08934690803289413, 0.04061223194003105, 0.0812244638800621, 0.1299591362476349, 0.04873467981815338, 0.06497956812381744, 0.04061223194003105, 0.1624489277601242, 0.09746935963630676, 0.12183669954538345, 0.03248978406190872, 0.05685712397098541, 0.02436733990907669, 0.00812244601547718, 0.00812244601547718, 0.00812244601547718, 0.18046288192272186, 0.06015429645776749, 0.12030859291553497, 0.06015429645776749, 0.06015429645776749, 0.06015429645776749, 0.06015429645776749, 0.06015429645776749, 0.06015429645776749, 0.24061718583106995, 0.42305755615234375, 0.21152877807617188, 0.4758628308773041, 0.18629051744937897, 0.16007184982299805, 0.11867395788431168, 0.07658610492944717, 0.08141585439443588, 0.05795704945921898, 0.036568138748407364, 0.049677472561597824, 0.04346778616309166, 0.04277782142162323, 0.05243733152747154, 0.033808279782533646, 0.02828855998814106, 0.008969543501734734, 0.013799297623336315, 0.008969543501734734, 0.3716679513454437, 0.05186064541339874, 0.12100817263126373, 0.060504086315631866, 0.02593032270669937, 0.04321720451116562, 0.02593032270669937, 0.060504086315631866, 0.02593032270669937, 0.08643440902233124, 0.04321720451116562, 0.008643440902233124, 0.008643440902233124, 0.034573763608932495, 0.008643440902233124, 0.008643440902233124, 0.6443302035331726, 0.20619083940982819, 0.1383332759141922, 0.1383332759141922, 0.1383332759141922, 0.2766665518283844, 0.19957967102527618, 0.10794875770807266, 0.08096156269311905, 0.10230027139186859, 0.07405786961317062, 0.06338851153850555, 0.05899525061249733, 0.032008059322834015, 0.05083633214235306, 0.06150568649172783, 0.04958111420273781, 0.03765654191374779, 0.042677413672208786, 0.01443500816822052, 0.01317979022860527, 0.010669353418052197, 0.5870538353919983, 0.14079199731349945, 0.10211288183927536, 0.13563477993011475, 0.07271675020456314, 0.0716853067278862, 0.053635045886039734, 0.06343375891447067, 0.07065386325120926, 0.044867780059576035, 0.054150767624378204, 0.0716853067278862, 0.035069070756435394, 0.02991185337305069, 0.022691750898957253, 0.016503091901540756, 0.013924483209848404, 0.24911567568778992, 0.1177883967757225, 0.1177883967757225, 0.06227891892194748, 0.07040225714445114, 0.054155584424734116, 0.06227891892194748, 0.04332446679472923, 0.046032246202230453, 0.04061668738722801, 0.03655501827597618, 0.02978557161986828, 0.021662233397364616, 0.021662233397364616, 0.010831116698682308, 0.01489278580993414, 0.25857025384902954, 0.5831267237663269, 0.17219685018062592, 0.1590520441532135, 0.07623982429504395, 0.0578371062874794, 0.06966742873191833, 0.10252942144870758, 0.04469231143593788, 0.055208150297403336, 0.05257919058203697, 0.05257919058203697, 0.03811991214752197, 0.031547512859106064, 0.024975115433335304, 0.026289595291018486, 0.02234615571796894, 0.013144797645509243, 0.14784608781337738, 0.10773281008005142, 0.14383475482463837, 0.06647343933582306, 0.08538398146629333, 0.08939530700445175, 0.037248045206069946, 0.041832420974969864, 0.052720312029123306, 0.03782109171152115, 0.0779343694448471, 0.03610195219516754, 0.03552890568971634, 0.01776445284485817, 0.01260703057050705, 0.009168749675154686, 0.13153310120105743, 0.12630662322044373, 0.09756097197532654, 0.08188153058290482, 0.09059233218431473, 0.05574912950396538, 0.06881532818078995, 0.060104530304670334, 0.06533101201057434, 0.07055748999118805, 0.04094076529145241, 0.04355400800704956, 0.024390242993831635, 0.020034844055771828, 0.011324041523039341, 0.011324041523039341, 0.10323402285575867, 0.14138571918010712, 0.13016463816165924, 0.0763034075498581, 0.09425715357065201, 0.05834966525435448, 0.04488435760140419, 0.07854762673377991, 0.042640138417482376, 0.0920129343867302, 0.04488435760140419, 0.02468639612197876, 0.026930613443255424, 0.02019796147942543, 0.01570952497422695, 0.006732653360813856, 0.11596101522445679, 0.16941621899604797, 0.08880916982889175, 0.09616279602050781, 0.07806156575679779, 0.06844528764486313, 0.04610157757997513, 0.05684918165206909, 0.05741484463214874, 0.06194015219807625, 0.05147537961602211, 0.023475036025047302, 0.014141587540507317, 0.038465119898319244, 0.01696990430355072, 0.01583857834339142, 0.11206216365098953, 0.6723729968070984, 0.11206216365098953, 0.3009437620639801, 0.0231495201587677, 0.0231495201587677, 0.0462990403175354, 0.0231495201587677, 0.0231495201587677, 0.1157475933432579, 0.3703923225402832, 0.0231495201587677, 0.0231495201587677, 0.03891591355204582, 0.025943942368030548, 0.6745424866676331, 0.025943942368030548, 0.03891591355204582, 0.025943942368030548, 0.012971971184015274, 0.025943942368030548, 0.025943942368030548, 0.025943942368030548, 0.025943942368030548, 0.012971971184015274, 0.012971971184015274, 0.03891591355204582, 0.38383641839027405, 0.33505648374557495, 0.5238310098648071, 0.5252556204795837, 0.33058395981788635, 0.33058395981788635, 0.3918907940387726, 0.6137019395828247, 0.47562792897224426, 0.19630764424800873, 0.12163848429918289, 0.13669274747371674, 0.06864745914936066, 0.06684094667434692, 0.06804528832435608, 0.04094760864973068, 0.04456062987446785, 0.04696931317448616, 0.042754121124744415, 0.06503443419933319, 0.025291169062256813, 0.02890419401228428, 0.02649551071226597, 0.010839072987437248, 0.009032560512423515, 0.5351136326789856, 0.12561430037021637, 0.12352072447538376, 0.11200607568025589, 0.08478964865207672, 0.06699428707361221, 0.10153821855783463, 0.04501178860664368, 0.0649007186293602, 0.04396500438451767, 0.048152144998311996, 0.06908786296844482, 0.02616964466869831, 0.04187143221497536, 0.023029286414384842, 0.011514643207192421, 0.012561429291963577, 0.24746224284172058, 0.49492448568344116, 0.8709242939949036, 0.18089726567268372, 0.09044863283634186, 0.06303995847702026, 0.10689383745193481, 0.057558223605155945, 0.057558223605155945, 0.04933561757206917, 0.03563128039240837, 0.15622946619987488, 0.057558223605155945, 0.03563128039240837, 0.030149545520544052, 0.03837214782834053, 0.019186073914170265, 0.013704339042305946, 0.008222603239119053, 0.12072688341140747, 0.6036344170570374, 0.12072688341140747, 0.11409389972686768, 0.0940018892288208, 0.14997248351573944, 0.07606259733438492, 0.10907089710235596, 0.051665160804986954, 0.06171116605401039, 0.04951244592666626, 0.07534502446651459, 0.053100306540727615, 0.05381787568330765, 0.03731372579932213, 0.02224472165107727, 0.019374435767531395, 0.015069005079567432, 0.017939291894435883, 0.15004801750183105, 0.11500686407089233, 0.1114128977060318, 0.07098080217838287, 0.09074760228395462, 0.06469135731458664, 0.10063100606203079, 0.04492455720901489, 0.03953360766172409, 0.04133059084415436, 0.059300415217876434, 0.02605624310672283, 0.031447190791368484, 0.021563787013292313, 0.01886831410229206, 0.011680384166538715, 0.10783571749925613, 0.10783571749925613, 0.10783571749925613, 0.10783571749925613, 0.21567143499851227, 0.33021190762519836, 0.33021190762519836, 0.30230236053466797, 0.5627096891403198, 0.3018747866153717, 0.3018747866153717, 0.48711514472961426, 0.4876561164855957, 0.146938756108284, 0.1049562469124794, 0.062973752617836, 0.125947505235672, 0.1154518723487854, 0.041982501745224, 0.041982501745224, 0.041982501745224, 0.031486876308918, 0.1154518723487854, 0.041982501745224, 0.083965003490448, 0.010495625436306, 0.020991250872612, 0.010495625436306, 0.010495625436306, 0.3249378502368927, 0.17674373090267181, 0.11782915890216827, 0.12113896757364273, 0.057590655982494354, 0.06685812026262283, 0.06553419679403305, 0.04964711517095566, 0.05692869424819946, 0.06090046465396881, 0.0695059671998024, 0.052956923842430115, 0.02780238538980484, 0.021182769909501076, 0.02846434712409973, 0.01390119269490242, 0.013239230960607529, 0.2456142008304596, 0.05728105083107948, 0.1136942058801651, 0.05988473445177078, 0.07377105206251144, 0.052073683589696884, 0.04165894538164139, 0.04339473694562912, 0.07463894784450531, 0.05641315504908562, 0.06248841807246208, 0.037319473922252655, 0.03558368235826492, 0.020829472690820694, 0.013018420897424221, 0.010414736345410347, 0.19811448454856873, 0.39622896909713745, 0.1671450436115265, 0.11880407482385635, 0.09668193757534027, 0.08275318890810013, 0.08930788934230804, 0.058173030614852905, 0.05735369399189949, 0.042605601251125336, 0.07210178673267365, 0.06718575209379196, 0.028676846995949745, 0.030315523967146873, 0.031134862452745438, 0.03195419907569885, 0.017206108197569847, 0.008193384855985641, 0.5564324259757996, 0.5598136782646179, 0.2016831934452057, 0.09886430948972702, 0.11072802543640137, 0.07711416482925415, 0.06722772866487503, 0.04152300953865051, 0.10479617118835449, 0.04350029677152634, 0.051409441977739334, 0.06129587069153786, 0.04943215474486351, 0.02175014838576317, 0.025704720988869667, 0.015818290412425995, 0.01779557578265667, 0.011863716877996922, 0.2078564614057541, 0.06928548961877823, 0.4849984049797058, 0.06928548961877823, 0.06928548961877823, 0.06928548961877823, 0.5702187418937683, 0.28510937094688416, 0.15523171424865723, 0.11603178083896637, 0.13014376163482666, 0.04233592003583908, 0.12543976306915283, 0.054879896342754364, 0.053311899304389954, 0.07212786376476288, 0.053311899304389954, 0.05017590522766113, 0.05017590522766113, 0.03763192892074585, 0.021951958537101746, 0.017247967422008514, 0.010975979268550873, 0.009407982230186462, 0.18219909071922302, 0.12011644244194031, 0.09784766286611557, 0.08907511085271835, 0.07962775230407715, 0.07827813178300858, 0.05600935220718384, 0.06073303148150444, 0.04251312091946602, 0.04926123842597008, 0.041163500398397446, 0.029691705480217934, 0.024968024343252182, 0.021593967452645302, 0.012146606110036373, 0.015520663931965828, 0.5262839794158936, 0.16741926968097687, 0.16741926968097687, 0.16741926968097687, 0.33483853936195374, 0.16741926968097687, 0.20665882527828217, 0.15789663791656494, 0.05263220891356468, 0.06579026579856873, 0.07430429756641388, 0.0820443257689476, 0.06424225866794586, 0.0410221628844738, 0.07275629043579102, 0.04876219481229782, 0.04721418768167496, 0.02554210275411606, 0.030960123986005783, 0.011610046029090881, 0.008514033630490303, 0.010062039829790592, 0.31828242540359497, 0.15259985625743866, 0.12147751450538635, 0.162639319896698, 0.07529598474502563, 0.06023678556084633, 0.06023678556084633, 0.05019732192158699, 0.05622100085020065, 0.048189427703619, 0.064252570271492, 0.027106553316116333, 0.031122339889407158, 0.04015785828232765, 0.02610260620713234, 0.011043410748243332, 0.014055250212550163, 0.06345763802528381, 0.3807458281517029, 0.12691527605056763, 0.06345763802528381, 0.12691527605056763, 0.09417051076889038, 0.09417051076889038, 0.09417051076889038, 0.09417051076889038, 0.09417051076889038, 0.09417051076889038, 0.09417051076889038, 0.09417051076889038, 0.09417051076889038, 0.09417051076889038, 0.09417051076889038, 0.09417051076889038, 0.4075380265712738, 0.5433840155601501, 0.14575019478797913, 0.14225219190120697, 0.1014421358704567, 0.0851181149482727, 0.0781221091747284, 0.05596807599067688, 0.050138067454099655, 0.09094811975955963, 0.059466078877449036, 0.04897206649184227, 0.02332003228366375, 0.03031604178249836, 0.019822027534246445, 0.040810056030750275, 0.01399201899766922, 0.01399201899766922, 0.39127182960510254, 0.2954150140285492, 0.0738537535071373, 0.2954150140285492, 0.1477075070142746, 0.15848267078399658, 0.07924133539199829, 0.07924133539199829, 0.039620667695999146, 0.07924133539199829, 0.07924133539199829, 0.07924133539199829, 0.039620667695999146, 0.07924133539199829, 0.039620667695999146, 0.039620667695999146, 0.07924133539199829, 0.039620667695999146, 0.039620667695999146, 0.039620667695999146, 0.23165465891361237, 0.5791366696357727, 0.3352181315422058, 0.3352181315422058, 0.13071361184120178, 0.1361277848482132, 0.11215073615312576, 0.07889223843812943, 0.08353295922279358, 0.054141733795404434, 0.053368281573057175, 0.05568863824009895, 0.0471806526184082, 0.08972058445215225, 0.05723554641008377, 0.035578854382038116, 0.02629741281270981, 0.013148706406354904, 0.01624251902103424, 0.010054892860352993, 0.04183129593729973, 0.03137347102165222, 0.1673251837491989, 0.04183129593729973, 0.1254938840866089, 0.052289120852947235, 0.020915647968649864, 0.020915647968649864, 0.17778301239013672, 0.09412042051553726, 0.08366259187459946, 0.010457823984324932, 0.04183129593729973, 0.03137347102165222, 0.06274694204330444, 0.19817553460597992, 0.09365475177764893, 0.1417757123708725, 0.09210246801376343, 0.07554472237825394, 0.052777815610170364, 0.04449894279241562, 0.05795211344957352, 0.05174295976758003, 0.048120949417352676, 0.05019066855311394, 0.0253540500998497, 0.026906337589025497, 0.01552288793027401, 0.017075175419449806, 0.009313732385635376, 0.5185436606407166, 0.11472955346107483, 0.11472955346107483, 0.11472955346107483, 0.11472955346107483, 0.3441886603832245, 0.5611388683319092, 0.09144890308380127, 0.16003558039665222, 0.11431112885475159, 0.045724451541900635, 0.11431112885475159, 0.022862225770950317, 0.022862225770950317, 0.06858667731285095, 0.045724451541900635, 0.16003558039665222, 0.045724451541900635, 0.022862225770950317, 0.022862225770950317, 0.022862225770950317, 0.022862225770950317, 0.5067489147186279, 0.5806753635406494, 0.5812270045280457, 0.46202391386032104, 0.12952056527137756, 0.15795190632343292, 0.12214947491884232, 0.08740005642175674, 0.0684458315372467, 0.05370365083217621, 0.04633256047964096, 0.04949159920215607, 0.05265063792467117, 0.056862689554691315, 0.054756663739681244, 0.031590383499860764, 0.04633256047964096, 0.020007241517305374, 0.01158314011991024, 0.010530127212405205, 0.21320024132728577, 0.05330006033182144, 0.05330006033182144, 0.05330006033182144, 0.05330006033182144, 0.05330006033182144, 0.15990017354488373, 0.05330006033182144, 0.21320024132728577, 0.05330006033182144, 0.1829417645931244, 0.10462556034326553, 0.1713166981935501, 0.06852667778730392, 0.07525698095560074, 0.04955947399139404, 0.05078316479921341, 0.06057269126176834, 0.05323054641485214, 0.04344101995229721, 0.04650024697184563, 0.02814488671720028, 0.018355360254645348, 0.01896720565855503, 0.017743514850735664, 0.01040137093514204, 0.06942777335643768, 0.06942777335643768, 0.06942777335643768, 0.20828332006931305, 0.4165666401386261, 0.1774127036333084, 0.11566995084285736, 0.08987867832183838, 0.09534955769777298, 0.055490314960479736, 0.04611166939139366, 0.08128158748149872, 0.05392720550298691, 0.06721361726522446, 0.050019439309835434, 0.05314565449953079, 0.03907768800854683, 0.03438836336135864, 0.015631074085831642, 0.014849521219730377, 0.01094175223261118, 0.6146478056907654, 0.35323622822761536, 0.5290734171867371, 0.15700916945934296, 0.1919001042842865, 0.11339551210403442, 0.08722732216119766, 0.034890927374362946, 0.05233639106154442, 0.07850458472967148, 0.061059124767780304, 0.02616819553077221, 0.034890927374362946, 0.034890927374362946, 0.034890927374362946, 0.008722731843590736, 0.04361366108059883, 0.008722731843590736, 0.034890927374362946, 0.15144534409046173, 0.09403826296329498, 0.13777698576450348, 0.10278600454330444, 0.08201011270284653, 0.04811260104179382, 0.026789970695972443, 0.0825568437576294, 0.03007037378847599, 0.0809166431427002, 0.06342115253210068, 0.023509565740823746, 0.02733670361340046, 0.028976906090974808, 0.01148141548037529, 0.008201011456549168, 0.20379693806171417, 0.20379693806171417, 0.20379693806171417, 0.7816678285598755, 0.2694055736064911, 0.10776223242282867, 0.05388111621141434, 0.05388111621141434, 0.10776223242282867, 0.05388111621141434, 0.2694055736064911, 0.05388111621141434, 0.05388111621141434, 0.5473546385765076, 0.3920551836490631, 0.3920551836490631, 0.197490394115448, 0.2633205056190491, 0.394980788230896, 0.06583012640476227, 0.5292260646820068, 0.34544485807418823, 0.11612169444561005, 0.11612169444561005, 0.2322433888912201, 0.11612169444561005, 0.11612169444561005, 0.11612169444561005, 0.11612169444561005, 0.36610350012779236, 0.5814409852027893, 0.10109823197126389, 0.6065893769264221, 0.10109823197126389], \"Term\": [\"activity\", \"activity\", \"activity\", \"activity\", \"activity\", \"activity\", \"activity\", \"activity\", \"activity\", \"activity\", \"activity\", \"activity\", \"activity\", \"activity\", \"activity\", \"activity\", \"additional\", \"additional\", \"additional\", \"additional\", \"additional\", \"additional\", \"additional\", \"additional\", \"additional\", \"additional\", \"additional\", \"additional\", \"additional\", \"additional\", \"additional\", \"additional\", \"advertisement\", \"advertisement\", \"advertisement\", \"advertisement\", \"advertisement\", \"advertisement\", \"advertisement\", \"advertisement\", \"advertisement\", \"advertisement\", \"advertisement\", \"advertisement\", \"advertisement\", \"advertisement\", \"advertisement\", \"advertisement\", \"advertiser\", \"advertiser\", \"advertiser\", \"advertiser\", \"advertiser\", \"advertiser\", \"advertiser\", \"advertiser\", \"advertiser\", \"advertiser\", \"advertiser\", \"advertiser\", \"advertiser\", \"advertiser\", \"advertiser\", \"advertiser\", \"advertising\", \"advertising\", \"advertising\", \"advertising\", \"advertising\", \"advertising\", \"advertising\", \"advertising\", \"advertising\", \"advertising\", \"advertising\", \"advertising\", \"advertising\", \"advertising\", \"advertising\", \"advertising\", \"affiliate\", \"affiliate\", \"affiliate\", \"affiliate\", \"affiliate\", \"affiliate\", \"affiliate\", \"affiliate\", \"affiliate\", \"affiliate\", \"affiliate\", \"affiliate\", \"affiliate\", \"affiliate\", \"affiliate\", \"affiliate\", \"agreement\", \"agreement\", \"agreement\", \"agreement\", \"agreement\", \"agreement\", \"agreement\", \"agreement\", \"agreement\", \"agreement\", \"agreement\", \"agreement\", \"agreement\", \"agreement\", \"agreement\", \"agreement\", \"aligned\", \"aligned\", \"andusing\", \"andusing\", \"ankama\", \"ankama\", \"apassah\", \"apassah\", \"applicable\", \"applicable\", \"applicable\", \"applicable\", \"applicable\", \"applicable\", \"applicable\", \"applicable\", \"applicable\", \"applicable\", \"applicable\", \"applicable\", \"applicable\", \"applicable\", \"applicable\", \"applicable\", \"application\", \"application\", \"application\", \"application\", \"application\", \"application\", \"application\", \"application\", \"application\", \"application\", \"application\", \"application\", \"application\", \"application\", \"application\", \"application\", \"approves\", \"arranger\", \"arranger\", \"arranger\", \"arranger\", \"arranger\", \"arranger\", \"arranger\", \"arranger\", \"arranger\", \"arranger\", \"bare\", \"based\", \"based\", \"based\", \"based\", \"based\", \"based\", \"based\", \"based\", \"based\", \"based\", \"based\", \"based\", \"based\", \"based\", \"based\", \"based\", \"bdnews\", \"beacon\", \"beacon\", \"beacon\", \"beacon\", \"beacon\", \"beacon\", \"beacon\", \"beacon\", \"beacon\", \"beacon\", \"beacon\", \"beacon\", \"beacon\", \"beacon\", \"beacon\", \"beacon\", \"bean\", \"bean\", \"bean\", \"bean\", \"bean\", \"bean\", \"bean\", \"bloomingdales\", \"bloomingdales\", \"bloomingdales\", \"bloomingdales\", \"bloomingdales\", \"bloomingdales\", \"bloomingdales\", \"bodiesfrom\", \"bodiesfrom\", \"bodiesfrom\", \"bodiesfrom\", \"bskyb\", \"business\", \"business\", \"business\", \"business\", \"business\", \"business\", \"business\", \"business\", \"business\", \"business\", \"business\", \"business\", \"business\", \"business\", \"business\", \"business\", \"bykrbayb\", \"bykrbayb\", \"bykrbayb\", \"bykrbayb\", \"bykrbayb\", \"campus\", \"campus\", \"campus\", \"campus\", \"campus\", \"campus\", \"campus\", \"campus\", \"campus\", \"campus\", \"card\", \"card\", \"card\", \"card\", \"card\", \"card\", \"card\", \"card\", \"card\", \"card\", \"card\", \"card\", \"card\", \"card\", \"card\", \"card\", \"caremark\", \"caremark\", \"caremark\", \"caremark\", \"caremark\", \"caremark\", \"caremark\", \"caremark\", \"caremark\", \"caremark\", \"caveat\", \"caveat\", \"caveat\", \"caveat\", \"caveat\", \"cbbb\", \"cbbb\", \"cbbb\", \"cbbb\", \"cbbb\", \"cbbb\", \"cbbb\", \"changesmay\", \"checkm\", \"checkm\", \"child\", \"child\", \"child\", \"child\", \"child\", \"child\", \"child\", \"child\", \"child\", \"child\", \"child\", \"child\", \"child\", \"child\", \"child\", \"child\", \"choose\", \"choose\", \"choose\", \"choose\", \"choose\", \"choose\", \"choose\", \"choose\", \"choose\", \"choose\", \"choose\", \"choose\", \"choose\", \"choose\", \"choose\", \"choose\", \"cienega\", \"cienega\", \"cienega\", \"cienega\", \"ciphered\", \"clergy\", \"click\", \"click\", \"click\", \"click\", \"click\", \"click\", \"click\", \"click\", \"click\", \"click\", \"click\", \"click\", \"click\", \"click\", \"click\", \"click\", \"clickbank\", \"clickbank\", \"clickbank\", \"collection\", \"collection\", \"collection\", \"collection\", \"collection\", \"collection\", \"collection\", \"collection\", \"collection\", \"collection\", \"collection\", \"collection\", \"collection\", \"collection\", \"collection\", \"collection\", \"comfax\", \"comment\", \"comment\", \"comment\", \"comment\", \"comment\", \"comment\", \"comment\", \"comment\", \"comment\", \"comment\", \"comment\", \"comment\", \"comment\", \"comment\", \"comment\", \"comment\", \"communication\", \"communication\", \"communication\", \"communication\", \"communication\", \"communication\", \"communication\", \"communication\", \"communication\", \"communication\", \"communication\", \"communication\", \"communication\", \"communication\", \"communication\", \"communication\", \"comscore\", \"comscore\", \"comscore\", \"comscore\", \"comscore\", \"comscore\", \"comscore\", \"comscore\", \"comscore\", \"comscore\", \"concessioner\", \"conger\", \"connection\", \"connection\", \"connection\", \"connection\", \"connection\", \"connection\", \"connection\", \"connection\", \"connection\", \"connection\", \"connection\", \"connection\", \"connection\", \"connection\", \"connection\", \"connection\", \"consent\", \"consent\", \"consent\", \"consent\", \"consent\", \"consent\", \"consent\", \"consent\", \"consent\", \"consent\", \"consent\", \"consent\", \"consent\", \"consent\", \"consent\", \"consent\", \"consentif\", \"consonant\", \"continental\", \"control\", \"control\", \"control\", \"control\", \"control\", \"control\", \"control\", \"control\", \"control\", \"control\", \"control\", \"control\", \"control\", \"control\", \"control\", \"control\", \"cookie\", \"cookie\", \"cookie\", \"cookie\", \"cookie\", \"cookie\", \"cookie\", \"cookie\", \"cookie\", \"cookie\", \"cookie\", \"cookie\", \"cookie\", \"cookie\", \"cookie\", \"cookie\", \"coremetrics\", \"coremetrics\", \"coremetrics\", \"coremetrics\", \"coremetrics\", \"coremetrics\", \"coremetrics\", \"coremetrics\", \"coremetrics\", \"coremetrics\", \"coremetrics\", \"coremetrics\", \"correios\", \"correios\", \"correios\", \"costly\", \"credit\", \"credit\", \"credit\", \"credit\", \"credit\", \"credit\", \"credit\", \"credit\", \"credit\", \"credit\", \"credit\", \"credit\", \"credit\", \"credit\", \"credit\", \"credit\", \"cryptography\", \"customer\", \"customer\", \"customer\", \"customer\", \"customer\", \"customer\", \"customer\", \"customer\", \"customer\", \"customer\", \"customer\", \"customer\", \"customer\", \"customer\", \"customer\", \"customer\", \"czech\", \"daily\", \"daily\", \"daily\", \"daily\", \"daily\", \"daily\", \"daily\", \"dealer\", \"dealer\", \"dealer\", \"dealer\", \"dealer\", \"dealer\", \"dealer\", \"dealer\", \"dealer\", \"dealer\", \"dealer\", \"dealer\", \"dealer\", \"dealer\", \"dealer\", \"dealer\", \"dedication\", \"deviantart\", \"deviantart\", \"deviantart\", \"deviantart\", \"deviantart\", \"deviantart\", \"deviantart\", \"deviantart\", \"deviantart\", \"deviantart\", \"deviantart\", \"disclose\", \"disclose\", \"disclose\", \"disclose\", \"disclose\", \"disclose\", \"disclose\", \"disclose\", \"disclose\", \"disclose\", \"disclose\", \"disclose\", \"disclose\", \"disclose\", \"disclose\", \"disclose\", \"disclosure\", \"disclosure\", \"disclosure\", \"disclosure\", \"disclosure\", \"disclosure\", \"disclosure\", \"disclosure\", \"disclosure\", \"disclosure\", \"disclosure\", \"disclosure\", \"disclosure\", \"disclosure\", \"disclosure\", \"disclosure\", \"diskette\", \"door\", \"door\", \"door\", \"dpuf\", \"dpuf\", \"editoronline\", \"empower\", \"etesz\", \"event\", \"event\", \"event\", \"event\", \"event\", \"event\", \"event\", \"event\", \"event\", \"event\", \"event\", \"event\", \"event\", \"event\", \"event\", \"event\", \"experience\", \"experience\", \"experience\", \"experience\", \"experience\", \"experience\", \"experience\", \"experience\", \"experience\", \"experience\", \"experience\", \"experience\", \"experience\", \"experience\", \"experience\", \"experience\", \"expressway\", \"extraneous\", \"factory\", \"factory\", \"factory\", \"factory\", \"fanatic\", \"feature\", \"feature\", \"feature\", \"feature\", \"feature\", \"feature\", \"feature\", \"feature\", \"feature\", \"feature\", \"feature\", \"feature\", \"feature\", \"feature\", \"feature\", \"feature\", \"feedly\", \"feedly\", \"feedly\", \"feedly\", \"feedly\", \"ffed\", \"ffed\", \"ffed\", \"fios\", \"fios\", \"football\", \"football\", \"football\", \"football\", \"football\", \"football\", \"football\", \"football\", \"football\", \"football\", \"football\", \"football\", \"football\", \"football\", \"football\", \"forecast\", \"forecast\", \"forecast\", \"forecast\", \"forecast\", \"forecast\", \"forecast\", \"forecast\", \"forecast\", \"forecast\", \"forecast\", \"forecast\", \"forecast\", \"forecast\", \"forever\", \"forever\", \"forever\", \"forever\", \"forever\", \"forever\", \"forever\", \"forever\", \"forever\", \"forever\", \"forever\", \"forever\", \"forex\", \"forex\", \"forex\", \"forex\", \"forus\", \"gaia\", \"gaia\", \"gaia\", \"gaia\", \"gaia\", \"gaia\", \"gaia\", \"gaia\", \"gaia\", \"gaia\", \"gaia\", \"gaia\", \"gaia\", \"gaia\", \"game\", \"game\", \"game\", \"game\", \"game\", \"game\", \"game\", \"game\", \"game\", \"game\", \"game\", \"game\", \"game\", \"game\", \"game\", \"game\", \"geekdo\", \"geekdo\", \"github\", \"github\", \"github\", \"github\", \"github\", \"github\", \"github\", \"github\", \"greynium\", \"greynium\", \"greynium\", \"greynium\", \"greynium\", \"harbor\", \"harbor\", \"harbor\", \"harbor\", \"harbor\", \"harbor\", \"harbor\", \"harbor\", \"harbor\", \"harbor\", \"harbor\", \"harbor\", \"harbor\", \"harbor\", \"harbor\", \"harbor\", \"health\", \"health\", \"health\", \"health\", \"health\", \"health\", \"health\", \"health\", \"health\", \"health\", \"health\", \"health\", \"health\", \"health\", \"health\", \"health\", \"healthwise\", \"hereinafter\", \"hereinafter\", \"hereinafter\", \"hereinafter\", \"hereinafter\", \"hereinafter\", \"hereinafter\", \"hereinafter\", \"hereinafter\", \"hereinafter\", \"hereinafter\", \"hereinafter\", \"hereinafter\", \"hereinafter\", \"honored\", \"honored\", \"honored\", \"housing\", \"housing\", \"housing\", \"housing\", \"http\", \"http\", \"http\", \"http\", \"http\", \"http\", \"http\", \"http\", \"http\", \"http\", \"http\", \"http\", \"http\", \"http\", \"http\", \"http\", \"identify\", \"identify\", \"identify\", \"identify\", \"identify\", \"identify\", \"identify\", \"identify\", \"identify\", \"identify\", \"identify\", \"identify\", \"identify\", \"identify\", \"identify\", \"identify\", \"identifying\", \"identifying\", \"identifying\", \"identifying\", \"identifying\", \"identifying\", \"identifying\", \"identifying\", \"identifying\", \"identifying\", \"identifying\", \"identifying\", \"identifying\", \"identifying\", \"identifying\", \"identifying\", \"idnm\", \"imagine\", \"imagine\", \"impress\", \"improve\", \"improve\", \"improve\", \"improve\", \"improve\", \"improve\", \"improve\", \"improve\", \"improve\", \"improve\", \"improve\", \"improve\", \"improve\", \"improve\", \"improve\", \"improve\", \"inception\", \"include\", \"include\", \"include\", \"include\", \"include\", \"include\", \"include\", \"include\", \"include\", \"include\", \"include\", \"include\", \"include\", \"include\", \"include\", \"include\", \"individual\", \"individual\", \"individual\", \"individual\", \"individual\", \"individual\", \"individual\", \"individual\", \"individual\", \"individual\", \"individual\", \"individual\", \"individual\", \"individual\", \"individual\", \"individual\", \"interest\", \"interest\", \"interest\", \"interest\", \"interest\", \"interest\", \"interest\", \"interest\", \"interest\", \"interest\", \"interest\", \"interest\", \"interest\", \"interest\", \"interest\", \"interest\", \"intruded\", \"ithaka\", \"ithaka\", \"ithaka\", \"ithaka\", \"ithaka\", \"ithaka\", \"ithaka\", \"ithaka\", \"ithaka\", \"ithaka\", \"ithaka\", \"ithaka\", \"ithaka\", \"ithaka\", \"itto\", \"kijiji\", \"kijiji\", \"kijiji\", \"kijiji\", \"kijiji\", \"laboratory\", \"laurel\", \"leadback\", \"league\", \"league\", \"league\", \"league\", \"league\", \"likebox\", \"list\", \"list\", \"list\", \"list\", \"list\", \"list\", \"list\", \"list\", \"list\", \"list\", \"list\", \"list\", \"list\", \"list\", \"list\", \"list\", \"location\", \"location\", \"location\", \"location\", \"location\", \"location\", \"location\", \"location\", \"location\", \"location\", \"location\", \"location\", \"location\", \"location\", \"location\", \"location\", \"lottery\", \"lottery\", \"lottery\", \"lottery\", \"lottery\", \"lottery\", \"lottery\", \"lottery\", \"lottery\", \"lottery\", \"lottery\", \"lottery\", \"lottery\", \"macys\", \"macys\", \"macys\", \"macys\", \"macys\", \"macys\", \"macys\", \"macys\", \"macys\", \"manliness\", \"manliness\", \"manliness\", \"margin\", \"marketing\", \"marketing\", \"marketing\", \"marketing\", \"marketing\", \"marketing\", \"marketing\", \"marketing\", \"marketing\", \"marketing\", \"marketing\", \"marketing\", \"marketing\", \"marketing\", \"marketing\", \"marketing\", \"material\", \"material\", \"material\", \"material\", \"material\", \"material\", \"material\", \"material\", \"material\", \"material\", \"material\", \"material\", \"material\", \"material\", \"material\", \"material\", \"materialyou\", \"measure\", \"measure\", \"measure\", \"measure\", \"measure\", \"measure\", \"measure\", \"measure\", \"measure\", \"measure\", \"measure\", \"measure\", \"measure\", \"measure\", \"measure\", \"measure\", \"message\", \"message\", \"message\", \"message\", \"message\", \"message\", \"message\", \"message\", \"message\", \"message\", \"message\", \"message\", \"message\", \"message\", \"message\", \"message\", \"million\", \"million\", \"million\", \"million\", \"million\", \"million\", \"million\", \"million\", \"minister\", \"mobile\", \"mobile\", \"mobile\", \"mobile\", \"mobile\", \"mobile\", \"mobile\", \"mobile\", \"mobile\", \"mobile\", \"mobile\", \"mobile\", \"mobile\", \"mobile\", \"mobile\", \"mobile\", \"monster\", \"monster\", \"monster\", \"monster\", \"monster\", \"monster\", \"monster\", \"monster\", \"monster\", \"monster\", \"monster\", \"monster\", \"monster\", \"monster\", \"monster\", \"monster\", \"musician\", \"musician\", \"musician\", \"musician\", \"musician\", \"musician\", \"musician\", \"musician\", \"musician\", \"musician\", \"nacelink\", \"nacelink\", \"neal\", \"network\", \"network\", \"network\", \"network\", \"network\", \"network\", \"network\", \"network\", \"network\", \"network\", \"network\", \"network\", \"network\", \"network\", \"network\", \"network\", \"nickelodeon\", \"nickelodeon\", \"nickelodeon\", \"nickelodeon\", \"nickelodeon\", \"nickelodeon\", \"nickelodeon\", \"nickelodeon\", \"nickelodeon\", \"nickelodeon\", \"nickelodeon\", \"nickelodeon\", \"nickelodeon\", \"nickelodeon\", \"nickelodeon\", \"nickelodeon\", \"norman\", \"norwegian\", \"notation\", \"notation\", \"notation\", \"notation\", \"notice\", \"notice\", \"notice\", \"notice\", \"notice\", \"notice\", \"notice\", \"notice\", \"notice\", \"notice\", \"notice\", \"notice\", \"notice\", \"notice\", \"notice\", \"notice\", \"octet\", \"offer\", \"offer\", \"offer\", \"offer\", \"offer\", \"offer\", \"offer\", \"offer\", \"offer\", \"offer\", \"offer\", \"offer\", \"offer\", \"offer\", \"offer\", \"offer\", \"option\", \"option\", \"option\", \"option\", \"option\", \"option\", \"option\", \"option\", \"option\", \"option\", \"option\", \"option\", \"option\", \"option\", \"option\", \"option\", \"organizationsof\", \"pageviews\", \"parent\", \"parent\", \"parent\", \"parent\", \"parent\", \"parent\", \"parent\", \"parent\", \"parent\", \"parent\", \"parent\", \"parent\", \"parent\", \"parent\", \"parent\", \"parent\", \"partner\", \"partner\", \"partner\", \"partner\", \"partner\", \"partner\", \"partner\", \"partner\", \"partner\", \"partner\", \"partner\", \"partner\", \"partner\", \"partner\", \"partner\", \"partner\", \"password\", \"password\", \"password\", \"password\", \"password\", \"password\", \"password\", \"password\", \"password\", \"password\", \"password\", \"password\", \"password\", \"password\", \"password\", \"password\", \"persistent\", \"persistent\", \"persistent\", \"persistent\", \"persistent\", \"persistent\", \"persistent\", \"persistent\", \"persistent\", \"persistent\", \"persistent\", \"persistent\", \"persistent\", \"persistent\", \"persistent\", \"persistent\", \"personally\", \"personally\", \"personally\", \"personally\", \"personally\", \"personally\", \"personally\", \"personally\", \"personally\", \"personally\", \"personally\", \"personally\", \"personally\", \"personally\", \"personally\", \"personally\", \"phpbb\", \"phpbb\", \"phpbb\", \"physician\", \"physician\", \"physician\", \"physician\", \"physician\", \"physician\", \"physician\", \"physician\", \"physician\", \"physician\", \"pinterest\", \"pinterest\", \"pinterest\", \"pinterest\", \"pinterest\", \"pinterest\", \"pinterest\", \"pinterest\", \"pinterest\", \"pinterest\", \"pinterest\", \"pinterest\", \"pinterest\", \"pinterest\", \"pobox\", \"poem\", \"pointing\", \"policyeach\", \"pooling\", \"pooling\", \"port\", \"portalswe\", \"portalthe\", \"preference\", \"preference\", \"preference\", \"preference\", \"preference\", \"preference\", \"preference\", \"preference\", \"preference\", \"preference\", \"preference\", \"preference\", \"preference\", \"preference\", \"preference\", \"preference\", \"productsto\", \"promotion\", \"promotion\", \"promotion\", \"promotion\", \"promotion\", \"promotion\", \"promotion\", \"promotion\", \"promotion\", \"promotion\", \"promotion\", \"promotion\", \"promotion\", \"promotion\", \"promotion\", \"promotion\", \"pronunciation\", \"pronunciation\", \"proposing\", \"protected\", \"protected\", \"protected\", \"protected\", \"protected\", \"protected\", \"protected\", \"protected\", \"protected\", \"protected\", \"protected\", \"protected\", \"protected\", \"protected\", \"protected\", \"protected\", \"prweb\", \"prweb\", \"prweb\", \"public\", \"public\", \"public\", \"public\", \"public\", \"public\", \"public\", \"public\", \"public\", \"public\", \"public\", \"public\", \"public\", \"public\", \"public\", \"public\", \"purchase\", \"purchase\", \"purchase\", \"purchase\", \"purchase\", \"purchase\", \"purchase\", \"purchase\", \"purchase\", \"purchase\", \"purchase\", \"purchase\", \"purchase\", \"purchase\", \"purchase\", \"purchase\", \"qualifies\", \"qualifies\", \"qualifies\", \"qualifies\", \"qualifies\", \"railway\", \"railway\", \"rainfall\", \"recieve\", \"regent\", \"regent\", \"repinned\", \"repins\", \"reply\", \"reply\", \"reply\", \"reply\", \"reply\", \"reply\", \"reply\", \"reply\", \"reply\", \"reply\", \"reply\", \"reply\", \"reply\", \"reply\", \"reply\", \"reply\", \"requestor\", \"required\", \"required\", \"required\", \"required\", \"required\", \"required\", \"required\", \"required\", \"required\", \"required\", \"required\", \"required\", \"required\", \"required\", \"required\", \"required\", \"review\", \"review\", \"review\", \"review\", \"review\", \"review\", \"review\", \"review\", \"review\", \"review\", \"review\", \"review\", \"review\", \"review\", \"review\", \"review\", \"rhyme\", \"rhyme\", \"right\", \"right\", \"right\", \"right\", \"right\", \"right\", \"right\", \"right\", \"right\", \"right\", \"right\", \"right\", \"right\", \"right\", \"right\", \"right\", \"rubicon\", \"rubiconproject\", \"safe\", \"safe\", \"safe\", \"safe\", \"safe\", \"safe\", \"safe\", \"safe\", \"safe\", \"safe\", \"safe\", \"safe\", \"safe\", \"safe\", \"safe\", \"safe\", \"scripting\", \"scripting\", \"scripting\", \"scripting\", \"scripting\", \"scripting\", \"sdsu\", \"sdsu\", \"sell\", \"sell\", \"sell\", \"sell\", \"sell\", \"sell\", \"sell\", \"sell\", \"sell\", \"sell\", \"sell\", \"sell\", \"sell\", \"sell\", \"sell\", \"sell\", \"server\", \"server\", \"server\", \"server\", \"server\", \"server\", \"server\", \"server\", \"server\", \"server\", \"server\", \"server\", \"server\", \"server\", \"server\", \"server\", \"shouldbe\", \"soccer\", \"soccer\", \"soccer\", \"soccer\", \"soccer\", \"social\", \"social\", \"social\", \"social\", \"social\", \"social\", \"social\", \"social\", \"social\", \"social\", \"social\", \"social\", \"social\", \"social\", \"social\", \"social\", \"southern\", \"specific\", \"specific\", \"specific\", \"specific\", \"specific\", \"specific\", \"specific\", \"specific\", \"specific\", \"specific\", \"specific\", \"specific\", \"specific\", \"specific\", \"specific\", \"specific\", \"spine\", \"spine\", \"spine\", \"spine\", \"spine\", \"staffing\", \"staffing\", \"staffing\", \"staffing\", \"staffing\", \"staffing\", \"staffing\", \"staffing\", \"staffing\", \"staffing\", \"staffing\", \"staffing\", \"starfall\", \"starfall\", \"statement\", \"statement\", \"statement\", \"statement\", \"statement\", \"statement\", \"statement\", \"statement\", \"statement\", \"statement\", \"statement\", \"statement\", \"statement\", \"statement\", \"statement\", \"statement\", \"sthash\", \"supporter\", \"supporter\", \"supporter\", \"supporter\", \"suppress\", \"suppress\", \"suppress\", \"suppress\", \"suppress\", \"suppress\", \"suppress\", \"suppress\", \"suppress\", \"suppress\", \"suppress\", \"suppress\", \"suppress\", \"suppress\", \"suppress\", \"sutter\", \"sutter\", \"synonym\", \"synonym\", \"system\", \"system\", \"system\", \"system\", \"system\", \"system\", \"system\", \"system\", \"system\", \"system\", \"system\", \"system\", \"system\", \"system\", \"system\", \"system\", \"talk\", \"talk\", \"talk\", \"talk\", \"talk\", \"talk\", \"talk\", \"talk\", \"talk\", \"talk\", \"talk\", \"talk\", \"talk\", \"talk\", \"talk\", \"technology\", \"technology\", \"technology\", \"technology\", \"technology\", \"technology\", \"technology\", \"technology\", \"technology\", \"technology\", \"technology\", \"technology\", \"technology\", \"technology\", \"technology\", \"technology\", \"tegrazone\", \"testosterone\", \"testosterone\", \"testosterone\", \"testosterone\", \"testosterone\", \"thrid\", \"tier\", \"tier\", \"tier\", \"tier\", \"tier\", \"tier\", \"tier\", \"tier\", \"tier\", \"tier\", \"tier\", \"tier\", \"tier\", \"tier\", \"tier\", \"tiered\", \"timesaving\", \"tohttp\", \"traded\", \"transaction\", \"transaction\", \"transaction\", \"transaction\", \"transaction\", \"transaction\", \"transaction\", \"transaction\", \"transaction\", \"transaction\", \"transaction\", \"transaction\", \"transaction\", \"transaction\", \"transaction\", \"transaction\", \"translation\", \"translation\", \"translation\", \"translation\", \"translation\", \"translation\", \"translation\", \"translation\", \"translation\", \"translation\", \"type\", \"type\", \"type\", \"type\", \"type\", \"type\", \"type\", \"type\", \"type\", \"type\", \"type\", \"type\", \"type\", \"type\", \"type\", \"type\", \"typed\", \"typed\", \"typed\", \"typed\", \"typed\", \"update\", \"update\", \"update\", \"update\", \"update\", \"update\", \"update\", \"update\", \"update\", \"update\", \"update\", \"update\", \"update\", \"update\", \"update\", \"update\", \"updations\", \"usercp\", \"usor\", \"vehicle\", \"vehicle\", \"vehicle\", \"vehicle\", \"vehicle\", \"vehicle\", \"vehicle\", \"vehicle\", \"vehicle\", \"vehicle\", \"vehicle\", \"vehicle\", \"vehicle\", \"vehicle\", \"vehicle\", \"vehicle\", \"visitor\", \"visitor\", \"visitor\", \"visitor\", \"visitor\", \"visitor\", \"visitor\", \"visitor\", \"visitor\", \"visitor\", \"visitor\", \"visitor\", \"visitor\", \"visitor\", \"visitor\", \"visitor\", \"visitorfrom\", \"visitorfrom\", \"visitorfrom\", \"vistor\", \"volvo\", \"volvo\", \"volvo\", \"volvo\", \"volvo\", \"volvo\", \"volvo\", \"volvo\", \"volvo\", \"wage\", \"webadmin\", \"webadmin\", \"webhost\", \"webhost\", \"webhost\", \"webhost\", \"websiteyour\", \"wewill\", \"wind\", \"wind\", \"wind\", \"wind\", \"wind\", \"wind\", \"wind\", \"winter\", \"wmtransfer\", \"xkcd\", \"xkcd\", \"xkcd\"]}, \"R\": 10, \"lambda.step\": 0.01, \"plot.opts\": {\"xlab\": \"PC1\", \"ylab\": \"PC2\"}, \"topic.order\": [16, 9, 13, 12, 7, 6, 15, 14, 2, 1, 11, 3, 5, 4, 8, 10]};\n",
       "\n",
       "function LDAvis_load_lib(url, callback){\n",
       "  var s = document.createElement('script');\n",
       "  s.src = url;\n",
       "  s.async = true;\n",
       "  s.onreadystatechange = s.onload = callback;\n",
       "  s.onerror = function(){console.warn(\"failed to load library \" + url);};\n",
       "  document.getElementsByTagName(\"head\")[0].appendChild(s);\n",
       "}\n",
       "\n",
       "if(typeof(LDAvis) !== \"undefined\"){\n",
       "   // already loaded: just create the visualization\n",
       "   !function(LDAvis){\n",
       "       new LDAvis(\"#\" + \"ldavis_el566241123161156085833820394\", ldavis_el566241123161156085833820394_data);\n",
       "   }(LDAvis);\n",
       "}else if(typeof define === \"function\" && define.amd){\n",
       "   // require.js is available: use it to load d3/LDAvis\n",
       "   require.config({paths: {d3: \"https://cdnjs.cloudflare.com/ajax/libs/d3/3.5.5/d3.min\"}});\n",
       "   require([\"d3\"], function(d3){\n",
       "      window.d3 = d3;\n",
       "      LDAvis_load_lib(\"https://cdn.rawgit.com/bmabey/pyLDAvis/files/ldavis.v1.0.0.js\", function(){\n",
       "        new LDAvis(\"#\" + \"ldavis_el566241123161156085833820394\", ldavis_el566241123161156085833820394_data);\n",
       "      });\n",
       "    });\n",
       "}else{\n",
       "    // require.js not available: dynamically load d3 & LDAvis\n",
       "    LDAvis_load_lib(\"https://cdnjs.cloudflare.com/ajax/libs/d3/3.5.5/d3.min.js\", function(){\n",
       "         LDAvis_load_lib(\"https://cdn.rawgit.com/bmabey/pyLDAvis/files/ldavis.v1.0.0.js\", function(){\n",
       "                 new LDAvis(\"#\" + \"ldavis_el566241123161156085833820394\", ldavis_el566241123161156085833820394_data);\n",
       "            })\n",
       "         });\n",
       "}\n",
       "</script>"
      ],
      "text/plain": [
       "PreparedData(topic_coordinates=                x           y  topics  cluster       Freq\n",
       "topic                                                    \n",
       "15    -577.094604  383.420990       1        1  16.533941\n",
       "8     -438.312103 -491.510254       2        1  11.882208\n",
       "12     924.638489   44.137722       3        1  11.148903\n",
       "11     203.735901 -350.342255       4        1   7.943484\n",
       "6     -142.463669 -174.751770       5        1   7.517119\n",
       "5     -199.224411  707.705627       6        1   6.248162\n",
       "14     511.899689 -107.082550       7        1   5.783246\n",
       "13     573.004822  311.040894       8        1   5.757191\n",
       "1     -570.494690  -69.538040       9        1   5.596101\n",
       "0      162.250748  497.871490      10        1   5.336561\n",
       "10     396.500732 -736.602173      11        1   5.169855\n",
       "2      514.342468  738.479004      12        1   3.406479\n",
       "4      -60.119793 -696.490540      13        1   2.833380\n",
       "3      749.943604 -446.564514      14        1   2.152336\n",
       "7      182.913406   89.008476      15        1   1.458972\n",
       "9     -181.773575  232.769836      16        1   1.232059, topic_info=      Category         Freq            Term        Total  loglift  logprob\n",
       "193    Default  3535.000000      personally  3535.000000  10.0000  10.0000\n",
       "13     Default  2827.000000     advertising  2827.000000   9.0000   9.0000\n",
       "21     Default  1756.000000     application  1756.000000   8.0000   8.0000\n",
       "47     Default  1754.000000   communication  1754.000000   7.0000   7.0000\n",
       "359    Default  2273.000000        customer  2273.000000   6.0000   6.0000\n",
       "528    Default  1993.000000           child  1993.000000   5.0000   5.0000\n",
       "174    Default  1966.000000          mobile  1966.000000   4.0000   4.0000\n",
       "418    Default  2052.000000       marketing  2052.000000   3.0000   3.0000\n",
       "182    Default  1939.000000           offer  1939.000000   2.0000   2.0000\n",
       "70     Default  1628.000000          credit  1628.000000   1.0000   1.0000\n",
       "3521    Topic1     1.893924          vistor     2.558632   1.4989 -10.5335\n",
       "9358    Topic1     1.893924    cryptography     2.558632   1.4989 -10.5335\n",
       "10819   Topic1     1.853994            sdsu     3.507426   1.1622 -10.5548\n",
       "10818   Topic1     2.496866        nacelink     4.727489   1.1614 -10.2571\n",
       "6656    Topic1     1.719737        leadback     3.626362   1.0537 -10.6300\n",
       "6654    Topic1     1.677453         impress     3.593550   1.0379 -10.6548\n",
       "4777    Topic1     1.069576           bskyb     2.314565   1.0278 -11.1049\n",
       "10648   Topic1     1.021903    editoronline     2.218585   1.0246 -11.1505\n",
       "6660    Topic1     1.641695  rubiconproject     3.572617   1.0222 -10.6764\n",
       "6659    Topic1     1.648359         rubicon     3.594327   1.0202 -10.6723\n",
       "10512   Topic1     6.750194            bean    15.982479   0.9378  -9.2626\n",
       "3336    Topic1    10.728076        comscore    26.135921   0.9093  -8.7993\n",
       "5487    Topic1    42.975616     nickelodeon   115.694664   0.8094  -7.4115\n",
       "9206    Topic1     3.171419        starfall     7.361276   0.9577 -10.0179\n",
       "7991    Topic1     5.230990          kijiji    12.833686   0.9023  -9.5175\n",
       "13      Topic1   644.351074     advertising  2827.353027   0.3209  -4.7039\n",
       "174     Topic1   459.097595          mobile  1966.605347   0.3450  -5.0429\n",
       "246     Topic1   283.302673          review  1152.213501   0.3968  -5.5256\n",
       "502     Topic1   221.896149      additional   893.061279   0.4073  -5.7699\n",
       "109     Topic1   471.032043         feature  2173.295410   0.2707  -5.0172\n",
       "...        ...          ...             ...          ...      ...      ...\n",
       "7183   Topic16     0.269109    addressemail     3.501898   1.8305  -9.8880\n",
       "7191   Topic16     0.810517        staffing    10.619036   1.8238  -8.7855\n",
       "7182   Topic16     0.269423   addresscredit     3.550323   1.8180  -9.8869\n",
       "8155   Topic16     0.232836        southern     3.141864   1.7942 -10.0328\n",
       "2270   Topic16     0.858071        caremark    11.987742   1.7595  -8.7285\n",
       "7186   Topic16     0.248885        diabetic     3.577630   1.7310  -9.9662\n",
       "10436  Topic16     0.188181          winter     2.731468   1.7213 -10.2457\n",
       "5577   Topic16     0.128045         empower     1.967895   1.6641 -10.6308\n",
       "7187   Topic16     0.177151  itbusinessedge     2.772216   1.6461 -10.3061\n",
       "10432  Topic16     0.227658          checkm     3.661087   1.6188 -10.0553\n",
       "8605   Topic16     3.755792            gaia    73.357109   1.4244  -7.2521\n",
       "5873   Topic16     0.890580        arranger    17.080029   1.4427  -8.6913\n",
       "2792   Topic16     4.478817         vehicle   114.642982   1.1540  -7.0760\n",
       "2494   Topic16     1.218435        suppress    25.239353   1.3656  -8.3778\n",
       "2775   Topic16     3.274702          dealer    83.020271   1.1636  -7.3892\n",
       "14     Topic16    19.443581       affiliate   859.601929   0.6075  -5.6079\n",
       "193    Topic16    56.249325      personally  3535.670898   0.2556  -4.5456\n",
       "384    Topic16    15.034838            game   640.083130   0.6453  -5.8650\n",
       "21     Topic16    31.093510     application  1756.006470   0.3627  -5.1384\n",
       "340    Topic16    20.844538          beacon  1097.674683   0.4326  -5.5383\n",
       "212    Topic16    24.560440          public  1393.588989   0.3580  -5.3743\n",
       "139    Topic16    25.991934         include  1614.055176   0.2678  -5.3176\n",
       "539    Topic16    19.912783      connection  1130.145020   0.3577  -5.5840\n",
       "13     Topic16    35.061718     advertising  2827.353027   0.0065  -5.0183\n",
       "418    Topic16    28.302155       marketing  2052.843018   0.1124  -5.2325\n",
       "420    Topic16    26.854712         message  1900.430542   0.1371  -5.2850\n",
       "182    Topic16    26.825832           offer  1939.030640   0.1159  -5.2860\n",
       "47     Topic16    25.251822   communication  1754.363525   0.1555  -5.3465\n",
       "260    Topic16    22.675711          server  1481.895386   0.2167  -5.4541\n",
       "528    Topic16    23.678102           child  1993.370483  -0.0365  -5.4108\n",
       "\n",
       "[450 rows x 6 columns], token_table=       Topic      Freq         Term\n",
       "term                               \n",
       "4          1  0.123361     activity\n",
       "4          2  0.163642     activity\n",
       "4          3  0.134941     activity\n",
       "4          4  0.076534     activity\n",
       "4          5  0.090632     activity\n",
       "4          6  0.067471     activity\n",
       "4          7  0.031218     activity\n",
       "4          8  0.048841     activity\n",
       "4          9  0.077037     activity\n",
       "4         10  0.050855     activity\n",
       "4         11  0.042295     activity\n",
       "4         12  0.027190     activity\n",
       "4         13  0.025679     activity\n",
       "4         14  0.020644     activity\n",
       "4         15  0.011581     activity\n",
       "4         16  0.009063     activity\n",
       "502        1  0.248583   additional\n",
       "502        2  0.113094   additional\n",
       "502        3  0.132130   additional\n",
       "502        4  0.066065   additional\n",
       "502        5  0.069424   additional\n",
       "502        6  0.050388   additional\n",
       "502        7  0.041431   additional\n",
       "502        8  0.045910   additional\n",
       "502        9  0.048149   additional\n",
       "502       10  0.040311   additional\n",
       "502       11  0.053748   additional\n",
       "502       12  0.031353   additional\n",
       "502       13  0.017916   additional\n",
       "502       14  0.016796   additional\n",
       "...      ...       ...          ...\n",
       "8858       1  0.269406        volvo\n",
       "8858       2  0.107762        volvo\n",
       "8858       3  0.053881        volvo\n",
       "8858       4  0.053881        volvo\n",
       "8858       6  0.107762        volvo\n",
       "8858       8  0.053881        volvo\n",
       "8858       9  0.269406        volvo\n",
       "8858      12  0.053881        volvo\n",
       "8858      13  0.053881        volvo\n",
       "6082       8  0.547355         wage\n",
       "6110       1  0.392055     webadmin\n",
       "6110      13  0.392055     webadmin\n",
       "7114       4  0.197490      webhost\n",
       "7114       5  0.263321      webhost\n",
       "7114      11  0.394981      webhost\n",
       "7114      16  0.065830      webhost\n",
       "8048      10  0.529226  websiteyour\n",
       "7719       6  0.345445       wewill\n",
       "4190       1  0.116122         wind\n",
       "4190       2  0.116122         wind\n",
       "4190       3  0.232243         wind\n",
       "4190       6  0.116122         wind\n",
       "4190      11  0.116122         wind\n",
       "4190      13  0.116122         wind\n",
       "4190      15  0.116122         wind\n",
       "10436      1  0.366104       winter\n",
       "8486       6  0.581441   wmtransfer\n",
       "9528       1  0.101098         xkcd\n",
       "9528       4  0.606589         xkcd\n",
       "9528      10  0.101098         xkcd\n",
       "\n",
       "[1866 rows x 3 columns], R=10, lambda_step=0.01, plot_opts={'xlab': 'PC1', 'ylab': 'PC2'}, topic_order=[16, 9, 13, 12, 7, 6, 15, 14, 2, 1, 11, 3, 5, 4, 8, 10])"
      ]
     },
     "execution_count": 114,
     "metadata": {},
     "output_type": "execute_result"
    }
   ],
   "source": [
    "vis_tsne"
   ]
  },
  {
   "cell_type": "code",
   "execution_count": 115,
   "metadata": {
    "ExecuteTime": {
     "end_time": "2019-02-19T07:00:39.869123Z",
     "start_time": "2019-02-19T07:00:39.853891Z"
    }
   },
   "outputs": [],
   "source": [
    "# Save lda vis 'acl_optimal_lda_4top_fulldoc.html'\n",
    "pyLDAvis.save_html(vis_tsne, 'acl_optimal_lda_16top_fulldoc_tsne.html')"
   ]
  },
  {
   "cell_type": "code",
   "execution_count": 116,
   "metadata": {
    "ExecuteTime": {
     "end_time": "2019-02-19T07:02:59.252165Z",
     "start_time": "2019-02-19T07:02:56.515433Z"
    }
   },
   "outputs": [
    {
     "data": {
      "text/html": [
       "<div>\n",
       "<style scoped>\n",
       "    .dataframe tbody tr th:only-of-type {\n",
       "        vertical-align: middle;\n",
       "    }\n",
       "\n",
       "    .dataframe tbody tr th {\n",
       "        vertical-align: top;\n",
       "    }\n",
       "\n",
       "    .dataframe thead th {\n",
       "        text-align: right;\n",
       "    }\n",
       "</style>\n",
       "<table border=\"1\" class=\"dataframe\">\n",
       "  <thead>\n",
       "    <tr style=\"text-align: right;\">\n",
       "      <th></th>\n",
       "      <th>Document_No</th>\n",
       "      <th>Dominant_Topic</th>\n",
       "      <th>Topic_Perc_Contrib</th>\n",
       "      <th>Keywords</th>\n",
       "      <th>Text</th>\n",
       "    </tr>\n",
       "  </thead>\n",
       "  <tbody>\n",
       "    <tr>\n",
       "      <th>0</th>\n",
       "      <td>0</td>\n",
       "      <td>12.0</td>\n",
       "      <td>0.8741</td>\n",
       "      <td>cookie, personally, type, technology, activity...</td>\n",
       "      <td>[share, creating, relevant, search, connect, p...</td>\n",
       "    </tr>\n",
       "    <tr>\n",
       "      <th>1</th>\n",
       "      <td>1</td>\n",
       "      <td>8.0</td>\n",
       "      <td>0.6460</td>\n",
       "      <td>personally, advertising, feature, cookie, acti...</td>\n",
       "      <td>[recognizes, protecting, entrust, safely, secu...</td>\n",
       "    </tr>\n",
       "    <tr>\n",
       "      <th>2</th>\n",
       "      <td>2</td>\n",
       "      <td>12.0</td>\n",
       "      <td>0.8470</td>\n",
       "      <td>cookie, personally, type, technology, activity...</td>\n",
       "      <td>[detail, measure, protect, connection, upuzzle...</td>\n",
       "    </tr>\n",
       "  </tbody>\n",
       "</table>\n",
       "</div>"
      ],
      "text/plain": [
       "   Document_No  Dominant_Topic  Topic_Perc_Contrib  \\\n",
       "0            0            12.0              0.8741   \n",
       "1            1             8.0              0.6460   \n",
       "2            2            12.0              0.8470   \n",
       "\n",
       "                                            Keywords  \\\n",
       "0  cookie, personally, type, technology, activity...   \n",
       "1  personally, advertising, feature, cookie, acti...   \n",
       "2  cookie, personally, type, technology, activity...   \n",
       "\n",
       "                                                Text  \n",
       "0  [share, creating, relevant, search, connect, p...  \n",
       "1  [recognizes, protecting, entrust, safely, secu...  \n",
       "2  [detail, measure, protect, connection, upuzzle...  "
      ]
     },
     "execution_count": 116,
     "metadata": {},
     "output_type": "execute_result"
    }
   ],
   "source": [
    "# Find the dominant topic for each document\n",
    "df_topic_sents_keywords = format_topics_sentences(\n",
    "    ldamodel=optimal_model, corpus=corpus, texts=train_words)\n",
    "\n",
    "# Format\n",
    "df_dominant_topic = df_topic_sents_keywords.reset_index()\n",
    "df_dominant_topic.columns = [\n",
    "    'Document_No', 'Dominant_Topic', 'Topic_Perc_Contrib', 'Keywords', 'Text']\n",
    "\n",
    "df_dominant_topic.head(3)"
   ]
  },
  {
   "cell_type": "code",
   "execution_count": 117,
   "metadata": {
    "ExecuteTime": {
     "end_time": "2019-02-19T07:03:07.849633Z",
     "start_time": "2019-02-19T07:03:07.840844Z"
    }
   },
   "outputs": [
    {
     "data": {
      "text/plain": [
       "[(9,\n",
       "  '0.011*\"personally\" + 0.007*\"advertising\" + 0.006*\"application\" + 0.005*\"marketing\" + 0.005*\"message\" + 0.005*\"offer\" + 0.005*\"include\" + 0.005*\"communication\" + 0.005*\"public\" + 0.004*\"child\"'),\n",
       " (3,\n",
       "  '0.015*\"personally\" + 0.006*\"mobile\" + 0.006*\"visitor\" + 0.005*\"message\" + 0.005*\"marketing\" + 0.005*\"feature\" + 0.005*\"business\" + 0.005*\"preference\" + 0.005*\"offer\" + 0.005*\"credit\"'),\n",
       " (14,\n",
       "  '0.012*\"customer\" + 0.007*\"credit\" + 0.007*\"personally\" + 0.006*\"communication\" + 0.005*\"consent\" + 0.005*\"mobile\" + 0.005*\"offer\" + 0.005*\"business\" + 0.005*\"marketing\" + 0.005*\"advertising\"'),\n",
       " (7,\n",
       "  '0.010*\"personally\" + 0.007*\"child\" + 0.006*\"application\" + 0.006*\"advertising\" + 0.006*\"mobile\" + 0.006*\"feature\" + 0.005*\"communication\" + 0.005*\"interest\" + 0.005*\"card\" + 0.005*\"technology\"'),\n",
       " (4,\n",
       "  '0.007*\"communication\" + 0.007*\"advertising\" + 0.006*\"business\" + 0.006*\"notice\" + 0.005*\"consent\" + 0.005*\"partner\" + 0.005*\"child\" + 0.005*\"marketing\" + 0.005*\"offer\" + 0.005*\"customer\"'),\n",
       " (6,\n",
       "  '0.009*\"personally\" + 0.006*\"message\" + 0.006*\"choose\" + 0.006*\"customer\" + 0.006*\"activity\" + 0.005*\"cookie\" + 0.005*\"business\" + 0.005*\"advertising\" + 0.005*\"marketing\" + 0.005*\"interest\"'),\n",
       " (11,\n",
       "  '0.010*\"personally\" + 0.010*\"advertising\" + 0.007*\"advertisement\" + 0.007*\"business\" + 0.006*\"mobile\" + 0.005*\"visitor\" + 0.005*\"technology\" + 0.005*\"feature\" + 0.005*\"cookie\" + 0.005*\"consent\"'),\n",
       " (8,\n",
       "  '0.012*\"personally\" + 0.008*\"advertising\" + 0.007*\"feature\" + 0.006*\"cookie\" + 0.006*\"activity\" + 0.006*\"interest\" + 0.006*\"child\" + 0.005*\"customer\" + 0.005*\"marketing\" + 0.005*\"business\"'),\n",
       " (15,\n",
       "  '0.009*\"advertising\" + 0.007*\"feature\" + 0.006*\"mobile\" + 0.006*\"business\" + 0.006*\"personally\" + 0.006*\"marketing\" + 0.005*\"technology\" + 0.005*\"application\" + 0.005*\"message\" + 0.005*\"child\"'),\n",
       " (12,\n",
       "  '0.008*\"cookie\" + 0.007*\"personally\" + 0.006*\"type\" + 0.006*\"technology\" + 0.006*\"activity\" + 0.005*\"offer\" + 0.005*\"business\" + 0.005*\"advertising\" + 0.005*\"advertiser\" + 0.005*\"visitor\"')]"
      ]
     },
     "execution_count": 117,
     "metadata": {},
     "output_type": "execute_result"
    }
   ],
   "source": [
    "optimal_model.show_topics(formatted=True, num_words=10)"
   ]
  },
  {
   "cell_type": "code",
   "execution_count": 118,
   "metadata": {
    "ExecuteTime": {
     "end_time": "2019-02-19T07:03:38.725750Z",
     "start_time": "2019-02-19T07:03:38.669573Z"
    }
   },
   "outputs": [
    {
     "name": "stdout",
     "output_type": "stream",
     "text": [
      "file                  0\n",
      "text                  0\n",
      "type                  0\n",
      "co_name               0\n",
      "word_count_filt       0\n",
      "Document_No           0\n",
      "Dominant_Topic        0\n",
      "Topic_Perc_Contrib    0\n",
      "Keywords              0\n",
      "Text                  0\n",
      "dtype: int64\n"
     ]
    },
    {
     "data": {
      "text/plain": [
       "(800, 10)"
      ]
     },
     "execution_count": 118,
     "metadata": {},
     "output_type": "execute_result"
    }
   ],
   "source": [
    "# Merge topic info with main df\n",
    "train_df = train_df.reset_index(drop=True)\n",
    "train_df_with_topic = pd.concat([train_df, df_dominant_topic], axis = 1)\n",
    "# print(train_df_with_topic.isna().sum())\n",
    "train_df_with_topic.head(2)\n",
    "train_df_with_topic.shape"
   ]
  },
  {
   "cell_type": "markdown",
   "metadata": {},
   "source": [
    "## Apply topic model to new documents"
   ]
  },
  {
   "cell_type": "code",
   "execution_count": 119,
   "metadata": {
    "ExecuteTime": {
     "end_time": "2019-02-19T07:03:47.933378Z",
     "start_time": "2019-02-19T07:03:47.569086Z"
    }
   },
   "outputs": [
    {
     "name": "stdout",
     "output_type": "stream",
     "text": [
      "CPU times: user 1.26 s, sys: 24.4 ms, total: 1.29 s\n",
      "Wall time: 354 ms\n"
     ]
    }
   ],
   "source": [
    "%%time\n",
    "# get topic probability distribution for new documents and keywords\n",
    "new_doc_topic =[]\n",
    "new_doc_topic_kwords =[]\n",
    "for i,doc in enumerate(test_words):\n",
    "    new_doc_bow = id2word.doc2bow(doc)\n",
    "    try:\n",
    "        vector = optimal_model[new_doc_bow]#optimal_model.get_document_topics(new_doc_bow) <-- does the same thing\n",
    "        new_doc_topic.append(vector) \n",
    "        new_doc_topic_kwords.append(get_topics_4_new_docs(model = optimal_model, topics= vector, prob = 0.3))        \n",
    "\n",
    "    except:\n",
    "        vector = ''\n",
    "        new_doc_topic.append([i,''])\n",
    "        new_doc_topic_kwords.append([i, ''])"
   ]
  },
  {
   "cell_type": "code",
   "execution_count": 120,
   "metadata": {
    "ExecuteTime": {
     "end_time": "2019-02-19T07:03:59.159108Z",
     "start_time": "2019-02-19T07:03:56.459123Z"
    }
   },
   "outputs": [],
   "source": [
    "# Find the dominant topic for each document\n",
    "df_topic_sents_keywords_test = format_topics_sentences(\n",
    "    ldamodel=optimal_model, corpus=corpus, texts=test_words)\n",
    "\n",
    "# Format\n",
    "df_dominant_topic_test = df_topic_sents_keywords_test.reset_index()\n",
    "df_dominant_topic_test.columns = [\n",
    "    'Document_No', 'Dominant_Topic', 'Topic_Perc_Contrib', 'Keywords', 'Text']"
   ]
  },
  {
   "cell_type": "code",
   "execution_count": 121,
   "metadata": {
    "ExecuteTime": {
     "end_time": "2019-02-19T07:04:07.514166Z",
     "start_time": "2019-02-19T07:04:07.499520Z"
    }
   },
   "outputs": [
    {
     "data": {
      "text/html": [
       "<div>\n",
       "<style scoped>\n",
       "    .dataframe tbody tr th:only-of-type {\n",
       "        vertical-align: middle;\n",
       "    }\n",
       "\n",
       "    .dataframe tbody tr th {\n",
       "        vertical-align: top;\n",
       "    }\n",
       "\n",
       "    .dataframe thead th {\n",
       "        text-align: right;\n",
       "    }\n",
       "</style>\n",
       "<table border=\"1\" class=\"dataframe\">\n",
       "  <thead>\n",
       "    <tr style=\"text-align: right;\">\n",
       "      <th></th>\n",
       "      <th>Document_No</th>\n",
       "      <th>Dominant_Topic</th>\n",
       "      <th>Topic_Perc_Contrib</th>\n",
       "      <th>Keywords</th>\n",
       "      <th>Text</th>\n",
       "    </tr>\n",
       "  </thead>\n",
       "  <tbody>\n",
       "    <tr>\n",
       "      <th>0</th>\n",
       "      <td>0</td>\n",
       "      <td>12.0</td>\n",
       "      <td>0.8478</td>\n",
       "      <td>cookie, personally, type, technology, activity...</td>\n",
       "      <td>[voluntarily, website, email, address, phone, ...</td>\n",
       "    </tr>\n",
       "    <tr>\n",
       "      <th>1</th>\n",
       "      <td>1</td>\n",
       "      <td>8.0</td>\n",
       "      <td>0.5837</td>\n",
       "      <td>personally, advertising, feature, cookie, acti...</td>\n",
       "      <td>[describes, registered, office, collect, share...</td>\n",
       "    </tr>\n",
       "    <tr>\n",
       "      <th>2</th>\n",
       "      <td>2</td>\n",
       "      <td>12.0</td>\n",
       "      <td>0.8459</td>\n",
       "      <td>cookie, personally, type, technology, activity...</td>\n",
       "      <td>[committed, maintaining, confidence, trust, re...</td>\n",
       "    </tr>\n",
       "    <tr>\n",
       "      <th>3</th>\n",
       "      <td>3</td>\n",
       "      <td>4.0</td>\n",
       "      <td>0.6099</td>\n",
       "      <td>communication, advertising, business, notice, ...</td>\n",
       "      <td>[goal, family, experience, inform, entertain, ...</td>\n",
       "    </tr>\n",
       "  </tbody>\n",
       "</table>\n",
       "</div>"
      ],
      "text/plain": [
       "   Document_No  Dominant_Topic  Topic_Perc_Contrib  \\\n",
       "0            0            12.0              0.8478   \n",
       "1            1             8.0              0.5837   \n",
       "2            2            12.0              0.8459   \n",
       "3            3             4.0              0.6099   \n",
       "\n",
       "                                            Keywords  \\\n",
       "0  cookie, personally, type, technology, activity...   \n",
       "1  personally, advertising, feature, cookie, acti...   \n",
       "2  cookie, personally, type, technology, activity...   \n",
       "3  communication, advertising, business, notice, ...   \n",
       "\n",
       "                                                Text  \n",
       "0  [voluntarily, website, email, address, phone, ...  \n",
       "1  [describes, registered, office, collect, share...  \n",
       "2  [committed, maintaining, confidence, trust, re...  \n",
       "3  [goal, family, experience, inform, entertain, ...  "
      ]
     },
     "execution_count": 121,
     "metadata": {},
     "output_type": "execute_result"
    }
   ],
   "source": [
    "df_dominant_topic_test.head(4)"
   ]
  },
  {
   "cell_type": "code",
   "execution_count": 122,
   "metadata": {
    "ExecuteTime": {
     "end_time": "2019-02-19T07:04:15.943741Z",
     "start_time": "2019-02-19T07:04:15.926006Z"
    }
   },
   "outputs": [
    {
     "data": {
      "text/html": [
       "<div>\n",
       "<style scoped>\n",
       "    .dataframe tbody tr th:only-of-type {\n",
       "        vertical-align: middle;\n",
       "    }\n",
       "\n",
       "    .dataframe tbody tr th {\n",
       "        vertical-align: top;\n",
       "    }\n",
       "\n",
       "    .dataframe thead th {\n",
       "        text-align: right;\n",
       "    }\n",
       "</style>\n",
       "<table border=\"1\" class=\"dataframe\">\n",
       "  <thead>\n",
       "    <tr style=\"text-align: right;\">\n",
       "      <th></th>\n",
       "      <th>Document_No</th>\n",
       "      <th>Dominant_Topic</th>\n",
       "      <th>Topic_Perc_Contrib</th>\n",
       "      <th>Keywords</th>\n",
       "      <th>Text</th>\n",
       "    </tr>\n",
       "  </thead>\n",
       "  <tbody>\n",
       "    <tr>\n",
       "      <th>197</th>\n",
       "      <td>197</td>\n",
       "      <td>8.0</td>\n",
       "      <td>0.7274</td>\n",
       "      <td>personally, advertising, feature, cookie, acti...</td>\n",
       "      <td>[requiring, register, section, feature, turn, ...</td>\n",
       "    </tr>\n",
       "    <tr>\n",
       "      <th>198</th>\n",
       "      <td>198</td>\n",
       "      <td>1.0</td>\n",
       "      <td>0.9914</td>\n",
       "      <td>personally, activity, marketing, cookie, appli...</td>\n",
       "      <td>[hrsdc, responsible, accuracy, reliability, cu...</td>\n",
       "    </tr>\n",
       "    <tr>\n",
       "      <th>199</th>\n",
       "      <td>199</td>\n",
       "      <td>12.0</td>\n",
       "      <td>0.6877</td>\n",
       "      <td>cookie, personally, type, technology, activity...</td>\n",
       "      <td>[read, understand, practice, notice, discloses...</td>\n",
       "    </tr>\n",
       "    <tr>\n",
       "      <th>200</th>\n",
       "      <td>200</td>\n",
       "      <td>11.0</td>\n",
       "      <td>0.9842</td>\n",
       "      <td>personally, advertising, advertisement, busine...</td>\n",
       "      <td>[committed, protecting, visitor, summarizes, g...</td>\n",
       "    </tr>\n",
       "  </tbody>\n",
       "</table>\n",
       "</div>"
      ],
      "text/plain": [
       "     Document_No  Dominant_Topic  Topic_Perc_Contrib  \\\n",
       "197          197             8.0              0.7274   \n",
       "198          198             1.0              0.9914   \n",
       "199          199            12.0              0.6877   \n",
       "200          200            11.0              0.9842   \n",
       "\n",
       "                                              Keywords  \\\n",
       "197  personally, advertising, feature, cookie, acti...   \n",
       "198  personally, activity, marketing, cookie, appli...   \n",
       "199  cookie, personally, type, technology, activity...   \n",
       "200  personally, advertising, advertisement, busine...   \n",
       "\n",
       "                                                  Text  \n",
       "197  [requiring, register, section, feature, turn, ...  \n",
       "198  [hrsdc, responsible, accuracy, reliability, cu...  \n",
       "199  [read, understand, practice, notice, discloses...  \n",
       "200  [committed, protecting, visitor, summarizes, g...  "
      ]
     },
     "execution_count": 122,
     "metadata": {},
     "output_type": "execute_result"
    }
   ],
   "source": [
    "df_dominant_topic_test = df_dominant_topic_test.dropna(axis = 0)\n",
    "df_dominant_topic_test.tail(4)"
   ]
  },
  {
   "cell_type": "code",
   "execution_count": 123,
   "metadata": {
    "ExecuteTime": {
     "end_time": "2019-02-19T07:04:24.651852Z",
     "start_time": "2019-02-19T07:04:24.636731Z"
    }
   },
   "outputs": [
    {
     "name": "stdout",
     "output_type": "stream",
     "text": [
      "file                  0\n",
      "text                  0\n",
      "type                  0\n",
      "co_name               0\n",
      "word_count_filt       0\n",
      "Document_No           0\n",
      "Dominant_Topic        0\n",
      "Topic_Perc_Contrib    0\n",
      "Keywords              0\n",
      "Text                  0\n",
      "dtype: int64\n"
     ]
    }
   ],
   "source": [
    "# Merge in test_df with topic info\n",
    "test_df = test_df.reset_index(drop=True)\n",
    "test_df_with_topic = pd.concat([test_df, df_dominant_topic_test], axis = 1)\n",
    "print(test_df_with_topic.isna().sum())"
   ]
  },
  {
   "cell_type": "code",
   "execution_count": 124,
   "metadata": {
    "ExecuteTime": {
     "end_time": "2019-02-19T07:04:33.350094Z",
     "start_time": "2019-02-19T07:04:33.335642Z"
    }
   },
   "outputs": [
    {
     "data": {
      "text/html": [
       "<div>\n",
       "<style scoped>\n",
       "    .dataframe tbody tr th:only-of-type {\n",
       "        vertical-align: middle;\n",
       "    }\n",
       "\n",
       "    .dataframe tbody tr th {\n",
       "        vertical-align: top;\n",
       "    }\n",
       "\n",
       "    .dataframe thead th {\n",
       "        text-align: right;\n",
       "    }\n",
       "</style>\n",
       "<table border=\"1\" class=\"dataframe\">\n",
       "  <thead>\n",
       "    <tr style=\"text-align: right;\">\n",
       "      <th></th>\n",
       "      <th>file</th>\n",
       "      <th>text</th>\n",
       "      <th>type</th>\n",
       "      <th>co_name</th>\n",
       "      <th>word_count_filt</th>\n",
       "      <th>Document_No</th>\n",
       "      <th>Dominant_Topic</th>\n",
       "      <th>Topic_Perc_Contrib</th>\n",
       "      <th>Keywords</th>\n",
       "      <th>Text</th>\n",
       "    </tr>\n",
       "  </thead>\n",
       "  <tbody>\n",
       "    <tr>\n",
       "      <th>0</th>\n",
       "      <td>/Users/dbm/Downloads/corpus/www_yale_edu.xml</td>\n",
       "      <td>Any information you voluntarily provide to us ...</td>\n",
       "      <td>pp</td>\n",
       "      <td>yale</td>\n",
       "      <td>208</td>\n",
       "      <td>0</td>\n",
       "      <td>12.0</td>\n",
       "      <td>0.8478</td>\n",
       "      <td>cookie, personally, type, technology, activity...</td>\n",
       "      <td>[voluntarily, website, email, address, phone, ...</td>\n",
       "    </tr>\n",
       "    <tr>\n",
       "      <th>1</th>\n",
       "      <td>/Users/dbm/Downloads/corpus/pages_ebay_com_au.xml</td>\n",
       "      <td>This Privacy Policy describes how eBay Intern...</td>\n",
       "      <td>pp</td>\n",
       "      <td>pages</td>\n",
       "      <td>1216</td>\n",
       "      <td>1</td>\n",
       "      <td>8.0</td>\n",
       "      <td>0.5837</td>\n",
       "      <td>personally, advertising, feature, cookie, acti...</td>\n",
       "      <td>[describes, registered, office, collect, share...</td>\n",
       "    </tr>\n",
       "  </tbody>\n",
       "</table>\n",
       "</div>"
      ],
      "text/plain": [
       "                                                file  \\\n",
       "0       /Users/dbm/Downloads/corpus/www_yale_edu.xml   \n",
       "1  /Users/dbm/Downloads/corpus/pages_ebay_com_au.xml   \n",
       "\n",
       "                                                text type co_name  \\\n",
       "0  Any information you voluntarily provide to us ...   pp    yale   \n",
       "1   This Privacy Policy describes how eBay Intern...   pp   pages   \n",
       "\n",
       "   word_count_filt  Document_No  Dominant_Topic  Topic_Perc_Contrib  \\\n",
       "0              208            0            12.0              0.8478   \n",
       "1             1216            1             8.0              0.5837   \n",
       "\n",
       "                                            Keywords  \\\n",
       "0  cookie, personally, type, technology, activity...   \n",
       "1  personally, advertising, feature, cookie, acti...   \n",
       "\n",
       "                                                Text  \n",
       "0  [voluntarily, website, email, address, phone, ...  \n",
       "1  [describes, registered, office, collect, share...  "
      ]
     },
     "execution_count": 124,
     "metadata": {},
     "output_type": "execute_result"
    }
   ],
   "source": [
    "test_df_with_topic.head(2)"
   ]
  },
  {
   "cell_type": "markdown",
   "metadata": {},
   "source": [
    "## Update topic model"
   ]
  },
  {
   "cell_type": "code",
   "execution_count": 125,
   "metadata": {
    "ExecuteTime": {
     "end_time": "2019-02-19T07:04:42.629616Z",
     "start_time": "2019-02-19T07:04:41.962342Z"
    }
   },
   "outputs": [],
   "source": [
    "# Update model with the test corpus\n",
    "optimal_model.update(corpus_test)"
   ]
  },
  {
   "cell_type": "code",
   "execution_count": 126,
   "metadata": {
    "ExecuteTime": {
     "end_time": "2019-02-19T07:04:54.493053Z",
     "start_time": "2019-02-19T07:04:51.078229Z"
    }
   },
   "outputs": [
    {
     "name": "stdout",
     "output_type": "stream",
     "text": [
      "\n",
      "Perplexity:  -7.572384633536912\n",
      "\n",
      "Coherence Score:  0.3128095658915186\n",
      "CPU times: user 7.13 s, sys: 164 ms, total: 7.29 s\n",
      "Wall time: 3.41 s\n"
     ]
    }
   ],
   "source": [
    "%%time\n",
    "# Compute Perplexity\n",
    "# Expect perplexity to decrease and coherence to increase\n",
    "print('\\nPerplexity: ', optimal_model.log_perplexity(corpus))  # a measure of how good the model is. lower the better.\n",
    "\n",
    "# Compute Coherence Score\n",
    "coherence_model_lda = CoherenceModel(model=optimal_model, texts=test_words, dictionary=id2word, coherence='c_v')\n",
    "coherence_lda = coherence_model_lda.get_coherence()\n",
    "print('\\nCoherence Score: ', coherence_lda)"
   ]
  },
  {
   "cell_type": "code",
   "execution_count": 127,
   "metadata": {
    "ExecuteTime": {
     "end_time": "2019-02-19T07:05:03.360305Z",
     "start_time": "2019-02-19T07:05:03.332010Z"
    }
   },
   "outputs": [],
   "source": [
    "# Save model to disk.\n",
    "temp_file2 = datapath(\"./optimal_LDA_model_acl_train_16top_fulldoc_updated\")\n",
    "optimal_model.save(temp_file2)"
   ]
  },
  {
   "cell_type": "markdown",
   "metadata": {},
   "source": [
    "## Update model with single document"
   ]
  },
  {
   "cell_type": "code",
   "execution_count": 128,
   "metadata": {
    "ExecuteTime": {
     "end_time": "2019-02-19T07:05:13.046541Z",
     "start_time": "2019-02-19T07:05:12.200530Z"
    }
   },
   "outputs": [
    {
     "name": "stdout",
     "output_type": "stream",
     "text": [
      "There are 1010 words in this document.\n",
      "After text cleaning, there are 360 words in the document\n"
     ]
    }
   ],
   "source": [
    "url = 'https://www.manulife.com/en/privacy-policy/privacy-statement.html'\n",
    "new_doc = read_data_from_url(link = url)#'https://www.dtelepathy.com/blog/inspiration/14-beautiful-content-heavy-websites-for-inspiration')\n",
    "new_doc = tokenize(pd.Series(new_doc), stop_words=stop_words, frequent_words=frequent_words)\n",
    "print(f'After text cleaning, there are {len(new_doc[0])} words in the document')\n",
    "new_doc= sum(new_doc,[])"
   ]
  },
  {
   "cell_type": "code",
   "execution_count": 129,
   "metadata": {
    "ExecuteTime": {
     "end_time": "2019-02-19T07:05:21.707918Z",
     "start_time": "2019-02-19T07:05:21.694971Z"
    }
   },
   "outputs": [
    {
     "data": {
      "text/plain": [
       "[[13,\n",
       "  [('personally', 0.0077192835),\n",
       "   ('visitor', 0.007641223),\n",
       "   ('interest', 0.0064853034),\n",
       "   ('cookie', 0.006427185),\n",
       "   ('advertising', 0.005789318),\n",
       "   ('offer', 0.0056759478),\n",
       "   ('marketing', 0.005581573),\n",
       "   ('advertisement', 0.005378576),\n",
       "   ('application', 0.005311424),\n",
       "   ('customer', 0.005205098)]],\n",
       " [12,\n",
       "  [('cookie', 0.007437635),\n",
       "   ('type', 0.0067939777),\n",
       "   ('personally', 0.006379262),\n",
       "   ('offer', 0.0062742326),\n",
       "   ('advertiser', 0.0062464504),\n",
       "   ('partner', 0.0054835235),\n",
       "   ('activity', 0.0054681464),\n",
       "   ('advertising', 0.0051522604),\n",
       "   ('business', 0.005140035),\n",
       "   ('consent', 0.0051397383)]]]"
      ]
     },
     "execution_count": 129,
     "metadata": {},
     "output_type": "execute_result"
    }
   ],
   "source": [
    "new_doc_bow = id2word.doc2bow(new_doc)\n",
    "new_doc_top_prob_dist = optimal_model[new_doc_bow]\n",
    "# Sort topic probability distribution for new document\n",
    "new_doc_top_prob_dist_df = pd.DataFrame([{'topic': i[0],'prob': i[1]} for i in new_doc_top_prob_dist]).sort_values(\n",
    "    by=['prob'], ascending=False)\n",
    "new_doc_top_prob_dist_df = new_doc_top_prob_dist_df.reset_index()\n",
    "new_doc_top_kwords = get_topics_4_new_docs(\n",
    "    model=optimal_model, topics=new_doc_top_prob_dist, prob=.25)\n",
    "new_doc_top_kwords\n",
    "\n"
   ]
  },
  {
   "cell_type": "code",
   "execution_count": null,
   "metadata": {
    "ExecuteTime": {
     "end_time": "2019-02-18T07:09:15.329104Z",
     "start_time": "2019-02-18T07:09:15.324661Z"
    }
   },
   "outputs": [],
   "source": [
    "%%time\n",
    "# Update model and examine metrics\n",
    "# optimal_model.update(new_doc_bow)\n",
    "# temp_file2 = datapath(\"./optimal_LDA_model_acl_train_16top_fulldoc_updated\")\n",
    "# optimal_model.save(temp_file2)\n",
    "# Compute Perplexity\n",
    "# Expect perplexity to decrease and coherence to increase\n",
    "print('\\nPerplexity: ', optimal_model.log_perplexity(corpus))  # a measure of how good the model is. lower the better.\n",
    "\n",
    "# Compute Coherence Score\n",
    "coherence_model_lda = CoherenceModel(model=optimal_model, texts=test_words, dictionary=id2word, coherence='c_v')\n",
    "coherence_lda = coherence_model_lda.get_coherence()\n",
    "print('\\nCoherence Score: ', coherence_lda)"
   ]
  },
  {
   "cell_type": "code",
   "execution_count": 77,
   "metadata": {
    "ExecuteTime": {
     "end_time": "2019-02-19T06:31:46.214911Z",
     "start_time": "2019-02-19T06:31:44.574142Z"
    }
   },
   "outputs": [],
   "source": [
    "# Get similarities among topics in the corpus\n",
    "lda_index = similarities.MatrixSimilarity(optimal_model[corpus])"
   ]
  },
  {
   "cell_type": "code",
   "execution_count": 130,
   "metadata": {
    "ExecuteTime": {
     "end_time": "2019-02-19T07:05:35.858946Z",
     "start_time": "2019-02-19T07:05:35.848395Z"
    }
   },
   "outputs": [
    {
     "name": "stdout",
     "output_type": "stream",
     "text": [
      "[467, 347, 384, 570, 107, 266, 199]\n",
      "CPU times: user 5.36 ms, sys: 993 µs, total: 6.35 ms\n",
      "Wall time: 5.4 ms\n"
     ]
    }
   ],
   "source": [
    "%%time\n",
    "# Find documents similar to new document\n",
    "# Let's perform some queries\n",
    "similarities_1 = lda_index[optimal_model[new_doc_bow]]\n",
    "\n",
    "# print(similarities_1.shape)\n",
    "# Sort the similarities\n",
    "similarities_1 = sorted(enumerate(similarities_1), key=lambda item: -item[1])\n",
    " \n",
    "# Top most similar documents:\n",
    "# print(similarities_1[:10])\n",
    " \n",
    "# Let's see what's the most similar document\n",
    "document_id, similarity_1 = similarities_1[0]\n",
    "\n",
    "similar_docs = get_similar_docs_4_new_docs(similarities_val = similarities_1, similarity_threshold  = 0.87)\n",
    "similar_docs\n",
    "print(similar_docs)\n",
    "# Print a similar document\n",
    "# print(train_df_with_topic['text'][similar_docs[0]])"
   ]
  },
  {
   "cell_type": "markdown",
   "metadata": {},
   "source": [
    "## Summarize by topic"
   ]
  },
  {
   "cell_type": "code",
   "execution_count": 265,
   "metadata": {
    "ExecuteTime": {
     "end_time": "2019-02-20T01:12:40.977051Z",
     "start_time": "2019-02-20T01:12:40.974447Z"
    }
   },
   "outputs": [],
   "source": [
    "# train_df_with_topic[train_df_with_topic['Dominant_Topic'] == 3]"
   ]
  },
  {
   "cell_type": "code",
   "execution_count": 272,
   "metadata": {
    "ExecuteTime": {
     "end_time": "2019-02-20T01:16:06.956141Z",
     "start_time": "2019-02-20T01:16:00.681847Z"
    }
   },
   "outputs": [
    {
     "data": {
      "text/plain": [
       "'We also may share your information with cosponsors of such promotion.To offer you products from our affiliates strategic partners agents or from thirdparty marketers and other unaffiliated parties that we believe may be of interest to you or to assist such parties for research administrative andor business purposes.These parties may contact you with an offer or advertisement related to a product or service or they may use such information for their own research administration or business purposes.To unaffiliated thirdparty service providers agents or independent contractors who help us maintain our websites and us with other administrative services including but not limited to order processing and fulfillment providing customer service maintaining and analyzing data sending customer communications on our behalf and entry collection winner selection and prize fulfillment for contests sweepstakes and other promotions.We seek to ensure that such unaffiliated thirdparties will not use your personally identifiable information for any purpose other than that for which they are responsible.However we cannot guarantee that they will not use it for any other purpose.To complete your purchase.If you choose to make a purchase on or through our websites we may ask you for your credit card number billing address and other information in connection with completing such purchase and we may use such information to fulfill your purchase.'"
      ]
     },
     "execution_count": 272,
     "metadata": {},
     "output_type": "execute_result"
    }
   ],
   "source": [
    "#Get the top n documents for each topic\n",
    "df_topic_gr = train_df_with_topic.groupby('Dominant_Topic')\n",
    "# for group, _df in df_topic_gr: \n",
    "tmp = df_topic_gr.get_group(3)\n",
    "tmp = tmp.reset_index(drop = True)\n",
    "tmp = ' '.join(tmp['text'])\n",
    "tmp = sent_tokenize(re.sub('[^a-zA-Z .!?]+' , '', tmp))\n",
    "tmp = [i.split('\\n') for i in tmp]\n",
    "tmp = '.'.join(sum(tmp,[]))\n",
    "tmp = re.sub('[.]{2,}','. ', tmp)\n",
    "# print(tmp)\n",
    "summarize(tmp, ratio = .002)\n",
    "# df_topic_gr.get_group(7)"
   ]
  },
  {
   "cell_type": "code",
   "execution_count": 255,
   "metadata": {
    "ExecuteTime": {
     "end_time": "2019-02-20T00:08:56.936371Z",
     "start_time": "2019-02-20T00:08:56.933722Z"
    }
   },
   "outputs": [],
   "source": [
    "# train_df_with_topic[train_df_with_topic['Dominant_Topic'] == 4]"
   ]
  },
  {
   "cell_type": "code",
   "execution_count": 163,
   "metadata": {
    "ExecuteTime": {
     "end_time": "2019-02-19T07:31:12.423208Z",
     "start_time": "2019-02-19T07:31:07.996433Z"
    }
   },
   "outputs": [],
   "source": [
    "for doc in tmp['text']:\n",
    "    summary =[]\n",
    "    tmp = sent_tokenize(doc)\n",
    "    tmp_clean = [i.split('\\n\\n') for i in tmp]\n",
    "    text_pp = ' '.join(sum(tmp_clean,[]))\n",
    "    try:\n",
    "        summary.append(summarize(text_pp, ratio = return_prop))   \n",
    "    except:\n",
    "        summary = text_pp\n",
    "#         summary_stories.append({'Dominant Topic':group, 'Summary':summary})\n",
    "    summary_stories = {'Dominant Topic':group, 'Summary':' '.join(summary)}\n"
   ]
  },
  {
   "cell_type": "code",
   "execution_count": 187,
   "metadata": {
    "ExecuteTime": {
     "end_time": "2019-02-19T07:44:58.867026Z",
     "start_time": "2019-02-19T07:43:24.889851Z"
    }
   },
   "outputs": [
    {
     "data": {
      "text/plain": [
       "'The types of Personal Information that we collect may includeYour nameYour photographic identification including a high quality image of your government issued ID passport national ID card and EU driving licenceYour addressYour email addressYour banking details including account numbersYour date of birthYour trades andYour utility bill or bank statement confirming your residential address.We may use your Personal Information for the following purposesTo personalize your experience your information helps us to better respond to your individual needsTo improve our website we continually strive to improve our website offerings based on the information and feedback we receive from youTo analyze use of our SiteTo improve customer service your information helps us to more effectively respond to your customer service requests and support needsTo undertake a verification or your identity with our third party electronic identification provider as per the Money Laundering Regulations  and AML policy.To process transactions.\\nTHIS LIMITATION OF RELIEF IS A PART OF THE BARGAIN BETWEEN THE PARTIES.The above disclaimer applies to any damages liability or injuries caused by any failure of performance error omission interruption deletion defect delay in operation or transmission computer virus communication line failure theft or destruction of or unauthorized access to alteration of or use whether for breach of contract tort negligence or any other cause of action.Zuffa reserves the right to do any of the following at any time without notice  to modify suspend or terminate operation of or access to the Site or any portion of the Site for any reason  to modify or change the Site or any portion of the Site and any applicable policies or terms and  to interrupt the operation of the Site or any portion of the Site as necessary to perform routine or nonroutine maintenance error correction or other changes.Limitation of LiabilityExcept where prohibited by law in no event will Zuffa be liable to you for any indirect consequential exemplary incidental or punitive damages including lost profits even if Zuffa has been advised of the possibility of such damages.If notwithstanding the other provisions of these Terms of Use Zuffa is found to be liable to you for any damage or loss which arises out of or is in any way connected with your use of the Site or any Content Zuffas liability shall in no event exceed the greater of  the total of any subscription or similar fees with respect to any service or feature of or on the Site paid in the six months prior to the date of the initial claim made against Zuffa or  US.\\nWe do not permit these types of vendors and partners to use this information for their own marketing purposes.As described in more detail in other sections of this policy Verizon also may share certain information with outside companies to assist with the delivery of advertising campaigns or preparing and sharing aggregate business and marketing reports.Verizon provides the names addresses and telephone numbers of wireline telephone subscribers to directory publishers and directory assistance services unless a nonpublished or nonlisted phone number has been requested.We may disclose information that individually identifies our customers or identifies customer devices in certain circumstances such as  to comply with valid legal process including subpoenas court orders or search warrants and as otherwise authorized by law  in cases involving danger of death or serious physical injury to any person or other emergencies  to protect our rights or property or the safety of our customers or employees  to protect against fraudulent malicious abusive unauthorized or unlawful use of or subscription to our products and services and to protect our network services devices and users from such use  to advance or defend against complaints or legal claims in court administrative proceedings and elsewhere  to credit bureaus or collection agencies for reporting purposes or to obtain payment for Verizonbilled products and services  to a thirdparty that you have authorized to verify your account information  to outside auditors and regulators or  with your consent.'"
      ]
     },
     "execution_count": 187,
     "metadata": {},
     "output_type": "execute_result"
    }
   ],
   "source": [
    "doc = ' '.join(tmp['text'].tolist())#tmp['text'][0]\n",
    "tmp1 = sent_tokenize(re.sub('[^a-zA-Z .!?]+' , '', doc))\n",
    "tmp_clean = [i.split('\\n') for i in tmp1]\n",
    "text_pp = ' '.join(sum(tmp_clean,[]))\n",
    "text_pp = re.sub('[.]{2,}','.', text_pp)\n",
    "summarize(text_pp, ratio = 0.001)"
   ]
  },
  {
   "cell_type": "code",
   "execution_count": 161,
   "metadata": {
    "ExecuteTime": {
     "end_time": "2019-02-19T07:28:54.601300Z",
     "start_time": "2019-02-19T07:27:24.190321Z"
    }
   },
   "outputs": [
    {
     "data": {
      "text/plain": [
       "'The types of Personal Information that we collect may includeYour nameYour photographic identification including a high quality image of your government issued ID passport national ID card and EU driving licenceYour addressYour email addressYour banking details including account numbersYour date of birthYour trades andYour utility bill or bank statement confirming your residential address.We may use your Personal Information for the following purposesTo personalize your experience your information helps us to better respond to your individual needsTo improve our website we continually strive to improve our website offerings based on the information and feedback we receive from youTo analyze use of our SiteTo improve customer service your information helps us to more effectively respond to your customer service requests and support needsTo undertake a verification or your identity with our third party electronic identification provider as per the Money Laundering Regulations  and AML policy.To process transactions.\\nTHIS LIMITATION OF RELIEF IS A PART OF THE BARGAIN BETWEEN THE PARTIES.The above disclaimer applies to any damages liability or injuries caused by any failure of performance error omission interruption deletion defect delay in operation or transmission computer virus communication line failure theft or destruction of or unauthorized access to alteration of or use whether for breach of contract tort negligence or any other cause of action.Zuffa reserves the right to do any of the following at any time without notice  to modify suspend or terminate operation of or access to the Site or any portion of the Site for any reason  to modify or change the Site or any portion of the Site and any applicable policies or terms and  to interrupt the operation of the Site or any portion of the Site as necessary to perform routine or nonroutine maintenance error correction or other changes.Limitation of LiabilityExcept where prohibited by law in no event will Zuffa be liable to you for any indirect consequential exemplary incidental or punitive damages including lost profits even if Zuffa has been advised of the possibility of such damages.If notwithstanding the other provisions of these Terms of Use Zuffa is found to be liable to you for any damage or loss which arises out of or is in any way connected with your use of the Site or any Content Zuffas liability shall in no event exceed the greater of  the total of any subscription or similar fees with respect to any service or feature of or on the Site paid in the six months prior to the date of the initial claim made against Zuffa or  US..\\nWe do not permit these types of vendors and partners to use this information for their own marketing purposes.As described in more detail in other sections of this policy Verizon also may share certain information with outside companies to assist with the delivery of advertising campaigns or preparing and sharing aggregate business and marketing reports.Verizon provides the names addresses and telephone numbers of wireline telephone subscribers to directory publishers and directory assistance services unless a nonpublished or nonlisted phone number has been requested.We may disclose information that individually identifies our customers or identifies customer devices in certain circumstances such as  to comply with valid legal process including subpoenas court orders or search warrants and as otherwise authorized by law  in cases involving danger of death or serious physical injury to any person or other emergencies  to protect our rights or property or the safety of our customers or employees  to protect against fraudulent malicious abusive unauthorized or unlawful use of or subscription to our products and services and to protect our network services devices and users from such use  to advance or defend against complaints or legal claims in court administrative proceedings and elsewhere  to credit bureaus or collection agencies for reporting purposes or to obtain payment for Verizonbilled products and services  to a thirdparty that you have authorized to verify your account information  to outside auditors and regulators or  with your consent.'"
      ]
     },
     "execution_count": 161,
     "metadata": {},
     "output_type": "execute_result"
    }
   ],
   "source": [
    "from gensim.summarization.textcleaner import clean_text_by_sentences, get_sentences \n",
    "# get_sentences(tmp)\n",
    "\n",
    "# summarize(' '.join(sent_tokenize(re.sub('[^a-zA-Z .!?]+' , '',tmp))), ratio = 0.001)\n",
    "# for sentence in get_sentences(tmp):\n",
    "#     print(summarize(sent_tokenize(re.sub('[^a-zA-Z .!?]+' , '', sentence))), ratio = 0.05)\n",
    "# summarize(tmp, ratio = .05) "
   ]
  },
  {
   "cell_type": "code",
   "execution_count": 292,
   "metadata": {
    "ExecuteTime": {
     "end_time": "2019-02-20T06:55:42.859555Z",
     "start_time": "2019-02-20T04:11:28.863132Z"
    }
   },
   "outputs": [
    {
     "name": "stdout",
     "output_type": "stream",
     "text": [
      "{0.0}\n",
      "{1.0}\n",
      "{2.0}\n",
      "{3.0}\n",
      "{4.0}\n",
      "{5.0}\n",
      "{6.0}\n",
      "{7.0}\n",
      "{8.0}\n",
      "{9.0}\n",
      "{10.0}\n",
      "{11.0}\n",
      "{12.0}\n",
      "{13.0}\n",
      "{14.0}\n",
      "{15.0}\n",
      "CPU times: user 2h 34min 50s, sys: 4min 41s, total: 2h 39min 32s\n",
      "Wall time: 2h 44min 13s\n"
     ]
    }
   ],
   "source": [
    "%%time\n",
    "# Get summary by topic\n",
    "df_topic_gr = train_df_with_topic.groupby('Dominant_Topic')\n",
    "return_prop = 0.002\n",
    "topic_summary = []\n",
    "for group, _df in df_topic_gr: \n",
    "    print(set(_df['Dominant_Topic']))\n",
    "    first_line = _df['text'].apply(lambda x: sent_tokenize(x)[0])\n",
    "    tmp = _df.reset_index(drop = True)\n",
    "    tmp = ' '.join(tmp['text'])\n",
    "    tmp = sent_tokenize(re.sub('[^a-zA-Z .!?]+' , '', tmp))\n",
    "    tmp = [i.split('\\n') for i in tmp]\n",
    "    tmp = '.'.join(sum(tmp,[]))\n",
    "    tmp = re.sub('[.]{2,}','. ', tmp)\n",
    "    # print(tmp)\n",
    "    summary = summarize(tmp, ratio = return_prop)\n",
    "    topic_summary.append({'Dominant_Topic':list(set(_df['Dominant_Topic']))[0], 'summary': summary,'first_line':' '.join(first_line)})    "
   ]
  },
  {
   "cell_type": "code",
   "execution_count": 295,
   "metadata": {
    "ExecuteTime": {
     "end_time": "2019-02-20T14:14:13.295778Z",
     "start_time": "2019-02-20T14:14:13.285866Z"
    }
   },
   "outputs": [],
   "source": [
    "topic_summary_df = pd.DataFrame(topic_summary)\n",
    "# topic_summary_df.tail(2)\n",
    "dump(topic_summary, open(\"/Users/dbm/Documents/Insight S19/data/privacy_optout_topic_level_summary_df.pkl\", \"wb\"))"
   ]
  },
  {
   "cell_type": "code",
   "execution_count": 296,
   "metadata": {
    "ExecuteTime": {
     "end_time": "2019-02-20T14:14:32.372501Z",
     "start_time": "2019-02-20T14:14:32.361110Z"
    }
   },
   "outputs": [
    {
     "data": {
      "text/plain": [
       "'For details of how BBC Worldwide uses personal information collected via its other international and UK services please see BBC Worldwides Privacy Policy If you any questions or comments about this Privacy Policy please contactThe Data Protection OfficerRoom White City Building Wood LaneLondonW TSEmail dpa.officerbbc.co.ukIf you are viewing the international version of this website bbc.com and you have any questions or comments about the Privacy Policy please contact BBC Worldwide via email dataprotectionbbc.comLast updated May   As used herein Bitstamp refers to the company Bitstamp Limited including without limitation thereby its owners directors investors employees or other related parties.\\nThe types of Personal Information that we collect may includeYour nameYour photographic identification including a high quality image of your government issued ID passport national ID card and EU driving licenceYour addressYour email addressYour banking details including account numbersYour date of birthYour trades andYour utility bill or bank statement confirming your residential address.We may use your Personal Information for the following purposesTo personalize your experience your information helps us to better respond to your individual needsTo improve our website we continually strive to improve our website offerings based on the information and feedback we receive from youTo analyze use of our SiteTo improve customer service your information helps us to more effectively respond to your customer service requests and support needsTo undertake a verification or your identity with our third party electronic identification provider as per the Money Laundering Regulations  and AML policy.To process transactions.\\nTHIS LIMITATION OF RELIEF IS A PART OF THE BARGAIN BETWEEN THE PARTIES.The above disclaimer applies to any damages liability or injuries caused by any failure of performance error omission interruption deletion defect delay in operation or transmission computer virus communication line failure theft or destruction of or unauthorized access to alteration of or use whether for breach of contract tort negligence or any other cause of action.Zuffa reserves the right to do any of the following at any time without notice  to modify suspend or terminate operation of or access to the Site or any portion of the Site for any reason  to modify or change the Site or any portion of the Site and any applicable policies or terms and  to interrupt the operation of the Site or any portion of the Site as necessary to perform routine or nonroutine maintenance error correction or other changes.Limitation of LiabilityExcept where prohibited by law in no event will Zuffa be liable to you for any indirect consequential exemplary incidental or punitive damages including lost profits even if Zuffa has been advised of the possibility of such damages.If notwithstanding the other provisions of these Terms of Use Zuffa is found to be liable to you for any damage or loss which arises out of or is in any way connected with your use of the Site or any Content Zuffas liability shall in no event exceed the greater of  the total of any subscription or similar fees with respect to any service or feature of or on the Site paid in the six months prior to the date of the initial claim made against Zuffa or  US.\\nZuffa also may disclose your information when Zuffa determines that applicable law requires or permits such disclosure including exchanging information with other companies and organizations for fraud protection purposes.You acknowledge and agree that Zuffa may preserve any transmittal or communication by you with Zuffa through the Site or any service offered on or through the Site and may also disclose such data if required to do so by law or Zuffa determines that such preservation or disclosure is reasonably necessary to  comply with legal process  enforce these Terms of Use  respond to claims that any such data violates the rights of others or  protect the rights property or personal safety of Zuffa its employees users of or visitors to the Site and the public.You agree that Zuffa may in its sole discretion and without prior notice terminate your access to the Site andor block your future access to the Site if we determine that you have violated these Terms of Use or other agreements or guidelines which may be associated with your use of the Site.\\nWe do not permit these types of vendors and partners to use this information for their own marketing purposes.As described in more detail in other sections of this policy Verizon also may share certain information with outside companies to assist with the delivery of advertising campaigns or preparing and sharing aggregate business and marketing reports.Verizon provides the names addresses and telephone numbers of wireline telephone subscribers to directory publishers and directory assistance services unless a nonpublished or nonlisted phone number has been requested.We may disclose information that individually identifies our customers or identifies customer devices in certain circumstances such as  to comply with valid legal process including subpoenas court orders or search warrants and as otherwise authorized by law  in cases involving danger of death or serious physical injury to any person or other emergencies  to protect our rights or property or the safety of our customers or employees  to protect against fraudulent malicious abusive unauthorized or unlawful use of or subscription to our products and services and to protect our network services devices and users from such use  to advance or defend against complaints or legal claims in court administrative proceedings and elsewhere  to credit bureaus or collection agencies for reporting purposes or to obtain payment for Verizonbilled products and services  to a thirdparty that you have authorized to verify your account information  to outside auditors and regulators or  with your consent.\\nYOU ASSUME THE SOLE RISK OF TRANSMITTING YOUR INFORMATION AS IT RELATES TO THE USE OF THIS WEBSITE AND FOR ANY DATA CORRUPTIONS INTENTIONAL INTERCEPTIONS INTRUSIONS OR UNAUTHORIZED ACCESS TO INFORMATION OR OF ANY DELAYS INTERRUPTIONS TO OR FAILURES PREVENTING THE USE THIS WEBSITE.IN NO EVENT SHALL CLEVELAND CLINIC BE LIABLE FOR ANY DIRECT INDIRECT SPECIAL CONSEQUENTIAL OR MONETARY DAMAGES INCLUDING FEES AND PENALTIES IN CONNECTION WITH YOUR USE OF MATERIALS POSTED ON THIS SITE OR CONNECTIVITY TO OR FROM THIS SITE TO ANY OTHER SITE.CLEVELAND CLINIC MAY CHANGE THIS PRIVACY POLICY WITHOUT NOTICE TO YOU.Other services provided by Cleveland Clinic on this Website may require you to agree to additional terms.\\nOxford University Press makes no warranties or representations of any kind that the services provided by this Website will be uninterrupted errorfree or that the Website or the server that hosts the Website are free from viruses or other forms of harmful computer code.You are solely responsible for your choice in selecting this Website product.In no event shall Oxford University Press its employees or agents be liable for any direct indirect or consequential damages loss of opportunity loss of data loss of goodwill loss of anticipated savings or loss of profits resulting from the use of the Website even if OUP has been advised of such loss.Without prejudice to the foregoing paragraph OUPs liability arising out of or in connection with your use of the Website andor this legal notice whether in contract tort misrepresentation under statute or otherwise will not exceed the price you paid for your subscription to access this Website.Neither partys liability for personal injury or death caused by negligence or for fraud is excluded or limited.The exclusion and limitation set out in this legal notice only applies to the extent permitted by law and is without prejudice to any express provisions to the contrary in any written licence or subscription agreement which you have with Oxford University Press in respect of the use of any online service provided via the Website.LinksLinks to other websites are provided by OUP in good faith and for information only.'"
      ]
     },
     "execution_count": 296,
     "metadata": {},
     "output_type": "execute_result"
    }
   ],
   "source": [
    "topic_summary_df['summary'][0]"
   ]
  },
  {
   "cell_type": "code",
   "execution_count": 194,
   "metadata": {
    "ExecuteTime": {
     "end_time": "2019-02-19T16:05:37.018593Z",
     "start_time": "2019-02-19T16:05:37.014370Z"
    }
   },
   "outputs": [
    {
     "name": "stdout",
     "output_type": "stream",
     "text": [
      "None\n"
     ]
    }
   ],
   "source": [
    "len(topic_summary)\n",
    "# Save dataset\n",
    "dump(topic_summary, open(\"/Users/dbm/Documents/Insight S19/data/privacy_optout_topic_level_summary.pkl\", \"wb\"))\n"
   ]
  },
  {
   "cell_type": "code",
   "execution_count": 198,
   "metadata": {
    "ExecuteTime": {
     "end_time": "2019-02-19T16:17:13.512568Z",
     "start_time": "2019-02-19T16:17:13.506111Z"
    }
   },
   "outputs": [
    {
     "data": {
      "text/plain": [
       "'The types of Personal Information that we collect may includeYour nameYour photographic identification including a high quality image of your government issued ID passport national ID card and EU driving licenceYour addressYour email addressYour banking details including account numbersYour date of birthYour trades andYour utility bill or bank statement confirming your residential address.We may use your Personal Information for the following purposesTo personalize your experience your information helps us to better respond to your individual needsTo improve our website we continually strive to improve our website offerings based on the information and feedback we receive from youTo analyze use of our SiteTo improve customer service your information helps us to more effectively respond to your customer service requests and support needsTo undertake a verification or your identity with our third party electronic identification provider as per the Money Laundering Regulations  and AML policy.To process transactions.'"
      ]
     },
     "execution_count": 198,
     "metadata": {},
     "output_type": "execute_result"
    }
   ],
   "source": [
    "sent_tokenize(topic_summary[0]['summary'])[0]"
   ]
  },
  {
   "cell_type": "code",
   "execution_count": 94,
   "metadata": {
    "ExecuteTime": {
     "end_time": "2019-02-19T06:36:43.260802Z",
     "start_time": "2019-02-19T06:35:11.903902Z"
    }
   },
   "outputs": [],
   "source": [
    "summary_stories = {}\n",
    "return_prop = 0.05\n",
    "for group, _df in df_topic_gr:  \n",
    "#     display(' '.join(_df['story']))\n",
    "    for doc in _df['text']:\n",
    "        tmp = sent_tokenize(doc)\n",
    "        tmp_clean = [i.split('\\n\\n') for i in tmp]\n",
    "        text_pp = ' '.join(sum(tmp_clean,[]))\n",
    "        try:\n",
    "            summary=summarize(text_pp, ratio = return_prop)   \n",
    "        except:\n",
    "            summary = text_pp\n",
    "#         summary_stories.append({'Dominant Topic':group, 'Summary':summary})\n",
    "        summary_stories = {'Dominant Topic':group, 'Summary':' '.join(summary)}\n",
    "\n",
    "# df_with_topic = dfs.join(df.set_index('Document_No'), on='Document_No')\n",
    "# df_with_topic.head(5)"
   ]
  },
  {
   "cell_type": "code",
   "execution_count": null,
   "metadata": {
    "ExecuteTime": {
     "end_time": "2019-02-18T18:49:54.412714Z",
     "start_time": "2019-02-18T18:49:54.403649Z"
    }
   },
   "outputs": [],
   "source": [
    "for group, _df in df_topic_gr:  \n",
    "#     display(' '.join(_df['story']))\n",
    "    for doc in _df['text']:\n",
    "        tmp = sent_tokenize(doc)\n",
    "        tmp_clean = [i.split('\\n\\n') for i in tmp]\n",
    "        text_pp = ' '.join(sum(tmp_clean,[]))\n",
    "        try:\n",
    "            summary = summarize(text_pp, ratio = return_prop)   \n",
    "        except:\n",
    "            summary = text_pp\n",
    "#         summary_stories.append({'Dominant Topic':group, 'Summary':summary})\n",
    "        summary_stories = {'Dominant Topic':group, 'Summary':summary}\n"
   ]
  },
  {
   "cell_type": "code",
   "execution_count": null,
   "metadata": {},
   "outputs": [],
   "source": [
    "tmp = df_topic_gr.get_group(1)"
   ]
  },
  {
   "cell_type": "code",
   "execution_count": null,
   "metadata": {},
   "outputs": [],
   "source": [
    "tmp = sent_tokenize(test_df_with_topic['text'][0])\n",
    "tmp_clean = [i.split('\\n\\n') for i in tmp]\n",
    "text_pp = ' '.join(sum(tmp_clean,[]))\n",
    "summarize(text_pp, ratio  = 0.05)"
   ]
  },
  {
   "cell_type": "markdown",
   "metadata": {},
   "source": [
    "### References\n",
    "- https://markroxor.github.io/gensim/static/notebooks/gensim_news_classification.html#topic=0&lambda=1&term=\n",
    "- https://www.machinelearningplus.com/nlp/topic-modeling-gensim-python/"
   ]
  },
  {
   "cell_type": "code",
   "execution_count": null,
   "metadata": {},
   "outputs": [],
   "source": []
  }
 ],
 "metadata": {
  "kernelspec": {
   "display_name": "Python 3",
   "language": "python",
   "name": "python3"
  },
  "language_info": {
   "codemirror_mode": {
    "name": "ipython",
    "version": 3
   },
   "file_extension": ".py",
   "mimetype": "text/x-python",
   "name": "python",
   "nbconvert_exporter": "python",
   "pygments_lexer": "ipython3",
   "version": "3.6.0"
  },
  "latex_envs": {
   "LaTeX_envs_menu_present": true,
   "autoclose": false,
   "autocomplete": true,
   "bibliofile": "biblio.bib",
   "cite_by": "apalike",
   "current_citInitial": 1,
   "eqLabelWithNumbers": true,
   "eqNumInitial": 1,
   "hotkeys": {
    "equation": "Ctrl-E",
    "itemize": "Ctrl-I"
   },
   "labels_anchors": false,
   "latex_user_defs": false,
   "report_style_numbering": false,
   "user_envs_cfg": false
  },
  "toc": {
   "base_numbering": 1,
   "nav_menu": {},
   "number_sections": true,
   "sideBar": true,
   "skip_h1_title": false,
   "title_cell": "Table of Contents",
   "title_sidebar": "Contents",
   "toc_cell": false,
   "toc_position": {},
   "toc_section_display": true,
   "toc_window_display": false
  },
  "varInspector": {
   "cols": {
    "lenName": 16,
    "lenType": 16,
    "lenVar": 40
   },
   "kernels_config": {
    "python": {
     "delete_cmd_postfix": "",
     "delete_cmd_prefix": "del ",
     "library": "var_list.py",
     "varRefreshCmd": "print(var_dic_list())"
    },
    "r": {
     "delete_cmd_postfix": ") ",
     "delete_cmd_prefix": "rm(",
     "library": "var_list.r",
     "varRefreshCmd": "cat(var_dic_list()) "
    }
   },
   "types_to_exclude": [
    "module",
    "function",
    "builtin_function_or_method",
    "instance",
    "_Feature"
   ],
   "window_display": false
  }
 },
 "nbformat": 4,
 "nbformat_minor": 2
}

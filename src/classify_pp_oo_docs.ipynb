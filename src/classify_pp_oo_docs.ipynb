{
 "cells": [
  {
   "cell_type": "markdown",
   "metadata": {},
   "source": [
    "# Classification of Privacy and Opt-Out documents\n",
    "\n",
    "- This script uses various classification models to determine which model has the highest accuracy, precision, recall, and F1 scores best possible way to classify privacy and opt out documents."
   ]
  },
  {
   "cell_type": "code",
   "execution_count": 41,
   "metadata": {
    "ExecuteTime": {
     "end_time": "2019-02-12T05:32:38.523854Z",
     "start_time": "2019-02-12T05:32:38.518920Z"
    }
   },
   "outputs": [],
   "source": [
    "# Import dependencies\n",
    "import warnings\n",
    "import nltk\n",
    "import pandas as pd\n",
    "import numpy as np\n",
    "import scipy as sp\n",
    "from time import time, sleep\n",
    "import re\n",
    "from sklearn.externals import joblib\n",
    "from sklearn.feature_extraction.text import CountVectorizer, TfidfTransformer\n",
    "from nltk.tokenize import sent_tokenize, word_tokenize\n",
    "from sklearn.preprocessing import normalize\n",
    "from sklearn.linear_model import LogisticRegression\n",
    "from sklearn.model_selection import train_test_split\n",
    "# Import package to make cm\n",
    "from sklearn.metrics import confusion_matrix\n",
    "from sklearn.metrics import classification_report\n",
    "from sklearn.model_selection import KFold,cross_val_score\n",
    "from sklearn.naive_bayes import GaussianNB\n",
    "from sklearn.ensemble import RandomForestClassifier\n",
    "from pickle import load,dump"
   ]
  },
  {
   "cell_type": "code",
   "execution_count": 5,
   "metadata": {
    "ExecuteTime": {
     "end_time": "2019-02-12T05:25:05.492276Z",
     "start_time": "2019-02-12T05:25:05.482671Z"
    }
   },
   "outputs": [],
   "source": [
    "# Function to compute model accuracy, recall, precision, f1 scores from confusion matrices\n",
    "def compute_accuracy(cm):\n",
    "    TP = cm[0, 0]\n",
    "    TN = cm[1,1]\n",
    "    FP = cm [0,1]\n",
    "    FN = cm[1,0]\n",
    "    accuracy = (TP + TN)/ (TP + TN + FP + FN)\n",
    "    return accuracy\n",
    "\n",
    "def compute_precision(cm):\n",
    "    TP = cm[0, 0]\n",
    "    TN = cm[1,1]\n",
    "    FP = cm [0,1]\n",
    "    FN = cm[1,0]\n",
    "    precision = TP / (TP + FP)\n",
    "    return precision\n",
    "\n",
    "def compute_recall(cm):\n",
    "    TP = cm[0, 0]\n",
    "    TN = cm[1,1]\n",
    "    FP = cm [0,1]\n",
    "    FN = cm[1,0]\n",
    "    recall = TP / (TP + FN)\n",
    "    return recall\n",
    "\n",
    "def compute_f1_score(cm):\n",
    "    precision = compute_precision(cm = cm)\n",
    "    recall = compute_recall(cm = cm) \n",
    "    F1 = 2 * precision * recall / (precision + recall)\n",
    "    return F1"
   ]
  },
  {
   "cell_type": "code",
   "execution_count": 9,
   "metadata": {
    "ExecuteTime": {
     "end_time": "2019-02-12T05:26:19.709858Z",
     "start_time": "2019-02-12T05:26:19.678910Z"
    }
   },
   "outputs": [
    {
     "data": {
      "text/html": [
       "<div>\n",
       "<style scoped>\n",
       "    .dataframe tbody tr th:only-of-type {\n",
       "        vertical-align: middle;\n",
       "    }\n",
       "\n",
       "    .dataframe tbody tr th {\n",
       "        vertical-align: top;\n",
       "    }\n",
       "\n",
       "    .dataframe thead th {\n",
       "        text-align: right;\n",
       "    }\n",
       "</style>\n",
       "<table border=\"1\" class=\"dataframe\">\n",
       "  <thead>\n",
       "    <tr style=\"text-align: right;\">\n",
       "      <th></th>\n",
       "      <th>doc_type</th>\n",
       "      <th>file</th>\n",
       "      <th>text</th>\n",
       "      <th>year</th>\n",
       "    </tr>\n",
       "  </thead>\n",
       "  <tbody>\n",
       "    <tr>\n",
       "      <th>0</th>\n",
       "      <td>pp</td>\n",
       "      <td>/Users/dbm/Downloads/OPP-115/sanitized_policie...</td>\n",
       "      <td>Privacy Policy Last Modified March 25 2013 Thi...</td>\n",
       "      <td>2013</td>\n",
       "    </tr>\n",
       "  </tbody>\n",
       "</table>\n",
       "</div>"
      ],
      "text/plain": [
       "  doc_type                                               file  \\\n",
       "0       pp  /Users/dbm/Downloads/OPP-115/sanitized_policie...   \n",
       "\n",
       "                                                text  year  \n",
       "0  Privacy Policy Last Modified March 25 2013 Thi...  2013  "
      ]
     },
     "execution_count": 9,
     "metadata": {},
     "output_type": "execute_result"
    }
   ],
   "source": [
    "# Load data\n",
    "df = load(open( \"/Users/dbm/Documents/Insight S19/data/privacy_optout_policy.pkl\", \"rb\" ))\n",
    "data_words = load(open( \"/Users/dbm/Documents/Insight S19/data/privacy_optout_policy_cleaned.pkl\", \"rb\" ))\n",
    "df.head(1)"
   ]
  },
  {
   "cell_type": "code",
   "execution_count": 10,
   "metadata": {
    "ExecuteTime": {
     "end_time": "2019-02-12T05:26:21.237765Z",
     "start_time": "2019-02-12T05:26:21.233746Z"
    }
   },
   "outputs": [],
   "source": [
    "# Convert doc_type to a binary variable\n",
    "df['doc_type_bool']=[1 if i == 'pp' else 0 for i in df['doc_type'] ]"
   ]
  },
  {
   "cell_type": "code",
   "execution_count": 11,
   "metadata": {
    "ExecuteTime": {
     "end_time": "2019-02-12T05:26:22.311245Z",
     "start_time": "2019-02-12T05:26:22.079855Z"
    }
   },
   "outputs": [
    {
     "data": {
      "text/plain": [
       "(229, 7963)"
      ]
     },
     "execution_count": 11,
     "metadata": {},
     "output_type": "execute_result"
    }
   ],
   "source": [
    "# Count design matrix\n",
    "# The transformation will return a matrix of size (Documents x Features), \n",
    "# where the value of a cell is going to be the number of times the feature (word) appears in that document\n",
    "vectorizer = CountVectorizer(analyzer='word', lowercase=False)\n",
    "x_counts = vectorizer.fit_transform(data_words)\n",
    "x_counts_arr = x_counts.toarray()\n",
    "x_counts_arr.shape"
   ]
  },
  {
   "cell_type": "code",
   "execution_count": 12,
   "metadata": {
    "ExecuteTime": {
     "end_time": "2019-02-12T05:26:23.150383Z",
     "start_time": "2019-02-12T05:26:23.120257Z"
    }
   },
   "outputs": [],
   "source": [
    "# TfIdf Transformer: transform the counts with the model\n",
    "transformer = TfidfTransformer(smooth_idf=False)\n",
    "x_tfidf = transformer.fit_transform(x_counts)\n",
    "x_tfidf_arr = x_tfidf.toarray()"
   ]
  },
  {
   "cell_type": "code",
   "execution_count": 13,
   "metadata": {
    "ExecuteTime": {
     "end_time": "2019-02-12T05:26:24.474575Z",
     "start_time": "2019-02-12T05:26:24.460010Z"
    }
   },
   "outputs": [],
   "source": [
    "# Normalize the TfIdf values to unit length for each row\n",
    "xtfidf_norm = normalize(x_tfidf, norm='l1', axis=1)\n",
    "xtfidf_norm_arr = normalize(x_tfidf, norm='l1', axis=1).toarray()"
   ]
  },
  {
   "cell_type": "code",
   "execution_count": 14,
   "metadata": {
    "ExecuteTime": {
     "end_time": "2019-02-12T05:26:25.974739Z",
     "start_time": "2019-02-12T05:26:25.972100Z"
    }
   },
   "outputs": [],
   "source": [
    "# Assign X and y to respoective values for classification\n",
    "X = x_counts_arr#x_counts_arr\n",
    "y = df['doc_type_bool']"
   ]
  },
  {
   "cell_type": "code",
   "execution_count": 15,
   "metadata": {
    "ExecuteTime": {
     "end_time": "2019-02-12T05:26:26.882665Z",
     "start_time": "2019-02-12T05:26:26.860034Z"
    }
   },
   "outputs": [],
   "source": [
    "# Split dataset into trIaining AND TEST\n",
    "X_train, X_test, y_train, y_test = train_test_split(\n",
    "    X, y, test_size=0.20, random_state = 0)"
   ]
  },
  {
   "cell_type": "markdown",
   "metadata": {},
   "source": [
    "## Logistic regression classifier"
   ]
  },
  {
   "cell_type": "code",
   "execution_count": 17,
   "metadata": {
    "ExecuteTime": {
     "end_time": "2019-02-12T05:26:56.426651Z",
     "start_time": "2019-02-12T05:26:56.264031Z"
    }
   },
   "outputs": [
    {
     "name": "stderr",
     "output_type": "stream",
     "text": [
      "/anaconda3/envs/insight_s19/lib/python3.6/site-packages/sklearn/linear_model/logistic.py:433: FutureWarning: Default solver will be changed to 'lbfgs' in 0.22. Specify a solver to silence this warning.\n",
      "  FutureWarning)\n"
     ]
    },
    {
     "data": {
      "text/plain": [
       "LogisticRegression(C=1.0, class_weight=None, dual=False, fit_intercept=True,\n",
       "          intercept_scaling=1, max_iter=100, multi_class='warn',\n",
       "          n_jobs=None, penalty='l2', random_state=None, solver='warn',\n",
       "          tol=0.0001, verbose=0, warm_start=False)"
      ]
     },
     "execution_count": 17,
     "metadata": {},
     "output_type": "execute_result"
    }
   ],
   "source": [
    "# Simplest possible model\n",
    "logr = LogisticRegression()\n",
    "logr.fit(X_train, y_train)"
   ]
  },
  {
   "cell_type": "code",
   "execution_count": 18,
   "metadata": {
    "ExecuteTime": {
     "end_time": "2019-02-12T05:27:37.727911Z",
     "start_time": "2019-02-12T05:27:37.714885Z"
    }
   },
   "outputs": [],
   "source": [
    "# Predict test values\n",
    "logr_y_pred = logr.predict(X_test)"
   ]
  },
  {
   "cell_type": "code",
   "execution_count": 22,
   "metadata": {
    "ExecuteTime": {
     "end_time": "2019-02-12T05:28:19.834745Z",
     "start_time": "2019-02-12T05:28:19.826153Z"
    }
   },
   "outputs": [
    {
     "name": "stdout",
     "output_type": "stream",
     "text": [
      "Logistic regression claaccuracy: 0.5\n",
      "              precision    recall  f1-score   support\n",
      "\n",
      "           0       0.57      0.46      0.51        26\n",
      "           1       0.44      0.55      0.49        20\n",
      "\n",
      "   micro avg       0.50      0.50      0.50        46\n",
      "   macro avg       0.51      0.51      0.50        46\n",
      "weighted avg       0.51      0.50      0.50        46\n",
      "\n"
     ]
    }
   ],
   "source": [
    "# Making the confusion matrix\n",
    "logr_cm = confusion_matrix(y_test, logr_y_pred)\n",
    "print(f'Logistic regression accuracy: {compute_accuracy(logr_cm)}')\n",
    "      \n",
    "print(classification_report(y_test, logr_y_pred))      "
   ]
  },
  {
   "cell_type": "markdown",
   "metadata": {},
   "source": [
    "## Naive bayes classifier"
   ]
  },
  {
   "cell_type": "code",
   "execution_count": 24,
   "metadata": {
    "ExecuteTime": {
     "end_time": "2019-02-12T05:29:31.536132Z",
     "start_time": "2019-02-12T05:29:31.490716Z"
    }
   },
   "outputs": [
    {
     "data": {
      "text/plain": [
       "GaussianNB(priors=None, var_smoothing=1e-09)"
      ]
     },
     "execution_count": 24,
     "metadata": {},
     "output_type": "execute_result"
    }
   ],
   "source": [
    "# Fit Naive Bayes to training set\n",
    "nb = GaussianNB()\n",
    "nb.fit(X_train, y_train)"
   ]
  },
  {
   "cell_type": "code",
   "execution_count": 25,
   "metadata": {
    "ExecuteTime": {
     "end_time": "2019-02-12T05:29:32.876042Z",
     "start_time": "2019-02-12T05:29:32.855799Z"
    }
   },
   "outputs": [],
   "source": [
    "nb_y_pred = nb.predict(X_test)"
   ]
  },
  {
   "cell_type": "code",
   "execution_count": 26,
   "metadata": {
    "ExecuteTime": {
     "end_time": "2019-02-12T05:29:33.864305Z",
     "start_time": "2019-02-12T05:29:33.856126Z"
    }
   },
   "outputs": [
    {
     "name": "stdout",
     "output_type": "stream",
     "text": [
      "Naive Bayes regression accuracy: 0.2391304347826087\n",
      "              precision    recall  f1-score   support\n",
      "\n",
      "           0       0.32      0.31      0.31        26\n",
      "           1       0.14      0.15      0.15        20\n",
      "\n",
      "   micro avg       0.24      0.24      0.24        46\n",
      "   macro avg       0.23      0.23      0.23        46\n",
      "weighted avg       0.24      0.24      0.24        46\n",
      "\n"
     ]
    }
   ],
   "source": [
    "nb_cm = confusion_matrix(y_test, nb_y_pred)\n",
    "print(f'Naive Bayes regression accuracy: {compute_accuracy(nb_cm)}')\n",
    "\n",
    "print(classification_report(y_test, nb_y_pred))"
   ]
  },
  {
   "cell_type": "markdown",
   "metadata": {},
   "source": [
    "## Random forest"
   ]
  },
  {
   "cell_type": "code",
   "execution_count": 42,
   "metadata": {
    "ExecuteTime": {
     "end_time": "2019-02-12T05:32:59.037050Z",
     "start_time": "2019-02-12T05:32:59.006893Z"
    }
   },
   "outputs": [
    {
     "name": "stderr",
     "output_type": "stream",
     "text": [
      "/anaconda3/envs/insight_s19/lib/python3.6/site-packages/sklearn/ensemble/forest.py:246: FutureWarning: The default value of n_estimators will change from 10 in version 0.20 to 100 in 0.22.\n",
      "  \"10 in version 0.20 to 100 in 0.22.\", FutureWarning)\n"
     ]
    },
    {
     "data": {
      "text/plain": [
       "RandomForestClassifier(bootstrap=True, class_weight=None, criterion='gini',\n",
       "            max_depth=None, max_features='auto', max_leaf_nodes=None,\n",
       "            min_impurity_decrease=0.0, min_impurity_split=None,\n",
       "            min_samples_leaf=1, min_samples_split=2,\n",
       "            min_weight_fraction_leaf=0.0, n_estimators=10, n_jobs=None,\n",
       "            oob_score=False, random_state=0, verbose=0, warm_start=False)"
      ]
     },
     "execution_count": 42,
     "metadata": {},
     "output_type": "execute_result"
    }
   ],
   "source": [
    "# Random Forest classifier\n",
    "rfr = RandomForestClassifier(random_state=0)\n",
    "rfr.fit(X_train, y_train)"
   ]
  },
  {
   "cell_type": "code",
   "execution_count": 44,
   "metadata": {
    "ExecuteTime": {
     "end_time": "2019-02-12T05:33:05.929885Z",
     "start_time": "2019-02-12T05:33:05.924532Z"
    }
   },
   "outputs": [],
   "source": [
    "rfr_y_pred = rfr.predict(X_test)"
   ]
  },
  {
   "cell_type": "code",
   "execution_count": 46,
   "metadata": {
    "ExecuteTime": {
     "end_time": "2019-02-12T05:33:10.528069Z",
     "start_time": "2019-02-12T05:33:10.519411Z"
    }
   },
   "outputs": [
    {
     "name": "stdout",
     "output_type": "stream",
     "text": [
      "Naive Bayes regression accuracy: 0.32608695652173914\n",
      "              precision    recall  f1-score   support\n",
      "\n",
      "           0       0.37      0.27      0.31        26\n",
      "           1       0.30      0.40      0.34        20\n",
      "\n",
      "   micro avg       0.33      0.33      0.33        46\n",
      "   macro avg       0.33      0.33      0.33        46\n",
      "weighted avg       0.34      0.33      0.32        46\n",
      "\n"
     ]
    }
   ],
   "source": [
    "rfr_cm = confusion_matrix(y_test, rfr_y_pred)\n",
    "print(f'Random Forest regression accuracy: {compute_accuracy(rfr_cm)}')\n",
    "\n",
    "print(classification_report(y_test, rfr_y_pred))"
   ]
  }
 ],
 "metadata": {
  "kernelspec": {
   "display_name": "Python 3",
   "language": "python",
   "name": "python3"
  },
  "language_info": {
   "codemirror_mode": {
    "name": "ipython",
    "version": 3
   },
   "file_extension": ".py",
   "mimetype": "text/x-python",
   "name": "python",
   "nbconvert_exporter": "python",
   "pygments_lexer": "ipython3",
   "version": "3.6.0"
  },
  "latex_envs": {
   "LaTeX_envs_menu_present": true,
   "autoclose": false,
   "autocomplete": true,
   "bibliofile": "biblio.bib",
   "cite_by": "apalike",
   "current_citInitial": 1,
   "eqLabelWithNumbers": true,
   "eqNumInitial": 1,
   "hotkeys": {
    "equation": "Ctrl-E",
    "itemize": "Ctrl-I"
   },
   "labels_anchors": false,
   "latex_user_defs": false,
   "report_style_numbering": false,
   "user_envs_cfg": false
  },
  "toc": {
   "base_numbering": 1,
   "nav_menu": {},
   "number_sections": true,
   "sideBar": true,
   "skip_h1_title": false,
   "title_cell": "Table of Contents",
   "title_sidebar": "Contents",
   "toc_cell": false,
   "toc_position": {},
   "toc_section_display": true,
   "toc_window_display": false
  },
  "varInspector": {
   "cols": {
    "lenName": 16,
    "lenType": 16,
    "lenVar": 40
   },
   "kernels_config": {
    "python": {
     "delete_cmd_postfix": "",
     "delete_cmd_prefix": "del ",
     "library": "var_list.py",
     "varRefreshCmd": "print(var_dic_list())"
    },
    "r": {
     "delete_cmd_postfix": ") ",
     "delete_cmd_prefix": "rm(",
     "library": "var_list.r",
     "varRefreshCmd": "cat(var_dic_list()) "
    }
   },
   "types_to_exclude": [
    "module",
    "function",
    "builtin_function_or_method",
    "instance",
    "_Feature"
   ],
   "window_display": false
  }
 },
 "nbformat": 4,
 "nbformat_minor": 2
}

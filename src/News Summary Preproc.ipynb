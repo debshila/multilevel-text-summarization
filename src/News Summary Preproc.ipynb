{
 "cells": [
  {
   "cell_type": "code",
   "execution_count": 28,
   "metadata": {},
   "outputs": [
    {
     "data": {
      "text/plain": [
       "'3.7.1 (default, Dec 14 2018, 13:28:58) \\n[Clang 4.0.1 (tags/RELEASE_401/final)]'"
      ]
     },
     "execution_count": 28,
     "metadata": {},
     "output_type": "execute_result"
    }
   ],
   "source": [
    "import sys\n",
    "sys.version\n",
    "# Ref: https://machinelearningmastery.com/prepare-news-articles-text-summarization/"
   ]
  },
  {
   "cell_type": "markdown",
   "metadata": {},
   "source": [
    "## Preprocessing"
   ]
  },
  {
   "cell_type": "code",
   "execution_count": 29,
   "metadata": {},
   "outputs": [],
   "source": [
    "import os\n",
    "import pandas as pd\n",
    "import re\n",
    "# Cleaning the texts\n",
    "import nltk\n",
    "import string\n",
    "# from nltk import\n",
    "# nltk.download('stopwords')\n",
    "from nltk.corpus import stopwords\n",
    "from nltk.tokenize import RegexpTokenizer"
   ]
  },
  {
   "cell_type": "markdown",
   "metadata": {},
   "source": [
    "### Import data"
   ]
  },
  {
   "cell_type": "code",
   "execution_count": 30,
   "metadata": {},
   "outputs": [],
   "source": [
    "# Read in all story files\n",
    "def ls_fullpath(dir):\n",
    "    return [os.path.join(dir, f) for f in os.listdir(dir)]"
   ]
  },
  {
   "cell_type": "code",
   "execution_count": 31,
   "metadata": {},
   "outputs": [],
   "source": [
    "#  Read in each text file\n",
    "def read_file(fname):\n",
    "    f = open(fname, \"r\")\n",
    "    content = f.read()\n",
    "    f.close()\n",
    "    return content"
   ]
  },
  {
   "cell_type": "code",
   "execution_count": 32,
   "metadata": {},
   "outputs": [],
   "source": [
    "# Parse story into story and highlight\n",
    "def parse_text_hl(text):\n",
    "    idx = text.find(\"@highlight\")\n",
    "    # split into story and hl\n",
    "    story, hl = text[:idx], text[idx:].split(\"@highlight\")\n",
    "    # remove whitespace\n",
    "    hl = [hltext.strip() for hltext in hl if len(hltext) > 0]\n",
    "    return story, hl"
   ]
  },
  {
   "cell_type": "code",
   "execution_count": 33,
   "metadata": {},
   "outputs": [],
   "source": [
    "# TEST\n",
    "# idx = story.find(\"@highlight\")\n",
    "# # split into story and hl\n",
    "# text, hl = story[:idx], story[idx:].split(\"@highlight\")\n",
    "# # remove whitespace\n",
    "# hl = [hltext.strip() for hltext in hl if len(hltext) > 0]\n",
    "# text[:idx]"
   ]
  },
  {
   "cell_type": "code",
   "execution_count": 34,
   "metadata": {},
   "outputs": [],
   "source": [
    "# Load all files in the directory, read them, parse them, split them into story and hl\n",
    "def get_stories(path, publication, src_type):\n",
    "    stories = []\n",
    "    for f in ls_fullpath(path):\n",
    "        txt = read_file(f)\n",
    "        story, hl = parse_text_hl(txt)\n",
    "        stories.append({'story': story, 'summary': hl,'publication': publication, 'type': src_type})\n",
    "    return stories"
   ]
  },
  {
   "cell_type": "code",
   "execution_count": 35,
   "metadata": {},
   "outputs": [],
   "source": [
    "# Load all files in the directory, read them, parse them, split them into story and hl\n",
    "# Allows selection of file subset \n",
    "# def get_stories(path, k, publication, src_type):\n",
    "#     stories = []\n",
    "#     for f in ls_fullpath(path)[:k]:\n",
    "#         txt = read_file(f)\n",
    "#         story, hl = parse_text_hl(txt)\n",
    "#         stories.append({'story': story, 'highlights': hl,'publication': publication, 'type': src_type})\n",
    "#     return stories"
   ]
  },
  {
   "cell_type": "code",
   "execution_count": null,
   "metadata": {},
   "outputs": [],
   "source": [
    "# Function to cleaning up text\n",
    "def text_cleaner(txt):\n",
    "    clean_txt = []\n",
    "    # For each line in text\n",
    "    for l in txt:\n",
    "        # Remove newspaper info\n",
    "        l = re.sub(\"\\\\(CNN\\\\)|\\\\(CNN\\\\) \\\\-\\\\- \", \"\", l)\n",
    "        # Convert to lowercase\n",
    "        l = l.lower()\n",
    "        # Remove punctuation\n",
    "        # Split by whitespace\n",
    "        tokenizer = RegexpTokenizer(r\"[a-z0-9?.;!&']+\")        \n",
    "        l = tokenizer.tokenize(l)\n",
    "        # l = l.split()\n",
    "        clean_txt.append(\" \".join(l))\n",
    "    # Remove empty strings\n",
    "    clean_txt = [c_txt for c_txt in clean_txt if len(c_txt) > 0]\n",
    "    return clean_txt"
   ]
  },
  {
   "cell_type": "markdown",
   "metadata": {},
   "source": [
    "## Preprocess data and save as a pickle"
   ]
  },
  {
   "cell_type": "code",
   "execution_count": 50,
   "metadata": {},
   "outputs": [
    {
     "data": {
      "text/plain": [
       "92579"
      ]
     },
     "execution_count": 50,
     "metadata": {},
     "output_type": "execute_result"
    }
   ],
   "source": [
    "path = \"/Users/dbm/Downloads/cnn_stories/stories\"\n",
    "pub = \"cnn.com\"\n",
    "# path = \"/Users/dbm/Downloads/dailymail_stories/stories\"\n",
    "# pub = \"dailymail.com\"\n",
    "story_dict = get_stories(path, publication=pub, src_type=\"news\")\n",
    "len(story_dict)"
   ]
  },
  {
   "cell_type": "code",
   "execution_count": 51,
   "metadata": {},
   "outputs": [],
   "source": [
    "# Clean stories\n",
    "for story in story_dict:\n",
    "    story[\"story\"] = text_cleaner(story[\"story\"].split(\"\\n\"))\n",
    "    story[\"summary\"] = text_cleaner(story[\"summary\"])"
   ]
  },
  {
   "cell_type": "code",
   "execution_count": 1,
   "metadata": {},
   "outputs": [
    {
     "ename": "NameError",
     "evalue": "name 'story_dict' is not defined",
     "output_type": "error",
     "traceback": [
      "\u001b[0;31m---------------------------------------------------------------------------\u001b[0m",
      "\u001b[0;31mNameError\u001b[0m                                 Traceback (most recent call last)",
      "\u001b[0;32m<ipython-input-1-4a8ad9d8f185>\u001b[0m in \u001b[0;36m<module>\u001b[0;34m\u001b[0m\n\u001b[1;32m      1\u001b[0m \u001b[0;31m# Save cleaned data in pickle format\u001b[0m\u001b[0;34m\u001b[0m\u001b[0;34m\u001b[0m\u001b[0;34m\u001b[0m\u001b[0m\n\u001b[1;32m      2\u001b[0m \u001b[0;32mfrom\u001b[0m \u001b[0mpickle\u001b[0m \u001b[0;32mimport\u001b[0m \u001b[0mdump\u001b[0m\u001b[0;34m\u001b[0m\u001b[0;34m\u001b[0m\u001b[0m\n\u001b[0;32m----> 3\u001b[0;31m \u001b[0mdump\u001b[0m\u001b[0;34m(\u001b[0m\u001b[0mstory_dict\u001b[0m\u001b[0;34m,\u001b[0m \u001b[0mopen\u001b[0m\u001b[0;34m(\u001b[0m\u001b[0;34m\"cnn_news_summary.pkl\"\u001b[0m\u001b[0;34m,\u001b[0m \u001b[0;34m\"wb\"\u001b[0m\u001b[0;34m)\u001b[0m\u001b[0;34m)\u001b[0m\u001b[0;34m\u001b[0m\u001b[0;34m\u001b[0m\u001b[0m\n\u001b[0m\u001b[1;32m      4\u001b[0m \u001b[0;31m# dump(story_dict, open(\"dailymail_news_summary.pkl\", \"wb\"))\u001b[0m\u001b[0;34m\u001b[0m\u001b[0;34m\u001b[0m\u001b[0;34m\u001b[0m\u001b[0m\n",
      "\u001b[0;31mNameError\u001b[0m: name 'story_dict' is not defined"
     ]
    }
   ],
   "source": [
    "# Save cleaned data in pickle format\n",
    "from pickle import dump\n",
    "dump(story_dict, open(\"cnn_news_summary.pkl\", \"wb\"))\n",
    "# dump(story_dict, open(\"dailymail_news_summary.pkl\", \"wb\"))"
   ]
  },
  {
   "cell_type": "code",
   "execution_count": 2,
   "metadata": {},
   "outputs": [
    {
     "name": "stdout",
     "output_type": "stream",
     "text": [
      "Loaded CNN Stories 92579\n"
     ]
    }
   ],
   "source": [
    "# Load CNN\n",
    "import pickle\n",
    "cnn_stories = pickle.load(open('/Users/dbm/Documents/Insight S19/data/cnn_news_summary.pkl', 'rb'))\n",
    "print('Loaded CNN Stories %d' % len(cnn_stories))"
   ]
  },
  {
   "cell_type": "code",
   "execution_count": 3,
   "metadata": {},
   "outputs": [
    {
     "name": "stdout",
     "output_type": "stream",
     "text": [
      "Loaded dailymail Stories 219506\n"
     ]
    }
   ],
   "source": [
    "# Load dailymail\n",
    "dailymail_stories = pickle.load(open('/Users/dbm/Documents/Insight S19/data/dailymail_news_summary.pkl', 'rb'))\n",
    "print('Loaded dailymail Stories %d' % len(dailymail_stories))"
   ]
  },
  {
   "cell_type": "code",
   "execution_count": 4,
   "metadata": {},
   "outputs": [
    {
     "data": {
      "text/plain": [
       "312085"
      ]
     },
     "execution_count": 4,
     "metadata": {},
     "output_type": "execute_result"
    }
   ],
   "source": [
    "# Combine both datasets\n",
    "master = cnn_stories + dailymail_stories\n",
    "len(master)"
   ]
  },
  {
   "cell_type": "code",
   "execution_count": 6,
   "metadata": {},
   "outputs": [],
   "source": [
    "dump(master, open(\"cnn_dmail_news_summary.pkl\", \"wb\"))"
   ]
  },
  {
   "cell_type": "code",
   "execution_count": 53,
   "metadata": {},
   "outputs": [
    {
     "data": {
      "text/plain": [
       "{'story': ['at the start of a big week for the higgs boson the most sought after particle in all of physics scientists in illinois said monday that they had crept closer to proving that the particle exists but had been unable to reach a definitive conclusion.',\n",
       "  \"the scientists outlined their final analysis based on more than 10 years of research and 500 trillion particle collisions using the u.s. department of energy's fermilab tevatron collider near batavia illinois whose budgetary woes shut it down last year.\",\n",
       "  'what is the higgs boson and why is it important?',\n",
       "  'their announcement came two days before researchers at the large hadron collider under the alps are due to unveil their latest results at an eagerly awaited seminar at the cern particle physics laboratory in geneva switzerland.',\n",
       "  'our data strongly point toward the existence of the higgs boson rob roser a spokesman for one of two independent experiments at the tevatron said in a statement. but it will take results from the experiments at the large hadron collider in europe to establish a discovery.',\n",
       "  'read more the woman at the edge of physics',\n",
       "  \"finding the higgs boson would help explain the origin of mass one of the open questions in physicists' current understanding of the way the universe works.\",\n",
       "  \"the particle has been so difficult to pin down that the physicist leon lederman reportedly wanted to call his book the goddamn particle. but he truncated that epithet to the god particle which may have helped elevate the particle's allure in popular culture.\",\n",
       "  'more science news from cnn light years',\n",
       "  'the results from the tevatron stemming from the two different experiments suggest that if the higgs boson does exist it would have a mass between 115 and 135 gev about 130 times the mass of the proton.',\n",
       "  'before the tevatron closed the experiments there sent beams of particles whizzing around a four mile circumference in opposite directions. traveling at a fraction below the speed of light the particles would crash into each other creating conditions similar to those at the dawn of the universe for scientists to observe.',\n",
       "  'but so far neither the results from the u.s. collider experiments nor from the the large hadron collider located 328 feet underneath the border of france and switzerland have enough statistical significance to constitute a discovery.',\n",
       "  \"it is easier to look for a friend's face in a sports stadium filled with 100 000 people than to search for a higgs like event among trillions of collisions said luciano ristori a physicist at the u.s. facility.\",\n",
       "  \"attention now turns to the latest analysis of data from the 10 billion european machine the world's most powerful particle smasher.\",\n",
       "  \"we now have more than double the data we had last year sergio bertolucci the director for research and computing at cern said last month. that should be enough to see whether the trends we were seeing in the 2011 data are still there or whether they've gone away. it's a very exciting time.\",\n",
       "  \"scientists getting clearer picture of 'god particle'\"],\n",
       " 'summary': ['u.s. based scientists say their data points toward the existence of the higgs boson',\n",
       "  'finding the higgs boson would help explain the origin of mass',\n",
       "  \"but the research at the tevatron collider doesn't provide a conclusive answer\",\n",
       "  'attention now turns to a seminar wednesday on data from the large hadron collider'],\n",
       " 'publication': 'cnn.com',\n",
       " 'type': 'news'}"
      ]
     },
     "execution_count": 53,
     "metadata": {},
     "output_type": "execute_result"
    }
   ],
   "source": [
    "# Access loaded stories\n",
    "story_dict[0]"
   ]
  },
  {
   "cell_type": "code",
   "execution_count": 1,
   "metadata": {},
   "outputs": [],
   "source": [
    "# From each line\n",
    "# # Remove newspaper info\n",
    "# l_proc = re.sub(\"\\\\(CNN\\\\)|\\\\(CNN\\\\) \\\\-\\\\- \", \"\", l)\n",
    "\n",
    "# # Convert to lowercase\n",
    "# l_proc = l_proc.lower()\n",
    "\n",
    "# # Remove punctuation\n",
    "# # Split by whitespace\n",
    "\n",
    "# tokenizer = RegexpTokenizer(r'[a-z]+')\n",
    "# l_proc = tokenizer.tokenize(l_proc)\n",
    "\n",
    "# # Split the line by whitespace\n",
    "# # l = l.split()\n",
    "\n",
    "# len(l_proc)\n",
    "\n",
    "# l_proc\n",
    "# # if not idx:\n",
    "# #     l =\n",
    "# #     l = l[idx + len(\"(CNN)|(CNN) -- \"):]"
   ]
  },
  {
   "cell_type": "code",
   "execution_count": 2,
   "metadata": {},
   "outputs": [],
   "source": [
    "from newsroom import jsonl\n",
    "\n",
    "# Read entire file:\n",
    "\n",
    "with jsonl.open(\"/Users/dbm/Downloads/thin/train.data\", gzip = True) as train_file:\n",
    "    train = train_file.read()\n",
    "\n",
    "# Read file entry by entry:\n",
    "\n",
    "with jsonl.open(\"/Users/dbm/Downloads/thin/train.data\", gzip = True) as train_file:\n",
    "    for entry in train_file:\n",
    "        print(entry[\"summary\"], entry[\"text\"])\n"
   ]
  },
  {
   "cell_type": "code",
   "execution_count": null,
   "metadata": {},
   "outputs": [],
   "source": [
    "import random\n",
    "\n",
    "from newsroom import jsonl\n",
    "from newsroom.analyze import Fragments\n",
    "\n",
    "with jsonl.open(\"/Users/dbm/Downloads/thin/train.data\", gzip = True) as train_file:\n",
    "    train = train_file.read()\n",
    "\n",
    "# Compute stats on random training example:\n",
    "\n",
    "entry = random.choice(train)\n",
    "summary, text = train[0][\"summary\"], train[0][\"text\"]\n",
    "fragments = Fragments(summary, text)\n",
    "\n",
    "# Print paper metrics:\n",
    "\n",
    "print(\"Coverage:\",    fragments.coverage())\n",
    "print(\"Density:\",     fragments.density())\n",
    "print(\"Compression:\", fragments.compression())\n",
    "\n",
    "# Extractive fragments oracle:\n",
    "\n",
    "print(\"List of extractive fragments:\")\n",
    "print(fragments.strings())"
   ]
  }
 ],
 "metadata": {
  "kernelspec": {
   "display_name": "Python 3",
   "language": "python",
   "name": "python3"
  },
  "language_info": {
   "codemirror_mode": {
    "name": "ipython",
    "version": 3
   },
   "file_extension": ".py",
   "mimetype": "text/x-python",
   "name": "python",
   "nbconvert_exporter": "python",
   "pygments_lexer": "ipython3",
   "version": "3.6.7"
  },
  "latex_envs": {
   "LaTeX_envs_menu_present": true,
   "autoclose": false,
   "autocomplete": true,
   "bibliofile": "biblio.bib",
   "cite_by": "apalike",
   "current_citInitial": 1,
   "eqLabelWithNumbers": true,
   "eqNumInitial": 1,
   "hotkeys": {
    "equation": "Ctrl-E",
    "itemize": "Ctrl-I"
   },
   "labels_anchors": false,
   "latex_user_defs": false,
   "report_style_numbering": false,
   "user_envs_cfg": false
  },
  "toc": {
   "base_numbering": 1,
   "nav_menu": {},
   "number_sections": true,
   "sideBar": true,
   "skip_h1_title": false,
   "title_cell": "Table of Contents",
   "title_sidebar": "Contents",
   "toc_cell": false,
   "toc_position": {},
   "toc_section_display": true,
   "toc_window_display": false
  },
  "varInspector": {
   "cols": {
    "lenName": 16,
    "lenType": 16,
    "lenVar": 40
   },
   "kernels_config": {
    "python": {
     "delete_cmd_postfix": "",
     "delete_cmd_prefix": "del ",
     "library": "var_list.py",
     "varRefreshCmd": "print(var_dic_list())"
    },
    "r": {
     "delete_cmd_postfix": ") ",
     "delete_cmd_prefix": "rm(",
     "library": "var_list.r",
     "varRefreshCmd": "cat(var_dic_list()) "
    }
   },
   "types_to_exclude": [
    "module",
    "function",
    "builtin_function_or_method",
    "instance",
    "_Feature"
   ],
   "window_display": false
  }
 },
 "nbformat": 4,
 "nbformat_minor": 2
}

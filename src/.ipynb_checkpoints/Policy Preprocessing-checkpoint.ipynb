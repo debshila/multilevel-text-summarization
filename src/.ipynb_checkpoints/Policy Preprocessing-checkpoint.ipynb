{
 "cells": [
  {
   "cell_type": "markdown",
   "metadata": {},
   "source": [
    "# Preprocessing privacy and opt-out policies"
   ]
  },
  {
   "cell_type": "code",
   "execution_count": 2,
   "metadata": {
    "ExecuteTime": {
     "end_time": "2019-02-11T16:31:32.859778Z",
     "start_time": "2019-02-11T16:31:32.846126Z"
    }
   },
   "outputs": [],
   "source": [
    "# general imports\n",
    "import warnings\n",
    "import nltk\n",
    "import pandas as pd\n",
    "import numpy as np\n",
    "import scipy as sp\n",
    "from time import time, sleep\n",
    "import json\n",
    "import requests\n",
    "import random\n",
    "import os\n",
    "import matplotlib.pyplot as plt\n",
    "import re\n",
    "from xml.etree import cElementTree as ET\n",
    "from sklearn.externals import joblib\n",
    "# Clean and lemmatize text\n",
    "from nltk.corpus import stopwords\n",
    "from gensim.utils import smart_open, simple_preprocess\n",
    "from nltk.stem.wordnet import WordNetLemmatizer\n",
    "from sklearn.feature_extraction.text import CountVectorizer, TfidfTransformer\n",
    "from nltk.tokenize import sent_tokenize, word_tokenize\n",
    "import html5lib\n",
    "import re\n",
    "from bs4 import BeautifulSoup\n",
    "import requests\n",
    "from pprint import pprint\n",
    "from pickle import dump,load\n",
    "# Gensim\n",
    "import gensim\n",
    "import gensim.corpora as corpora\n",
    "from gensim.utils import simple_preprocess\n",
    "from gensim.models import CoherenceModel, LdaModel, LsiModel, HdpModel\n",
    "from gensim.models.wrappers import LdaMallet\n",
    "from gensim.corpora import Dictionary\n",
    "from pprint import pprint\n",
    "\n",
    "# spacy for lemmatization\n",
    "import spacy\n",
    "\n",
    "# Plotting tools\n",
    "import pyLDAvis\n",
    "import pyLDAvis.gensim  # don't skip this\n",
    "import matplotlib.pyplot as plt\n",
    "\n",
    "# Enable logging for gensim - optional\n",
    "import logging\n",
    "logging.basicConfig(\n",
    "    format='%(asctime)s : %(levelname)s : %(message)s', level=logging.ERROR)\n",
    "\n",
    "warnings.filterwarnings(\"ignore\", category=DeprecationWarning)\n",
    "\n",
    "random.seed(0)\n",
    "%matplotlib inline"
   ]
  },
  {
   "cell_type": "code",
   "execution_count": 8,
   "metadata": {
    "ExecuteTime": {
     "end_time": "2019-02-11T16:31:49.251546Z",
     "start_time": "2019-02-11T16:31:49.248863Z"
    }
   },
   "outputs": [],
   "source": [
    "# Directory paths\n",
    "pp_dir = '/Users/dbm/Downloads/OPP-115/sanitized_policies/'\n",
    "oo_dir = '/Users/dbm/Downloads/OptOutChoice-2017_v1.0/SanitizedPrivacyPolicies/'\n",
    "pp_xml = '/Users/dbm/Downloads/corpus/'"
   ]
  },
  {
   "cell_type": "code",
   "execution_count": 4,
   "metadata": {
    "ExecuteTime": {
     "end_time": "2019-02-11T16:31:33.953794Z",
     "start_time": "2019-02-11T16:31:33.950469Z"
    }
   },
   "outputs": [],
   "source": [
    "# Read in all story files\n",
    "def ls_fullpath(directory):\n",
    "    return [os.path.join(directory, f) for f in os.listdir(directory)]"
   ]
  },
  {
   "cell_type": "code",
   "execution_count": 5,
   "metadata": {
    "ExecuteTime": {
     "end_time": "2019-02-11T16:31:35.200537Z",
     "start_time": "2019-02-11T16:31:35.196915Z"
    }
   },
   "outputs": [],
   "source": [
    "def extract_co_name(file, pat='\\d+_|\\.com|\\.edu|\\.html'):\n",
    "    co_name = re.sub(pattern=pat, repl='', string=os.path.basename(file))\n",
    "    return co_name"
   ]
  },
  {
   "cell_type": "code",
   "execution_count": 9,
   "metadata": {
    "ExecuteTime": {
     "end_time": "2019-02-11T16:31:50.878515Z",
     "start_time": "2019-02-11T16:31:50.869808Z"
    }
   },
   "outputs": [],
   "source": [
    "# Read in files\n",
    "pp_files = ls_fullpath(directory=pp_dir)\n",
    "oo_files = ls_fullpath(directory=oo_dir)\n",
    "oo_files = [i for i in oo_files if '.DS_Store' not in i]\n",
    "pp_xml_files = ls_fullpath(directory=pp_xml)\n",
    "# print(oo_files)"
   ]
  },
  {
   "cell_type": "code",
   "execution_count": 23,
   "metadata": {
    "ExecuteTime": {
     "end_time": "2019-02-10T22:22:42.687610Z",
     "start_time": "2019-02-10T22:22:42.682907Z"
    }
   },
   "outputs": [],
   "source": [
    "# Extract company names from filenames\n",
    "co_names_pp = [extract_co_name(file=file) for file in pp_files]\n",
    "co_names_oo = [extract_co_name(file=file) for file in oo_files]\n",
    "co_names = co_names_pp + co_names_oo\n",
    "# co_names"
   ]
  },
  {
   "cell_type": "code",
   "execution_count": 32,
   "metadata": {
    "ExecuteTime": {
     "end_time": "2019-02-11T17:01:20.468060Z",
     "start_time": "2019-02-11T17:01:20.463858Z"
    }
   },
   "outputs": [],
   "source": [
    "# import lxml.etree as etree\n",
    "# from xml.etree.ElementTree import parse\n",
    "import xml.etree.ElementTree as etree\n",
    "\n",
    "file = pp_xml_files[0]\n",
    "# tree = ET.parse(file)\n",
    "# root = tree.getroot()\n",
    "# root\n",
    "\n",
    "# xmlTree = parse(file).getroot()\n",
    "# for element in xmlTree.findall(\"SUBTITLE\"):\n",
    "#     print(element.text)\n",
    "    \n",
    "# for element in xmlTree.findall(\"SUBTEXT\"):\n",
    "#     print(element.text)\n",
    "\n",
    "\n",
    "# total amount of items\n",
    "# print(len(root[0]))  \n",
    "e = etree.parse(file)#.getroot()\n",
    "\n",
    "\n"
   ]
  },
  {
   "cell_type": "code",
   "execution_count": 76,
   "metadata": {
    "ExecuteTime": {
     "end_time": "2019-02-11T17:12:28.970967Z",
     "start_time": "2019-02-11T17:12:28.965517Z"
    }
   },
   "outputs": [
    {
     "data": {
      "text/plain": [
       "[]"
      ]
     },
     "execution_count": 76,
     "metadata": {},
     "output_type": "execute_result"
    }
   ],
   "source": [
    "e.findall('.//SUBTEXT')[1].text\n",
    "e.findall('.//SUBTITLE')[1].text\n",
    "\n"
   ]
  },
  {
   "cell_type": "code",
   "execution_count": 79,
   "metadata": {
    "ExecuteTime": {
     "end_time": "2019-02-11T17:15:33.579111Z",
     "start_time": "2019-02-11T17:15:33.575007Z"
    }
   },
   "outputs": [],
   "source": [
    "text = [e.findall('.//SUBTEXT')[i].text for i in range(len(e.findall('.//SECTION')))]\n",
    "sec_title = [e.findall('.//SUBTITLE')[i].text for i in range(len(e.findall('.//SECTION')))]\n",
    "policy_doc = {'file':file, 'text': text, 'title': sec_title}"
   ]
  },
  {
   "cell_type": "code",
   "execution_count": 80,
   "metadata": {
    "ExecuteTime": {
     "end_time": "2019-02-11T17:15:36.072223Z",
     "start_time": "2019-02-11T17:15:36.057748Z"
    }
   },
   "outputs": [
    {
     "ename": "KeyError",
     "evalue": "0",
     "output_type": "error",
     "traceback": [
      "\u001b[0;31m---------------------------------------------------------------------------\u001b[0m",
      "\u001b[0;31mKeyError\u001b[0m                                  Traceback (most recent call last)",
      "\u001b[0;32m<ipython-input-80-6eb86a106fbb>\u001b[0m in \u001b[0;36m<module>\u001b[0;34m\u001b[0m\n\u001b[0;32m----> 1\u001b[0;31m \u001b[0mpolicy_doc\u001b[0m\u001b[0;34m[\u001b[0m\u001b[0;36m0\u001b[0m\u001b[0;34m]\u001b[0m\u001b[0;34m\u001b[0m\u001b[0m\n\u001b[0m",
      "\u001b[0;31mKeyError\u001b[0m: 0"
     ]
    }
   ],
   "source": [
    "policy_doc[0]"
   ]
  },
  {
   "cell_type": "code",
   "execution_count": 52,
   "metadata": {
    "ExecuteTime": {
     "end_time": "2019-02-11T17:05:39.198465Z",
     "start_time": "2019-02-11T17:05:39.177124Z"
    }
   },
   "outputs": [
    {
     "ename": "IndexError",
     "evalue": "list index out of range",
     "output_type": "error",
     "traceback": [
      "\u001b[0;31m---------------------------------------------------------------------------\u001b[0m",
      "\u001b[0;31mIndexError\u001b[0m                                Traceback (most recent call last)",
      "\u001b[0;32m<ipython-input-52-16513e4e1446>\u001b[0m in \u001b[0;36m<module>\u001b[0;34m\u001b[0m\n\u001b[0;32m----> 1\u001b[0;31m \u001b[0mlist\u001b[0m\u001b[0;34m(\u001b[0m\u001b[0;34m{\u001b[0m\u001b[0melement\u001b[0m\u001b[0;34m.\u001b[0m\u001b[0mtag\u001b[0m\u001b[0;34m.\u001b[0m\u001b[0msplit\u001b[0m\u001b[0;34m(\u001b[0m\u001b[0;34m'{'\u001b[0m\u001b[0;34m)\u001b[0m\u001b[0;34m[\u001b[0m\u001b[0;34m-\u001b[0m\u001b[0;36m1\u001b[0m\u001b[0;34m]\u001b[0m\u001b[0;34m.\u001b[0m\u001b[0msplit\u001b[0m\u001b[0;34m(\u001b[0m\u001b[0;34m'}'\u001b[0m\u001b[0;34m)\u001b[0m\u001b[0;34m[\u001b[0m\u001b[0;36m1\u001b[0m\u001b[0;34m]\u001b[0m \u001b[0;32mfor\u001b[0m \u001b[0melement\u001b[0m \u001b[0;32min\u001b[0m \u001b[0me\u001b[0m\u001b[0;34m.\u001b[0m\u001b[0miter\u001b[0m\u001b[0;34m(\u001b[0m\u001b[0;34m)\u001b[0m\u001b[0;34m}\u001b[0m\u001b[0;34m)\u001b[0m\u001b[0;34m\u001b[0m\u001b[0m\n\u001b[0m",
      "\u001b[0;32m<ipython-input-52-16513e4e1446>\u001b[0m in \u001b[0;36m<setcomp>\u001b[0;34m(.0)\u001b[0m\n\u001b[0;32m----> 1\u001b[0;31m \u001b[0mlist\u001b[0m\u001b[0;34m(\u001b[0m\u001b[0;34m{\u001b[0m\u001b[0melement\u001b[0m\u001b[0;34m.\u001b[0m\u001b[0mtag\u001b[0m\u001b[0;34m.\u001b[0m\u001b[0msplit\u001b[0m\u001b[0;34m(\u001b[0m\u001b[0;34m'{'\u001b[0m\u001b[0;34m)\u001b[0m\u001b[0;34m[\u001b[0m\u001b[0;34m-\u001b[0m\u001b[0;36m1\u001b[0m\u001b[0;34m]\u001b[0m\u001b[0;34m.\u001b[0m\u001b[0msplit\u001b[0m\u001b[0;34m(\u001b[0m\u001b[0;34m'}'\u001b[0m\u001b[0;34m)\u001b[0m\u001b[0;34m[\u001b[0m\u001b[0;36m1\u001b[0m\u001b[0;34m]\u001b[0m \u001b[0;32mfor\u001b[0m \u001b[0melement\u001b[0m \u001b[0;32min\u001b[0m \u001b[0me\u001b[0m\u001b[0;34m.\u001b[0m\u001b[0miter\u001b[0m\u001b[0;34m(\u001b[0m\u001b[0;34m)\u001b[0m\u001b[0;34m}\u001b[0m\u001b[0;34m)\u001b[0m\u001b[0;34m\u001b[0m\u001b[0m\n\u001b[0m",
      "\u001b[0;31mIndexError\u001b[0m: list index out of range"
     ]
    }
   ],
   "source": [
    "list({element.tag.split('{')[-1].split('}')[0] for element in e.iter()})"
   ]
  },
  {
   "cell_type": "code",
   "execution_count": 50,
   "metadata": {
    "ExecuteTime": {
     "end_time": "2019-02-11T17:05:02.300876Z",
     "start_time": "2019-02-11T17:05:02.296248Z"
    }
   },
   "outputs": [
    {
     "data": {
      "text/plain": [
       "<Element 'POLICY' at 0x1a22280598>"
      ]
     },
     "execution_count": 50,
     "metadata": {},
     "output_type": "execute_result"
    }
   ],
   "source": [
    "list(tree.iter())[0]"
   ]
  },
  {
   "cell_type": "code",
   "execution_count": null,
   "metadata": {},
   "outputs": [],
   "source": [
    "e.findall()"
   ]
  },
  {
   "cell_type": "code",
   "execution_count": 31,
   "metadata": {
    "ExecuteTime": {
     "end_time": "2019-02-11T16:58:53.980799Z",
     "start_time": "2019-02-11T16:58:53.974825Z"
    }
   },
   "outputs": [
    {
     "name": "stdout",
     "output_type": "stream",
     "text": [
      "tag: SECTION, attr:{}\n",
      "tag: SECTION, attr:{}\n",
      "tag: SECTION, attr:{}\n",
      "tag: SECTION, attr:{}\n",
      "tag: SECTION, attr:{}\n",
      "tag: SECTION, attr:{}\n",
      "tag: SECTION, attr:{}\n",
      "tag: SECTION, attr:{}\n",
      "tag: SECTION, attr:{}\n",
      "tag: SECTION, attr:{}\n",
      "tag: SECTION, attr:{}\n",
      "tag: SECTION, attr:{}\n",
      "None None\n",
      "None None\n",
      "None None\n",
      "None None\n",
      "None None\n",
      "None None\n",
      "None None\n",
      "None None\n",
      "None None\n",
      "None None\n",
      "None None\n",
      "None None\n"
     ]
    }
   ],
   "source": [
    "# for atype in e.findall('SUBTITLE'):\n",
    "#     print(atype.get('foobar'))\n",
    "    \n",
    "for child in e:\n",
    "    print(f'tag: {child.tag}, attr:{child.attrib}') \n",
    "e[0][0].text\n",
    "\n",
    "\n",
    "for doc in e.findall('SECTION'):\n",
    "    rank = doc.get('SUBTITLE')\n",
    "    name = doc.get('SUBSECTION')\n",
    "    print(name, rank) \n"
   ]
  },
  {
   "cell_type": "code",
   "execution_count": 5,
   "metadata": {
    "ExecuteTime": {
     "end_time": "2019-02-10T22:08:06.280923Z",
     "start_time": "2019-02-10T22:08:06.274060Z"
    }
   },
   "outputs": [],
   "source": [
    "# Read in files and do preliminary preprocessing\n",
    "def read_html(file, pat = '[^a-zA-z0-9.?!/ ]+', filt_len=6, doc_type='pp'):\n",
    "    html_file = open(file, 'r', errors='ignore')\n",
    "    source_code = html_file.read()\n",
    "    soup = BeautifulSoup(source_code, 'html.parser')\n",
    "    tmp = sent_tokenize(''.join(soup.findAll(text=True)))\n",
    "    tmp_sent = [re.sub(pat, '', i).rstrip() for i in tmp]\n",
    "    tmp_sent = [\n",
    "        re.sub(pattern='[ \\t]{2,}', repl=' ', string=i) for i in tmp_sent\n",
    "        if len(i) > filt_len\n",
    "    ]\n",
    "    txt = ' '.join(tmp_sent)\n",
    "    named_entities.append(get_named_entities(txt))\n",
    "    try:\n",
    "        year = re.search(string=txt, pattern='20\\d{2}').group()\n",
    "    except AttributeError:\n",
    "        year = ''  # apply your error handling\n",
    "        type(year)\n",
    "    data = {'file': file, 'year': year, 'doc_type': doc_type, 'text': txt}\n",
    "    return data"
   ]
  },
  {
   "cell_type": "code",
   "execution_count": null,
   "metadata": {},
   "outputs": [],
   "source": []
  },
  {
   "cell_type": "code",
   "execution_count": 27,
   "metadata": {
    "ExecuteTime": {
     "end_time": "2019-02-10T22:28:00.510831Z",
     "start_time": "2019-02-10T22:28:00.011466Z"
    }
   },
   "outputs": [],
   "source": [
    "# load spacy pretrained model for Named Entity Recognition\n",
    "# nlp = spacy.load('en_core_web_sm')\n",
    "# named_entities = []\n",
    "# def get_named_entities(text):\n",
    "#     doc = nlp(text)\n",
    "#     # Get organization name from text\n",
    "#     org_names = np.unique([ent.text for ent in doc.ents if ent.label_ == 'ORG'])\n",
    "#     return org_names"
   ]
  },
  {
   "cell_type": "code",
   "execution_count": 38,
   "metadata": {
    "ExecuteTime": {
     "end_time": "2019-02-10T22:46:30.805321Z",
     "start_time": "2019-02-10T22:46:30.800445Z"
    }
   },
   "outputs": [],
   "source": [
    "# tokenize, lower case, and lemmatize words\n",
    "def tokenize(series, stop_words, frequent_words):\n",
    "    return (\n",
    "        series\n",
    "        .apply(lambda x: simple_preprocess(x))\n",
    "        .apply(lambda tokens: [token for token in tokens if token not in stop_words])\n",
    "        .apply(lambda tokens: [token for token in tokens if token not in frequent_words])\n",
    "#         .apply(lambda tokens: [token for token in tokens if token not in get_named_entities(tokens)])\n",
    "        .apply(lambda tokens: [wnl.lemmatize(token) for token in tokens])\n",
    "        .apply(lambda tokens: [token for token in tokens if len(token) > 3])\n",
    "    )"
   ]
  },
  {
   "cell_type": "code",
   "execution_count": 12,
   "metadata": {
    "ExecuteTime": {
     "end_time": "2019-02-10T22:10:38.142264Z",
     "start_time": "2019-02-10T22:09:06.624543Z"
    }
   },
   "outputs": [
    {
     "name": "stdout",
     "output_type": "stream",
     "text": [
      "No. of Privacy policy Documents: 115 \n",
      "No. of Opt out policy Documents: 114\n"
     ]
    }
   ],
   "source": [
    "%%time\n",
    "pp = [read_html(file=file, doc_type='pp') for file in pp_files]\n",
    "oo = [read_html(file=file, doc_type='oo') for file in oo_files]\n",
    "\n",
    "print(\n",
    "    f'No. of Privacy policy Documents: {len(pp)} \\nNo. of Opt out policy Documents: {len(oo)}'\n",
    ")"
   ]
  },
  {
   "cell_type": "code",
   "execution_count": 30,
   "metadata": {
    "ExecuteTime": {
     "end_time": "2019-02-10T22:29:04.002418Z",
     "start_time": "2019-02-10T22:29:03.991515Z"
    }
   },
   "outputs": [
    {
     "data": {
      "text/html": [
       "<div>\n",
       "<style scoped>\n",
       "    .dataframe tbody tr th:only-of-type {\n",
       "        vertical-align: middle;\n",
       "    }\n",
       "\n",
       "    .dataframe tbody tr th {\n",
       "        vertical-align: top;\n",
       "    }\n",
       "\n",
       "    .dataframe thead th {\n",
       "        text-align: right;\n",
       "    }\n",
       "</style>\n",
       "<table border=\"1\" class=\"dataframe\">\n",
       "  <thead>\n",
       "    <tr style=\"text-align: right;\">\n",
       "      <th></th>\n",
       "      <th>doc_type</th>\n",
       "      <th>file</th>\n",
       "      <th>text</th>\n",
       "      <th>year</th>\n",
       "    </tr>\n",
       "  </thead>\n",
       "  <tbody>\n",
       "    <tr>\n",
       "      <th>0</th>\n",
       "      <td>pp</td>\n",
       "      <td>/Users/dbm/Downloads/OPP-115/sanitized_policie...</td>\n",
       "      <td>Privacy Policy Last Modified March 25 2013 Thi...</td>\n",
       "      <td>2013</td>\n",
       "    </tr>\n",
       "  </tbody>\n",
       "</table>\n",
       "</div>"
      ],
      "text/plain": [
       "  doc_type                                               file  \\\n",
       "0       pp  /Users/dbm/Downloads/OPP-115/sanitized_policie...   \n",
       "\n",
       "                                                text  year  \n",
       "0  Privacy Policy Last Modified March 25 2013 Thi...  2013  "
      ]
     },
     "execution_count": 30,
     "metadata": {},
     "output_type": "execute_result"
    }
   ],
   "source": [
    "# Combine data into dataframe\n",
    "df = pd.DataFrame(pp+oo)\n",
    "df.head(1)"
   ]
  },
  {
   "cell_type": "code",
   "execution_count": 36,
   "metadata": {
    "ExecuteTime": {
     "end_time": "2019-02-10T22:42:07.990676Z",
     "start_time": "2019-02-10T22:40:49.836424Z"
    }
   },
   "outputs": [
    {
     "name": "stdout",
     "output_type": "stream",
     "text": [
      "CPU times: user 4min 30s, sys: 35.4 s, total: 5min 6s\n",
      "Wall time: 1min 18s\n"
     ]
    }
   ],
   "source": [
    "%%time\n",
    "# named_entities = [get_named_entities(i) for i in df['text']]\n",
    "# named_entities = [i.split()for i in named_entities]"
   ]
  },
  {
   "cell_type": "code",
   "execution_count": 20,
   "metadata": {
    "ExecuteTime": {
     "end_time": "2019-02-10T22:21:56.307112Z",
     "start_time": "2019-02-10T22:21:56.292509Z"
    }
   },
   "outputs": [],
   "source": [
    "# Save dataset\n",
    "dump(df, open(\"/Users/dbm/Documents/Insight S19/data/privacy_optout_policy.pkl\", \"wb\"))"
   ]
  },
  {
   "cell_type": "code",
   "execution_count": 39,
   "metadata": {
    "ExecuteTime": {
     "end_time": "2019-02-10T22:47:07.604792Z",
     "start_time": "2019-02-10T22:47:07.594398Z"
    }
   },
   "outputs": [],
   "source": [
    "# Words to filter\n",
    "stop_words = set(stopwords.words('english'))\n",
    "frequent_words = [\n",
    "    'privacy', 'policy', 'andor', 'terms', 'service', \n",
    "    'please', 'valve','jibjab', 'steam'\n",
    "]\n",
    "frequent_words.append(co_names)\n",
    "# Initialize lemmatizer\n",
    "wnl = WordNetLemmatizer()"
   ]
  },
  {
   "cell_type": "code",
   "execution_count": 40,
   "metadata": {
    "ExecuteTime": {
     "end_time": "2019-02-10T22:47:14.110276Z",
     "start_time": "2019-02-10T22:47:10.113028Z"
    }
   },
   "outputs": [
    {
     "name": "stdout",
     "output_type": "stream",
     "text": [
      "type: <class 'list'>, len: 229\n",
      "CPU times: user 3.86 s, sys: 112 ms, total: 3.97 s\n",
      "Wall time: 3.99 s\n"
     ]
    }
   ],
   "source": [
    "%%time\n",
    "# Clean, lemmatize, and tokenize text\n",
    "data_words = tokenize(df['text'], stop_words=stop_words,\n",
    "                      frequent_words=frequent_words)\n",
    "data_words = [' '.join(word) for word in data_words]\n",
    "print(f'type: {type(data_words)}, len: {len(data_words)}')"
   ]
  },
  {
   "cell_type": "code",
   "execution_count": 42,
   "metadata": {
    "ExecuteTime": {
     "end_time": "2019-02-10T22:51:31.290517Z",
     "start_time": "2019-02-10T22:51:31.285826Z"
    }
   },
   "outputs": [
    {
     "data": {
      "text/plain": [
       "'last modified march latinpost site intended explain practice cover following area applies governing safe harbor collection personal information information wireless marketing service associated promotional opportunity optingout certain personal information information wireless marketing service associated promotional opportunity wireless marketing service associated promotional opportunity sharing disclosure personal information information reviewing updating deleting certain information protection information california right change notice miscellaneous applies applies whether accessing site personal computer mobile device technology device known hereafter developed discovered device whether accessing site registered user offered site user site governs personal information information defined collected site cover information collected manner parent company subsidiary affiliate parent company collectively affiliate collected company unless specifically stated time time combine information term defined information collect source information received parent company affiliate marketing company advertiser resulting combined information subject remain full force effect even participation site particular feature function promotional activity offered site terminates expires cease suspended deactivated reason agree participate site feature activity service offered site governing safe harbor site designed targeted audience governed operated accordance make representation site operated accordance regulation governed nation participating site activity certify meet eligibility requirement site forth agreement meet eligibility requirement discontinue using site immediately continued site indicates agreeing collection disclosure management storage information described located outside european economic area switzerland site risk initiative responsible compliance applicable local national site part flux platform using site participating site activity providing personal information information consent transfer processing information provide site flux acknowledge provide lower standard protection personal data location understand site flux collect transfer store process deal information accordance flux consequently full extent permitted hereby waive claim relating processing personal information information accordance arise regulation apply country jurisdiction collection personal information information wireless marketing service associated promotional opportunity term personal information mean information would allow someone identify contact full name postal address email address telephone number term information mean information personal information collected personal information information together information information collect provide user registration extent offer user registration site register member site required select user name password together user required also provide information email address date birth additional information requested registration process required connection certain feature function also provide access certain feature function offer site option subscribe selection free email newsletter periodic information chat room message board electronic mail service messaging service auction shopping registration member profile page sign participate feature function required provide certain information order personalize allow feature function example sign receive email newsletter required provide email address date birth code separate user registration example extent offer service order various product defined agreement addition name contact information also collect maintain billing address shipping address product selection credit card payment instrument information order number information computer internet address website referred directed site referring credit card debit card number collected secure transmission connection promotion contest sweepstakes separate registration process enter promotion contest sweepstakes require submission following first last name street address city state code email address telephone number date birth additional information requested depending specific promotion submission information optional promotion entry page rule provide specific requirement also opportunity optin receive special promotion offer third party advertiser sponsor promotional partner advertiser result site connection many type promotion information collected cooky tracking technology cooky html file flash file technology text file help store user preference activity beacon also known image small piece code used collect advertising data counting page view promotion view advertising response site third party cooky beacon similar tracking technology collectively tracking technology collect information automatically browse site tracking technology help tailor content allow user move associated site without logging site understand site internet usage improve customize content offering advertisement site personalize experience site example recognize name return site understand interaction email message link clicked whether message opened forwarded save password area save online game video player setting enable shopping cart site help offer product program service interest deliver relevant advertising maintain administer site purpose described information information collected section tracking technology collect click stream data additional information regarding visit site visit site webpage feature purchasing history preference also collect address identifier unique device access site identifier identifier automatically assigned device access site personal information collected part process associate information collected tracking technology personal information visiting site whether registered user otherwise acknowledge understand hereby agree giving consent track activity site tracking technology tracking technology email send site additionally variety third party advertising network data exchange traffic measurement provider marketing analytics provider third party collectively third party advertising provider example serve advertisement site facilitate targeting advertisement measure analyze advertising effectiveness traffic site targeting service third party advertising provider enable display advertisement based visit site website visited targeting service enable among thing help deliver advertisement content product service might interested prevent seeing advertisement many time conduct research regarding usefulness certain advertisement third party advertising provider access tracking technology site except extent necessary provide service site third party advertising provider well advertiser access tracking technology device choose tracking technology enabled browser flash cooky removed otherwise access information information forth share information parent company affiliate personal information parent company affiliate personal information collect variety including sending marketing promotional email subject wireless marketing service associated promotional opportunity section text message offering purchase good service interest user whether good service provided site parent company affiliate third party example send email product sold third party processing registration site verifying email address active valid contacting regarding administration account service feature function enrolled registered promotion participated entered good service product ordered transaction undertaken site allowing participate public area feature site responding question request contacting regarding site informational purpose related site discretion regarding change site policy improving site service internal business purpose tailoring experience site otherwise customizing visit site saving user personal information dont reenter time visit site otherwise maintain administer site purpose disclosed time provide personal information information collected parent company affiliate information collect variety including keeping count return visit site parent company affiliate advertiser partner site accumulating reporting aggregate statistical information connection site user activity determining feature webpage product service user like best among thing help operate site enhance improve service site display advertising marketing information preparing statistic report allowing participate public area feature site improving site service internal business purpose tailoring experience site otherwise customizing visit site saving certain information return visit site otherwise maintain administer site described personal information purpose disclosed time provide information information collected third party advertising provider advertiser tracking technology third party advertising provider advertiser within control even relationship third party advertising provider advertiser control website policy practice regarding information aware different rule might apply collection disclosure information third party connection advertisement promotion site encounter internet cover information third party advertising provider advertiser directly collect third party advertising provider advertiser tracking technology governed third party advertising provider advertiser applicable specific policy however optingout certain personal information information wireless marketing service associated promotional opportunity section information optout collection information collected certain third party advertising provider optingout certain personal information information wireless marketing service associated promotional opportunity optingout certain personal information connection marketing promotional email offer optout receiving marketing promotional email time going site home page logging clicking account link deactivate account change edit preference also optout mechanism contained email note optout receiving marketing promotional email opting receiving newsletter requested optout mechanism contained email opting receiving marketing promotional email brand section newsletter option connection newsletter editorialbased email extent applicable site offer newsletter editorialbased email manage newsletter preference click newsletter link provided footer website select newsletter receive follow unsubscribe link applicable newsletter unsubscribe http latinpost site note optout receiving newsletter editorialbased email opting receiving marketing promotional email section marketing promotional email option connection wireless marketing service termination wireless service user wireless marketing service associated promotional opportunity section information unsubscribe receiving text message certain continuing right regardless optouts however even exercise optout right parent company affiliate continue contact purpose described information section maintenance administrative purpose optingout certain information collected tracking technology tracking technology third party advertising provider advertiser respect tracking technology third party advertising provider advertiser number option third party advertising provider advertiser collect information visit site help identify product service interest deliver advertising tailored interest optout information advertising purpose third party advertising provider adobe audiencemanager formerly known demdex doubleclick google using third party advertising provider optout tool access adobe audiencemanager demdexs tool athttp donottarget doubleclicks tool http google intl described next bullet point also time time permit third party advertising provider advertiser collect information site third party advertising provider advertiser participate network advertising initiative optout tool selfregulatory program online behavioral advertising click link tool learn choice note following respect opting optout tool discussed cookie based mean tool rely cooky remember choice respect information party offer choice delete tracking technology using control browser process described opting reestablish optout preference optouts browserspecific optout preference choose apply browser used selected preference mean example optout using internet explorer choice affect information collected tracking technology mozilla firefox device also mean optingout device affect information tracking technology device access site note storage flash cooky typically cannot controlled browser information manage flash cooky tracking technology site respect tracking technology site number option prevent certain tracking technology flash cooky using control browser must delete existing tracking technology internet option suboption tool menu option browser otherwise directed browser support feature disable future tracking technology browser control additional information enabling disabling tracking technology available browser support feature help section browser information choose device access site warn time cookie tracking technology flash cooky choose turn warning done browser device access site additional information warning removal warning available browser support feature site committed complying selfregulatory principle online behavioral advertising click information site online behavioral advertising device manufacturer preset browser block tracking technology website visit directly certain service advertisement work device delete reject disable turn tracking technology access certain feature site service function properly flash cooky note deleting rejecting disabling turning tracking technology third party advertising provider advertiser site option remove flash cooky information flash cooky remove computer visit http adobe html wireless marketing service associated promotional opportunity latin post provide user viewer opportunity register special promotion service news programming information delivered text messaging wireless device mobile phone event user required provide consent receive information latin post either registering site wireless device service promotional opportunity provided parent company affiliate latin post information requested part online registration process include user telephone number wireless email address specifically requested carrier name additional information requested specific promotion user preference regarding good service choice music artist similar survey information depending promotion also collect internet email address information depending information collected user also required confirm agreement agreement caution wireless transmission secured greater risk unknown third party interception message user personal information using wireless communication device user register latin post wireless marketing service acknowledge understand agree charged user wireless carrier message sent user latin post standard messaging rate apply unless noted otherwise circumstance site latin post parent company affiliate responsible wireless email text messaging charge incurred user person access user wireless device telephone number email address registration extent provide wireless marketing service registration method provided latin postswireless marketing service standard rate promotion subject either single optin doubleoptin site method discretion latin post depending type promotion premium rate service require double optin site method single optin method response print radio television internet promotional message user directed send specific word code text message designated telephone number register promoted user voluntary submission designated word code latin post mean user freely affirmatively granted permission latin post send text message latin post thank user registration sending thank message user terminate time using unsubscribe command text message latin post sending text message latin post stop cancel remove unsubscribe quit double optin site method response print radio television internet promotional message user directed site start registration process user must affirmatively consent latin post sending wireless message designated wireless device submitting telephone number wireless email address requested latin post clicking consent statement site registration page user must also agree site agreement online registration process completed latin post send confirmation message user designated wireless device request user confirm agreed receive message latin post particular telephone number wireless domain name appropriate user must respond confirmation message text message state indicate user acceptance latin post wireless marketing user responds confirmation message user registered specific wireless marketing subject promotion user respond confirmation message time provided latin post choose terminate offering wireless marketing time user response confirmation valid response received latin post continues offer specific wireless marketing double optin method response print radio television internet promotional message user directed send specific word code text message designated telephone number register promoted latin post send confirmation message user designated wireless device request user confirm agreed receive message latin post particular telephone number wireless domain name appropriate user must respond confirmation message text message state indicate user acceptance latin post wireless marketing user responds confirmation message user registered specific wireless marketing subject promotion user respond confirmation message time provided latin post choose terminate offering wireless marketing time user response confirmation valid response received latin post continues offer specific wireless marketing termination wireless service user regardless optin method used register user revoke consent receive message latin post following procedure user cancel service wireless device time using unsubscribe mechanism provided latin post time message sent sending text message stop cancel remove unsubscribe quit latin post terminate user registration recent wireless sent user word followed word user termination request cancel user registered wireless service latin post user unsubscribes latin post service wireless device service terminated immediately cancel user previous optin termination wireless service latin post user understands acknowledges agrees latin post sole discretion without liability user terminate offer specific wireless marketing wireless marketing service time without advance notice latin post provide notice termination change service site information latin post wireless telephone number wireless conventional internet email address information submitted wireless marketing service purpose provide requested unless provide advance notice share personal information advertiser third party marketer unless optin disclosure share personal information operational provider assist delivering wireless service parent company affiliate sharing disclosure personal information information sharing disclosure personal information generally sell rent lease disclose personal information third party except consent disclosure described disclosure parent company affiliate disclose personal information parent company affiliate marketing administrative purpose choose optout certain described optingout certain personal information section disclosure certain information posting intended disclosed certain personal information associated posting intended disclosure posting information username disclose posting information connection display service relating posting disclosure connection cobranded service feature site also offer cobranded service feature event promotion together another company parent company affiliate cobranded partner hosted site cobranded partner website share personal information cobranded partner voluntary participation cobranded feature mean optin give affirmative consent site cobranded partner collect information provided connection specific cobranded feature information fulfillment feature marketing administrative purpose cobranded partner identified cobranded feature along cobranded partner wish optout cobranded partner future personal information marketing purpose need contact cobranded partner directly information cobranded partner subject cobranded partner disclosure operational provider also right disclose personal information information third party purpose administering maintaining site service feature function operation refer third party operational provider operational provider efficiently provide full range content activity service feature function bring disclose information operational provider purpose providing service disclosure certain third party addition make personal information information available certain third party following limited circumstance compelled governmental agency court entity respond subpoena court order legal process requested governmental agency authority part investigation believe action violate rule regulation agreement including without limitation rule additional connection promotion necessary administer promotion required applicable rule regulation example provide winner list make required filing appropriate optin otherwise agree personal information shared otherwise disclosed third party marketing purpose case third party information subject third party sole discretion believe disclosure necessary appropriate investigate resolve possible problem inquiry protect business asset right property safety site parent company affiliate operational provider licensors supplier advertiser customer user party limit legal liability defend interest enforce agreement comply legal regulatory obligation request enforcement agency governmental authority event bankruptcy merger acquisition sale transfer control joint venture business combination involving parent company affiliate sharing disclosure information share otherwise disclose information third party disclose personal information except described reviewing updating deleting certain information generally review update delete certain information collected site clicking account homepage sign site account user change update deactivate personal information however personal information necessary check eligibility date birth cannot deleted modified sufficient verification correct information allow change password portion user well certain information given order keep information current select user name able change user name provided registration associated user also exercise certain setting option registered user site logged site clicking profile display name site selecting edit profile manage account selecting certain information collected certain entry promotion subject corporate regulatory recordkeeping requirement deleted upon user request unless entrant child year burden expense providing access information risk legitimate right others would violated decide provide access information case provide explanation access cannot provided contact information inquiry child ineligible teenager parent company affiliate inadvertently send email text message person meet eligibility requirement site child person others meet greater requirement certain feature site ineligible teenager child ineligible teenager child ineligible teenager parent legal guardian parent always right unsubscribe optout receiving future email text message unsubscribe mechanism contained email message unsubscribe process available parent legal guardian minor person majority state addition parent child ineligible teenager wish terminate child ineligible teenager membership must child ineligible teenager user gain direct access account follow procedure deactivation termination registration section agreement terminate child ineligible teenager member alternatively parent send email site administrator provide child ineligible teenager user request terminate child ineligible teenager account registration allow direct access user account personal information person without user user parent child ineligible teenager user parent required send email administrator includes parent name address telephone email address addition child ineligible teenager name email address registered site plus child ineligible teenager date birth parent must also provide verifiable identification parent legal guardian child ineligible teenager latin post send confirming email parent email address provided verify parent wish terminate child ineligible teenager account registration parent must confirm sending reply email designated return address latin post terminate child ineligible teenager account notify child ineligible teenager termination request email identify name address email address person making request protection information data transmission internet secure intrusion maintain commercially reasonable physical electronic procedural safeguard protect information however regardless effort device access site possible third party unlawfully intercept access transmission private communication unsecured transmission conduct financial transaction secured transmission always secure part site also limit access site employee individual authorized proper handling information employee found violating standard security confidentiality subject disciplinary process request operational provider follow similar standard security confidentiality phishing phishing attack attempt steal consumer personal identity data financial account credential phishers spoofed email lead consumer counterfeit website designed trick recipient divulging information credit card number account usernames password social security number send email asking provide confirm credit card number social security number username password receive email communication forward immediately site administrator adminlatinpost immediately delete fraudulent email computer california right resident state california provide information exercise disclosure choice option right optout sometimes refer unsubscribe optin personal information third party advertiser marketing purpose therefore pursuant california civil code required maintain disclose list third party received personal information marketing purpose preceding year california resident wish request information exercise third party disclosure choice send request email administrator adminlatinpost postal mail latin post vesey street floor york attn california right administrator request must labeled california right email subject line envelope post card request clearly state request related california right include name street address city state code email address street address optional wish receive response request email indicate preference response request sent email postal mail accept request telephone facsimile responsible notice labeled sent properly complete information change notice reserve right revise time posting updated without advance notice revision shall effective immediately upon posting notice material change posted site homepage provided emailing notifying upon login change form notice discretion however encourage check agreement often update miscellaneous accuracy confidentiality responsibility give current complete truthful accurate information including personal information keep information date cannot responsible problem liability arise give accurate truthful complete information personal information fail update information personal information reject delete entry believe good faith false fraudulent inconsistent solely responsible maintaining strict confidentiality user applicable charge cost expense damage liability loss incur suffer result failure solely responsible liable activity behavior conduct site user whether used others user unless notify user compromised misappropriated improperly taken used another party reserve right deny access registration privilege user including without limitation registered user service feature function site believe question identity person trying access user account service feature function community feature function made available site remember information disclosed venue automatically made public caution disclosing personal information community know access personal information purpose latin post responsible accuracy misuse information including personal information disclose receive venue assume disclosure make venue available publicly even without knowledge authorization question question understand information collect maintain share personal information information contact directly sending email contact administrator latin post vesey street floor york administrator sole statement document sole statement site summary restatement version thereof statement form including limited valid review agreement governs site defined shall meaning given agreement last modified date indicated effective immediately'"
      ]
     },
     "execution_count": 42,
     "metadata": {},
     "output_type": "execute_result"
    }
   ],
   "source": [
    "data_words[0]"
   ]
  },
  {
   "cell_type": "code",
   "execution_count": 44,
   "metadata": {
    "ExecuteTime": {
     "end_time": "2019-02-10T22:52:37.187416Z",
     "start_time": "2019-02-10T22:52:37.181412Z"
    }
   },
   "outputs": [],
   "source": [
    "## Save dataset\n",
    "dump(data_words, open(\"/Users/dbm/Documents/Insight S19/data/privacy_optout_policy_cleaned.pkl\", \"wb\"))"
   ]
  },
  {
   "cell_type": "code",
   "execution_count": null,
   "metadata": {},
   "outputs": [],
   "source": []
  }
 ],
 "metadata": {
  "kernelspec": {
   "display_name": "Python 3",
   "language": "python",
   "name": "python3"
  },
  "language_info": {
   "codemirror_mode": {
    "name": "ipython",
    "version": 3
   },
   "file_extension": ".py",
   "mimetype": "text/x-python",
   "name": "python",
   "nbconvert_exporter": "python",
   "pygments_lexer": "ipython3",
   "version": "3.6.0"
  },
  "latex_envs": {
   "LaTeX_envs_menu_present": true,
   "autoclose": false,
   "autocomplete": true,
   "bibliofile": "biblio.bib",
   "cite_by": "apalike",
   "current_citInitial": 1,
   "eqLabelWithNumbers": true,
   "eqNumInitial": 1,
   "hotkeys": {
    "equation": "Ctrl-E",
    "itemize": "Ctrl-I"
   },
   "labels_anchors": false,
   "latex_user_defs": false,
   "report_style_numbering": false,
   "user_envs_cfg": false
  },
  "toc": {
   "base_numbering": 1,
   "nav_menu": {},
   "number_sections": true,
   "sideBar": true,
   "skip_h1_title": false,
   "title_cell": "Table of Contents",
   "title_sidebar": "Contents",
   "toc_cell": false,
   "toc_position": {},
   "toc_section_display": true,
   "toc_window_display": false
  },
  "varInspector": {
   "cols": {
    "lenName": 16,
    "lenType": 16,
    "lenVar": 40
   },
   "kernels_config": {
    "python": {
     "delete_cmd_postfix": "",
     "delete_cmd_prefix": "del ",
     "library": "var_list.py",
     "varRefreshCmd": "print(var_dic_list())"
    },
    "r": {
     "delete_cmd_postfix": ") ",
     "delete_cmd_prefix": "rm(",
     "library": "var_list.r",
     "varRefreshCmd": "cat(var_dic_list()) "
    }
   },
   "types_to_exclude": [
    "module",
    "function",
    "builtin_function_or_method",
    "instance",
    "_Feature"
   ],
   "window_display": false
  }
 },
 "nbformat": 4,
 "nbformat_minor": 2
}

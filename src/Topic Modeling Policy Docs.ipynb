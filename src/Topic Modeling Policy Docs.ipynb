{
 "cells": [
  {
   "cell_type": "markdown",
   "metadata": {},
   "source": [
    "# Topic modeling of policy docs"
   ]
  },
  {
   "cell_type": "code",
   "execution_count": 207,
   "metadata": {
    "ExecuteTime": {
     "end_time": "2019-02-19T05:18:11.429126Z",
     "start_time": "2019-02-19T05:18:11.395001Z"
    }
   },
   "outputs": [],
   "source": [
    "import topic_model_utils"
   ]
  },
  {
   "cell_type": "code",
   "execution_count": 208,
   "metadata": {
    "ExecuteTime": {
     "end_time": "2019-02-19T05:19:18.572328Z",
     "start_time": "2019-02-19T05:19:18.453480Z"
    }
   },
   "outputs": [
    {
     "name": "stdout",
     "output_type": "stream",
     "text": [
      "(1001, 5) 1001\n"
     ]
    }
   ],
   "source": [
    "# Load data\n",
    "df = load(\n",
    "    open(\"/Users/dbm/Documents/Insight S19/data/acl_privacy_policy_full_docs.pkl\",\n",
    "         \"rb\"))\n",
    "data_words = load(\n",
    "    open(\n",
    "        \"/Users/dbm/Documents/Insight S19/data/acl_privacy_policy_full_doc_words.pkl\",\n",
    "        \"rb\"))\n",
    "print(df.shape, len(data_words))"
   ]
  },
  {
   "cell_type": "code",
   "execution_count": 211,
   "metadata": {
    "ExecuteTime": {
     "end_time": "2019-02-19T05:20:34.998027Z",
     "start_time": "2019-02-19T05:20:34.014960Z"
    }
   },
   "outputs": [
    {
     "name": "stdout",
     "output_type": "stream",
     "text": [
      "CPU times: user 921 ms, sys: 44.3 ms, total: 965 ms\n",
      "Wall time: 979 ms\n"
     ]
    }
   ],
   "source": [
    "%%time\n",
    "# Create corpora for topic modeling\n",
    "split_data_words = [sentence.split() for sentence in data_words]\n",
    "\n",
    "# Create Dictionary\n",
    "id2word = corpora.Dictionary(split_data_words)\n",
    "\n",
    "# Filter extremes in dictionary\n",
    "id2word.filter_extremes(no_below=1, no_above=0.75)\n",
    "\n",
    "# Term Document Frequency\n",
    "corpus = [id2word.doc2bow(text) for text in split_data_words]\n",
    "\n",
    "# Save corpora and dictionary\n",
    "dump(corpus, open('policy_corpus.pkl', 'wb'))\n",
    "id2word.save('policy_dictionary.gensim')"
   ]
  },
  {
   "cell_type": "code",
   "execution_count": 209,
   "metadata": {
    "ExecuteTime": {
     "end_time": "2019-02-19T05:19:37.686602Z",
     "start_time": "2019-02-19T05:19:37.684085Z"
    }
   },
   "outputs": [],
   "source": [
    "# Human readable format of corpus (term-frequency)\n",
    "# [[(id2word[id], freq) for id, freq in cp] for cp in corpus[:1]]"
   ]
  },
  {
   "cell_type": "code",
   "execution_count": 216,
   "metadata": {
    "ExecuteTime": {
     "end_time": "2019-02-19T05:26:04.008114Z",
     "start_time": "2019-02-19T05:24:27.615563Z"
    }
   },
   "outputs": [
    {
     "name": "stdout",
     "output_type": "stream",
     "text": [
      "CPU times: user 2min 52s, sys: 3.18 s, total: 2min 55s\n",
      "Wall time: 1min 36s\n"
     ]
    }
   ],
   "source": [
    "%%time\n",
    "# Determine optimum number of topics\n",
    "# Can take a long time to run.\n",
    "model_list, coherence_values = compute_coherence_lda(\n",
    "    dictionary=id2word, corpus=corpus, texts=split_data_words, start=3, limit=15, step=1)"
   ]
  },
  {
   "cell_type": "code",
   "execution_count": 214,
   "metadata": {
    "ExecuteTime": {
     "end_time": "2019-02-19T05:24:01.464602Z",
     "start_time": "2019-02-19T05:24:01.276397Z"
    }
   },
   "outputs": [
    {
     "name": "stdout",
     "output_type": "stream",
     "text": [
      "Max coherence: 0.29834461817289326, Num Topics at max coherence: 3\n"
     ]
    },
    {
     "data": {
      "image/png": "[encoded data removed]",
      "text/plain": [
       "<Figure size 432x288 with 1 Axes>"
      ]
     },
     "metadata": {
      "needs_background": "light"
     },
     "output_type": "display_data"
    }
   ],
   "source": [
    "# Show graph\n",
    "limit = 15\n",
    "start = 3\n",
    "step = 1\n",
    "#  Find the index of the max value\n",
    "max_idx = coherence_values.index(max(coherence_values))\n",
    "# Sanity check\n",
    "# coherence_values[19]\n",
    "x = range(start, limit, step)\n",
    "print(f'Max coherence: {max(coherence_values)}, Num Topics at max coherence: {x[max_idx]}')\n",
    "plt.plot(x, coherence_values)\n",
    "plt.xlabel(\"Num Topics\")\n",
    "plt.ylabel(\"Coherence score\")\n",
    "plt.legend((\"coherence_values\"), loc='best')\n",
    "plt.axvline(x=x[max_idx], color = 'orange')\n",
    "plt.show()"
   ]
  },
  {
   "cell_type": "code",
   "execution_count": 215,
   "metadata": {
    "ExecuteTime": {
     "end_time": "2019-02-19T05:24:08.506597Z",
     "start_time": "2019-02-19T05:24:08.495101Z"
    }
   },
   "outputs": [
    {
     "name": "stdout",
     "output_type": "stream",
     "text": [
      "Num Topics = 3  has Coherence Value of 0.2983\n",
      "Num Topics = 4  has Coherence Value of 0.2848\n",
      "Num Topics = 5  has Coherence Value of 0.2855\n",
      "Num Topics = 6  has Coherence Value of 0.2936\n",
      "Num Topics = 7  has Coherence Value of 0.2872\n",
      "Num Topics = 8  has Coherence Value of 0.2966\n",
      "Num Topics = 9  has Coherence Value of 0.2893\n"
     ]
    }
   ],
   "source": [
    "# Print the coherence scores\n",
    "for m, cv in zip(x, coherence_values):\n",
    "    print(\"Num Topics =\", m, \" has Coherence Value of\", round(cv, 4))"
   ]
  },
  {
   "cell_type": "code",
   "execution_count": 12,
   "metadata": {
    "ExecuteTime": {
     "end_time": "2019-02-11T17:20:21.131385Z",
     "start_time": "2019-02-11T17:20:21.123100Z"
    }
   },
   "outputs": [
    {
     "name": "stdout",
     "output_type": "stream",
     "text": [
      "[(0,\n",
      "  '0.052*\"information\" + 0.017*\"service\" + 0.016*\"site\" + 0.015*\"personal\" + '\n",
      "  '0.012*\"party\" + 0.011*\"website\" + 0.009*\"third\" + 0.008*\"provide\" + '\n",
      "  '0.008*\"email\" + 0.007*\"user\"'),\n",
      " (1,\n",
      "  '0.044*\"information\" + 0.017*\"site\" + 0.012*\"email\" + 0.011*\"service\" + '\n",
      "  '0.009*\"website\" + 0.009*\"third\" + 0.009*\"personal\" + 0.008*\"address\" + '\n",
      "  '0.007*\"collect\" + 0.007*\"party\"'),\n",
      " (2,\n",
      "  '0.060*\"information\" + 0.018*\"site\" + 0.016*\"service\" + 0.011*\"user\" + '\n",
      "  '0.010*\"website\" + 0.010*\"personal\" + 0.009*\"party\" + 0.009*\"cooky\" + '\n",
      "  '0.008*\"collect\" + 0.008*\"address\"'),\n",
      " (3,\n",
      "  '0.063*\"information\" + 0.018*\"site\" + 0.015*\"service\" + 0.010*\"party\" + '\n",
      "  '0.009*\"third\" + 0.009*\"personal\" + 0.009*\"provide\" + 0.009*\"user\" + '\n",
      "  '0.008*\"collect\" + 0.008*\"website\"'),\n",
      " (4,\n",
      "  '0.047*\"information\" + 0.016*\"site\" + 0.014*\"service\" + 0.012*\"email\" + '\n",
      "  '0.009*\"personal\" + 0.008*\"address\" + 0.008*\"provide\" + 0.007*\"third\" + '\n",
      "  '0.007*\"cooky\" + 0.007*\"user\"'),\n",
      " (5,\n",
      "  '0.036*\"information\" + 0.020*\"site\" + 0.016*\"service\" + 0.014*\"email\" + '\n",
      "  '0.010*\"party\" + 0.009*\"website\" + 0.009*\"cooky\" + 0.009*\"user\" + '\n",
      "  '0.009*\"third\" + 0.009*\"personal\"')]\n"
     ]
    }
   ],
   "source": [
    "# Select the model and print the topics\n",
    "optimal_model = model_list[3]\n",
    "model_topics = optimal_model.show_topics(formatted=False)\n",
    "pprint(optimal_model.print_topics(num_words=10))"
   ]
  },
  {
   "cell_type": "code",
   "execution_count": 16,
   "metadata": {
    "ExecuteTime": {
     "end_time": "2019-02-11T17:49:44.933628Z",
     "start_time": "2019-02-11T17:49:44.916464Z"
    }
   },
   "outputs": [],
   "source": [
    "# Save model to disk.\n",
    "temp_file = datapath(\"./optimal_LDA_model\")\n",
    "optimal_model.save(temp_file)\n",
    "\n",
    "# Load a potentially pretrained model from disk.\n",
    "# lda = LdaModel.load(temp_file)\n"
   ]
  },
  {
   "cell_type": "code",
   "execution_count": 121,
   "metadata": {
    "ExecuteTime": {
     "end_time": "2019-02-13T04:03:33.599242Z",
     "start_time": "2019-02-13T04:01:28.548051Z"
    }
   },
   "outputs": [
    {
     "name": "stderr",
     "output_type": "stream",
     "text": [
      "/anaconda3/envs/insight_s19/lib/python3.6/site-packages/pyLDAvis/_prepare.py:257: FutureWarning: Sorting because non-concatenation axis is not aligned. A future version\n",
      "of pandas will change to not sort by default.\n",
      "\n",
      "To accept the future behavior, pass 'sort=False'.\n",
      "\n",
      "To retain the current behavior and silence the warning, pass 'sort=True'.\n",
      "\n",
      "  return pd.concat([default_term_info] + list(topic_dfs))\n"
     ]
    },
    {
     "data": {
      "text/html": [
       "\n",
       "<link rel=\"stylesheet\" type=\"text/css\" href=\"https://cdn.rawgit.com/bmabey/pyLDAvis/files/ldavis.v1.0.0.css\">\n",
       "\n",
       "\n",
       "<div id=\"ldavis_el53241130533011607579544029\"></div>\n",
       "<script type=\"text/javascript\">\n",
       "\n",
       "var ldavis_el53241130533011607579544029_data = {\"mdsDat\": {\"x\": [-0.0037431756166295183, -0.007951941384228325, -0.0026029819020723316, 0.004290521847139735, 0.006108692017633281, 0.003898885038157158], \"y\": [0.003616723634597348, -0.00544518658058269, 0.005901451073231008, -0.0037867859085203488, 0.0013407301147375444, -0.001626932333462849], \"topics\": [1, 2, 3, 4, 5, 6], \"cluster\": [1, 1, 1, 1, 1, 1], \"Freq\": [33.25672912597656, 27.180973052978516, 19.232112884521484, 9.162796020507812, 5.7357611656188965, 5.4316253662109375]}, \"tinfo\": {\"Category\": [\"Default\", \"Default\", \"Default\", \"Default\", \"Default\", \"Default\", \"Default\", \"Default\", \"Default\", \"Default\", \"Default\", \"Default\", \"Default\", \"Default\", \"Default\", \"Topic1\", \"Topic1\", \"Topic1\", \"Topic1\", \"Topic1\", \"Topic1\", \"Topic1\", \"Topic1\", \"Topic1\", \"Topic1\", \"Topic1\", \"Topic1\", \"Topic1\", \"Topic1\", \"Topic1\", \"Topic1\", \"Topic1\", \"Topic1\", \"Topic1\", \"Topic1\", \"Topic1\", \"Topic1\", \"Topic1\", \"Topic1\", \"Topic1\", \"Topic1\", \"Topic1\", \"Topic1\", \"Topic1\", \"Topic1\", \"Topic1\", \"Topic1\", \"Topic1\", \"Topic1\", \"Topic1\", \"Topic1\", \"Topic1\", \"Topic1\", \"Topic1\", \"Topic1\", \"Topic1\", \"Topic1\", \"Topic1\", \"Topic1\", \"Topic1\", \"Topic2\", \"Topic2\", \"Topic2\", \"Topic2\", \"Topic2\", \"Topic2\", \"Topic2\", \"Topic2\", \"Topic2\", \"Topic2\", \"Topic2\", \"Topic2\", \"Topic2\", \"Topic2\", \"Topic2\", \"Topic2\", \"Topic2\", \"Topic2\", \"Topic2\", \"Topic2\", \"Topic2\", \"Topic2\", \"Topic2\", \"Topic2\", \"Topic2\", \"Topic2\", \"Topic2\", \"Topic2\", \"Topic2\", \"Topic2\", \"Topic2\", \"Topic2\", \"Topic2\", \"Topic2\", \"Topic2\", \"Topic2\", \"Topic2\", \"Topic2\", \"Topic3\", \"Topic3\", \"Topic3\", \"Topic3\", \"Topic3\", \"Topic3\", \"Topic3\", \"Topic3\", \"Topic3\", \"Topic3\", \"Topic3\", \"Topic3\", \"Topic3\", \"Topic3\", \"Topic3\", \"Topic3\", \"Topic3\", \"Topic3\", \"Topic3\", \"Topic3\", \"Topic3\", \"Topic3\", \"Topic3\", \"Topic3\", \"Topic3\", \"Topic3\", \"Topic3\", \"Topic3\", \"Topic3\", \"Topic3\", \"Topic3\", \"Topic3\", \"Topic3\", \"Topic3\", \"Topic3\", \"Topic3\", \"Topic3\", \"Topic3\", \"Topic3\", \"Topic3\", \"Topic4\", \"Topic4\", \"Topic4\", \"Topic4\", \"Topic4\", \"Topic4\", \"Topic4\", \"Topic4\", \"Topic4\", \"Topic4\", \"Topic4\", \"Topic4\", \"Topic4\", \"Topic4\", \"Topic4\", \"Topic4\", \"Topic4\", \"Topic4\", \"Topic4\", \"Topic4\", \"Topic4\", \"Topic4\", \"Topic4\", \"Topic4\", \"Topic4\", \"Topic4\", \"Topic4\", \"Topic4\", \"Topic4\", \"Topic4\", \"Topic4\", \"Topic4\", \"Topic4\", \"Topic4\", \"Topic4\", \"Topic4\", \"Topic4\", \"Topic4\", \"Topic4\", \"Topic4\", \"Topic5\", \"Topic5\", \"Topic5\", \"Topic5\", \"Topic5\", \"Topic5\", \"Topic5\", \"Topic5\", \"Topic5\", \"Topic5\", \"Topic5\", \"Topic5\", \"Topic5\", \"Topic5\", \"Topic5\", \"Topic5\", \"Topic5\", \"Topic5\", \"Topic5\", \"Topic5\", \"Topic5\", \"Topic5\", \"Topic5\", \"Topic5\", \"Topic5\", \"Topic5\", \"Topic5\", \"Topic5\", \"Topic5\", \"Topic5\", \"Topic5\", \"Topic5\", \"Topic5\", \"Topic5\", \"Topic5\", \"Topic5\", \"Topic5\", \"Topic5\", \"Topic5\", \"Topic5\", \"Topic5\", \"Topic6\", \"Topic6\", \"Topic6\", \"Topic6\", \"Topic6\", \"Topic6\", \"Topic6\", \"Topic6\", \"Topic6\", \"Topic6\", \"Topic6\", \"Topic6\", \"Topic6\", \"Topic6\", \"Topic6\", \"Topic6\", \"Topic6\", \"Topic6\", \"Topic6\", \"Topic6\", \"Topic6\", \"Topic6\", \"Topic6\", \"Topic6\", \"Topic6\", \"Topic6\", \"Topic6\", \"Topic6\", \"Topic6\", \"Topic6\", \"Topic6\", \"Topic6\", \"Topic6\", \"Topic6\", \"Topic6\", \"Topic6\", \"Topic6\", \"Topic6\", \"Topic6\", \"Topic6\"], \"Freq\": [15605.0, 4961.0, 2461.0, 4416.0, 2463.0, 2707.0, 2128.0, 2019.0, 2744.0, 3106.0, 2478.0, 1501.0, 1357.0, 1520.0, 1571.0, 4.918142795562744, 10.624146461486816, 3.0824034214019775, 3.0674102306365967, 3.028181552886963, 3.0436723232269287, 1.7909053564071655, 1.771317720413208, 4.219399929046631, 6.541560649871826, 1.746782660484314, 20.331851959228516, 1.7183767557144165, 6.49592399597168, 1.7191896438598633, 52.37876892089844, 6.287461280822754, 118.73767852783203, 242.00897216796875, 20.52876853942871, 436.8298034667969, 64.79481506347656, 142.07666015625, 31.533151626586914, 64.18933868408203, 5643.1123046875, 1015.6806030273438, 855.8585205078125, 550.5396118164062, 789.3605346679688, 263.06793212890625, 1709.9820556640625, 243.300048828125, 802.943359375, 1510.2288818359375, 439.8666687011719, 971.1973266601562, 484.6822204589844, 474.9842834472656, 783.4154052734375, 869.4074096679688, 918.4905395507812, 768.0106811523438, 751.6138916015625, 541.5137939453125, 3.20577073097229, 4.499128341674805, 211.05657958984375, 2.058255672454834, 6.090425968170166, 30.618026733398438, 7.0353922843933105, 181.27488708496094, 10.676379203796387, 4.341793537139893, 3.0489280223846436, 9.31637191772461, 7.826063632965088, 2.927182674407959, 7.617404460906982, 74.28851318359375, 36.65906524658203, 1184.21142578125, 235.98374938964844, 524.6494140625, 349.1336975097656, 902.529052734375, 4054.1787109375, 1305.6185302734375, 98.03629302978516, 829.61083984375, 167.3600311279297, 722.2971801757812, 478.42779541015625, 1263.0755615234375, 462.8829345703125, 447.3720397949219, 620.3035278320312, 602.0834350585938, 571.7031860351562, 436.1484375, 504.6629333496094, 452.10491943359375, 22.41051483154297, 1.699921727180481, 11.104303359985352, 27.517009735107422, 2.421288013458252, 9.737059593200684, 3.3661179542541504, 0.9232739210128784, 2.7559218406677246, 54.16370391845703, 0.9068760871887207, 1.3310015201568604, 1.3036315441131592, 1.693766474723816, 2.086486577987671, 22.30996322631836, 46.4659538269043, 12.764951705932617, 43.211666107177734, 92.12215423583984, 3.5381062030792236, 3421.050048828125, 175.09738159179688, 280.2686462402344, 992.9716186523438, 203.3630828857422, 488.0472106933594, 508.1256103515625, 810.56884765625, 448.4125671386719, 543.7571411132812, 476.0323791503906, 400.18902587890625, 260.04876708984375, 506.4364929199219, 285.65399169921875, 445.6807556152344, 379.28350830078125, 306.79046630859375, 369.5216064453125, 18.824012756347656, 26.006528854370117, 2.079979419708252, 1.2126728296279907, 2.0753862857818604, 38.36250686645508, 0.6436219811439514, 0.4159437119960785, 35.10624313354492, 0.8783207535743713, 0.5951836705207825, 13.41867733001709, 1.6187186241149902, 0.6069663166999817, 1.483966588973999, 9.577737808227539, 15.701509475708008, 44.786685943603516, 24.760799407958984, 42.72586441040039, 160.4919891357422, 309.7857971191406, 91.8753433227539, 1226.6551513671875, 152.87413024902344, 218.40223693847656, 120.35604858398438, 409.7428894042969, 370.8607177734375, 161.8596649169922, 213.09280395507812, 193.72706604003906, 133.90286254882812, 225.01319885253906, 195.1106414794922, 143.76747131347656, 168.19625854492188, 174.4860076904297, 161.06976318359375, 158.12071228027344, 0.5665326118469238, 1.5555094480514526, 16.836763381958008, 11.890955924987793, 0.47895607352256775, 0.6526723504066467, 0.9644226431846619, 0.47342926263809204, 13.437527656555176, 0.45706382393836975, 13.250726699829102, 0.4569792151451111, 0.4351018965244293, 0.28961265087127686, 9.282567977905273, 5.995136737823486, 1.8387395143508911, 26.713918685913086, 1.799066185951233, 191.55630493164062, 90.96662902832031, 19.47000503540039, 27.907527923583984, 36.10783767700195, 109.46096801757812, 710.5486450195312, 278.05804443359375, 107.52908325195312, 106.31478118896484, 150.05784606933594, 126.2022933959961, 153.9825897216797, 78.87388610839844, 117.22152709960938, 69.1588363647461, 179.63406372070312, 138.72674560546875, 84.88240051269531, 111.59942626953125, 102.98355102539062, 113.78020477294922, 0.6964043378829956, 0.6953036189079285, 0.6717560291290283, 0.6375949382781982, 2.5116090774536133, 15.77940845489502, 3.2259249687194824, 0.4656122326850891, 2.991407632827759, 0.4293595254421234, 0.4172254502773285, 0.40929433703422546, 0.9891362190246582, 0.26489320397377014, 0.5346769690513611, 13.59080696105957, 8.877131462097168, 1.393561601638794, 6.265297889709473, 9.551645278930664, 220.26377868652344, 5.392354965209961, 102.90550994873047, 307.47943115234375, 144.48687744140625, 239.7849578857422, 78.57073974609375, 156.44454956054688, 74.64164733886719, 549.5010986328125, 137.85409545898438, 136.63438415527344, 146.33265686035156, 72.32460021972656, 92.22964477539062, 104.69855499267578, 133.9753875732422, 84.28436279296875, 94.08861541748047, 95.18606567382812], \"Term\": [\"information\", \"site\", \"email\", \"service\", \"third\", \"website\", \"cooky\", \"address\", \"party\", \"personal\", \"user\", \"also\", \"data\", \"access\", \"time\", \"gardening\", \"gmail\", \"analyse\", \"visibility\", \"sensor\", \"quicker\", \"onesfor\", \"accelerometer\", \"geotag\", \"restaurantnews\", \"autocomplete\", \"mohegan\", \"protectfor\", \"affinity\", \"lbcs\", \"instagram\", \"metadata\", \"honda\", \"google\", \"nytimes\", \"example\", \"chase\", \"similar\", \"acura\", \"paymentech\", \"information\", \"user\", \"cooky\", \"content\", \"address\", \"credit\", \"site\", \"advertiser\", \"collect\", \"service\", \"change\", \"website\", \"advertising\", \"share\", \"provide\", \"party\", \"personal\", \"email\", \"third\", \"account\", \"tangeroutlets\", \"tanger\", \"barnes\", \"greensboro\", \"lark\", \"nook\", \"bookseller\", \"noble\", \"sparknotes\", \"thebook\", \"nookpressnook\", \"barnesandnoble\", \"collaborator\", \"sterling\", \"issuer\", \"america\", \"insurance\", \"personal\", \"medianews\", \"company\", \"security\", \"party\", \"information\", \"service\", \"direct\", \"website\", \"review\", \"third\", \"access\", \"site\", \"account\", \"online\", \"provide\", \"email\", \"user\", \"including\", \"collect\", \"cooky\", \"geekdo\", \"solar\", \"farlex\", \"newspost\", \"uptodates\", \"frederick\", \"austin\", \"hamilton\", \"valueclick\", \"library\", \"calvin\", \"valueclickmedia\", \"member_privacy\", \"shtml\", \"boardgamegeek\", \"uptodate\", \"military\", \"liquor\", \"subscriber\", \"interactive\", \"houston\", \"information\", \"disclose\", \"visit\", \"site\", \"feature\", \"provide\", \"third\", \"service\", \"collect\", \"party\", \"user\", \"address\", \"request\", \"personal\", \"data\", \"website\", \"cooky\", \"time\", \"email\", \"allergy\", \"food\", \"fare\", \"partial\", \"roanoke\", \"science\", \"completion\", \"toolbox\", \"allstate\", \"thrilling\", \"purged\", \"resume\", \"broker\", \"foodallergy\", \"translational\", \"kraft\", \"education\", \"research\", \"bing\", \"phone\", \"product\", \"email\", \"marketing\", \"information\", \"contact\", \"address\", \"page\", \"site\", \"service\", \"also\", \"provide\", \"cooky\", \"advertising\", \"personal\", \"third\", \"access\", \"collect\", \"user\", \"website\", \"party\", \"advises\", \"fare\", \"food\", \"allergy\", \"volunteering\", \"matching\", \"advocacy\", \"colocation\", \"education\", \"lifethreatening\", \"smithsonian\", \"anaphylaxis\", \"purged\", \"matrix\", \"caribou\", \"miami\", \"smithsonians\", \"research\", \"valley\", \"email\", \"personally\", \"consumer\", \"apply\", \"california\", \"also\", \"information\", \"site\", \"access\", \"time\", \"third\", \"address\", \"website\", \"identifiable\", \"collect\", \"name\", \"service\", \"personal\", \"data\", \"provide\", \"cooky\", \"party\", \"webseed\", \"postmaster\", \"tucson\", \"unsubscribed\", \"naturalnews\", \"sidearm\", \"scinews\", \"flow\", \"kindle\", \"analyzes\", \"onepixel\", \"engagement\", \"privacyscinews\", \"cookiesscinews\", \"hind\", \"sport\", \"kinja\", \"echo\", \"nara\", \"zacks\", \"email\", \"washingtonian\", \"data\", \"site\", \"cooky\", \"service\", \"purpose\", \"party\", \"personally\", \"information\", \"user\", \"third\", \"website\", \"identifiable\", \"time\", \"address\", \"personal\", \"also\", \"collect\", \"provide\"], \"Total\": [15605.0, 4961.0, 2461.0, 4416.0, 2463.0, 2707.0, 2128.0, 2019.0, 2744.0, 3106.0, 2478.0, 1501.0, 1357.0, 1520.0, 1571.0, 7.228209495544434, 17.32915687561035, 5.055035591125488, 5.069193363189697, 5.033173084259033, 5.062139987945557, 3.001307487487793, 2.9760019779205322, 7.1133646965026855, 11.083858489990234, 3.0037107467651367, 35.102970123291016, 2.9711742401123047, 11.241144180297852, 2.9875640869140625, 93.1075210571289, 10.996097564697266, 217.4444122314453, 451.7232360839844, 36.66745376586914, 878.0240478515625, 123.7210922241211, 283.3352966308594, 58.65354537963867, 124.32061004638672, 15605.0458984375, 2478.295654296875, 2128.4443359375, 1345.1922607421875, 2019.7166748046875, 605.5535888671875, 4961.3095703125, 557.3447265625, 2135.525390625, 4416.6962890625, 1088.4661865234375, 2707.8740234375, 1233.50732421875, 1229.4298095703125, 2311.64453125, 2744.0390625, 3106.853759765625, 2461.2216796875, 2463.839599609375, 1497.2025146484375, 4.334569931030273, 6.441058158874512, 310.8537902832031, 3.1259286403656006, 9.597042083740234, 49.38832092285156, 11.770010948181152, 305.89324951171875, 18.14504623413086, 7.409599304199219, 5.2332048416137695, 16.160213470458984, 13.847197532653809, 5.1899847984313965, 13.70456600189209, 142.33740234375, 71.39226531982422, 3106.853759765625, 584.9983520507812, 1407.8154296875, 903.3488159179688, 2744.0390625, 15605.0458984375, 4416.6962890625, 228.53892517089844, 2707.8740234375, 427.01055908203125, 2463.839599609375, 1520.41455078125, 4961.3095703125, 1497.2025146484375, 1456.844482421875, 2311.64453125, 2461.2216796875, 2478.295654296875, 1446.5633544921875, 2135.525390625, 2128.4443359375, 36.51491928100586, 2.9581820964813232, 20.845664978027344, 52.83449172973633, 4.817443370819092, 19.764497756958008, 6.963648319244385, 1.91965651512146, 5.793618679046631, 114.35928344726562, 1.9168699979782104, 2.883913516998291, 2.860287666320801, 3.723839282989502, 4.623776912689209, 53.42580795288086, 119.3570327758789, 30.940471649169922, 111.7739486694336, 263.80596923828125, 8.111037254333496, 15605.0458984375, 611.8604736328125, 1075.3284912109375, 4961.3095703125, 789.6484985351562, 2311.64453125, 2463.839599609375, 4416.6962890625, 2135.525390625, 2744.0390625, 2478.295654296875, 2019.7166748046875, 1143.0360107421875, 3106.853759765625, 1357.5242919921875, 2707.8740234375, 2128.4443359375, 1571.4239501953125, 2461.2216796875, 58.52845001220703, 81.69822692871094, 7.251770973205566, 4.475563049316406, 7.732500076293945, 147.96234130859375, 2.507859468460083, 1.6480944156646729, 142.55093383789062, 3.6271371841430664, 2.4632656574249268, 55.70488739013672, 6.774852752685547, 2.5413084030151367, 6.252462863922119, 41.57086181640625, 72.53289031982422, 247.7051239013672, 138.1431427001953, 253.5357208251953, 1172.957763671875, 2461.2216796875, 673.0286865234375, 15605.0458984375, 1298.648193359375, 2019.7166748046875, 1000.5485229492188, 4961.3095703125, 4416.6962890625, 1501.89990234375, 2311.64453125, 2128.4443359375, 1233.50732421875, 3106.853759765625, 2463.839599609375, 1520.41455078125, 2135.525390625, 2478.295654296875, 2707.8740234375, 2744.0390625, 2.387984037399292, 7.251770973205566, 81.69822692871094, 58.52845001220703, 2.461085319519043, 3.380262851715088, 5.011160850524902, 2.480440616607666, 72.53289031982422, 2.470996856689453, 71.75598907470703, 2.4851620197296143, 2.4632656574249268, 1.654870629310608, 53.68373489379883, 35.01459503173828, 11.87310791015625, 247.7051239013672, 11.683679580688477, 2461.2216796875, 1083.9508056640625, 182.4360809326172, 284.2646789550781, 385.10699462890625, 1501.89990234375, 15605.0458984375, 4961.3095703125, 1520.41455078125, 1571.4239501953125, 2463.839599609375, 2019.7166748046875, 2707.8740234375, 1096.10107421875, 2135.525390625, 954.1152954101562, 4416.6962890625, 3106.853759765625, 1357.5242919921875, 2311.64453125, 2128.4443359375, 2744.0390625, 2.266629934310913, 2.277773857116699, 2.27091646194458, 2.3654417991638184, 9.385510444641113, 80.93231201171875, 16.748485565185547, 2.5951523780822754, 16.855318069458008, 2.5756587982177734, 2.601667881011963, 2.587301254272461, 6.315728187561035, 1.7307292222976685, 3.5148258209228516, 92.0516357421875, 60.92173767089844, 9.462637901306152, 47.26836395263672, 77.08780670166016, 2461.2216796875, 43.21625518798828, 1357.5242919921875, 4961.3095703125, 2128.4443359375, 4416.6962890625, 1095.952392578125, 2744.0390625, 1083.9508056640625, 15605.0458984375, 2478.295654296875, 2463.839599609375, 2707.8740234375, 1096.10107421875, 1571.4239501953125, 2019.7166748046875, 3106.853759765625, 1501.89990234375, 2135.525390625, 2311.64453125], \"loglift\": [15.0, 14.0, 13.0, 12.0, 11.0, 10.0, 9.0, 8.0, 7.0, 6.0, 5.0, 4.0, 3.0, 2.0, 1.0, 0.7159000039100647, 0.6116999983787537, 0.6061999797821045, 0.5985999703407288, 0.5928000211715698, 0.592199981212616, 0.5845999717712402, 0.582099974155426, 0.5785999894142151, 0.5735999941825867, 0.5587999820709229, 0.5547999739646912, 0.5533000230789185, 0.5525000095367432, 0.54830002784729, 0.5256999731063843, 0.5418999791145325, 0.4959000051021576, 0.47679999470710754, 0.5209000110626221, 0.4027999937534332, 0.45410001277923584, 0.4106000065803528, 0.48030000925064087, 0.4399000108242035, 0.08380000293254852, 0.20890000462532043, 0.1898999959230423, 0.20749999582767487, 0.16140000522136688, 0.2671999931335449, 0.0357000008225441, 0.2720000147819519, 0.12269999831914902, 0.027799999341368675, 0.1949000060558319, 0.0754999965429306, 0.16680000722408295, 0.14990000426769257, 0.01889999955892563, -0.048500001430511475, -0.1177000030875206, -0.06369999796152115, -0.08630000054836273, 0.08389999717473984, 1.0010000467300415, 0.9437999725341797, 0.9154999852180481, 0.8848000168800354, 0.8478999733924866, 0.8245000243186951, 0.788100004196167, 0.7793999910354614, 0.7723000049591064, 0.7681999802589417, 0.7623999714851379, 0.7519000172615051, 0.7319999933242798, 0.7300000190734863, 0.715399980545044, 0.652400016784668, 0.6360999941825867, 0.33809998631477356, 0.39480000734329224, 0.3156000077724457, 0.35199999809265137, 0.1906999945640564, -0.04520000144839287, 0.08389999717473984, 0.4562999904155731, 0.11969999969005585, 0.3659999966621399, 0.07559999823570251, 0.14640000462532043, -0.06549999862909317, 0.12880000472068787, 0.12200000137090683, -0.012900000438094139, -0.10540000349283218, -0.16410000622272491, 0.10369999706745148, -0.13989999890327454, -0.24660000205039978, 1.1604000329971313, 1.094599962234497, 1.0188000202178955, 0.9962000250816345, 0.9606000185012817, 0.9405999779701233, 0.9215999841690063, 0.9165999889373779, 0.9056000113487244, 0.9013000130653381, 0.9000999927520752, 0.8754000067710876, 0.8628000020980835, 0.86080002784729, 0.8529000282287598, 0.7753000259399414, 0.7052000164985657, 0.7631999850273132, 0.698199987411499, 0.5964999794960022, 0.8190000057220459, 0.13089999556541443, 0.39739999175071716, 0.30399999022483826, 0.039900001138448715, 0.2919999957084656, 0.093299999833107, 0.0697999969124794, -0.046799998730421066, 0.08780000358819962, 0.029899999499320984, -0.0013000000035390258, 0.02979999966919422, 0.1679999977350235, -0.16539999842643738, 0.09000000357627869, -0.15569999814033508, -0.0763000026345253, 0.014999999664723873, -0.2476000040769577, 1.2555999755859375, 1.245300054550171, 1.1411000490188599, 1.0842000246047974, 1.0746999979019165, 1.0400999784469604, 1.0298999547958374, 1.013200044631958, 0.9886999726295471, 0.9718000292778015, 0.9696000218391418, 0.9666000008583069, 0.9584000110626221, 0.9581000208854675, 0.9517999887466431, 0.9221000075340271, 0.8597000241279602, 0.6797000169754028, 0.6710000038146973, 0.6093000173568726, 0.4009999930858612, 0.3174999952316284, 0.3986999988555908, -0.15330000221729279, 0.25060001015663147, 0.1656000018119812, 0.27219998836517334, -0.1039000004529953, -0.08730000257492065, 0.1623000055551529, 0.006000000052154064, -0.0066999997943639755, 0.16949999332427979, -0.23520000278949738, -0.14589999616146088, 0.03150000050663948, -0.15129999816417694, -0.26350000500679016, -0.43209999799728394, -0.46380001306533813, 1.419800043106079, 1.319000005722046, 1.2790000438690186, 1.2647000551223755, 1.2216999530792236, 1.2137999534606934, 1.2106000185012817, 1.202299952507019, 1.1725000143051147, 1.1708999872207642, 1.1691999435424805, 1.1649999618530273, 1.1247999668121338, 1.1154999732971191, 1.1035000085830688, 1.0936000347137451, 0.9933000206947327, 0.6313999891281128, 0.987500011920929, 0.3052000105381012, 0.3806000053882599, 0.6208999752998352, 0.5374000072479248, 0.49140000343322754, 0.2395000010728836, -0.23090000450611115, -0.023099999874830246, 0.2094999998807907, 0.16509999334812164, 0.05999999865889549, 0.08560000360012054, -0.00860000029206276, 0.22679999470710754, -0.04399999976158142, 0.23409999907016754, -0.34380000829696655, -0.25040000677108765, 0.08630000054836273, -0.17229999601840973, -0.17010000348091125, -0.3244999945163727, 1.732800006866455, 1.7263000011444092, 1.6949000358581543, 1.6018999814987183, 1.5946999788284302, 1.277999997138977, 1.2657999992370605, 1.1949000358581543, 1.184000015258789, 1.121399998664856, 1.0827000141143799, 1.069000005722046, 1.059000015258789, 1.0360000133514404, 1.0298000574111938, 1.0, 0.9868000149726868, 0.9973999857902527, 0.8920999765396118, 0.8246999979019165, 0.4993000030517578, 0.8317000269889832, 0.33329999446868896, 0.13189999759197235, 0.22300000488758087, -0.0005000000237487257, 0.2775999903678894, 0.04839999973773956, 0.23729999363422394, -0.4334000051021576, 0.023800000548362732, 0.020800000056624413, -0.005100000184029341, 0.19460000097751617, 0.07750000059604645, -0.04670000076293945, -0.23080000281333923, 0.032600000500679016, -0.2092999964952469, -0.2768999934196472], \"logprob\": [15.0, 14.0, 13.0, 12.0, 11.0, 10.0, 9.0, 8.0, 7.0, 6.0, 5.0, 4.0, 3.0, 2.0, 1.0, -9.864299774169922, -9.094099998474121, -10.331500053405762, -10.336400032043457, -10.349200248718262, -10.344099998474121, -10.874500274658203, -10.885499954223633, -10.017499923706055, -9.579000473022461, -10.899399757385254, -8.444999694824219, -10.915800094604492, -9.586000442504883, -10.915399551391602, -7.498700141906738, -9.618599891662598, -6.680300235748291, -5.968200206756592, -8.435400009155273, -5.377699851989746, -7.285999774932861, -6.500800132751465, -8.006199836730957, -7.295400142669678, -2.819000005722046, -4.533899784088135, -4.705100059509277, -5.146299839019775, -4.785999774932861, -5.884799957275391, -4.013000011444092, -5.962900161743164, -4.768899917602539, -4.137199878692627, -5.370699882507324, -4.578700065612793, -5.27370023727417, -5.293900012969971, -4.793499946594238, -4.6894001960754395, -4.634500026702881, -4.813399791717529, -4.835000038146973, -5.162799835205078, -10.090499877929688, -9.75160026550293, -5.903299808502197, -10.533599853515625, -9.448699951171875, -7.833899974822998, -9.304499626159668, -6.0553998947143555, -8.887399673461914, -9.787199974060059, -10.140700340270996, -9.023699760437012, -9.197999954223633, -10.181400299072266, -9.225000381469727, -6.947500228881836, -7.653800010681152, -4.178599834442139, -5.7916998863220215, -4.992700099945068, -5.400000095367432, -4.450300216674805, -2.947999954223633, -4.080999851226807, -6.670100212097168, -4.5345001220703125, -6.135300159454346, -4.672999858856201, -5.085000038146973, -4.114200115203857, -5.118000030517578, -5.152100086212158, -4.825300216674805, -4.855100154876709, -4.906799793243408, -5.177499771118164, -5.031599998474121, -5.141499996185303, -7.800000190734863, -10.378899574279785, -8.50220012664795, -7.594699859619141, -10.025199890136719, -8.633600234985352, -9.695799827575684, -10.989399909973145, -9.89579963684082, -6.917500019073486, -11.00730037689209, -10.623600006103516, -10.644399642944336, -10.382599830627441, -10.173999786376953, -7.804500102996826, -7.070799827575684, -8.362799644470215, -7.143400192260742, -6.38640022277832, -9.645899772644043, -2.7718000411987305, -5.744200229644775, -5.273799896240234, -4.008800029754639, -5.5945000648498535, -4.719099998474121, -4.678800106048584, -4.2118000984191895, -4.803800106048584, -4.611000061035156, -4.74399995803833, -4.917600154876709, -5.348700046539307, -4.68209981918335, -5.254700183868408, -4.809899806976318, -4.971199989318848, -5.1834001541137695, -4.997300148010254, -7.232999801635742, -6.9096999168396, -9.435700416564941, -9.975299835205078, -9.437999725341797, -6.520999908447266, -10.608699798583984, -11.045299530029297, -6.6097002029418945, -10.297800064086914, -10.687000274658203, -7.571400165557861, -9.68649959564209, -10.667400360107422, -9.77340030670166, -7.908699989318848, -7.414299964904785, -6.366199970245361, -6.958799839019775, -6.413300037384033, -5.089900016784668, -4.432199954986572, -5.64769983291626, -3.0560998916625977, -5.138500213623047, -4.781799793243408, -5.377600193023682, -4.152599811553955, -4.252299785614014, -5.081399917602539, -4.806399822235107, -4.901599884033203, -5.270999908447266, -4.7519001960754395, -4.894499778747559, -5.199900150299072, -5.043000221252441, -5.00629997253418, -5.086299896240234, -5.104700088500977, -10.267900466918945, -9.25790023803711, -6.876100063323975, -7.223899841308594, -10.435799598693848, -10.126299858093262, -9.735899925231934, -10.447400093078613, -7.101600170135498, -10.482600212097168, -7.115600109100342, -10.482799530029297, -10.531800270080566, -10.938899993896484, -7.471499919891357, -7.908699989318848, -9.09060001373291, -6.4145002365112305, -9.11240005493164, -4.444499969482422, -5.189199924468994, -6.730800151824951, -6.370800018310547, -6.1132001876831055, -5.0040998458862305, -3.1335999965667725, -4.071800231933594, -5.021900177001953, -5.033299922943115, -4.688600063323975, -4.861800193786621, -4.662799835205078, -5.3317999839782715, -4.9355998039245605, -5.4633002281188965, -4.508699893951416, -4.767199993133545, -5.258399963378906, -4.984799861907959, -5.065100193023682, -4.965400218963623, -10.006999969482422, -10.008600234985352, -10.043000221252441, -10.095199584960938, -8.724300384521484, -6.886499881744385, -8.473999977111816, -10.409600257873535, -8.549400329589844, -10.490599632263184, -10.51930046081543, -10.53849983215332, -9.656100273132324, -10.973600387573242, -10.271300315856934, -7.035799980163574, -7.461699962615967, -9.313300132751465, -7.810200214385986, -7.388500213623047, -4.250400066375732, -7.96019983291626, -5.01140022277832, -3.916800022125244, -4.671999931335449, -4.16540002822876, -5.281199932098389, -4.59250020980835, -5.332499980926514, -3.336199998855591, -4.718999862670898, -4.72790002822876, -4.659299850463867, -5.363999843597412, -5.1209001541137695, -4.994100093841553, -4.747499942779541, -5.210999965667725, -5.100900173187256, -5.089399814605713]}, \"token.table\": {\"Topic\": [1, 1, 2, 3, 4, 5, 6, 1, 2, 3, 4, 5, 6, 1, 2, 3, 4, 5, 6, 1, 2, 3, 4, 5, 6, 1, 2, 3, 4, 5, 6, 1, 2, 3, 4, 5, 6, 4, 5, 1, 2, 3, 4, 5, 1, 2, 3, 5, 1, 2, 3, 4, 5, 6, 1, 2, 3, 4, 5, 6, 1, 2, 3, 4, 5, 6, 1, 2, 3, 4, 5, 6, 1, 2, 3, 1, 3, 3, 4, 1, 2, 3, 4, 5, 6, 1, 2, 3, 1, 1, 2, 3, 4, 5, 6, 1, 2, 3, 6, 1, 2, 3, 4, 5, 6, 1, 2, 3, 6, 1, 2, 3, 1, 2, 3, 4, 1, 2, 3, 4, 5, 6, 3, 1, 2, 3, 4, 5, 6, 1, 2, 3, 4, 5, 6, 1, 2, 3, 4, 5, 6, 1, 2, 3, 4, 1, 2, 3, 4, 5, 6, 3, 1, 2, 3, 4, 5, 6, 3, 4, 1, 2, 3, 4, 5, 6, 1, 2, 3, 4, 5, 6, 1, 2, 3, 4, 5, 6, 1, 1, 2, 3, 4, 5, 6, 1, 2, 3, 4, 5, 6, 1, 2, 3, 4, 5, 6, 1, 2, 3, 4, 5, 6, 1, 2, 3, 4, 5, 6, 1, 2, 3, 4, 5, 6, 1, 2, 3, 4, 5, 6, 1, 2, 3, 4, 5, 6, 1, 3, 1, 2, 3, 4, 5, 6, 1, 2, 3, 4, 5, 1, 2, 3, 4, 5, 6, 1, 2, 3, 4, 5, 6, 1, 1, 2, 3, 4, 5, 6, 1, 4, 1, 2, 3, 4, 5, 6, 1, 2, 3, 4, 1, 2, 3, 4, 6, 1, 2, 3, 1, 2, 3, 4, 5, 6, 1, 2, 3, 4, 5, 6, 2, 3, 1, 2, 3, 6, 1, 2, 3, 4, 5, 6, 1, 2, 3, 1, 2, 3, 4, 5, 6, 1, 2, 3, 4, 5, 6, 1, 2, 3, 4, 5, 6, 1, 2, 3, 4, 5, 6, 1, 2, 3, 4, 5, 6, 1, 2, 3, 4, 5, 6, 1, 2, 3, 4, 6, 1, 2, 3, 4, 5, 6, 1, 2, 3, 4, 5, 6, 1, 2, 3, 4, 5, 6, 1, 2, 3, 1, 1, 2, 3, 4, 5, 6, 3, 4, 1, 2, 3, 4, 5, 6, 1, 2, 3, 4, 5, 6, 1, 2, 3, 4, 5, 1, 2, 3, 4, 5, 6, 2, 3, 1, 2, 3, 4, 5, 1, 2, 3, 4, 5, 6, 1, 2, 3, 4, 5, 6, 1, 2, 3, 4, 5, 6, 1, 2, 3, 4, 5, 6, 1, 2, 3, 4, 5, 6, 1, 3, 4, 6, 1, 2, 3, 4, 5, 6, 1, 2, 3, 4, 5, 6, 1, 2, 3, 4, 5, 6, 1, 2, 3, 1, 2, 3, 4, 5, 6, 1, 2, 1, 1, 2, 3, 4, 5, 6, 1, 2, 3, 4, 5, 6, 1, 2, 3, 4, 1, 2, 3, 4, 5, 6, 1, 2, 3, 4, 5, 6, 1, 2, 3, 4, 5, 6, 1, 2, 3, 4, 5, 6, 1, 2, 3, 4, 5, 6, 6, 1, 2, 3, 6, 1, 2, 3, 4, 5, 6, 1, 1, 2, 3, 4, 5, 6, 3, 4, 1, 2, 3, 4, 5, 6, 1, 2, 3, 1, 2, 3, 4, 5, 6, 1, 2, 3, 4, 5, 6, 1, 2, 3, 5, 1, 2, 3, 4, 5, 6, 1, 2, 3, 4, 5, 6, 1, 2, 3, 4, 1, 2, 3, 4, 5, 6, 1, 2, 3, 5, 6, 1, 2, 3, 4, 5, 6, 1, 3, 1, 2, 3, 4, 5, 6, 1, 2, 3, 4, 5, 6, 1, 2, 3, 1, 2, 3, 4, 5, 6, 1, 2, 3, 4, 5, 6, 1, 2, 3, 4, 5, 6, 1, 2, 3, 4, 5, 6, 1, 2, 3, 4, 5, 6, 2, 3, 1, 2, 3, 4, 6, 1, 2, 3, 4, 5, 6, 1, 2, 3, 1, 2, 3, 4, 5, 6, 1, 2, 4, 2, 1, 2, 3, 1, 2, 3, 4, 5, 6, 1, 2, 4, 1, 2, 3, 4, 5, 6, 1, 2, 3, 4, 6, 6, 1, 6, 1, 2, 3, 4, 5, 6, 1, 3, 4, 1, 2, 3, 4, 5, 6, 1, 2, 3, 4, 5, 6, 1, 2, 3, 1, 2, 3, 1, 2, 3, 1, 2, 3, 4, 5, 6, 3, 4, 1, 2, 3, 4, 5, 6, 6, 1, 2, 3, 4, 5, 6, 1, 2, 3, 4, 5, 6], \"Freq\": [0.6720425486564636, 0.32688453793525696, 0.3143879473209381, 0.1387779414653778, 0.09471101313829422, 0.07103326171636581, 0.053932659327983856, 0.3620084822177887, 0.30924341082572937, 0.16029895842075348, 0.07413826882839203, 0.04141056537628174, 0.05343298614025116, 0.5455765724182129, 0.13639414310455322, 0.17049267888069153, 0.08524633944034576, 0.06819707155227661, 0.017049267888069153, 0.39064884185791016, 0.18864032626152039, 0.19804757833480835, 0.10793592780828476, 0.062384989112615585, 0.05198749154806137, 0.435995876789093, 0.18121638894081116, 0.23324881494045258, 0.06638620048761368, 0.04306131973862648, 0.039472877979278564, 0.3931877613067627, 0.23591266572475433, 0.15727511048316956, 0.10863332450389862, 0.04215621575713158, 0.06242362782359123, 0.41876327991485596, 0.41876327991485596, 0.19955456256866455, 0.19955456256866455, 0.19955456256866455, 0.19955456256866455, 0.19955456256866455, 0.533753514289856, 0.17791783809661865, 0.17791783809661865, 0.08895891904830933, 0.13668566942214966, 0.10251424461603165, 0.2221142053604126, 0.32462844252586365, 0.2050284892320633, 0.034171417355537415, 0.21746613085269928, 0.4138871431350708, 0.0911954715847969, 0.2455262690782547, 0.021045109257102013, 0.014030072838068008, 0.34489649534225464, 0.2603369355201721, 0.15846595168113708, 0.10786338150501251, 0.07257474213838577, 0.05592916160821915, 0.16861344873905182, 0.5198914408683777, 0.13348564505577087, 0.09133228659629822, 0.042153362184762955, 0.042153362184762955, 0.593467652797699, 0.19782254099845886, 0.19782254099845886, 0.3882501721382141, 0.3882501721382141, 0.40238824486732483, 0.40238824486732483, 0.1934816539287567, 0.3130885064601898, 0.22866013646125793, 0.11608899384737015, 0.09849975258111954, 0.04924987629055977, 0.2872057855129242, 0.1436028927564621, 0.4308086633682251, 0.6658430695533752, 0.16084732115268707, 0.6787757277488708, 0.09329144656658173, 0.02573557198047638, 0.016084732487797737, 0.02573557198047638, 0.1856411099433899, 0.5569233298301697, 0.12376074492931366, 0.06188037246465683, 0.23164378106594086, 0.21716605126857758, 0.2895547151565552, 0.18097171187400818, 0.0361943393945694, 0.050672076642513275, 0.21627341210842133, 0.21627341210842133, 0.43254682421684265, 0.21627341210842133, 0.16992338001728058, 0.5947318077087402, 0.16992338001728058, 0.2952093780040741, 0.2952093780040741, 0.14760468900203705, 0.2952093780040741, 0.2830382287502289, 0.3116017282009125, 0.1687842607498169, 0.09607719630002975, 0.09348051249980927, 0.04933694005012512, 0.5216838121414185, 0.26078662276268005, 0.24215900897979736, 0.14902092516422272, 0.14902092516422272, 0.1676485389471054, 0.01862761564552784, 0.4042385518550873, 0.25356781482696533, 0.17455755174160004, 0.06063578277826309, 0.05420471727848053, 0.05328598991036415, 0.525375247001648, 0.21823279559612274, 0.12124044448137283, 0.04041348025202751, 0.04041348025202751, 0.056578874588012695, 0.2166503369808197, 0.5777342319488525, 0.14443355798721313, 0.07221677899360657, 0.3760198652744293, 0.23647576570510864, 0.20978444814682007, 0.07866916805505753, 0.05478745326399803, 0.04401727020740509, 0.4031541645526886, 0.28839007019996643, 0.37291818857192993, 0.15698081254959106, 0.09660357236862183, 0.04688114672899246, 0.03835730254650116, 0.39874643087387085, 0.39874643087387085, 0.3343636691570282, 0.27406859397888184, 0.16992253065109253, 0.08222057670354843, 0.1041460633277893, 0.03288822993636131, 0.3303435146808624, 0.2656608521938324, 0.169406920671463, 0.1178148165345192, 0.05852239206433296, 0.05852239206433296, 0.4096068739891052, 0.21335239708423615, 0.17246605455875397, 0.0936669111251831, 0.05649749934673309, 0.05501072481274605, 0.577791154384613, 0.40217167139053345, 0.212361678481102, 0.17806431651115417, 0.09114637970924377, 0.048392150551080704, 0.067655049264431, 0.4343133270740509, 0.231193408370018, 0.15192709863185883, 0.08422045409679413, 0.04458729922771454, 0.054495591670274734, 0.35505810379981995, 0.2011013776063919, 0.2106776237487793, 0.09576255828142166, 0.06261397898197174, 0.07587341219186783, 0.22753235697746277, 0.4288109838962555, 0.14001990854740143, 0.08313681930303574, 0.0656343325972557, 0.052507467567920685, 0.2729380428791046, 0.23044469952583313, 0.2860129177570343, 0.08498669415712357, 0.06700874119997025, 0.05720258504152298, 0.31703633069992065, 0.21135754883289337, 0.10567877441644669, 0.10567877441644669, 0.10567877441644669, 0.10567877441644669, 0.15165533125400543, 0.1378684937953949, 0.2757369875907898, 0.22058957815170288, 0.1792290359735489, 0.04136054590344429, 0.31204015016555786, 0.24459397792816162, 0.15033183991909027, 0.12595370411872864, 0.07801003754138947, 0.08938650041818619, 0.386503130197525, 0.386503130197525, 0.4977084696292877, 0.15147648751735687, 0.17197707295417786, 0.08997475355863571, 0.03986223414540291, 0.048973601311445236, 0.13789735734462738, 0.13789735734462738, 0.13789735734462738, 0.27579471468925476, 0.27579471468925476, 0.1439148187637329, 0.1439148187637329, 0.527687668800354, 0.04797160625457764, 0.04797160625457764, 0.04797160625457764, 0.2697402834892273, 0.246945321559906, 0.2570764124393463, 0.1152411475777626, 0.053188223391771317, 0.05698738247156143, 0.3853338360786438, 0.18360251188278198, 0.12240167707204819, 0.14688201248645782, 0.3182443678379059, 0.20808285474777222, 0.024480335414409637, 0.39349809288978577, 0.39349809288978577, 0.15178731083869934, 0.15178731083869934, 0.5059577226638794, 0.10119154304265976, 0.05059577152132988, 0.05059577152132988, 0.691734254360199, 0.1383468508720398, 0.1383468508720398, 0.1383468508720398, 0.10954426229000092, 0.1917024701833725, 0.6024934649467468, 0.02738606557250023, 0.05477213114500046, 0.5623217821121216, 0.1405804455280304, 0.1405804455280304, 0.6347683072090149, 0.11541242152452469, 0.11541242152452469, 0.057706210762262344, 0.057706210762262344, 0.057706210762262344, 0.5357262492179871, 0.14610716700553894, 0.1704583615064621, 0.0553436204791069, 0.048702389001846313, 0.042061153799295425, 0.6398098468780518, 0.5209265351295471, 0.2845091223716736, 0.2845091223716736, 0.2845091223716736, 0.2845091223716736, 0.5472663044929504, 0.12876854836940765, 0.1655595600605011, 0.05518651753664017, 0.08737865090370178, 0.018395505845546722, 0.12328879535198212, 0.36986637115478516, 0.49315518140792847, 0.2974178194999695, 0.26731112599372864, 0.22260721027851105, 0.07481061667203903, 0.07207364588975906, 0.06568737328052521, 0.3435729146003723, 0.3014039993286133, 0.18734057247638702, 0.07535099983215332, 0.04769925773143768, 0.04424279183149338, 0.36161381006240845, 0.25978776812553406, 0.2192239612340927, 0.07862841337919235, 0.04556218534708023, 0.035245008766651154, 0.5584940910339355, 0.1181429773569107, 0.1396235227584839, 0.06444162875413895, 0.06444162875413895, 0.042961083352565765, 0.21010679006576538, 0.5182633996009827, 0.08404272049665451, 0.12606407701969147, 0.02801423892378807, 0.02801423892378807, 0.3070438504219055, 0.2046958953142166, 0.34874117374420166, 0.05685997009277344, 0.037906646728515625, 0.04169731214642525, 0.21890515089035034, 0.5837470293045044, 0.1459367573261261, 0.07296837866306305, 0.07296837866306305, 0.23731382191181183, 0.23731382191181183, 0.11865691095590591, 0.11865691095590591, 0.11865691095590591, 0.17798537015914917, 0.27904653549194336, 0.1969740241765976, 0.2462175339460373, 0.08207251131534576, 0.06565801054239273, 0.1477305144071579, 0.2405531108379364, 0.2646084129810333, 0.1202765554189682, 0.2405531108379364, 0.07216592878103256, 0.04811062291264534, 0.10419876873493195, 0.6251926422119141, 0.10419876873493195, 0.6694416999816895, 0.2186092734336853, 0.10493244975805283, 0.4721960425376892, 0.06995496898889542, 0.06995496898889542, 0.061210595071315765, 0.40469497442245483, 0.40469497442245483, 0.25856101512908936, 0.09696038067340851, 0.4201616644859314, 0.03232012689113617, 0.06464025378227234, 0.09696038067340851, 0.2808201313018799, 0.30905070900917053, 0.1560111790895462, 0.1366955041885376, 0.0609186515212059, 0.056461188942193985, 0.2958349883556366, 0.2958349883556366, 0.2958349883556366, 0.2958349883556366, 0.2958349883556366, 0.15726539492607117, 0.40341994166374207, 0.2547015845775604, 0.10085498541593552, 0.015384659171104431, 0.0666668564081192, 0.3496151864528656, 0.3496151864528656, 0.5456480979919434, 0.09094135463237762, 0.09094135463237762, 0.09094135463237762, 0.09094135463237762, 0.34271422028541565, 0.057119037955999374, 0.314154714345932, 0.08567855507135391, 0.17135711014270782, 0.057119037955999374, 0.2262120544910431, 0.1591862589120865, 0.38539832830429077, 0.09216047078371048, 0.10891691595315933, 0.0335128977894783, 0.5697523355484009, 0.08546285331249237, 0.1139504685997963, 0.17092570662498474, 0.028487617149949074, 0.028487617149949074, 0.38988998532295227, 0.23372437059879303, 0.16245415806770325, 0.08803967386484146, 0.07231830060482025, 0.05345265939831734, 0.2750253975391388, 0.19040219485759735, 0.21155798435211182, 0.12693479657173157, 0.06346739828586578, 0.12693479657173157, 0.21309442818164825, 0.21309442818164825, 0.21309442818164825, 0.319641649723053, 0.20819732546806335, 0.09463515132665634, 0.5299568176269531, 0.09463515132665634, 0.03785406053066254, 0.03785406053066254, 0.19287773966789246, 0.5917096734046936, 0.14057192206382751, 0.02615291438996792, 0.016345571726560593, 0.029422027990221977, 0.14173391461372375, 0.6276787519454956, 0.14173391461372375, 0.04049540311098099, 0.020247701555490494, 0.04049540311098099, 0.1910874992609024, 0.5732624530792236, 0.1910874992609024, 0.5727149844169617, 0.19090498983860016, 0.10908856987953186, 0.05454428493976593, 0.05454428493976593, 0.05454428493976593, 0.38436880707740784, 0.38436880707740784, 0.6663762331008911, 0.3267335593700409, 0.3068275451660156, 0.17366300523281097, 0.09609811007976532, 0.04942188411951065, 0.04667622596025467, 0.3168262243270874, 0.2698519825935364, 0.18190021812915802, 0.11993421614170074, 0.04697423428297043, 0.06396491080522537, 0.22343558073043823, 0.22343558073043823, 0.22343558073043823, 0.22343558073043823, 0.3166864514350891, 0.32907694578170776, 0.19824790954589844, 0.05757935345172882, 0.0415445975959301, 0.056850504130125046, 0.5147979855537415, 0.2734864354133606, 0.08043718338012695, 0.04021859169006348, 0.03217487409710884, 0.056306030601263046, 0.2954757809638977, 0.38109293580055237, 0.16286572813987732, 0.07242053002119064, 0.04473979398608208, 0.04313044995069504, 0.2527790069580078, 0.2924486994743347, 0.20572888851165771, 0.0968678668141365, 0.0839521512389183, 0.0691913291811943, 0.28398364782333374, 0.17748978734016418, 0.21693195402622223, 0.16960135102272034, 0.07494013011455536, 0.07494013011455536, 0.4390251338481903, 0.4750046133995056, 0.1583348661661148, 0.1583348661661148, 0.1583348661661148, 0.31032660603523254, 0.27025696635246277, 0.1628362089395523, 0.1364073008298874, 0.06308837234973907, 0.056268010288476944, 0.6731345653533936, 0.33871990442276, 0.2682073414325714, 0.2111051231622696, 0.09214219450950623, 0.04845035448670387, 0.0410962849855423, 0.4059651494026184, 0.4059651494026184, 0.37319138646125793, 0.2910710275173187, 0.12956766784191132, 0.07664566487073898, 0.05839669704437256, 0.07208342105150223, 0.5926347374916077, 0.1975449174642563, 0.1975449174642563, 0.2685829699039459, 0.2869550883769989, 0.22746439278125763, 0.10585843026638031, 0.06299014389514923, 0.04811746999621391, 0.3189275860786438, 0.18166762590408325, 0.16955643892288208, 0.18166762590408325, 0.10900057107210159, 0.044407639652490616, 0.6315490007400513, 0.18044257164001465, 0.09022128582000732, 0.09022128582000732, 0.3051796853542328, 0.23337270319461823, 0.0897587314248085, 0.23337270319461823, 0.07180698215961456, 0.05385524034500122, 0.3091258406639099, 0.3910910189151764, 0.14285361766815186, 0.07025587558746338, 0.04215352609753609, 0.04215352609753609, 0.129324272274971, 0.3879728317260742, 0.129324272274971, 0.258648544549942, 0.297372967004776, 0.24330514669418335, 0.09461867064237595, 0.2568221092224121, 0.03379238396883011, 0.06758476793766022, 0.41794824600219727, 0.11941377818584442, 0.17912067472934723, 0.05970688909292221, 0.17912067472934723, 0.28117600083351135, 0.3863402307033539, 0.14390897750854492, 0.09409432858228683, 0.045386675745248795, 0.04870765283703804, 0.5960454940795898, 0.1986818164587021, 0.3418844938278198, 0.2956961393356323, 0.18362140655517578, 0.08399944007396698, 0.040754444897174835, 0.05433925986289978, 0.38635796308517456, 0.2651635706424713, 0.1602368801832199, 0.08947236835956573, 0.04554957151412964, 0.05368342250585556, 0.26854005455970764, 0.26854005455970764, 0.5370801091194153, 0.23476408421993256, 0.19769607484340668, 0.24712008237838745, 0.04942401871085167, 0.07413602620363235, 0.19769607484340668, 0.5011730194091797, 0.1552930474281311, 0.1799987554550171, 0.07764652371406555, 0.03529387339949608, 0.05294080823659897, 0.34466707706451416, 0.2545698881149292, 0.20014876127243042, 0.08263947069644928, 0.05603359267115593, 0.06187882274389267, 0.3623390793800354, 0.2508501410484314, 0.1114889532327652, 0.0557444766163826, 0.1811695396900177, 0.0418083555996418, 0.33689579367637634, 0.25267183780670166, 0.16844789683818817, 0.08422394841909409, 0.16844789683818817, 0.08422394841909409, 0.3380454480648041, 0.6760908961296082, 0.16533438861370087, 0.6062260866165161, 0.11022292077541351, 0.05511146038770676, 0.05511146038770676, 0.34763097763061523, 0.1629520207643509, 0.2064058929681778, 0.08690774440765381, 0.06518080830574036, 0.15208855271339417, 0.1926787942647934, 0.578036367893219, 0.1926787942647934, 0.23261234164237976, 0.21471908688545227, 0.3847050368785858, 0.0805196538567543, 0.04473314434289932, 0.04473314434289932, 0.15525399148464203, 0.6210159659385681, 0.15525399148464203, 0.6921101808547974, 0.13496007025241852, 0.5398402810096741, 0.13496007025241852, 0.30521467328071594, 0.293038547039032, 0.20618225634098053, 0.07914476096630096, 0.06088058650493622, 0.05560426786541939, 0.27569952607154846, 0.27569952607154846, 0.27569952607154846, 0.31754639744758606, 0.2825462818145752, 0.19536420702934265, 0.07827296108007431, 0.0674547404050827, 0.05854562669992447, 0.31987395882606506, 0.15993697941303253, 0.15993697941303253, 0.15993697941303253, 0.15993697941303253, 0.44035086035728455, 0.4227540194988251, 0.4227540194988251, 0.26204565167427063, 0.11230527609586716, 0.4117859899997711, 0.13102282583713531, 0.05615263804793358, 0.03743509203195572, 0.20757898688316345, 0.4151579737663269, 0.20757898688316345, 0.40995916724205017, 0.23080377280712128, 0.1920674741268158, 0.07020954042673111, 0.0415608212351799, 0.055683430284261703, 0.25676843523979187, 0.25676843523979187, 0.17117895185947418, 0.08558947592973709, 0.17117895185947418, 0.08558947592973709, 0.17260369658470154, 0.17260369658470154, 0.5178110599517822, 0.34675103425979614, 0.34675103425979614, 0.34675103425979614, 0.5918101072311401, 0.19727005064487457, 0.19727005064487457, 0.31525251269340515, 0.287354052066803, 0.26038554310798645, 0.0567268505692482, 0.04091772809624672, 0.03905783221125603, 0.4063248038291931, 0.4063248038291931, 0.1851155310869217, 0.2545338571071625, 0.23139441013336182, 0.06941832602024078, 0.11569720506668091, 0.11569720506668091, 0.4411836266517639, 0.35858389735221863, 0.3065135180950165, 0.16470485925674438, 0.0594562366604805, 0.05687118321657181, 0.05391683429479599, 0.29836106300354004, 0.24647217988967896, 0.051888879388570786, 0.16863885521888733, 0.0908055379986763, 0.1297222077846527], \"Term\": [\"accelerometer\", \"access\", \"access\", \"access\", \"access\", \"access\", \"access\", \"account\", \"account\", \"account\", \"account\", \"account\", \"account\", \"acura\", \"acura\", \"acura\", \"acura\", \"acura\", \"acura\", \"address\", \"address\", \"address\", \"address\", \"address\", \"address\", \"advertiser\", \"advertiser\", \"advertiser\", \"advertiser\", \"advertiser\", \"advertiser\", \"advertising\", \"advertising\", \"advertising\", \"advertising\", \"advertising\", \"advertising\", \"advises\", \"advises\", \"advocacy\", \"advocacy\", \"advocacy\", \"advocacy\", \"advocacy\", \"affinity\", \"affinity\", \"affinity\", \"affinity\", \"allergy\", \"allergy\", \"allergy\", \"allergy\", \"allergy\", \"allergy\", \"allstate\", \"allstate\", \"allstate\", \"allstate\", \"allstate\", \"allstate\", \"also\", \"also\", \"also\", \"also\", \"also\", \"also\", \"america\", \"america\", \"america\", \"america\", \"america\", \"america\", \"analyse\", \"analyse\", \"analyse\", \"analyzes\", \"analyzes\", \"anaphylaxis\", \"anaphylaxis\", \"apply\", \"apply\", \"apply\", \"apply\", \"apply\", \"apply\", \"austin\", \"austin\", \"austin\", \"autocomplete\", \"barnes\", \"barnes\", \"barnes\", \"barnes\", \"barnes\", \"barnes\", \"barnesandnoble\", \"barnesandnoble\", \"barnesandnoble\", \"barnesandnoble\", \"bing\", \"bing\", \"bing\", \"bing\", \"bing\", \"bing\", \"boardgamegeek\", \"boardgamegeek\", \"boardgamegeek\", \"boardgamegeek\", \"bookseller\", \"bookseller\", \"bookseller\", \"broker\", \"broker\", \"broker\", \"broker\", \"california\", \"california\", \"california\", \"california\", \"california\", \"california\", \"calvin\", \"caribou\", \"caribou\", \"caribou\", \"caribou\", \"caribou\", \"caribou\", \"change\", \"change\", \"change\", \"change\", \"change\", \"change\", \"chase\", \"chase\", \"chase\", \"chase\", \"chase\", \"chase\", \"collaborator\", \"collaborator\", \"collaborator\", \"collaborator\", \"collect\", \"collect\", \"collect\", \"collect\", \"collect\", \"collect\", \"colocation\", \"company\", \"company\", \"company\", \"company\", \"company\", \"company\", \"completion\", \"completion\", \"consumer\", \"consumer\", \"consumer\", \"consumer\", \"consumer\", \"consumer\", \"contact\", \"contact\", \"contact\", \"contact\", \"contact\", \"contact\", \"content\", \"content\", \"content\", \"content\", \"content\", \"content\", \"cookiesscinews\", \"cooky\", \"cooky\", \"cooky\", \"cooky\", \"cooky\", \"cooky\", \"credit\", \"credit\", \"credit\", \"credit\", \"credit\", \"credit\", \"data\", \"data\", \"data\", \"data\", \"data\", \"data\", \"direct\", \"direct\", \"direct\", \"direct\", \"direct\", \"direct\", \"disclose\", \"disclose\", \"disclose\", \"disclose\", \"disclose\", \"disclose\", \"echo\", \"echo\", \"echo\", \"echo\", \"echo\", \"echo\", \"education\", \"education\", \"education\", \"education\", \"education\", \"education\", \"email\", \"email\", \"email\", \"email\", \"email\", \"email\", \"engagement\", \"engagement\", \"example\", \"example\", \"example\", \"example\", \"example\", \"example\", \"fare\", \"fare\", \"fare\", \"fare\", \"fare\", \"farlex\", \"farlex\", \"farlex\", \"farlex\", \"farlex\", \"farlex\", \"feature\", \"feature\", \"feature\", \"feature\", \"feature\", \"feature\", \"flow\", \"food\", \"food\", \"food\", \"food\", \"food\", \"food\", \"foodallergy\", \"foodallergy\", \"frederick\", \"frederick\", \"frederick\", \"frederick\", \"frederick\", \"frederick\", \"gardening\", \"gardening\", \"gardening\", \"gardening\", \"geekdo\", \"geekdo\", \"geekdo\", \"geekdo\", \"geekdo\", \"geotag\", \"geotag\", \"geotag\", \"gmail\", \"gmail\", \"gmail\", \"gmail\", \"gmail\", \"gmail\", \"google\", \"google\", \"google\", \"google\", \"google\", \"google\", \"greensboro\", \"hamilton\", \"hind\", \"hind\", \"hind\", \"hind\", \"honda\", \"honda\", \"honda\", \"honda\", \"honda\", \"honda\", \"houston\", \"houston\", \"houston\", \"identifiable\", \"identifiable\", \"identifiable\", \"identifiable\", \"identifiable\", \"identifiable\", \"including\", \"including\", \"including\", \"including\", \"including\", \"including\", \"information\", \"information\", \"information\", \"information\", \"information\", \"information\", \"instagram\", \"instagram\", \"instagram\", \"instagram\", \"instagram\", \"instagram\", \"insurance\", \"insurance\", \"insurance\", \"insurance\", \"insurance\", \"insurance\", \"interactive\", \"interactive\", \"interactive\", \"interactive\", \"interactive\", \"interactive\", \"issuer\", \"issuer\", \"issuer\", \"issuer\", \"issuer\", \"kindle\", \"kindle\", \"kindle\", \"kindle\", \"kindle\", \"kindle\", \"kinja\", \"kinja\", \"kinja\", \"kinja\", \"kinja\", \"kinja\", \"kraft\", \"kraft\", \"kraft\", \"kraft\", \"kraft\", \"kraft\", \"lark\", \"lark\", \"lark\", \"lbcs\", \"library\", \"library\", \"library\", \"library\", \"library\", \"library\", \"lifethreatening\", \"lifethreatening\", \"liquor\", \"liquor\", \"liquor\", \"liquor\", \"liquor\", \"liquor\", \"marketing\", \"marketing\", \"marketing\", \"marketing\", \"marketing\", \"marketing\", \"matching\", \"matching\", \"matching\", \"matching\", \"matching\", \"medianews\", \"medianews\", \"medianews\", \"medianews\", \"medianews\", \"medianews\", \"member_privacy\", \"member_privacy\", \"metadata\", \"metadata\", \"metadata\", \"metadata\", \"metadata\", \"miami\", \"miami\", \"miami\", \"miami\", \"miami\", \"miami\", \"military\", \"military\", \"military\", \"military\", \"military\", \"military\", \"mohegan\", \"mohegan\", \"mohegan\", \"mohegan\", \"mohegan\", \"mohegan\", \"name\", \"name\", \"name\", \"name\", \"name\", \"name\", \"nara\", \"nara\", \"nara\", \"nara\", \"nara\", \"nara\", \"naturalnews\", \"naturalnews\", \"naturalnews\", \"naturalnews\", \"newspost\", \"newspost\", \"newspost\", \"newspost\", \"newspost\", \"newspost\", \"noble\", \"noble\", \"noble\", \"noble\", \"noble\", \"noble\", \"nook\", \"nook\", \"nook\", \"nook\", \"nook\", \"nook\", \"nookpressnook\", \"nookpressnook\", \"nookpressnook\", \"nytimes\", \"nytimes\", \"nytimes\", \"nytimes\", \"nytimes\", \"nytimes\", \"onepixel\", \"onepixel\", \"onesfor\", \"online\", \"online\", \"online\", \"online\", \"online\", \"online\", \"page\", \"page\", \"page\", \"page\", \"page\", \"page\", \"partial\", \"partial\", \"partial\", \"partial\", \"party\", \"party\", \"party\", \"party\", \"party\", \"party\", \"paymentech\", \"paymentech\", \"paymentech\", \"paymentech\", \"paymentech\", \"paymentech\", \"personal\", \"personal\", \"personal\", \"personal\", \"personal\", \"personal\", \"personally\", \"personally\", \"personally\", \"personally\", \"personally\", \"personally\", \"phone\", \"phone\", \"phone\", \"phone\", \"phone\", \"phone\", \"postmaster\", \"privacyscinews\", \"privacyscinews\", \"privacyscinews\", \"privacyscinews\", \"product\", \"product\", \"product\", \"product\", \"product\", \"product\", \"protectfor\", \"provide\", \"provide\", \"provide\", \"provide\", \"provide\", \"provide\", \"purged\", \"purged\", \"purpose\", \"purpose\", \"purpose\", \"purpose\", \"purpose\", \"purpose\", \"quicker\", \"quicker\", \"quicker\", \"request\", \"request\", \"request\", \"request\", \"request\", \"request\", \"research\", \"research\", \"research\", \"research\", \"research\", \"research\", \"restaurantnews\", \"restaurantnews\", \"restaurantnews\", \"restaurantnews\", \"resume\", \"resume\", \"resume\", \"resume\", \"resume\", \"resume\", \"review\", \"review\", \"review\", \"review\", \"review\", \"review\", \"roanoke\", \"roanoke\", \"roanoke\", \"roanoke\", \"science\", \"science\", \"science\", \"science\", \"science\", \"science\", \"scinews\", \"scinews\", \"scinews\", \"scinews\", \"scinews\", \"security\", \"security\", \"security\", \"security\", \"security\", \"security\", \"sensor\", \"sensor\", \"service\", \"service\", \"service\", \"service\", \"service\", \"service\", \"share\", \"share\", \"share\", \"share\", \"share\", \"share\", \"shtml\", \"shtml\", \"shtml\", \"sidearm\", \"sidearm\", \"sidearm\", \"sidearm\", \"sidearm\", \"sidearm\", \"similar\", \"similar\", \"similar\", \"similar\", \"similar\", \"similar\", \"site\", \"site\", \"site\", \"site\", \"site\", \"site\", \"smithsonian\", \"smithsonian\", \"smithsonian\", \"smithsonian\", \"smithsonian\", \"smithsonian\", \"smithsonians\", \"smithsonians\", \"smithsonians\", \"smithsonians\", \"smithsonians\", \"smithsonians\", \"solar\", \"solar\", \"sparknotes\", \"sparknotes\", \"sparknotes\", \"sparknotes\", \"sparknotes\", \"sport\", \"sport\", \"sport\", \"sport\", \"sport\", \"sport\", \"sterling\", \"sterling\", \"sterling\", \"subscriber\", \"subscriber\", \"subscriber\", \"subscriber\", \"subscriber\", \"subscriber\", \"tanger\", \"tanger\", \"tanger\", \"tangeroutlets\", \"thebook\", \"thebook\", \"thebook\", \"third\", \"third\", \"third\", \"third\", \"third\", \"third\", \"thrilling\", \"thrilling\", \"thrilling\", \"time\", \"time\", \"time\", \"time\", \"time\", \"time\", \"translational\", \"translational\", \"translational\", \"translational\", \"translational\", \"tucson\", \"unsubscribed\", \"unsubscribed\", \"uptodate\", \"uptodate\", \"uptodate\", \"uptodate\", \"uptodate\", \"uptodate\", \"uptodates\", \"uptodates\", \"uptodates\", \"user\", \"user\", \"user\", \"user\", \"user\", \"user\", \"valley\", \"valley\", \"valley\", \"valley\", \"valley\", \"valley\", \"valueclick\", \"valueclick\", \"valueclick\", \"valueclickmedia\", \"valueclickmedia\", \"valueclickmedia\", \"visibility\", \"visibility\", \"visibility\", \"visit\", \"visit\", \"visit\", \"visit\", \"visit\", \"visit\", \"volunteering\", \"volunteering\", \"washingtonian\", \"washingtonian\", \"washingtonian\", \"washingtonian\", \"washingtonian\", \"washingtonian\", \"webseed\", \"website\", \"website\", \"website\", \"website\", \"website\", \"website\", \"zacks\", \"zacks\", \"zacks\", \"zacks\", \"zacks\", \"zacks\"]}, \"R\": 15, \"lambda.step\": 0.01, \"plot.opts\": {\"xlab\": \"PC1\", \"ylab\": \"PC2\"}, \"topic.order\": [3, 1, 4, 5, 2, 6]};\n",
       "\n",
       "function LDAvis_load_lib(url, callback){\n",
       "  var s = document.createElement('script');\n",
       "  s.src = url;\n",
       "  s.async = true;\n",
       "  s.onreadystatechange = s.onload = callback;\n",
       "  s.onerror = function(){console.warn(\"failed to load library \" + url);};\n",
       "  document.getElementsByTagName(\"head\")[0].appendChild(s);\n",
       "}\n",
       "\n",
       "if(typeof(LDAvis) !== \"undefined\"){\n",
       "   // already loaded: just create the visualization\n",
       "   !function(LDAvis){\n",
       "       new LDAvis(\"#\" + \"ldavis_el53241130533011607579544029\", ldavis_el53241130533011607579544029_data);\n",
       "   }(LDAvis);\n",
       "}else if(typeof define === \"function\" && define.amd){\n",
       "   // require.js is available: use it to load d3/LDAvis\n",
       "   require.config({paths: {d3: \"https://cdnjs.cloudflare.com/ajax/libs/d3/3.5.5/d3.min\"}});\n",
       "   require([\"d3\"], function(d3){\n",
       "      window.d3 = d3;\n",
       "      LDAvis_load_lib(\"https://cdn.rawgit.com/bmabey/pyLDAvis/files/ldavis.v1.0.0.js\", function(){\n",
       "        new LDAvis(\"#\" + \"ldavis_el53241130533011607579544029\", ldavis_el53241130533011607579544029_data);\n",
       "      });\n",
       "    });\n",
       "}else{\n",
       "    // require.js not available: dynamically load d3 & LDAvis\n",
       "    LDAvis_load_lib(\"https://cdnjs.cloudflare.com/ajax/libs/d3/3.5.5/d3.min.js\", function(){\n",
       "         LDAvis_load_lib(\"https://cdn.rawgit.com/bmabey/pyLDAvis/files/ldavis.v1.0.0.js\", function(){\n",
       "                 new LDAvis(\"#\" + \"ldavis_el53241130533011607579544029\", ldavis_el53241130533011607579544029_data);\n",
       "            })\n",
       "         });\n",
       "}\n",
       "</script>"
      ],
      "text/plain": [
       "PreparedData(topic_coordinates=              x         y  topics  cluster       Freq\n",
       "topic                                                \n",
       "2     -0.003743  0.003617       1        1  33.256729\n",
       "0     -0.007952 -0.005445       2        1  27.180973\n",
       "3     -0.002603  0.005901       3        1  19.232113\n",
       "4      0.004291 -0.003787       4        1   9.162796\n",
       "1      0.006109  0.001341       5        1   5.735761\n",
       "5      0.003899 -0.001627       6        1   5.431625, topic_info=     Category          Freq            Term         Total  loglift  logprob\n",
       "366   Default  15605.000000     information  15605.000000  15.0000  15.0000\n",
       "679   Default   4961.000000            site   4961.000000  14.0000  14.0000\n",
       "250   Default   2461.000000           email   2461.000000  13.0000  13.0000\n",
       "668   Default   4416.000000         service   4416.000000  12.0000  12.0000\n",
       "744   Default   2463.000000           third   2463.000000  11.0000  11.0000\n",
       "807   Default   2707.000000         website   2707.000000  10.0000  10.0000\n",
       "170   Default   2128.000000           cooky   2128.000000   9.0000   9.0000\n",
       "19    Default   2019.000000         address   2019.000000   8.0000   8.0000\n",
       "507   Default   2744.000000           party   2744.000000   7.0000   7.0000\n",
       "515   Default   3106.000000        personal   3106.000000   6.0000   6.0000\n",
       "778   Default   2478.000000            user   2478.000000   5.0000   5.0000\n",
       "45    Default   1501.000000            also   1501.000000   4.0000   4.0000\n",
       "187   Default   1357.000000            data   1357.000000   3.0000   3.0000\n",
       "3     Default   1520.000000          access   1520.000000   2.0000   2.0000\n",
       "745   Default   1571.000000            time   1571.000000   1.0000   1.0000\n",
       "7515   Topic1      4.918143       gardening      7.228209   0.7159  -9.8643\n",
       "2689   Topic1     10.624146           gmail     17.329157   0.6117  -9.0941\n",
       "7506   Topic1      3.082403         analyse      5.055036   0.6062 -10.3315\n",
       "1048   Topic1      3.067410      visibility      5.069193   0.5986 -10.3364\n",
       "1008   Topic1      3.028182          sensor      5.033173   0.5928 -10.3492\n",
       "984    Topic1      3.043672         quicker      5.062140   0.5922 -10.3441\n",
       "7525   Topic1      1.790905         onesfor      3.001307   0.5846 -10.8745\n",
       "7504   Topic1      1.771318   accelerometer      2.976002   0.5821 -10.8855\n",
       "3947   Topic1      4.219400          geotag      7.113365   0.5786 -10.0175\n",
       "4675   Topic1      6.541561  restaurantnews     11.083858   0.5736  -9.5790\n",
       "7508   Topic1      1.746783    autocomplete      3.003711   0.5588 -10.8994\n",
       "4313   Topic1     20.331852         mohegan     35.102970   0.5548  -8.4450\n",
       "7530   Topic1      1.718377      protectfor      2.971174   0.5533 -10.9158\n",
       "3750   Topic1      6.495924        affinity     11.241144   0.5525  -9.5860\n",
       "7520   Topic1      1.719190            lbcs      2.987564   0.5483 -10.9154\n",
       "...       ...           ...             ...           ...      ...      ...\n",
       "3814   Topic6      0.417225        onepixel      2.601668   1.0827 -10.5193\n",
       "3806   Topic6      0.409294      engagement      2.587301   1.0690 -10.5385\n",
       "4335   Topic6      0.989136  privacyscinews      6.315728   1.0590  -9.6561\n",
       "6950   Topic6      0.264893  cookiesscinews      1.730729   1.0360 -10.9736\n",
       "3810   Topic6      0.534677            hind      3.514826   1.0298 -10.2713\n",
       "2976   Topic6     13.590807           sport     92.051636   1.0000  -7.0358\n",
       "4579   Topic6      8.877131           kinja     60.921738   0.9868  -7.4617\n",
       "7003   Topic6      1.393562            echo      9.462638   0.9974  -9.3133\n",
       "3707   Topic6      6.265298            nara     47.268364   0.8921  -7.8102\n",
       "1943   Topic6      9.551645           zacks     77.087807   0.8247  -7.3885\n",
       "250    Topic6    220.263779           email   2461.221680   0.4993  -4.2504\n",
       "3354   Topic6      5.392355   washingtonian     43.216255   0.8317  -7.9602\n",
       "187    Topic6    102.905510            data   1357.524292   0.3333  -5.0114\n",
       "679    Topic6    307.479431            site   4961.309570   0.1319  -3.9168\n",
       "170    Topic6    144.486877           cooky   2128.444336   0.2230  -4.6720\n",
       "668    Topic6    239.784958         service   4416.696289  -0.0005  -4.1654\n",
       "571    Topic6     78.570740         purpose   1095.952393   0.2776  -5.2812\n",
       "507    Topic6    156.444550           party   2744.039062   0.0484  -4.5925\n",
       "969    Topic6     74.641647      personally   1083.950806   0.2373  -5.3325\n",
       "366    Topic6    549.501099     information  15605.045898  -0.4334  -3.3362\n",
       "778    Topic6    137.854095            user   2478.295654   0.0238  -4.7190\n",
       "744    Topic6    136.634384           third   2463.839600   0.0208  -4.7279\n",
       "807    Topic6    146.332657         website   2707.874023  -0.0051  -4.6593\n",
       "927    Topic6     72.324600    identifiable   1096.101074   0.1946  -5.3640\n",
       "745    Topic6     92.229645            time   1571.423950   0.0775  -5.1209\n",
       "19     Topic6    104.698555         address   2019.716675  -0.0467  -4.9941\n",
       "515    Topic6    133.975388        personal   3106.853760  -0.2308  -4.7475\n",
       "45     Topic6     84.284363            also   1501.899902   0.0326  -5.2110\n",
       "127    Topic6     94.088615         collect   2135.525391  -0.2093  -5.1009\n",
       "563    Topic6     95.186066         provide   2311.644531  -0.2769  -5.0894\n",
       "\n",
       "[259 rows x 6 columns], token_table=      Topic      Freq           Term\n",
       "term                                \n",
       "7504      1  0.672043  accelerometer\n",
       "3         1  0.326885         access\n",
       "3         2  0.314388         access\n",
       "3         3  0.138778         access\n",
       "3         4  0.094711         access\n",
       "3         5  0.071033         access\n",
       "3         6  0.053933         access\n",
       "6         1  0.362008        account\n",
       "6         2  0.309243        account\n",
       "6         3  0.160299        account\n",
       "6         4  0.074138        account\n",
       "6         5  0.041411        account\n",
       "6         6  0.053433        account\n",
       "3226      1  0.545577          acura\n",
       "3226      2  0.136394          acura\n",
       "3226      3  0.170493          acura\n",
       "3226      4  0.085246          acura\n",
       "3226      5  0.068197          acura\n",
       "3226      6  0.017049          acura\n",
       "19        1  0.390649        address\n",
       "19        2  0.188640        address\n",
       "19        3  0.198048        address\n",
       "19        4  0.107936        address\n",
       "19        5  0.062385        address\n",
       "19        6  0.051987        address\n",
       "29        1  0.435996     advertiser\n",
       "29        2  0.181216     advertiser\n",
       "29        3  0.233249     advertiser\n",
       "29        4  0.066386     advertiser\n",
       "29        5  0.043061     advertiser\n",
       "...     ...       ...            ...\n",
       "1048      1  0.591810     visibility\n",
       "1048      2  0.197270     visibility\n",
       "1048      3  0.197270     visibility\n",
       "799       1  0.315253          visit\n",
       "799       2  0.287354          visit\n",
       "799       3  0.260386          visit\n",
       "799       4  0.056727          visit\n",
       "799       5  0.040918          visit\n",
       "799       6  0.039058          visit\n",
       "4166      3  0.406325   volunteering\n",
       "4166      4  0.406325   volunteering\n",
       "3354      1  0.185116  washingtonian\n",
       "3354      2  0.254534  washingtonian\n",
       "3354      3  0.231394  washingtonian\n",
       "3354      4  0.069418  washingtonian\n",
       "3354      5  0.115697  washingtonian\n",
       "3354      6  0.115697  washingtonian\n",
       "3091      6  0.441184        webseed\n",
       "807       1  0.358584        website\n",
       "807       2  0.306514        website\n",
       "807       3  0.164705        website\n",
       "807       4  0.059456        website\n",
       "807       5  0.056871        website\n",
       "807       6  0.053917        website\n",
       "1943      1  0.298361          zacks\n",
       "1943      2  0.246472          zacks\n",
       "1943      3  0.051889          zacks\n",
       "1943      4  0.168639          zacks\n",
       "1943      5  0.090806          zacks\n",
       "1943      6  0.129722          zacks\n",
       "\n",
       "[751 rows x 3 columns], R=15, lambda_step=0.01, plot_opts={'xlab': 'PC1', 'ylab': 'PC2'}, topic_order=[3, 1, 4, 5, 2, 6])"
      ]
     },
     "execution_count": 121,
     "metadata": {},
     "output_type": "execute_result"
    }
   ],
   "source": [
    "# Visualize the topics\n",
    "pyLDAvis.enable_notebook()\n",
    "vis = pyLDAvis.gensim.prepare(optimal_model, corpus, id2word, R = 20, sort_topics = True)\n",
    "vis"
   ]
  },
  {
   "cell_type": "code",
   "execution_count": 15,
   "metadata": {
    "ExecuteTime": {
     "end_time": "2019-02-11T17:25:12.488184Z",
     "start_time": "2019-02-11T17:25:12.481131Z"
    }
   },
   "outputs": [],
   "source": [
    "# Save visualization\n",
    "pyLDAvis.save_html(vis, 'pp_pylda_vis.html')"
   ]
  },
  {
   "cell_type": "code",
   "execution_count": 17,
   "metadata": {
    "ExecuteTime": {
     "end_time": "2019-02-11T17:52:16.733643Z",
     "start_time": "2019-02-11T17:49:56.200977Z"
    }
   },
   "outputs": [
    {
     "data": {
      "text/html": [
       "\n",
       "<link rel=\"stylesheet\" type=\"text/css\" href=\"https://cdn.rawgit.com/bmabey/pyLDAvis/files/ldavis.v1.0.0.css\">\n",
       "\n",
       "\n",
       "<div id=\"ldavis_el53241121543179524049341374\"></div>\n",
       "<script type=\"text/javascript\">\n",
       "\n",
       "var ldavis_el53241121543179524049341374_data = {\"mdsDat\": {\"x\": [15.046136856079102, 9.724441528320312, 1.9056649208068848, 1.6797808408737183, 7.714116096496582, 10.26492691040039], \"y\": [7.186164379119873, 13.850855827331543, 2.359921932220459, 11.019170761108398, 6.943251609802246, 0.010398253798484802], \"topics\": [1, 2, 3, 4, 5, 6], \"cluster\": [1, 1, 1, 1, 1, 1], \"Freq\": [33.27448272705078, 27.102100372314453, 19.21454620361328, 9.17273998260498, 5.8011698722839355, 5.434950828552246]}, \"tinfo\": {\"Category\": [\"Default\", \"Default\", \"Default\", \"Default\", \"Default\", \"Default\", \"Default\", \"Default\", \"Default\", \"Default\", \"Default\", \"Default\", \"Default\", \"Default\", \"Default\", \"Default\", \"Default\", \"Default\", \"Default\", \"Default\", \"Default\", \"Default\", \"Default\", \"Default\", \"Default\", \"Default\", \"Default\", \"Default\", \"Default\", \"Default\", \"Topic1\", \"Topic1\", \"Topic1\", \"Topic1\", \"Topic1\", \"Topic1\", \"Topic1\", \"Topic1\", \"Topic1\", \"Topic1\", \"Topic1\", \"Topic1\", \"Topic1\", \"Topic1\", \"Topic1\", \"Topic1\", \"Topic1\", \"Topic1\", \"Topic1\", \"Topic1\", \"Topic1\", \"Topic1\", \"Topic1\", \"Topic1\", \"Topic1\", \"Topic1\", \"Topic1\", \"Topic1\", \"Topic1\", \"Topic1\", \"Topic1\", \"Topic1\", \"Topic1\", \"Topic1\", \"Topic1\", \"Topic1\", \"Topic1\", \"Topic1\", \"Topic1\", \"Topic1\", \"Topic1\", \"Topic1\", \"Topic1\", \"Topic1\", \"Topic1\", \"Topic1\", \"Topic1\", \"Topic1\", \"Topic1\", \"Topic1\", \"Topic1\", \"Topic1\", \"Topic1\", \"Topic1\", \"Topic1\", \"Topic1\", \"Topic1\", \"Topic1\", \"Topic1\", \"Topic1\", \"Topic1\", \"Topic1\", \"Topic1\", \"Topic1\", \"Topic1\", \"Topic1\", \"Topic1\", \"Topic1\", \"Topic1\", \"Topic1\", \"Topic1\", \"Topic1\", \"Topic1\", \"Topic1\", \"Topic1\", \"Topic1\", \"Topic1\", \"Topic1\", \"Topic1\", \"Topic2\", \"Topic2\", \"Topic2\", \"Topic2\", \"Topic2\", \"Topic2\", \"Topic2\", \"Topic2\", \"Topic2\", \"Topic2\", \"Topic2\", \"Topic2\", \"Topic2\", \"Topic2\", \"Topic2\", \"Topic2\", \"Topic2\", \"Topic2\", \"Topic2\", \"Topic2\", \"Topic2\", \"Topic2\", \"Topic2\", \"Topic2\", \"Topic2\", \"Topic2\", \"Topic2\", \"Topic2\", \"Topic2\", \"Topic2\", \"Topic2\", \"Topic2\", \"Topic2\", \"Topic2\", \"Topic2\", \"Topic2\", \"Topic2\", \"Topic2\", \"Topic2\", \"Topic2\", \"Topic2\", \"Topic2\", \"Topic2\", \"Topic2\", \"Topic2\", \"Topic2\", \"Topic2\", \"Topic2\", \"Topic2\", \"Topic2\", \"Topic2\", \"Topic2\", \"Topic2\", \"Topic2\", \"Topic2\", \"Topic2\", \"Topic2\", \"Topic2\", \"Topic2\", \"Topic2\", \"Topic2\", \"Topic2\", \"Topic2\", \"Topic2\", \"Topic2\", \"Topic2\", \"Topic2\", \"Topic2\", \"Topic2\", \"Topic2\", \"Topic2\", \"Topic2\", \"Topic2\", \"Topic2\", \"Topic2\", \"Topic2\", \"Topic3\", \"Topic3\", \"Topic3\", \"Topic3\", \"Topic3\", \"Topic3\", \"Topic3\", \"Topic3\", \"Topic3\", \"Topic3\", \"Topic3\", \"Topic3\", \"Topic3\", \"Topic3\", \"Topic3\", \"Topic3\", \"Topic3\", \"Topic3\", \"Topic3\", \"Topic3\", \"Topic3\", \"Topic3\", \"Topic3\", \"Topic3\", \"Topic3\", \"Topic3\", \"Topic3\", \"Topic3\", \"Topic3\", \"Topic3\", \"Topic3\", \"Topic3\", \"Topic3\", \"Topic3\", \"Topic3\", \"Topic3\", \"Topic3\", \"Topic3\", \"Topic3\", \"Topic3\", \"Topic3\", \"Topic3\", \"Topic3\", \"Topic3\", \"Topic3\", \"Topic3\", \"Topic3\", \"Topic3\", \"Topic3\", \"Topic3\", \"Topic3\", \"Topic3\", \"Topic3\", \"Topic3\", \"Topic3\", \"Topic3\", \"Topic3\", \"Topic3\", \"Topic3\", \"Topic3\", \"Topic3\", \"Topic3\", \"Topic3\", \"Topic3\", \"Topic3\", \"Topic3\", \"Topic3\", \"Topic3\", \"Topic3\", \"Topic3\", \"Topic3\", \"Topic3\", \"Topic3\", \"Topic3\", \"Topic3\", \"Topic3\", \"Topic3\", \"Topic3\", \"Topic3\", \"Topic3\", \"Topic3\", \"Topic4\", \"Topic4\", \"Topic4\", \"Topic4\", \"Topic4\", \"Topic4\", \"Topic4\", \"Topic4\", \"Topic4\", \"Topic4\", \"Topic4\", \"Topic4\", \"Topic4\", \"Topic4\", \"Topic4\", \"Topic4\", \"Topic4\", \"Topic4\", \"Topic4\", \"Topic4\", \"Topic4\", \"Topic4\", \"Topic4\", \"Topic4\", \"Topic4\", \"Topic4\", \"Topic4\", \"Topic4\", \"Topic4\", \"Topic4\", \"Topic4\", \"Topic4\", \"Topic4\", \"Topic4\", \"Topic4\", \"Topic4\", \"Topic4\", \"Topic4\", \"Topic4\", \"Topic4\", \"Topic4\", \"Topic4\", \"Topic4\", \"Topic4\", \"Topic4\", \"Topic4\", \"Topic4\", \"Topic4\", \"Topic4\", \"Topic4\", \"Topic4\", \"Topic4\", \"Topic4\", \"Topic4\", \"Topic4\", \"Topic4\", \"Topic4\", \"Topic4\", \"Topic4\", \"Topic4\", \"Topic4\", \"Topic4\", \"Topic4\", \"Topic4\", \"Topic4\", \"Topic4\", \"Topic4\", \"Topic4\", \"Topic4\", \"Topic4\", \"Topic4\", \"Topic4\", \"Topic4\", \"Topic4\", \"Topic4\", \"Topic4\", \"Topic4\", \"Topic4\", \"Topic4\", \"Topic4\", \"Topic4\", \"Topic4\", \"Topic4\", \"Topic4\", \"Topic4\", \"Topic4\", \"Topic5\", \"Topic5\", \"Topic5\", \"Topic5\", \"Topic5\", \"Topic5\", \"Topic5\", \"Topic5\", \"Topic5\", \"Topic5\", \"Topic5\", \"Topic5\", \"Topic5\", \"Topic5\", \"Topic5\", \"Topic5\", \"Topic5\", \"Topic5\", \"Topic5\", \"Topic5\", \"Topic5\", \"Topic5\", \"Topic5\", \"Topic5\", \"Topic5\", \"Topic5\", \"Topic5\", \"Topic5\", \"Topic5\", \"Topic5\", \"Topic5\", \"Topic5\", \"Topic5\", \"Topic5\", \"Topic5\", \"Topic5\", \"Topic5\", \"Topic5\", \"Topic5\", \"Topic5\", \"Topic5\", \"Topic5\", \"Topic5\", \"Topic5\", \"Topic5\", \"Topic5\", \"Topic5\", \"Topic5\", \"Topic5\", \"Topic5\", \"Topic5\", \"Topic5\", \"Topic5\", \"Topic5\", \"Topic5\", \"Topic5\", \"Topic5\", \"Topic5\", \"Topic5\", \"Topic5\", \"Topic5\", \"Topic5\", \"Topic5\", \"Topic5\", \"Topic5\", \"Topic5\", \"Topic5\", \"Topic5\", \"Topic5\", \"Topic5\", \"Topic5\", \"Topic5\", \"Topic5\", \"Topic5\", \"Topic5\", \"Topic5\", \"Topic5\", \"Topic6\", \"Topic6\", \"Topic6\", \"Topic6\", \"Topic6\", \"Topic6\", \"Topic6\", \"Topic6\", \"Topic6\", \"Topic6\", \"Topic6\", \"Topic6\", \"Topic6\", \"Topic6\", \"Topic6\", \"Topic6\", \"Topic6\", \"Topic6\", \"Topic6\", \"Topic6\", \"Topic6\", \"Topic6\", \"Topic6\", \"Topic6\", \"Topic6\", \"Topic6\", \"Topic6\", \"Topic6\", \"Topic6\", \"Topic6\", \"Topic6\", \"Topic6\", \"Topic6\", \"Topic6\", \"Topic6\", \"Topic6\", \"Topic6\", \"Topic6\", \"Topic6\", \"Topic6\", \"Topic6\", \"Topic6\", \"Topic6\", \"Topic6\", \"Topic6\", \"Topic6\", \"Topic6\", \"Topic6\", \"Topic6\", \"Topic6\", \"Topic6\", \"Topic6\", \"Topic6\", \"Topic6\", \"Topic6\", \"Topic6\", \"Topic6\", \"Topic6\", \"Topic6\", \"Topic6\", \"Topic6\", \"Topic6\", \"Topic6\", \"Topic6\", \"Topic6\", \"Topic6\", \"Topic6\", \"Topic6\", \"Topic6\", \"Topic6\", \"Topic6\", \"Topic6\", \"Topic6\", \"Topic6\", \"Topic6\", \"Topic6\", \"Topic6\"], \"Freq\": [15602.0, 4961.0, 2462.0, 4415.0, 2463.0, 2707.0, 2128.0, 2020.0, 2742.0, 3105.0, 2478.0, 1502.0, 1357.0, 1520.0, 1571.0, 2311.0, 2135.0, 1084.0, 1173.0, 1298.0, 1096.0, 1345.0, 1095.0, 1233.0, 1142.0, 1456.0, 1000.0, 932.0, 954.0, 1496.0, 4.9207682609558105, 10.629817008972168, 3.0840487480163574, 3.069047451019287, 3.0297980308532715, 3.045297145843506, 1.7918612957000732, 1.7722631692886353, 4.221652030944824, 6.545052528381348, 1.7477151155471802, 20.34270477294922, 1.7192939519882202, 6.499391555786133, 1.7201073169708252, 1.7129286527633667, 6.290817737579346, 5.783153533935547, 1.7056249380111694, 4.015861988067627, 1.6892157793045044, 1.6817108392715454, 1.6869816780090332, 52.4067268371582, 1.6575634479522705, 2.137239933013916, 20.53972625732422, 1.6447384357452393, 1.6521341800689697, 3.2917978763580322, 118.80106353759766, 242.13815307617188, 31.549983978271484, 11.195652961730957, 64.82939910888672, 437.06298828125, 64.22360229492188, 142.15249633789062, 10.013786315917969, 20.56711196899414, 61.89402770996094, 33.649436950683594, 1016.2227172851562, 5646.12451171875, 263.2083435058594, 243.42991638183594, 856.3153686523438, 550.83349609375, 298.1086730957031, 789.7818603515625, 440.1014404296875, 352.2415771484375, 484.9409484863281, 803.3719482421875, 1710.8948974609375, 475.2378234863281, 971.7156982421875, 1511.0350341796875, 372.4705810546875, 541.8028564453125, 286.7857666015625, 409.0733337402344, 783.8336181640625, 301.3468933105469, 378.061279296875, 482.02752685546875, 869.8715209960938, 517.8040161132812, 768.4205932617188, 918.9808349609375, 497.3636779785156, 752.0150756835938, 385.9996337890625, 497.5357360839844, 476.230712890625, 499.0840759277344, 397.52508544921875, 429.600830078125, 405.72711181640625, 3.1964681148529053, 4.486072540283203, 210.4441375732422, 2.0522830486297607, 6.072752475738525, 30.5291805267334, 7.014976978302002, 180.74887084960938, 10.64539909362793, 4.32919454574585, 3.0400807857513428, 9.289337158203125, 7.803354263305664, 2.9186885356903076, 7.595300197601318, 1.6752679347991943, 6.39229154586792, 6.268336772918701, 4.554357051849365, 2.799652338027954, 2.745846748352051, 74.07293701171875, 2.6916348934173584, 2.666942596435547, 12.835945129394531, 1.5589925050735474, 36.55268478393555, 1.0069801807403564, 20.437177658081055, 2.5971598625183105, 4.03697395324707, 30.914981842041016, 8.489814758300781, 10.372260093688965, 1180.7750244140625, 97.7518081665039, 235.29896545410156, 348.12060546875, 523.126953125, 166.8743896484375, 18.231639862060547, 899.9100952148438, 206.88768005371094, 118.98052215576172, 4042.414306640625, 1301.8299560546875, 827.2034301757812, 274.4883728027344, 477.03948974609375, 720.2012329101562, 280.5443115234375, 461.53973388671875, 353.85443115234375, 446.0738525390625, 1259.4102783203125, 434.8828125, 244.67515563964844, 263.00677490234375, 618.5035400390625, 212.22332763671875, 442.9731750488281, 600.3363647460938, 316.2979431152344, 317.57861328125, 327.0554504394531, 570.0442504882812, 503.1985168457031, 389.60565185546875, 308.3626708984375, 343.883056640625, 450.7929992675781, 324.6990966796875, 315.7998046875, 379.75872802734375, 292.1209411621094, 292.4808044433594, 22.390045166015625, 1.6983689069747925, 11.094160079956055, 27.49187469482422, 2.4190762042999268, 9.728165626525879, 3.3630433082580566, 0.9224305748939514, 2.753404378890991, 54.11423110961914, 0.9060477018356323, 1.329785704612732, 1.3024406433105469, 1.6922193765640259, 2.084580659866333, 2.1266353130340576, 1.6557494401931763, 1.309435486793518, 3.534874200820923, 1.2566094398498535, 1.1954070329666138, 0.8252500295639038, 1.2408881187438965, 1.2133324146270752, 1.1671204566955566, 1.166771650314331, 2.750460147857666, 22.289583206176758, 1.5062553882598877, 1.1861932277679443, 12.753291130065918, 46.42351150512695, 43.17219543457031, 92.03800201416016, 2.5664923191070557, 6.136331558227539, 174.93743896484375, 16.87226676940918, 3417.925048828125, 280.01263427734375, 17.8748722076416, 113.4598388671875, 203.1773223876953, 148.92547607421875, 992.0646362304688, 141.85968017578125, 75.72029113769531, 35.72209167480469, 487.6014099121094, 218.3200225830078, 507.6614685058594, 448.0029602050781, 259.81121826171875, 111.72639465332031, 115.88837432861328, 543.2604370117188, 809.8284301757812, 243.66970825195312, 119.82843017578125, 475.5975341796875, 233.07383728027344, 399.8234558105469, 285.39306640625, 237.88072204589844, 306.5102233886719, 505.973876953125, 378.9370422363281, 445.2736511230469, 222.56529235839844, 271.2217102050781, 184.19764709472656, 369.1840515136719, 201.17352294921875, 252.95606994628906, 181.551025390625, 231.578857421875, 239.32427978515625, 237.81024169921875, 219.551513671875, 220.68740844726562, 211.17921447753906, 18.844438552856445, 26.034748077392578, 2.0822362899780273, 1.2139886617660522, 2.0776381492614746, 38.40413284301758, 0.6443203687667847, 0.41639503836631775, 35.14433670043945, 0.8792738318443298, 0.5958294868469238, 13.433237075805664, 1.6204750537872314, 0.6076249480247498, 1.4855767488479614, 1.1397407054901123, 1.052615761756897, 1.0498173236846924, 0.5723320245742798, 0.569627583026886, 9.588129997253418, 0.8161185383796692, 0.616027295589447, 0.6084364652633667, 0.4152945876121521, 1.2166002988815308, 0.5962699055671692, 1.5055296421051025, 0.52957683801651, 0.5883384943008423, 15.718546867370605, 0.9521947503089905, 1.0942527055740356, 1.7769380807876587, 44.83528137207031, 24.78766632080078, 6.170458793640137, 42.77222442626953, 9.422236442565918, 1.893858551979065, 160.6661376953125, 3.738447904586792, 310.1219177246094, 13.26258373260498, 91.97503662109375, 27.717607498168945, 18.72126579284668, 66.57367706298828, 8.9725923538208, 4.516688346862793, 153.04000854492188, 120.48664093017578, 82.04766845703125, 30.91313934326172, 29.88484764099121, 218.63922119140625, 1227.9862060546875, 39.554443359375, 162.03529357910156, 134.04815673828125, 91.57669067382812, 410.1875, 371.26312255859375, 120.71403503417969, 213.3240203857422, 193.93727111816406, 64.01757049560547, 140.4231414794922, 136.46514892578125, 143.92347717285156, 129.6942596435547, 195.32235717773438, 126.54591369628906, 83.87139892578125, 225.25735473632812, 168.37876892089844, 174.6753387451172, 104.88174438476562, 110.18757629394531, 90.5918197631836, 123.14234924316406, 161.24453735351562, 158.29229736328125, 111.2654037475586, 109.11487579345703, 96.56893920898438, 0.5729930996894836, 1.5732477903366089, 17.02876091003418, 12.026555061340332, 0.4844178557395935, 0.6601151823997498, 0.9754204750061035, 0.4788280427455902, 13.590763092041016, 0.4622759521007538, 13.40183162689209, 0.4621904194355011, 0.44006359577178955, 0.2929152548313141, 9.388422012329102, 0.28708431124687195, 6.063502788543701, 0.46203532814979553, 0.28146374225616455, 0.5499399900436401, 0.431707501411438, 0.720721960067749, 0.2896246314048767, 0.3977859318256378, 1.8597077131271362, 0.40493273735046387, 1.8195819854736328, 0.4095807671546936, 0.40557777881622314, 0.2732560932636261, 0.6247978210449219, 1.625864028930664, 2.320521831512451, 27.018552780151367, 19.692031860351562, 6.055363178253174, 28.225772857666016, 193.74073791503906, 92.00396728515625, 36.519596099853516, 12.799325942993164, 33.588226318359375, 110.70921325683594, 31.193296432495117, 108.75530242919922, 17.329153060913086, 79.77333068847656, 107.52715301513672, 281.2289123535156, 718.6514282226562, 69.9474868774414, 151.76904296875, 127.64144897460938, 46.917720794677734, 155.738525390625, 28.704208374023438, 64.37432861328125, 32.0526123046875, 85.85035705566406, 75.24166870117188, 118.55826568603516, 72.86064147949219, 181.6825408935547, 140.3087158203125, 76.60957336425781, 112.87205505371094, 104.15792846679688, 76.63018035888672, 67.51029205322266, 115.07770538330078, 103.70862579345703, 64.81161499023438, 54.65768051147461, 73.13597869873047, 60.406646728515625, 69.66213989257812, 66.74301147460938, 0.6968306303024292, 0.6957292556762695, 0.6721672415733337, 0.6379852294921875, 2.5131466388702393, 15.789067268371582, 3.2278995513916016, 0.46589726209640503, 2.993238925933838, 0.4296223521232605, 0.41748085618019104, 0.4095448851585388, 0.9897417426109314, 0.2650553584098816, 0.5350042581558228, 13.599125862121582, 1.3944146633148193, 0.38299474120140076, 8.88256549835205, 1.478493571281433, 0.3781132102012634, 1.3472621440887451, 1.2395581007003784, 0.24317854642868042, 0.23511172831058502, 0.23341557383537292, 0.3377222418785095, 0.5978909134864807, 0.3563273549079895, 0.3522818982601166, 6.269133567810059, 2.7061715126037598, 9.55749225616455, 5.395656108856201, 1.0405797958374023, 1.259393334388733, 4.27667760848999, 220.39862060546875, 3.6022722721099854, 12.892345428466797, 5.549527168273926, 32.627201080322266, 102.968505859375, 307.6676330566406, 144.5753173828125, 78.61883544921875, 48.75892639160156, 74.68733978271484, 239.93174743652344, 45.68186569213867, 156.5403289794922, 72.3688735961914, 39.69752883911133, 137.9384765625, 136.71803283691406, 146.42222595214844, 77.2967529296875, 92.2861099243164, 549.8374633789062, 64.17786407470703, 55.8663215637207, 76.06706237792969, 104.76264953613281, 84.3359603881836, 82.09785461425781, 57.70856475830078, 80.52669525146484, 134.05740356445312, 73.90162658691406, 66.39349365234375, 94.14620971679688, 95.24433135986328, 66.18803405761719, 62.365264892578125, 59.75832748413086, 67.76750946044922, 64.0127944946289], \"Term\": [\"information\", \"site\", \"email\", \"service\", \"third\", \"website\", \"cooky\", \"address\", \"party\", \"personal\", \"user\", \"also\", \"data\", \"access\", \"time\", \"provide\", \"collect\", \"personally\", \"product\", \"contact\", \"identifiable\", \"content\", \"purpose\", \"advertising\", \"request\", \"online\", \"page\", \"right\", \"name\", \"account\", \"gardening\", \"gmail\", \"analyse\", \"visibility\", \"sensor\", \"quicker\", \"onesfor\", \"accelerometer\", \"geotag\", \"restaurantnews\", \"autocomplete\", \"mohegan\", \"protectfor\", \"affinity\", \"lbcs\", \"adsfor\", \"metadata\", \"momentum\", \"towersfor\", \"dashboard\", \"scroll\", \"usefulfor\", \"properlyfor\", \"instagram\", \"settingsfor\", \"quart\", \"nytimes\", \"onlinefor\", \"approximate\", \"reservation\", \"honda\", \"google\", \"acura\", \"dallas\", \"chase\", \"example\", \"paymentech\", \"similar\", \"addons\", \"aboutads\", \"reddit\", \"student\", \"user\", \"information\", \"credit\", \"advertiser\", \"cooky\", \"content\", \"send\", \"address\", \"change\", \"receive\", \"advertising\", \"collect\", \"site\", \"share\", \"website\", \"service\", \"name\", \"account\", \"technology\", \"purpose\", \"provide\", \"business\", \"certain\", \"data\", \"party\", \"also\", \"email\", \"personal\", \"including\", \"third\", \"collected\", \"access\", \"online\", \"time\", \"browser\", \"contact\", \"company\", \"tangeroutlets\", \"tanger\", \"barnes\", \"greensboro\", \"lark\", \"nook\", \"bookseller\", \"noble\", \"sparknotes\", \"thebook\", \"nookpressnook\", \"barnesandnoble\", \"collaborator\", \"sterling\", \"issuer\", \"larkcrafts\", \"coremetrics\", \"ultraviolet\", \"outlet\", \"glowlight\", \"clarity\", \"america\", \"isps\", \"strength\", \"enterprise\", \"rectified\", \"insurance\", \"youprivacy\", \"holder\", \"loan\", \"textbook\", \"walmart\", \"retailer\", \"interacting\", \"personal\", \"direct\", \"medianews\", \"security\", \"company\", \"review\", \"abita\", \"party\", \"partner\", \"automatically\", \"information\", \"service\", \"website\", \"customer\", \"access\", \"third\", \"provider\", \"account\", \"device\", \"online\", \"site\", \"including\", \"mobile\", \"child\", \"provide\", \"offer\", \"time\", \"email\", \"personally\", \"purpose\", \"request\", \"user\", \"collect\", \"also\", \"visit\", \"contact\", \"cooky\", \"share\", \"product\", \"address\", \"certain\", \"identifiable\", \"geekdo\", \"solar\", \"farlex\", \"newspost\", \"uptodates\", \"frederick\", \"austin\", \"hamilton\", \"valueclick\", \"library\", \"calvin\", \"valueclickmedia\", \"member_privacy\", \"shtml\", \"boardgamegeek\", \"randall\", \"thursday\", \"solicited\", \"houston\", \"comprises\", \"degollado\", \"scienceviews\", \"webct\", \"wholly\", \"ranger\", \"barrett\", \"postcard\", \"uptodate\", \"linganore\", \"infouptodate\", \"liquor\", \"military\", \"subscriber\", \"interactive\", \"acsi\", \"breed\", \"disclose\", \"citizen\", \"information\", \"visit\", \"atlantic\", \"search\", \"feature\", \"medianews\", \"site\", \"optout\", \"usage\", \"kaleida\", \"provide\", \"right\", \"third\", \"collect\", \"request\", \"beacon\", \"question\", \"party\", \"service\", \"identifiable\", \"visitor\", \"user\", \"collected\", \"address\", \"data\", \"browser\", \"time\", \"personal\", \"cooky\", \"website\", \"personally\", \"including\", \"using\", \"email\", \"used\", \"online\", \"number\", \"content\", \"account\", \"also\", \"contact\", \"company\", \"access\", \"allergy\", \"food\", \"fare\", \"partial\", \"roanoke\", \"science\", \"completion\", \"toolbox\", \"allstate\", \"thrilling\", \"purged\", \"resume\", \"broker\", \"foodallergy\", \"translational\", \"montana\", \"northfield\", \"sage\", \"lifethreatening\", \"volunteering\", \"kraft\", \"cozi\", \"entertaining\", \"drama\", \"servicesif\", \"taste\", \"discipline\", \"nevada\", \"advises\", \"hiring\", \"education\", \"supportzacks\", \"advocacy\", \"coverage\", \"research\", \"bing\", \"recipe\", \"phone\", \"meredith\", \"telemundo\", \"product\", \"nielsen\", \"email\", \"zacks\", \"marketing\", \"yahoo\", \"fool\", \"available\", \"investment\", \"pittsburgh\", \"contact\", \"page\", \"offer\", \"particular\", \"result\", \"address\", \"information\", \"member\", \"also\", \"advertising\", \"feature\", \"site\", \"service\", \"request\", \"provide\", \"cooky\", \"post\", \"online\", \"company\", \"access\", \"data\", \"third\", \"content\", \"computer\", \"personal\", \"collect\", \"user\", \"personally\", \"share\", \"receive\", \"time\", \"website\", \"party\", \"account\", \"including\", \"browser\", \"advises\", \"fare\", \"food\", \"allergy\", \"volunteering\", \"matching\", \"advocacy\", \"colocation\", \"education\", \"lifethreatening\", \"smithsonian\", \"anaphylaxis\", \"purged\", \"matrix\", \"caribou\", \"toolbox\", \"miami\", \"wearever\", \"orgtelephone\", \"advancing\", \"suggests\", \"skop\", \"eating\", \"completion\", \"smithsonians\", \"miaminewtimes\", \"valley\", \"fountain\", \"memorial\", \"honey\", \"unisub\", \"snea\", \"donor\", \"research\", \"consumer\", \"investment\", \"apply\", \"email\", \"personally\", \"california\", \"military\", \"material\", \"also\", \"event\", \"access\", \"electronic\", \"identifiable\", \"time\", \"site\", \"information\", \"name\", \"third\", \"address\", \"message\", \"website\", \"payment\", \"right\", \"registration\", \"data\", \"product\", \"collect\", \"request\", \"service\", \"personal\", \"contact\", \"provide\", \"cooky\", \"content\", \"browser\", \"party\", \"user\", \"purpose\", \"child\", \"online\", \"certain\", \"including\", \"company\", \"webseed\", \"postmaster\", \"tucson\", \"unsubscribed\", \"naturalnews\", \"sidearm\", \"scinews\", \"flow\", \"kindle\", \"analyzes\", \"onepixel\", \"engagement\", \"privacyscinews\", \"cookiesscinews\", \"hind\", \"sport\", \"echo\", \"lowenergy\", \"kinja\", \"accessory\", \"activating\", \"unsubscribing\", \"addthis\", \"athletics\", \"automation\", \"sportsdirect\", \"libel\", \"grocery\", \"proximity\", \"shoppbs\", \"nara\", \"prime\", \"zacks\", \"washingtonian\", \"creditcard\", \"difficulty\", \"hill\", \"email\", \"station\", \"amazon\", \"investment\", \"newsletter\", \"data\", \"site\", \"cooky\", \"purpose\", \"activity\", \"personally\", \"service\", \"message\", \"party\", \"identifiable\", \"type\", \"user\", \"third\", \"website\", \"advertising\", \"time\", \"information\", \"page\", \"using\", \"contact\", \"address\", \"also\", \"access\", \"right\", \"account\", \"personal\", \"content\", \"product\", \"collect\", \"provide\", \"share\", \"device\", \"certain\", \"online\", \"including\"], \"Total\": [15602.0, 4961.0, 2462.0, 4415.0, 2463.0, 2707.0, 2128.0, 2020.0, 2742.0, 3105.0, 2478.0, 1502.0, 1357.0, 1520.0, 1571.0, 2311.0, 2135.0, 1084.0, 1173.0, 1298.0, 1096.0, 1345.0, 1095.0, 1233.0, 1142.0, 1456.0, 1000.0, 932.0, 954.0, 1496.0, 7.231784343719482, 17.336692810058594, 5.057327747344971, 5.071394920349121, 5.0356316566467285, 5.064078330993652, 3.0028860569000244, 2.9778010845184326, 7.116842269897461, 11.095274925231934, 3.00510835647583, 35.121116638183594, 2.97269868850708, 11.24549674987793, 2.989081859588623, 2.9782052040100098, 11.002298355102539, 10.142480850219727, 2.9966330528259277, 7.064631462097168, 2.9806342124938965, 2.9694271087646484, 2.984348773956299, 93.17034149169922, 2.9516682624816895, 3.8100483417510986, 36.677581787109375, 2.94858455657959, 2.969778060913086, 5.9382243156433105, 217.6258087158203, 451.88201904296875, 58.685733795166016, 20.585214614868164, 123.72525787353516, 878.2378540039062, 124.30514526367188, 283.3783874511719, 18.773794174194336, 39.9437370300293, 128.70269775390625, 68.0274429321289, 2478.18701171875, 15602.939453125, 605.58349609375, 557.3938598632812, 2128.7158203125, 1345.48828125, 704.204345703125, 2020.4073486328125, 1088.501708984375, 859.8525390625, 1233.534912109375, 2135.656494140625, 4961.4541015625, 1229.355224609375, 2707.59814453125, 4415.57080078125, 954.4358520507812, 1496.8023681640625, 731.110595703125, 1095.987060546875, 2311.379150390625, 776.0772705078125, 1022.3939208984375, 1357.900390625, 2742.9521484375, 1502.3004150390625, 2462.202392578125, 3105.353271484375, 1446.2579345703125, 2463.687255859375, 1054.0189208984375, 1520.531005859375, 1456.587158203125, 1571.5230712890625, 1120.2158203125, 1298.7520751953125, 1407.241455078125, 4.326611042022705, 6.4301652908325195, 310.31158447265625, 3.12137770652771, 9.582390785217285, 49.31085205078125, 11.753984451293945, 305.43304443359375, 18.120031356811523, 7.39962911605835, 5.22666072845459, 16.137819290161133, 13.829257011413574, 5.18380880355835, 13.687164306640625, 3.0584397315979004, 11.706992149353027, 11.584036827087402, 8.418492317199707, 5.185561656951904, 5.249375343322754, 142.20555114746094, 5.169873237609863, 5.130883693695068, 24.913015365600586, 3.0380191802978516, 71.31830596923828, 1.9676270484924316, 40.31618118286133, 5.123459815979004, 8.071488380432129, 64.77962493896484, 17.388214111328125, 21.421751022338867, 3105.353271484375, 228.45693969726562, 584.4223022460938, 902.9410400390625, 1407.241455078125, 426.7901916503906, 39.41582489013672, 2742.9521484375, 563.6702270507812, 305.21136474609375, 15602.939453125, 4415.57080078125, 2707.59814453125, 785.5869750976562, 1520.531005859375, 2463.687255859375, 833.7261352539062, 1496.8023681640625, 1108.4720458984375, 1456.587158203125, 4961.4541015625, 1446.2579345703125, 747.2645874023438, 819.604736328125, 2311.379150390625, 643.4994506835938, 1571.5230712890625, 2462.202392578125, 1084.1695556640625, 1095.987060546875, 1142.996826171875, 2478.18701171875, 2135.656494140625, 1502.3004150390625, 1074.944091796875, 1298.7520751953125, 2128.7158203125, 1229.355224609375, 1173.12109375, 2020.4073486328125, 1022.3939208984375, 1096.233642578125, 36.48120880126953, 2.9558470249176025, 20.84531021118164, 52.830970764160156, 4.817071437835693, 19.763755798339844, 6.960073471069336, 1.918753743171692, 5.790323257446289, 114.39637756347656, 1.9159587621688843, 2.882631540298462, 2.8590428829193115, 3.7227091789245605, 4.622575283050537, 4.754440784454346, 3.755568027496338, 2.9743847846984863, 8.105820655822754, 2.893070936203003, 2.777787446975708, 1.9308308362960815, 2.9144961833953857, 2.85701322555542, 2.7658116817474365, 2.7663745880126953, 6.541288375854492, 53.43400955200195, 3.619619369506836, 2.860836982727051, 30.95424461364746, 119.43402099609375, 111.74657440185547, 263.74945068359375, 6.352526664733887, 16.194284439086914, 611.9301147460938, 48.39988327026367, 15602.939453125, 1074.944091796875, 52.812164306640625, 412.94537353515625, 789.6223754882812, 584.4223022460938, 4961.4541015625, 557.9256591796875, 276.87176513671875, 118.49525451660156, 2311.379150390625, 932.3147583007812, 2463.687255859375, 2135.656494140625, 1142.996826171875, 434.55743408203125, 454.18798828125, 2742.9521484375, 4415.57080078125, 1096.233642578125, 476.07733154296875, 2478.18701171875, 1054.0189208984375, 2020.4073486328125, 1357.900390625, 1120.2158203125, 1571.5230712890625, 3105.353271484375, 2128.7158203125, 2707.59814453125, 1084.1695556640625, 1446.2579345703125, 844.916748046875, 2462.202392578125, 992.5060424804688, 1456.587158203125, 846.4806518554688, 1345.48828125, 1496.8023681640625, 1502.3004150390625, 1298.7520751953125, 1407.241455078125, 1520.531005859375, 58.661170959472656, 81.8890380859375, 7.26953649520874, 4.477664470672607, 7.7285847663879395, 147.97377014160156, 2.511786699295044, 1.6508963108062744, 142.4589385986328, 3.630035400390625, 2.467653512954712, 55.736541748046875, 6.772817611694336, 2.54483699798584, 6.254954814910889, 4.826759338378906, 4.545213222503662, 4.537119388580322, 2.475682497024536, 2.4659504890441895, 41.590545654296875, 3.5528228282928467, 2.6894774436950684, 2.6564245223999023, 1.852843165397644, 5.44023323059082, 2.6702089309692383, 6.785634517669678, 2.393991708755493, 2.670931100845337, 72.66435241699219, 4.325544357299805, 5.020229816436768, 8.30647087097168, 247.93896484375, 138.1243438720703, 31.48480224609375, 253.6727294921875, 50.32729721069336, 9.001205444335938, 1173.12109375, 18.86454200744629, 2462.202392578125, 77.1443862915039, 673.0188598632812, 178.22463989257812, 114.9310073852539, 489.03643798828125, 50.62744140625, 23.645198822021484, 1298.7520751953125, 1000.4679565429688, 643.4994506835938, 210.4718475341797, 204.54776000976562, 2020.4073486328125, 15602.939453125, 284.7518310546875, 1502.3004150390625, 1233.534912109375, 789.6223754882812, 4961.4541015625, 4415.57080078125, 1142.996826171875, 2311.379150390625, 2128.7158203125, 530.9755249023438, 1456.587158203125, 1407.241455078125, 1520.531005859375, 1357.900390625, 2463.687255859375, 1345.48828125, 754.61328125, 3105.353271484375, 2135.656494140625, 2478.18701171875, 1084.1695556640625, 1229.355224609375, 859.8525390625, 1571.5230712890625, 2707.59814453125, 2742.9521484375, 1496.8023681640625, 1446.2579345703125, 1120.2158203125, 2.393991708755493, 7.26953649520874, 81.8890380859375, 58.661170959472656, 2.4659504890441895, 3.3867812156677246, 5.020229816436768, 2.485098361968994, 72.66435241699219, 2.475682497024536, 71.86959838867188, 2.489783763885498, 2.467653512954712, 1.6577448844909668, 53.760982513427734, 1.6508963108062744, 35.07872772216797, 2.75785231590271, 1.689052700996399, 3.364222526550293, 2.6679112911224365, 4.470583438873291, 1.8015915155410767, 2.511786699295044, 11.886255264282227, 2.594869613647461, 11.696712493896484, 2.6331958770751953, 2.626338481903076, 1.8230621814727783, 4.207866668701172, 11.342033386230469, 16.493207931518555, 247.93896484375, 182.53810119628906, 50.62744140625, 284.3392333984375, 2462.202392578125, 1084.1695556640625, 385.22216796875, 119.43402099609375, 370.7860107421875, 1502.3004150390625, 350.42987060546875, 1520.531005859375, 178.3375244140625, 1096.233642578125, 1571.5230712890625, 4961.4541015625, 15602.939453125, 954.4358520507812, 2463.687255859375, 2020.4073486328125, 613.8599853515625, 2707.59814453125, 337.1391906738281, 932.3147583007812, 387.70050048828125, 1357.900390625, 1173.12109375, 2135.656494140625, 1142.996826171875, 4415.57080078125, 3105.353271484375, 1298.7520751953125, 2311.379150390625, 2128.7158203125, 1345.48828125, 1120.2158203125, 2742.9521484375, 2478.18701171875, 1095.987060546875, 819.604736328125, 1456.587158203125, 1022.3939208984375, 1446.2579345703125, 1407.241455078125, 2.2680559158325195, 2.27907395362854, 2.272324800491333, 2.3666834831237793, 9.389573097229004, 80.96429443359375, 16.754796981811523, 2.596358060836792, 16.86464500427246, 2.5769546031951904, 2.602823257446289, 2.5885233879089355, 6.318728923797607, 1.731888771057129, 3.5160417556762695, 92.0881576538086, 9.467907905578613, 2.6091156005859375, 60.93748092651367, 10.303120613098145, 2.6430976390838623, 9.486761093139648, 8.735156059265137, 1.7492504119873047, 1.7024586200714111, 1.701083779335022, 2.4785003662109375, 4.405411243438721, 2.6527159214019775, 2.646404504776001, 47.28839111328125, 20.97557258605957, 77.1443862915039, 43.24188995361328, 8.020115852355957, 9.83852481842041, 35.804283142089844, 2462.202392578125, 30.255847930908203, 129.14707946777344, 50.62744140625, 366.9014892578125, 1357.900390625, 4961.4541015625, 2128.7158203125, 1095.987060546875, 630.2520751953125, 1084.1695556640625, 4415.57080078125, 613.8599853515625, 2742.9521484375, 1096.233642578125, 533.0921630859375, 2478.18701171875, 2463.687255859375, 2707.59814453125, 1233.534912109375, 1571.5230712890625, 15602.939453125, 1000.4679565429688, 844.916748046875, 1298.7520751953125, 2020.4073486328125, 1502.3004150390625, 1520.531005859375, 932.3147583007812, 1496.8023681640625, 3105.353271484375, 1345.48828125, 1173.12109375, 2135.656494140625, 2311.379150390625, 1229.355224609375, 1108.4720458984375, 1022.3939208984375, 1456.587158203125, 1446.2579345703125], \"loglift\": [30.0, 29.0, 28.0, 27.0, 26.0, 25.0, 24.0, 23.0, 22.0, 21.0, 20.0, 19.0, 18.0, 17.0, 16.0, 15.0, 14.0, 13.0, 12.0, 11.0, 10.0, 9.0, 8.0, 7.0, 6.0, 5.0, 4.0, 3.0, 2.0, 1.0, 0.715399980545044, 0.6111999750137329, 0.6057999730110168, 0.5981000065803528, 0.5922999978065491, 0.5917999744415283, 0.5841000080108643, 0.5814999938011169, 0.5781000256538391, 0.5726000070571899, 0.5583999752998352, 0.5543000102043152, 0.5527999997138977, 0.5521000027656555, 0.5478000044822693, 0.5472999811172485, 0.5414000153541565, 0.5386000275611877, 0.5368000268936157, 0.5354999899864197, 0.5325000286102295, 0.5317999720573425, 0.5299000144004822, 0.5249999761581421, 0.5234000086784363, 0.5223000049591064, 0.5206000208854675, 0.5166000127792358, 0.5139999985694885, 0.5103999972343445, 0.4950999915599823, 0.476500004529953, 0.4797999858856201, 0.49129998683929443, 0.45410001277923584, 0.4025000035762787, 0.4399999976158142, 0.4104999899864197, 0.47189998626708984, 0.436599999666214, 0.3682999908924103, 0.39649999141693115, 0.20890000462532043, 0.08389999717473984, 0.2671000063419342, 0.2718999981880188, 0.18970000743865967, 0.20730000734329224, 0.24079999327659607, 0.16110000014305115, 0.19480000436306, 0.2079000025987625, 0.16680000722408295, 0.12269999831914902, 0.0357000008225441, 0.14990000426769257, 0.07559999823570251, 0.02800000086426735, 0.15940000116825104, 0.08420000225305557, 0.16449999809265137, 0.11490000039339066, 0.01899999938905239, 0.15440000593662262, 0.1054999977350235, 0.06469999998807907, -0.04809999838471413, 0.03519999980926514, -0.0640999972820282, -0.11720000207424164, 0.032999999821186066, -0.08630000054836273, 0.0957999974489212, -0.01679999940097332, -0.01759999990463257, -0.04659999907016754, 0.06440000236034393, -0.005900000222027302, -0.14329999685287476, 1.0027999877929688, 0.9455000162124634, 0.9172000288963318, 0.8862000107765198, 0.849399983882904, 0.8260999917984009, 0.7893999814987183, 0.7809000015258789, 0.7736999988555908, 0.7695000171661377, 0.763700008392334, 0.7533000111579895, 0.733299970626831, 0.7311999797821045, 0.7166000008583069, 0.7035999894142151, 0.7005000114440918, 0.6913999915122986, 0.6912000179290771, 0.6891999840736389, 0.6575000286102295, 0.6532999873161316, 0.652899980545044, 0.651199996471405, 0.6424000263214111, 0.6384000182151794, 0.6371999979019165, 0.635699987411499, 0.6262000203132629, 0.6261000037193298, 0.6126999855041504, 0.5658000111579895, 0.5885999798774719, 0.580299973487854, 0.3386000096797943, 0.45660001039505005, 0.39579999446868896, 0.35249999165534973, 0.3160000145435333, 0.36649999022483826, 0.534500002861023, 0.19110000133514404, 0.30329999327659607, 0.3634999990463257, -0.045099999755620956, 0.08420000225305557, 0.11980000138282776, 0.2540000081062317, 0.14630000293254852, 0.07569999992847443, 0.21639999747276306, 0.1289999932050705, 0.16369999945163727, 0.12219999730587006, -0.06549999862909317, 0.1039000004529953, 0.1890999972820282, 0.1688999980688095, -0.01269999984651804, 0.19629999995231628, 0.03929999843239784, -0.10580000281333923, 0.07370000332593918, 0.06689999997615814, 0.05429999902844429, -0.164000004529953, -0.14000000059604645, -0.04410000145435333, 0.0568000003695488, -0.02329999953508377, -0.2467000037431717, -0.025800000876188278, -0.006800000090152025, -0.3659999966621399, 0.052799999713897705, -0.015699999406933784, 1.1612999439239502, 1.0953999757766724, 1.0188000202178955, 0.9962999820709229, 0.9606999754905701, 0.9406999945640564, 0.9222000241279602, 0.9171000123023987, 0.9061999917030334, 0.9009000062942505, 0.900600016117096, 0.8758000135421753, 0.8633000254631042, 0.8611000180244446, 0.8531000018119812, 0.8450000286102295, 0.8305000066757202, 0.8291000127792358, 0.819599986076355, 0.8155999779701233, 0.8062999844551086, 0.7994999885559082, 0.7955999970436096, 0.7930999994277954, 0.7867000102996826, 0.7861999869346619, 0.7831000089645386, 0.7752000093460083, 0.7728000283241272, 0.76910001039505, 0.7627999782562256, 0.7045000195503235, 0.6984999775886536, 0.5967000126838684, 0.7432000041007996, 0.679099977016449, 0.39730000495910645, 0.5957000255584717, 0.13109999895095825, 0.3043000102043152, 0.5662000179290771, 0.35760000348091125, 0.2919999957084656, 0.2822999954223633, 0.039799999445676804, 0.2800999879837036, 0.3529999852180481, 0.4503999948501587, 0.0934000015258789, 0.19779999554157257, 0.06989999860525131, 0.08780000358819962, 0.1679999977350235, 0.29120001196861267, 0.28360000252723694, 0.030300000682473183, -0.04659999907016754, 0.14569999277591705, 0.27000001072883606, -0.0012000000569969416, 0.1404999941587448, 0.029500000178813934, 0.08969999849796295, 0.10000000149011612, 0.014999999664723873, -0.164900004863739, -0.07639999687671661, -0.15559999644756317, 0.06620000302791595, -0.024299999698996544, 0.12630000710487366, -0.24799999594688416, 0.05339999869465828, -0.10109999775886536, 0.10999999940395355, -0.11010000109672546, -0.18379999697208405, -0.19380000233650208, -0.12809999287128448, -0.20309999585151672, -0.3246000111103058, 1.2533999681472778, 1.2430000305175781, 1.138700008392334, 1.0836999416351318, 1.0751999616622925, 1.0400999784469604, 1.02839994430542, 1.0115000009536743, 0.989300012588501, 0.9710000157356262, 0.9678999781608582, 0.9660000205039978, 0.9587000012397766, 0.9567000269889832, 0.9513999819755554, 0.9455999732017517, 0.9261000156402588, 0.9253000020980835, 0.9243999719619751, 0.9236000180244446, 0.9215999841690063, 0.9179999828338623, 0.9150999784469604, 0.9150999784469604, 0.8934000134468079, 0.8912000060081482, 0.8896999955177307, 0.8833000063896179, 0.880299985408783, 0.8761000037193298, 0.8579000234603882, 0.8754000067710876, 0.8654999732971191, 0.8468000292778015, 0.6786999702453613, 0.6711000204086304, 0.7591999769210815, 0.6087999939918518, 0.7135000228881836, 0.8302000164985657, 0.4007999897003174, 0.7702999711036682, 0.31709998846054077, 0.6281999945640564, 0.3986999988555908, 0.527999997138977, 0.5742999911308289, 0.39480000734329224, 0.6585999727249146, 0.7336000204086304, 0.25049999356269836, 0.27219998836517334, 0.3292999863624573, 0.4708000123500824, 0.46549999713897705, 0.16529999673366547, -0.15309999883174896, 0.41499999165534973, 0.16200000047683716, 0.16949999332427979, 0.2345999926328659, -0.1039000004529953, -0.08699999749660492, 0.14090000092983246, 0.006099999882280827, -0.006800000090152025, 0.2734000086784363, 0.04969999939203262, 0.05559999868273735, 0.03139999881386757, 0.04039999842643738, -0.14579999446868896, 0.02500000037252903, 0.19200000166893005, -0.23469999432563782, -0.15139999985694885, -0.26339998841285706, 0.053199999034404755, -0.023099999874830246, 0.13850000500679016, -0.1574999988079071, -0.4320000112056732, -0.4634000062942505, -0.2101999968290329, -0.19539999961853027, -0.06210000067949295, 1.4172999858856201, 1.31659996509552, 1.2766000032424927, 1.2624000310897827, 1.2196999788284302, 1.211899995803833, 1.2086999416351318, 1.2003999948501587, 1.1706000566482544, 1.1690000295639038, 1.1676000356674194, 1.163100004196167, 1.1230000257492065, 1.113800048828125, 1.1019999980926514, 1.0978000164031982, 1.0917999744415283, 1.0605000257492065, 1.0551999807357788, 1.0360000133514404, 1.0257999897003174, 1.0220999717712402, 1.0192999839782715, 1.0042999982833862, 0.9921000003814697, 0.9894999861717224, 0.9864000082015991, 0.986299991607666, 0.9790999889373779, 0.9491999745368958, 0.9398000240325928, 0.9046000242233276, 0.8859999775886536, 0.6305000185966492, 0.6204000115394592, 0.7235999703407288, 0.5371999740600586, 0.30480000376701355, 0.38040000200271606, 0.491100013256073, 0.6136999726295471, 0.4456999897956848, 0.23929999768733978, 0.42820000648498535, 0.2093999981880188, 0.5157999992370605, 0.22669999301433563, 0.16509999334812164, -0.02319999970495701, -0.23070000112056732, 0.2337000072002411, 0.060100000351667404, 0.08529999852180481, 0.27570000290870667, -0.008500000461935997, 0.38370001316070557, 0.17419999837875366, 0.35429999232292175, 0.0860000029206276, 0.10040000081062317, -0.04399999976158142, 0.094200000166893, -0.3434999883174896, -0.2498999983072281, 0.016699999570846558, -0.17219999432563782, -0.17030000686645508, -0.018400000408291817, 0.038100000470876694, -0.32409998774528503, -0.32659998536109924, 0.019200000911951065, 0.13940000534057617, -0.1444000005722046, 0.018300000578165054, -0.1860000044107437, -0.2013999968767166, 1.732200026512146, 1.7258000373840332, 1.6943000555038452, 1.6014000177383423, 1.5943000316619873, 1.2776000499725342, 1.2654999494552612, 1.1943999528884888, 1.183500051498413, 1.12090003490448, 1.082200050354004, 1.06850004196167, 1.058500051498413, 1.0353000164031982, 1.0295000076293945, 0.9995999932289124, 0.9969000220298767, 0.9936000108718872, 0.9865999817848206, 0.9708999991416931, 0.9678000211715698, 0.9605000019073486, 0.9596999883651733, 0.9391999840736389, 0.9326000213623047, 0.9261000156402588, 0.9190999865531921, 0.9150999784469604, 0.9047999978065491, 0.895799994468689, 0.891700029373169, 0.8644999861717224, 0.8240000009536743, 0.8310999870300293, 0.8701000213623047, 0.8565999865531921, 0.7874000072479248, 0.49889999628067017, 0.7842000126838684, 0.6079999804496765, 0.7014999985694885, 0.49239999055862427, 0.3330000042915344, 0.13189999759197235, 0.22280000150203705, 0.2775000035762787, 0.3531000018119812, 0.2371000051498413, -0.00019999999494757503, 0.314300000667572, 0.04879999905824661, 0.19449999928474426, 0.3149000108242035, 0.023800000548362732, 0.020800000056624413, -0.004999999888241291, 0.14229999482631683, 0.07739999890327454, -0.4332999885082245, 0.16580000519752502, 0.19599999487400055, 0.07479999959468842, -0.04699999839067459, 0.03240000084042549, -0.006599999964237213, 0.13009999692440033, -0.010200000368058681, -0.23029999434947968, 0.010499999858438969, 0.04050000011920929, -0.2093999981880188, -0.2768000066280365, -0.009399999864399433, 0.03460000082850456, 0.07270000129938126, -0.15539999306201935, -0.2053000032901764], \"logprob\": [30.0, 29.0, 28.0, 27.0, 26.0, 25.0, 24.0, 23.0, 22.0, 21.0, 20.0, 19.0, 18.0, 17.0, 16.0, 15.0, 14.0, 13.0, 12.0, 11.0, 10.0, 9.0, 8.0, 7.0, 6.0, 5.0, 4.0, 3.0, 2.0, 1.0, -9.864299774169922, -9.094099998474121, -10.331500053405762, -10.336400032043457, -10.349200248718262, -10.344099998474121, -10.874500274658203, -10.885499954223633, -10.017499923706055, -9.579000473022461, -10.899399757385254, -8.444999694824219, -10.915800094604492, -9.586000442504883, -10.915399551391602, -10.919500350952148, -9.618599891662598, -9.702799797058105, -10.923800468444824, -10.067500114440918, -10.933500289916992, -10.937899589538574, -10.934800148010254, -7.498700141906738, -10.952400207519531, -10.698200225830078, -8.435400009155273, -10.960200309753418, -10.955699920654297, -10.266300201416016, -6.680300235748291, -5.968200206756592, -8.006199836730957, -9.042200088500977, -7.285999774932861, -5.377699851989746, -7.295400142669678, -6.500800132751465, -9.153800010681152, -8.434000015258789, -7.332300186157227, -7.941699981689453, -4.533899784088135, -2.819000005722046, -5.884799957275391, -5.962900161743164, -4.705100059509277, -5.146299839019775, -5.760300159454346, -4.785999774932861, -5.370699882507324, -5.593400001525879, -5.27370023727417, -4.768899917602539, -4.013000011444092, -5.293900012969971, -4.578700065612793, -4.137199878692627, -5.537600040435791, -5.162799835205078, -5.798999786376953, -5.44379997253418, -4.793499946594238, -5.749499797821045, -5.52269983291626, -5.279699802398682, -4.6894001960754395, -5.208099842071533, -4.813399791717529, -4.634500026702881, -5.2484002113342285, -4.835000038146973, -5.5019001960754395, -5.2480998039245605, -5.291800022125244, -5.244999885559082, -5.472499847412109, -5.394899845123291, -5.452099800109863, -10.090499877929688, -9.75160026550293, -5.903299808502197, -10.533599853515625, -9.448699951171875, -7.833899974822998, -9.304499626159668, -6.0553998947143555, -8.887399673461914, -9.787199974060059, -10.140700340270996, -9.023699760437012, -9.197999954223633, -10.181400299072266, -9.225000381469727, -10.736599922180176, -9.397500038146973, -9.416999816894531, -9.736499786376953, -10.223099708557129, -10.242500305175781, -6.947500228881836, -10.262399673461914, -10.271599769592285, -8.700300216674805, -10.808500289916992, -7.653800010681152, -11.245599746704102, -8.235199928283691, -10.298100471496582, -9.857099533081055, -7.821300029754639, -9.113699913024902, -8.913399696350098, -4.178599834442139, -6.670100212097168, -5.7916998863220215, -5.400000095367432, -4.992700099945068, -6.135300159454346, -8.34939956665039, -4.450300216674805, -5.920400142669678, -6.473599910736084, -2.947999954223633, -4.080999851226807, -4.5345001220703125, -5.637599945068359, -5.085000038146973, -4.672999858856201, -5.615799903869629, -5.118000030517578, -5.383699893951416, -5.152100086212158, -4.114200115203857, -5.177499771118164, -5.752600193023682, -5.6803998947143555, -4.825300216674805, -5.894899845123291, -5.158999919891357, -4.855100154876709, -5.4959001541137695, -5.491799831390381, -5.462399959564209, -4.906799793243408, -5.031599998474121, -5.287399768829346, -5.521299839019775, -5.412300109863281, -5.141499996185303, -5.469699859619141, -5.497399806976318, -5.313000202178955, -5.575399875640869, -5.57420015335083, -7.800000190734863, -10.378899574279785, -8.50220012664795, -7.594699859619141, -10.025199890136719, -8.633600234985352, -9.695799827575684, -10.989399909973145, -9.89579963684082, -6.917500019073486, -11.00730037689209, -10.623600006103516, -10.644399642944336, -10.382599830627441, -10.173999786376953, -10.15410041809082, -10.404399871826172, -10.638999938964844, -9.645899772644043, -10.68019962310791, -10.73009967803955, -11.100700378417969, -10.69279956817627, -10.715200424194336, -10.75409984588623, -10.754400253295898, -9.89680004119873, -7.804500102996826, -10.49899959564209, -10.737899780273438, -8.362799644470215, -7.070799827575684, -7.143400192260742, -6.38640022277832, -9.966099739074707, -9.094400405883789, -5.744200229644775, -8.082900047302246, -2.7718000411987305, -5.273799896240234, -8.025199890136719, -6.177199840545654, -5.5945000648498535, -5.905200004577637, -4.008800029754639, -5.953800201416016, -6.581600189208984, -7.332799911499023, -4.719099998474121, -5.52269983291626, -4.678800106048584, -4.803800106048584, -5.348700046539307, -6.192599773406982, -6.156000137329102, -4.611000061035156, -4.2118000984191895, -5.412799835205078, -6.122600078582764, -4.74399995803833, -5.457300186157227, -4.917600154876709, -5.254700183868408, -5.436800003051758, -5.1834001541137695, -4.68209981918335, -4.971199989318848, -4.809899806976318, -5.503399848937988, -5.305699825286865, -5.692599773406982, -4.997300148010254, -5.604400157928467, -5.375400066375732, -5.707099914550781, -5.463699817657471, -5.430799961090088, -5.437099933624268, -5.517000198364258, -5.511899948120117, -5.5559000968933105, -7.232999801635742, -6.9096999168396, -9.435700416564941, -9.975299835205078, -9.437999725341797, -6.520999908447266, -10.608699798583984, -11.045299530029297, -6.6097002029418945, -10.297800064086914, -10.687000274658203, -7.571400165557861, -9.68649959564209, -10.667400360107422, -9.77340030670166, -10.038399696350098, -10.117899894714355, -10.120599746704102, -10.72719955444336, -10.732000350952148, -7.908699989318848, -10.372400283813477, -10.653599739074707, -10.666000366210938, -11.047900199890137, -9.973099708557129, -10.686200141906738, -9.760000228881836, -10.804900169372559, -10.699600219726562, -7.414299964904785, -10.218199729919434, -10.079099655151367, -9.594300270080566, -6.366199970245361, -6.958799839019775, -8.34939956665039, -6.413300037384033, -7.92609977722168, -9.530599594116211, -5.089900016784668, -8.850500106811523, -4.432199954986572, -7.584199905395508, -5.64769983291626, -6.847099781036377, -7.239500045776367, -5.970900058746338, -7.974999904632568, -8.661399841308594, -5.138500213623047, -5.377600193023682, -5.761899948120117, -6.73799991607666, -6.7718000411987305, -4.781799793243408, -3.0560998916625977, -6.491499900817871, -5.081399917602539, -5.270999908447266, -5.6519999504089355, -4.152599811553955, -4.252299785614014, -5.375800132751465, -4.806399822235107, -4.901599884033203, -6.010000228881836, -5.2245001792907715, -5.2530999183654785, -5.199900150299072, -5.303999900817871, -4.894499778747559, -5.32859992980957, -5.7399001121521, -4.7519001960754395, -5.043000221252441, -5.00629997253418, -5.516300201416016, -5.4670000076293945, -5.662799835205078, -5.355800151824951, -5.086299896240234, -5.104700088500977, -5.457300186157227, -5.476799964904785, -5.598899841308594, -10.267900466918945, -9.25790023803711, -6.876100063323975, -7.223899841308594, -10.435799598693848, -10.126299858093262, -9.735899925231934, -10.447400093078613, -7.101600170135498, -10.482600212097168, -7.115600109100342, -10.482799530029297, -10.531800270080566, -10.938899993896484, -7.471499919891357, -10.958999633789062, -7.908699989318848, -10.483099937438965, -10.978799819946289, -10.309000015258789, -10.550999641418457, -10.03849983215332, -10.950200080871582, -10.632800102233887, -9.09060001373291, -10.614999771118164, -9.11240005493164, -10.603599548339844, -10.61340045928955, -11.008399963378906, -10.181300163269043, -9.225000381469727, -8.869199752807617, -6.4145002365112305, -6.730800151824951, -7.910099983215332, -6.370800018310547, -4.444499969482422, -5.189199924468994, -6.1132001876831055, -7.161600112915039, -6.196800231933594, -5.0040998458862305, -6.2708001136779785, -5.021900177001953, -6.85860013961792, -5.3317999839782715, -5.033299922943115, -4.071800231933594, -3.1335999965667725, -5.4633002281188965, -4.688600063323975, -4.861800193786621, -5.862599849700928, -4.662799835205078, -6.354000091552734, -5.546299934387207, -6.243599891662598, -5.258399963378906, -5.3902997970581055, -4.9355998039245605, -5.422500133514404, -4.508699893951416, -4.767199993133545, -5.372300148010254, -4.984799861907959, -5.065100193023682, -5.372000217437744, -5.498700141906738, -4.965400218963623, -5.069399833679199, -5.5395002365112305, -5.70989990234375, -5.418700218200684, -5.609899997711182, -5.467299938201904, -5.510200023651123, -10.006999969482422, -10.008600234985352, -10.043000221252441, -10.095199584960938, -8.724300384521484, -6.886499881744385, -8.473999977111816, -10.409600257873535, -8.549400329589844, -10.490599632263184, -10.51930046081543, -10.53849983215332, -9.656100273132324, -10.973600387573242, -10.271300315856934, -7.035799980163574, -9.313300132751465, -10.605500221252441, -7.461699962615967, -9.254799842834473, -10.618399620056152, -9.347700119018555, -9.430999755859375, -11.059800148010254, -11.093500137329102, -11.100700378417969, -10.731300354003906, -10.160099983215332, -10.67770004272461, -10.68910026550293, -7.810200214385986, -8.650300025939941, -7.388500213623047, -7.96019983291626, -9.605999946594238, -9.415200233459473, -8.19260025024414, -4.250400066375732, -8.3641996383667, -7.089200019836426, -7.93209981918335, -6.160600185394287, -5.01140022277832, -3.916800022125244, -4.671999931335449, -5.281199932098389, -5.758900165557861, -5.332499980926514, -4.16540002822876, -5.824100017547607, -4.59250020980835, -5.363999843597412, -5.9644999504089355, -4.718999862670898, -4.72790002822876, -4.659299850463867, -5.298099994659424, -5.1209001541137695, -3.336199998855591, -5.484099864959717, -5.622799873352051, -5.314199924468994, -4.994100093841553, -5.210999965667725, -5.2378997802734375, -5.590400218963623, -5.257199764251709, -4.747499942779541, -5.343100070953369, -5.450200080871582, -5.100900173187256, -5.089399814605713, -5.4532999992370605, -5.512800216674805, -5.555500030517578, -5.429699897766113, -5.486700057983398]}, \"token.table\": {\"Topic\": [1, 2, 3, 4, 5, 6, 1, 2, 3, 4, 5, 6, 1, 1, 2, 3, 4, 5, 6, 1, 2, 3, 4, 5, 6, 1, 2, 3, 4, 5, 6, 1, 2, 3, 4, 5, 1, 3, 1, 2, 3, 4, 5, 6, 1, 2, 3, 4, 5, 6, 1, 2, 3, 4, 5, 6, 1, 2, 3, 4, 5, 6, 1, 2, 3, 4, 5, 6, 1, 1, 3, 4, 5, 1, 2, 3, 4, 5, 6, 1, 2, 3, 4, 5, 6, 4, 5, 1, 2, 3, 4, 5, 1, 2, 3, 5, 1, 2, 3, 4, 5, 6, 1, 2, 3, 4, 5, 6, 1, 2, 3, 4, 5, 6, 1, 2, 3, 4, 5, 6, 1, 2, 3, 4, 5, 6, 1, 2, 3, 1, 3, 3, 4, 1, 2, 3, 4, 5, 6, 1, 1, 2, 3, 4, 5, 6, 1, 2, 3, 1, 1, 2, 3, 4, 5, 6, 1, 2, 3, 4, 5, 6, 1, 2, 3, 4, 5, 6, 1, 2, 3, 6, 1, 3, 1, 2, 3, 4, 5, 6, 1, 2, 3, 4, 5, 6, 1, 2, 3, 6, 1, 2, 3, 1, 2, 3, 4, 5, 1, 2, 3, 4, 1, 2, 3, 4, 5, 6, 1, 2, 3, 4, 5, 6, 1, 2, 3, 4, 5, 6, 3, 1, 2, 3, 4, 5, 6, 1, 2, 3, 4, 5, 6, 1, 2, 3, 4, 5, 6, 1, 2, 3, 4, 5, 6, 1, 2, 3, 4, 5, 6, 1, 2, 3, 4, 5, 6, 1, 2, 3, 1, 2, 3, 4, 1, 2, 3, 4, 5, 6, 1, 2, 3, 4, 5, 6, 3, 1, 2, 3, 4, 5, 6, 3, 4, 1, 3, 1, 2, 3, 4, 5, 6, 1, 2, 3, 4, 5, 6, 1, 2, 3, 4, 5, 6, 1, 2, 3, 4, 5, 6, 1, 1, 2, 3, 4, 5, 6, 1, 2, 3, 4, 1, 2, 3, 4, 5, 6, 1, 2, 4, 1, 2, 3, 4, 5, 6, 1, 2, 3, 4, 5, 6, 1, 2, 3, 4, 5, 6, 1, 2, 3, 4, 5, 6, 1, 2, 3, 4, 1, 2, 3, 4, 5, 6, 3, 1, 2, 3, 4, 5, 6, 1, 2, 3, 4, 5, 6, 1, 2, 3, 4, 5, 6, 1, 2, 4, 1, 2, 3, 4, 5, 6, 1, 2, 3, 4, 5, 6, 1, 4, 1, 1, 2, 3, 4, 5, 6, 1, 2, 3, 4, 5, 6, 1, 2, 3, 4, 5, 6, 1, 2, 3, 4, 5, 6, 1, 3, 1, 2, 3, 4, 5, 6, 1, 2, 4, 1, 2, 3, 4, 5, 6, 1, 2, 3, 4, 5, 6, 1, 2, 3, 4, 5, 1, 2, 3, 4, 5, 6, 1, 2, 3, 4, 5, 6, 1, 1, 2, 3, 4, 5, 6, 1, 4, 1, 2, 3, 4, 5, 6, 1, 2, 3, 1, 2, 3, 4, 5, 6, 1, 2, 3, 4, 1, 2, 3, 4, 6, 1, 2, 3, 1, 2, 3, 1, 2, 3, 4, 5, 6, 1, 2, 3, 4, 5, 6, 2, 1, 2, 3, 4, 6, 3, 1, 2, 3, 4, 5, 6, 1, 2, 3, 6, 1, 2, 4, 1, 2, 3, 4, 5, 6, 1, 2, 3, 4, 5, 6, 1, 1, 2, 3, 1, 2, 3, 4, 5, 6, 1, 2, 3, 4, 5, 6, 1, 2, 3, 4, 5, 6, 1, 3, 1, 2, 3, 4, 5, 6, 1, 2, 3, 4, 5, 6, 1, 2, 3, 4, 5, 6, 1, 2, 3, 4, 5, 6, 1, 2, 3, 4, 5, 6, 1, 2, 3, 1, 2, 3, 4, 6, 1, 2, 3, 4, 5, 6, 1, 2, 3, 4, 5, 6, 1, 2, 3, 4, 5, 6, 1, 2, 3, 4, 5, 6, 1, 2, 3, 1, 2, 1, 1, 1, 2, 3, 4, 5, 6, 3, 4, 1, 3, 4, 1, 2, 3, 4, 5, 6, 1, 2, 3, 1, 2, 3, 1, 2, 3, 4, 5, 6, 1, 2, 3, 4, 5, 1, 2, 3, 4, 5, 6, 1, 2, 3, 4, 5, 6, 1, 2, 3, 4, 5, 6, 2, 3, 1, 3, 1, 2, 3, 4, 5, 6, 1, 2, 3, 4, 5, 6, 1, 2, 3, 4, 5, 1, 2, 3, 4, 5, 6, 1, 3, 1, 2, 3, 4, 5, 6, 1, 2, 3, 4, 5, 6, 1, 2, 3, 4, 5, 6, 1, 2, 3, 4, 1, 2, 3, 4, 1, 2, 3, 4, 5, 6, 1, 2, 3, 4, 5, 6, 1, 3, 4, 6, 1, 2, 3, 4, 1, 2, 3, 4, 5, 6, 1, 2, 3, 4, 5, 6, 1, 2, 3, 4, 5, 6, 1, 2, 3, 4, 5, 6, 1, 2, 3, 4, 5, 6, 1, 2, 3, 1, 2, 3, 4, 1, 2, 3, 4, 5, 6, 1, 2, 3, 4, 5, 6, 1, 2, 3, 4, 5, 6, 1, 2, 1, 1, 2, 3, 4, 5, 6, 1, 1, 2, 3, 4, 5, 6, 1, 2, 3, 4, 1, 2, 3, 4, 5, 6, 1, 2, 3, 4, 1, 2, 3, 4, 5, 6, 1, 2, 3, 4, 5, 6, 1, 2, 3, 4, 5, 6, 1, 2, 3, 4, 5, 6, 1, 2, 3, 4, 5, 6, 1, 2, 3, 4, 5, 6, 1, 2, 3, 4, 5, 6, 1, 2, 3, 4, 5, 6, 1, 2, 3, 4, 5, 6, 1, 2, 3, 4, 5, 6, 1, 2, 3, 5, 6, 1, 2, 3, 4, 5, 6, 1, 2, 3, 6, 1, 2, 3, 4, 5, 6, 1, 1, 1, 2, 3, 4, 5, 6, 1, 2, 3, 4, 5, 6, 1, 3, 4, 1, 2, 3, 4, 5, 6, 1, 2, 5, 1, 2, 3, 4, 5, 6, 1, 2, 3, 1, 2, 3, 3, 1, 2, 3, 4, 5, 6, 1, 2, 3, 4, 5, 6, 1, 2, 1, 2, 3, 4, 5, 6, 1, 2, 3, 4, 5, 6, 1, 2, 3, 4, 5, 6, 1, 2, 3, 4, 5, 6, 1, 2, 3, 4, 1, 2, 3, 5, 1, 2, 3, 4, 5, 6, 1, 2, 3, 4, 5, 6, 1, 2, 3, 4, 5, 6, 1, 2, 3, 4, 5, 6, 1, 2, 3, 4, 5, 6, 1, 2, 3, 4, 1, 2, 3, 4, 1, 2, 3, 4, 5, 6, 2, 3, 1, 2, 3, 5, 6, 1, 1, 2, 3, 4, 5, 6, 1, 2, 3, 4, 5, 6, 1, 2, 3, 4, 5, 6, 1, 3, 1, 2, 3, 4, 5, 6, 2, 1, 1, 2, 3, 4, 5, 6, 1, 1, 2, 3, 1, 2, 3, 4, 5, 6, 1, 2, 3, 4, 5, 6, 1, 2, 3, 4, 5, 6, 1, 2, 3, 5, 1, 2, 3, 4, 5, 6, 1, 2, 3, 4, 5, 6, 1, 2, 3, 4, 5, 2, 3, 1, 2, 3, 1, 2, 3, 4, 6, 1, 2, 3, 4, 5, 6, 1, 2, 3, 4, 5, 6, 1, 2, 3, 1, 2, 3, 1, 2, 3, 4, 5, 6, 1, 2, 3, 4, 5, 6, 1, 2, 1, 2, 4, 1, 2, 4, 2, 1, 2, 3, 4, 1, 2, 3, 4, 5, 6, 1, 2, 3, 4, 5, 6, 1, 2, 3, 4, 1, 2, 3, 1, 2, 3, 4, 5, 6, 1, 2, 4, 1, 2, 3, 1, 2, 3, 4, 5, 6, 1, 1, 2, 3, 4, 6, 6, 1, 2, 3, 4, 5, 6, 1, 2, 3, 1, 2, 4, 5, 1, 6, 1, 2, 3, 4, 5, 6, 1, 2, 3, 4, 5, 6, 1, 3, 4, 1, 2, 3, 4, 5, 6, 1, 2, 3, 4, 5, 6, 1, 1, 2, 3, 4, 5, 6, 1, 2, 3, 4, 5, 6, 1, 2, 3, 4, 5, 6, 1, 2, 3, 1, 2, 3, 1, 2, 3, 1, 2, 3, 4, 5, 6, 1, 2, 3, 4, 5, 6, 3, 4, 1, 2, 3, 4, 5, 6, 1, 2, 3, 4, 5, 6, 1, 2, 3, 6, 1, 2, 3, 4, 5, 6, 1, 3, 1, 2, 3, 4, 5, 6, 2, 1, 2, 3, 4, 5, 6], \"Freq\": [0.2283346801996231, 0.4566693603992462, 0.02537052147090435, 0.1775936484336853, 0.0761115625500679, 0.0507410429418087, 0.5257394909858704, 0.1752464920282364, 0.1251760721206665, 0.05007042735815048, 0.07510564476251602, 0.05007042735815048, 0.6716365218162537, 0.32751715183258057, 0.3137061893939972, 0.1387673169374466, 0.09470375627279282, 0.07168548554182053, 0.05392852798104286, 0.29117390513420105, 0.29117390513420105, 0.09705797582864761, 0.09705797582864761, 0.09705797582864761, 0.09705797582864761, 0.36210525035858154, 0.3086579740047455, 0.15967372059822083, 0.07415808737277985, 0.04142163321375847, 0.05411536246538162, 0.1574176847934723, 0.1574176847934723, 0.4722530245780945, 0.1574176847934723, 0.1574176847934723, 0.37834393978118896, 0.37834393978118896, 0.2935333549976349, 0.3157466650009155, 0.18246667087078094, 0.0761600062251091, 0.05394667014479637, 0.0777466669678688, 0.5452772974967957, 0.1363193243741989, 0.17039915919303894, 0.08519957959651947, 0.06815966218709946, 0.017039915546774864, 0.5326573848724365, 0.15979720652103424, 0.10653147846460342, 0.10653147846460342, 0.05326573923230171, 0.05326573923230171, 0.39101025462150574, 0.18808087706565857, 0.1979798823595047, 0.10839398205280304, 0.06335356086492538, 0.05196971818804741, 0.2289598435163498, 0.2289598435163498, 0.2289598435163498, 0.1144799217581749, 0.1144799217581749, 0.1144799217581749, 0.6715453863143921, 0.29724550247192383, 0.29724550247192383, 0.29724550247192383, 0.29724550247192383, 0.4359574317932129, 0.18120041489601135, 0.23322826623916626, 0.06638035178184509, 0.04485158994793892, 0.0394693985581398, 0.3931789696216583, 0.23509670794010162, 0.1572715938091278, 0.10863089561462402, 0.042965952306985855, 0.06242223083972931, 0.41771239042282104, 0.41771239042282104, 0.199194073677063, 0.199194073677063, 0.199194073677063, 0.199194073677063, 0.199194073677063, 0.5335469245910645, 0.1778489649295807, 0.1778489649295807, 0.08892448246479034, 0.13637641072273254, 0.10228230804204941, 0.22161166369915009, 0.3238939642906189, 0.20456461608409882, 0.034094102680683136, 0.2176065593957901, 0.40713486075401306, 0.09125436842441559, 0.24568483233451843, 0.0210586991161108, 0.014039132744073868, 0.3448045253753662, 0.2596018612384796, 0.15842370688915253, 0.10783462226390839, 0.0738866850733757, 0.055914249271154404, 0.28649505972862244, 0.2632657289505005, 0.14711908996105194, 0.1393759697675705, 0.06968798488378525, 0.10066042840480804, 0.16876977682113647, 0.520373523235321, 0.13360941410064697, 0.09141696244478226, 0.04219244420528412, 0.04219244420528412, 0.5931986570358276, 0.19773288071155548, 0.19773288071155548, 0.3880549669265747, 0.3880549669265747, 0.401641309261322, 0.401641309261322, 0.19343091547489166, 0.3130064010620117, 0.2286001741886139, 0.11605855077505112, 0.09847392141819, 0.049236960709095, 0.6734510064125061, 0.24615541100502014, 0.22722038626670837, 0.34083056449890137, 0.07574012875556946, 0.07574012875556946, 0.056805096566677094, 0.2873532772064209, 0.14367663860321045, 0.43102994561195374, 0.6655334234237671, 0.19986149668693542, 0.3898937404155731, 0.20969074964523315, 0.08846328407526016, 0.05569910630583763, 0.058975525200366974, 0.25355982780456543, 0.2985462546348572, 0.19425955414772034, 0.13700410723686218, 0.05316577106714249, 0.06543479859828949, 0.16112837195396423, 0.6767391562461853, 0.09345445781946182, 0.025780539959669113, 0.016112837940454483, 0.025780539959669113, 0.18589872121810913, 0.5576961636543274, 0.12393248081207275, 0.06196624040603638, 0.36148393154144287, 0.36148393154144287, 0.27384182810783386, 0.2853477895259857, 0.2577334940433502, 0.07133694738149643, 0.05062621831893921, 0.059830985963344574, 0.23167531192302704, 0.21719560027122498, 0.2895941436290741, 0.18099632859230042, 0.03619926795363426, 0.05067897215485573, 0.2163296341896057, 0.2163296341896057, 0.4326592683792114, 0.2163296341896057, 0.17015506327152252, 0.5955427289009094, 0.17015506327152252, 0.24700072407722473, 0.24700072407722473, 0.3705011010169983, 0.06175018101930618, 0.06175018101930618, 0.2952980697154999, 0.2952980697154999, 0.14764903485774994, 0.2952980697154999, 0.35528868436813354, 0.24548840522766113, 0.21245905756950378, 0.08659045398235321, 0.06070258840918541, 0.041063517332077026, 0.38784798979759216, 0.25512924790382385, 0.16750909388065338, 0.09148573875427246, 0.052829790860414505, 0.04509860277175903, 0.2829535901546478, 0.30891263484954834, 0.16873380541801453, 0.09604846686124802, 0.09604846686124802, 0.04932218790054321, 0.5219318866729736, 0.26041191816329956, 0.24181105196475983, 0.14880681037902832, 0.14880681037902832, 0.16740766167640686, 0.01860085129737854, 0.3697205185890198, 0.28560420870780945, 0.13888971507549286, 0.0880286917090416, 0.0586857944726944, 0.0586857944726944, 0.4042253792285919, 0.25264084339141846, 0.174551859498024, 0.06063380464911461, 0.05420294776558876, 0.05328425392508507, 0.5253575444221497, 0.21822544932365417, 0.12123636156320572, 0.04041212052106857, 0.04041212052106857, 0.05657696723937988, 0.2916039824485779, 0.32088637351989746, 0.169593945145607, 0.09760802239179611, 0.06710551679134369, 0.05368441343307495, 0.2479344755411148, 0.14462845027446747, 0.35124051570892334, 0.1239672377705574, 0.041322413831949234, 0.10330603271722794, 0.19049885869026184, 0.5714965462684631, 0.19049885869026184, 0.21693138778209686, 0.5784837007522583, 0.14462092518806458, 0.07231046259403229, 0.37599679827690125, 0.23552477359771729, 0.2097715586423874, 0.07866433262825012, 0.05572057142853737, 0.044014569371938705, 0.36621734499931335, 0.25900864601135254, 0.221058651804924, 0.0626174733042717, 0.04079623147845268, 0.050283726304769516, 0.40239855647087097, 0.28850769996643066, 0.3716490864753723, 0.15704482793807983, 0.09664297103881836, 0.04761087894439697, 0.0383729450404644, 0.39812296628952026, 0.39812296628952026, 0.3456534743309021, 0.3456534743309021, 0.3591243326663971, 0.2438334971666336, 0.1828751266002655, 0.1113152951002121, 0.05565764755010605, 0.04770655557513237, 0.33417680859565735, 0.2739154100418091, 0.16982756555080414, 0.0821746215224266, 0.10956616699695587, 0.0328698493540287, 0.33108705282211304, 0.2648696303367615, 0.1693933755159378, 0.11780539155006409, 0.05928768217563629, 0.058517713099718094, 0.40951675176620483, 0.21256223320960999, 0.17242811620235443, 0.09438952803611755, 0.057228293269872665, 0.054998621344566345, 0.577404260635376, 0.4021203815937042, 0.21186482906341553, 0.17804160714149475, 0.09113475680351257, 0.048855748027563095, 0.0681161880493164, 0.2562571167945862, 0.5125142335891724, 0.08541903644800186, 0.08541903644800186, 0.3611642122268677, 0.24077613651752472, 0.12038806825876236, 0.24077613651752472, 0.12038806825876236, 0.12038806825876236, 0.2814663350582123, 0.2814663350582123, 0.2814663350582123, 0.43429189920425415, 0.2295306921005249, 0.15191958844661713, 0.08421629667282104, 0.04458509758114815, 0.05449289828538895, 0.2493729591369629, 0.2493729591369629, 0.12468647956848145, 0.12468647956848145, 0.12468647956848145, 0.12468647956848145, 0.32587099075317383, 0.34878379106521606, 0.12856628000736237, 0.08783241361379623, 0.05219027400016785, 0.05600907653570175, 0.5343641042709351, 0.19431422650814056, 0.14573566615581512, 0.04857855662703514, 0.04857855662703514, 0.04857855662703514, 0.5662007927894592, 0.1415501981973648, 0.1415501981973648, 0.1415501981973648, 0.35495975613594055, 0.20030924677848816, 0.20988284051418304, 0.09573603421449661, 0.06333307176828384, 0.0758523941040039, 0.3599987328052521, 0.34552067518234253, 0.3193585276603699, 0.14885355532169342, 0.08389927446842194, 0.046009279787540436, 0.055932849645614624, 0.30492377281188965, 0.20328250527381897, 0.20328250527381897, 0.10164125263690948, 0.10164125263690948, 0.10164125263690948, 0.22761401534080505, 0.42896485328674316, 0.14007015526294708, 0.08316665887832642, 0.07003507763147354, 0.052526310086250305, 0.3745025396347046, 0.3745025396347046, 0.3745025396347046, 0.27454113960266113, 0.23041847348213196, 0.28598037362098694, 0.08497702330350876, 0.06863528490066528, 0.05719607323408127, 0.18189305067062378, 0.24252407252788544, 0.24252407252788544, 0.12126203626394272, 0.12126203626394272, 0.06063101813197136, 0.37644585967063904, 0.37644585967063904, 0.5550647974014282, 0.3168598711490631, 0.21123990416526794, 0.10561995208263397, 0.10561995208263397, 0.10561995208263397, 0.10561995208263397, 0.1513809710741043, 0.13761906325817108, 0.27523812651634216, 0.22019049525260925, 0.1926666796207428, 0.041285719722509384, 0.25793784856796265, 0.291581928730011, 0.19064971804618835, 0.10093221068382263, 0.09532485902309418, 0.06168079376220703, 0.31191587448120117, 0.24368427693843842, 0.14986582100391388, 0.12590354681015015, 0.07879124581813812, 0.08935090154409409, 0.3863206207752228, 0.3863206207752228, 0.20069830119609833, 0.5218155980110168, 0.16055864095687866, 0.040139660239219666, 0.040139660239219666, 0.040139660239219666, 0.3718194365501404, 0.3718194365501404, 0.3718194365501404, 0.2853637933731079, 0.24541287124156952, 0.21973012387752533, 0.11699915677309036, 0.08846277743577957, 0.042804569005966187, 0.49758729338645935, 0.1514396071434021, 0.17193520069122314, 0.08995284885168076, 0.039852529764175415, 0.04896168038249016, 0.13756035268306732, 0.13756035268306732, 0.13756035268306732, 0.27512070536613464, 0.27512070536613464, 0.1439172625541687, 0.1439172625541687, 0.5276966094970703, 0.047972422093153, 0.047972422093153, 0.047972422093153, 0.2697491943836212, 0.2456870675086975, 0.2570849061012268, 0.11651138961315155, 0.05445640906691551, 0.056989267468452454, 0.3851549029350281, 0.18317469954490662, 0.12211646884679794, 0.14653976261615753, 0.31750282645225525, 0.2075980007648468, 0.02442329376935959, 0.39295247197151184, 0.39295247197151184, 0.4263427257537842, 0.20012006163597107, 0.1392139494419098, 0.16531656682491302, 0.03480348736047745, 0.03480348736047745, 0.37976667284965515, 0.37976667284965515, 0.37976667284965515, 0.15179301798343658, 0.15179301798343658, 0.505976676940918, 0.10119534283876419, 0.050597671419382095, 0.050597671419382095, 0.6913923025131226, 0.13827845454216003, 0.13827845454216003, 0.13827845454216003, 0.10964548587799072, 0.16446822881698608, 0.603050172328949, 0.02741137146949768, 0.05482274293899536, 0.562047004699707, 0.14051175117492676, 0.14051175117492676, 0.19284313917160034, 0.578529417514801, 0.19284313917160034, 0.6344923973083496, 0.1153622567653656, 0.1153622567653656, 0.0576811283826828, 0.0576811283826828, 0.0576811283826828, 0.5355380177497864, 0.14605581760406494, 0.17039845883846283, 0.05532417446374893, 0.04868527501821518, 0.04204637184739113, 0.6407427191734314, 0.22699356079101562, 0.22699356079101562, 0.22699356079101562, 0.22699356079101562, 0.22699356079101562, 0.5211716294288635, 0.3630850613117218, 0.25136658549308777, 0.19550733268260956, 0.05585923790931702, 0.02792961895465851, 0.11171847581863403, 0.2844107151031494, 0.2844107151031494, 0.2844107151031494, 0.2844107151031494, 0.3744012713432312, 0.3744012713432312, 0.3744012713432312, 0.19843149185180664, 0.4960787296295166, 0.12401968240737915, 0.07441180944442749, 0.04960787296295166, 0.04960787296295166, 0.5468101501464844, 0.12866121530532837, 0.16542156040668488, 0.05514051765203476, 0.08730582147836685, 0.018380172550678253, 0.5485276579856873, 0.12336813658475876, 0.3701044023036957, 0.49347254633903503, 0.29738184809684753, 0.266366571187973, 0.22258028388023376, 0.07480157166719437, 0.07297714054584503, 0.06567943096160889, 0.34364548325538635, 0.3007762134075165, 0.1873801350593567, 0.07536691427230835, 0.048400770872831345, 0.04425213485956192, 0.3618548810482025, 0.2590537369251251, 0.21906128525733948, 0.07870312035083771, 0.0460810624063015, 0.03524976968765259, 0.3495480418205261, 0.3495480418205261, 0.5581175088882446, 0.11806332319974899, 0.13952937722206116, 0.06439817696809769, 0.06439817696809769, 0.042932115495204926, 0.21032467484474182, 0.5188008546829224, 0.08412986993789673, 0.1261948049068451, 0.028043290600180626, 0.028043290600180626, 0.18672609329223633, 0.4668152332305908, 0.18672609329223633, 0.04668152332305908, 0.04668152332305908, 0.04668152332305908, 0.30710965394973755, 0.2047397643327713, 0.3488158881664276, 0.056872155517339706, 0.03791477158665657, 0.04170624911785126, 0.27652987837791443, 0.23702560365200043, 0.07900853455066681, 0.17776919901371002, 0.11851280182600021, 0.11851280182600021, 0.19342833757400513, 0.5802850127220154, 0.19342833757400513, 0.21918345987796783, 0.5844892263412476, 0.1461223065853119, 0.07306115329265594, 0.07306115329265594, 0.4303969740867615, 0.11814819276332855, 0.30380964279174805, 0.05063493922352791, 0.06751324981451035, 0.025317469611763954, 0.23718257248401642, 0.23718257248401642, 0.11859128624200821, 0.11859128624200821, 0.11859128624200821, 0.1778869330883026, 0.2789744436740875, 0.1969231367111206, 0.24615392088890076, 0.08205130696296692, 0.06564104557037354, 0.14769235253334045, 0.2404392659664154, 0.2404392659664154, 0.1202196329832077, 0.2404392659664154, 0.07213177531957626, 0.04808785021305084, 0.10435809195041656, 0.626148521900177, 0.10435809195041656, 0.3269641101360321, 0.6539282202720642, 0.6691017746925354, 0.4034697711467743, 0.21853838860988617, 0.10489842295646667, 0.47204291820526123, 0.06993228197097778, 0.06993228197097778, 0.06119075044989586, 0.4039290249347687, 0.4039290249347687, 0.27627214789390564, 0.5525442957878113, 0.27627214789390564, 0.25844597816467285, 0.09691724181175232, 0.4199747145175934, 0.032305747270584106, 0.06461149454116821, 0.09691724181175232, 0.19518060982227325, 0.585541844367981, 0.19518060982227325, 0.38327163457870483, 0.38327163457870483, 0.38327163457870483, 0.280824214220047, 0.30756938457489014, 0.15601345896720886, 0.13669750094413757, 0.060919541865587234, 0.056462012231349945, 0.2952656149864197, 0.2952656149864197, 0.2952656149864197, 0.2952656149864197, 0.2952656149864197, 0.29397010803222656, 0.28048524260520935, 0.16181840002536774, 0.11057590693235397, 0.091697096824646, 0.06472735852003098, 0.15742041170597076, 0.40210649371147156, 0.25495263934135437, 0.10095439851284027, 0.0171109139919281, 0.06673256307840347, 0.29499369859695435, 0.18261516094207764, 0.25987541675567627, 0.14047320187091827, 0.06321293860673904, 0.059701107442379, 0.34976738691329956, 0.34976738691329956, 0.38075822591781616, 0.38075822591781616, 0.2781790494918823, 0.1788293868303299, 0.21856926381587982, 0.1788293868303299, 0.07947973161935806, 0.0596097968518734, 0.2915974259376526, 0.2932264804840088, 0.1482422798871994, 0.11566155403852463, 0.07656469196081161, 0.07493565231561661, 0.5453405976295471, 0.09089010208845139, 0.09089010208845139, 0.09089010208845139, 0.09089010208845139, 0.34208765625953674, 0.05701461061835289, 0.31358036398887634, 0.08552191406488419, 0.17104382812976837, 0.05701461061835289, 0.38537582755088806, 0.38537582755088806, 0.2260662466287613, 0.1507108211517334, 0.38514989614486694, 0.09210105985403061, 0.10884670913219452, 0.03349129483103752, 0.30243638157844543, 0.3278624415397644, 0.1686149686574936, 0.10438069701194763, 0.03880820795893669, 0.057543206959962845, 0.5694579482078552, 0.0854186937212944, 0.1138915941119194, 0.1708373874425888, 0.02847289852797985, 0.02847289852797985, 0.5915712714195251, 0.09859520941972733, 0.09859520941972733, 0.09859520941972733, 0.20717833936214447, 0.41435667872428894, 0.20717833936214447, 0.20717833936214447, 0.38975903391838074, 0.23364587128162384, 0.16239960491657257, 0.08801010251045227, 0.07334175705909729, 0.05343470722436905, 0.2749089002609253, 0.19032154977321625, 0.2114683985710144, 0.12688103318214417, 0.06344051659107208, 0.12688103318214417, 0.21300223469734192, 0.21300223469734192, 0.21300223469734192, 0.3195033371448517, 0.14737015962600708, 0.44211044907569885, 0.14737015962600708, 0.29474031925201416, 0.3842993378639221, 0.16898268461227417, 0.22076770663261414, 0.0763147622346878, 0.06268712878227234, 0.08994239568710327, 0.20821119844913483, 0.09464145451784134, 0.5110638737678528, 0.09464145451784134, 0.037856582552194595, 0.037856582552194595, 0.31805703043937683, 0.21203801035881042, 0.21203801035881042, 0.21203801035881042, 0.053009502589702606, 0.053009502589702606, 0.19316835701465607, 0.5926012396812439, 0.14078371226787567, 0.02619232051074505, 0.016370199620723724, 0.029466358944773674, 0.14195658266544342, 0.6286648511886597, 0.14195658266544342, 0.04055902361869812, 0.02027951180934906, 0.04055902361869812, 0.19132675230503082, 0.5739802718162537, 0.19132675230503082, 0.22001168131828308, 0.22001168131828308, 0.22001168131828308, 0.22001168131828308, 0.3378694951534271, 0.2598996162414551, 0.21500787138938904, 0.09096486866474152, 0.04725447669625282, 0.04961720108985901, 0.5725568532943726, 0.19085228443145752, 0.1090584471821785, 0.05452922359108925, 0.05452922359108925, 0.05452922359108925, 0.3014765679836273, 0.3294486105442047, 0.13986025750637054, 0.12742823362350464, 0.0652681216597557, 0.03729606792330742, 0.3841981887817383, 0.3841981887817383, 0.6660259366035461, 0.32679128646850586, 0.3061951994895935, 0.1736936867237091, 0.09611508250236511, 0.05011715367436409, 0.046684470027685165, 0.6782915592193604, 0.23838301002979279, 0.2796071469783783, 0.2545141875743866, 0.10754121094942093, 0.0591476634144783, 0.0591476634144783, 0.23757223784923553, 0.5939306020736694, 0.11878611892461777, 0.11878611892461777, 0.31685173511505127, 0.2688741683959961, 0.18191486597061157, 0.11994387209415436, 0.04697801545262337, 0.06397006660699844, 0.22333070635795593, 0.22333070635795593, 0.22333070635795593, 0.22333070635795593, 0.27082008123397827, 0.24706391990184784, 0.20905408263206482, 0.14728811383247375, 0.07601966708898544, 0.052263520658016205, 0.28740209341049194, 0.3672359883785248, 0.16676416993141174, 0.09580069780349731, 0.044352173805236816, 0.039029914885759354, 0.3171765208244324, 0.3281136453151703, 0.19796189665794373, 0.0576021708548069, 0.04192563146352768, 0.05723759904503822, 0.320342481136322, 0.2521213889122009, 0.18983256816864014, 0.08898402005434036, 0.08601788431406021, 0.062288813292980194, 0.514862060546875, 0.2654757499694824, 0.08044718950986862, 0.04022359475493431, 0.03217887878417969, 0.056313034147024155, 0.2959405779838562, 0.3803110122680664, 0.16294442117214203, 0.0724555253982544, 0.045083437114953995, 0.043151289224624634, 0.2527279853820801, 0.2914673388004303, 0.20568738877773285, 0.09684831649065018, 0.08485757559537888, 0.06917737424373627, 0.28383028507232666, 0.17739391326904297, 0.216814786195755, 0.16950975358486176, 0.07884174585342407, 0.07489965856075287, 0.25375130772590637, 0.3383350670337677, 0.12687565386295319, 0.21145941317081451, 0.04229188337922096, 0.04229188337922096, 0.29003220796585083, 0.2768489122390747, 0.18644927442073822, 0.12053286284208298, 0.052733127027750015, 0.0715663880109787, 0.15287508070468903, 0.15287508070468903, 0.45862525701522827, 0.15287508070468903, 0.4387747049331665, 0.2860470116138458, 0.23837251961231232, 0.1430235058069229, 0.19069801270961761, 0.047674503177404404, 0.1430235058069229, 0.47477903962135315, 0.15825967490673065, 0.15825967490673065, 0.15825967490673065, 0.3102833926677704, 0.26936691999435425, 0.16281354427337646, 0.13724073767662048, 0.06393201649188995, 0.05626017600297928, 0.6701629757881165, 0.6727893352508545, 0.3391914367675781, 0.2678054869174957, 0.2111293524503708, 0.09215277433395386, 0.04888856038451195, 0.04110100120306015, 0.3658275604248047, 0.33704113960266113, 0.12354176491498947, 0.08396042138338089, 0.051575690507888794, 0.03958134353160858, 0.37697213888168335, 0.40524327754974365, 0.40524327754974365, 0.3731795847415924, 0.29014942049980164, 0.129563570022583, 0.07664324343204498, 0.059307269752025604, 0.07208114117383957, 0.5249277353286743, 0.26246386766433716, 0.26246386766433716, 0.29283028841018677, 0.25319913029670715, 0.2554008662700653, 0.0902709886431694, 0.06605194509029388, 0.04183289781212807, 0.5924078822135925, 0.1974692940711975, 0.1974692940711975, 0.21032968163490295, 0.21032968163490295, 0.4206593632698059, 0.3615575134754181, 0.4093725085258484, 0.24306493997573853, 0.13723284006118774, 0.10583209991455078, 0.04186764359474182, 0.06280146539211273, 0.28585219383239746, 0.22232948243618011, 0.19056813418865204, 0.19056813418865204, 0.06352271139621735, 0.03176135569810867, 0.3291618525981903, 0.6583237051963806, 0.4817303717136383, 0.1398572027683258, 0.15539689362049103, 0.10100798308849335, 0.05438891425728798, 0.0699286013841629, 0.2966207265853882, 0.21924139559268951, 0.22440001368522644, 0.11606897413730621, 0.082537941634655, 0.05932414159178734, 0.2685921788215637, 0.28609004616737366, 0.2274722009897232, 0.10586205869913101, 0.06386719644069672, 0.04811912029981613, 0.3186267912387848, 0.17746302485466003, 0.1693965345621109, 0.1814962774515152, 0.10889776796102524, 0.04436575621366501, 0.505201518535614, 0.16840051114559174, 0.16840051114559174, 0.16840051114559174, 0.63089919090271, 0.1802569180727005, 0.09012845903635025, 0.09012845903635025, 0.29821884632110596, 0.22977519035339355, 0.22488635778427124, 0.14666500687599182, 0.04888833686709404, 0.05377717316150665, 0.30500635504722595, 0.23324015736579895, 0.08970775455236435, 0.23324015736579895, 0.0717662051320076, 0.05382465198636055, 0.23004087805747986, 0.4600817561149597, 0.11502043902873993, 0.057510219514369965, 0.057510219514369965, 0.057510219514369965, 0.3092854619026184, 0.3912929594516754, 0.1429273635149002, 0.0702921524643898, 0.0421752892434597, 0.0421752892434597, 0.301400363445282, 0.25420600175857544, 0.23382660746574402, 0.079372338950634, 0.06864634156227112, 0.062210749834775925, 0.12938979268074036, 0.38816937804222107, 0.12938979268074036, 0.2587795853614807, 0.22040416300296783, 0.22040416300296783, 0.22040416300296783, 0.22040416300296783, 0.2973499894142151, 0.2432863563299179, 0.09461136162281036, 0.2568022608757019, 0.03378977254033089, 0.06757954508066177, 0.5179117321968079, 0.5179117321968079, 0.41779080033302307, 0.11936879903078079, 0.1790532022714615, 0.059684399515390396, 0.1790532022714615, 0.6709981560707092, 0.29543858766555786, 0.25184929370880127, 0.27364394068717957, 0.09202186018228531, 0.03632441535592079, 0.04843255504965782, 0.2813029885292053, 0.3854072391986847, 0.14286647737026215, 0.09413681924343109, 0.046514663845300674, 0.04872965067625046, 0.42317262291908264, 0.2229466438293457, 0.12922385334968567, 0.10792321711778641, 0.052541568875312805, 0.06532195210456848, 0.5957544445991516, 0.19858482480049133, 0.34219810366630554, 0.29486560821533203, 0.18344174325466156, 0.08402084559202194, 0.04121777415275574, 0.05435311049222946, 0.539711058139801, 0.6775829195976257, 0.3863814175128937, 0.2643662393093109, 0.1602466106414795, 0.08947779983282089, 0.0455523356795311, 0.053686678409576416, 0.37787118554115295, 0.268621563911438, 0.268621563911438, 0.537243127822876, 0.23467133939266205, 0.19761797785758972, 0.23467133939266205, 0.04940449446439743, 0.08645786345005035, 0.19761797785758972, 0.501096785068512, 0.15526942908763885, 0.179971382021904, 0.07763471454381943, 0.035288505256175995, 0.05293275788426399, 0.3448585867881775, 0.25375625491142273, 0.19994138181209564, 0.08263706415891647, 0.05663662031292915, 0.062078576534986496, 0.22368444502353668, 0.22368444502353668, 0.22368444502353668, 0.22368444502353668, 0.3617663085460663, 0.23653951287269592, 0.11131270974874496, 0.05565635487437248, 0.18088315427303314, 0.041742268949747086, 0.3365231454372406, 0.25239235162734985, 0.1682615727186203, 0.08413078635931015, 0.1682615727186203, 0.08413078635931015, 0.17633523046970367, 0.4408380687236786, 0.08816761523485184, 0.08816761523485184, 0.17633523046970367, 0.3383125066757202, 0.6766250133514404, 0.33620399236679077, 0.33620399236679077, 0.33620399236679077, 0.16556262969970703, 0.6070629954338074, 0.11037508398294449, 0.055187541991472244, 0.055187541991472244, 0.34749311208724976, 0.16288739442825317, 0.2063240259885788, 0.08687327802181244, 0.06515495479106903, 0.15202823281288147, 0.3635660707950592, 0.1652573049068451, 0.1652573049068451, 0.13220584392547607, 0.06610292196273804, 0.13220584392547607, 0.19290834665298462, 0.5787250399589539, 0.19290834665298462, 0.19489820301532745, 0.5846946239471436, 0.19489820301532745, 0.4997982978820801, 0.20579929649829865, 0.1910993456840515, 0.029399899765849113, 0.044099848717451096, 0.029399899765849113, 0.23266932368278503, 0.21477168798446655, 0.3847992718219757, 0.08053938299417496, 0.0447441004216671, 0.0447441004216671, 0.37482506036758423, 0.37482506036758423, 0.23118478059768677, 0.23118478059768677, 0.23118478059768677, 0.15551699697971344, 0.6220679879188538, 0.15551699697971344, 0.6933833360671997, 0.36763128638267517, 0.18381564319133759, 0.18381564319133759, 0.18381564319133759, 0.3925534784793854, 0.22431626915931702, 0.1819150149822235, 0.08206693083047867, 0.06155019626021385, 0.058814629912376404, 0.44438493251800537, 0.11109623312950134, 0.11109623312950134, 0.22219246625900269, 0.11109623312950134, 0.11109623312950134, 0.2477857768535614, 0.4955715537071228, 0.1238928884267807, 0.1238928884267807, 0.13514190912246704, 0.5405676364898682, 0.13514190912246704, 0.30523353815078735, 0.29224488139152527, 0.20619499683380127, 0.07914965599775314, 0.061696141958236694, 0.05560770630836487, 0.27547940611839294, 0.27547940611839294, 0.27547940611839294, 0.26627129316329956, 0.26627129316329956, 0.5325425863265991, 0.31752637028694153, 0.28189215064048767, 0.19535188376903534, 0.07826802134513855, 0.06872314214706421, 0.05854193493723869, 0.6674157381057739, 0.3197465240955353, 0.15987326204776764, 0.15987326204776764, 0.15987326204776764, 0.15987326204776764, 0.44007793068885803, 0.34703192114830017, 0.30388742685317993, 0.10317165404558182, 0.10879919677972794, 0.0637788400053978, 0.07503393292427063, 0.25897708535194397, 0.5179541707038879, 0.17265138030052185, 0.23765011131763458, 0.23765011131763458, 0.23765011131763458, 0.23765011131763458, 0.42253220081329346, 0.42253220081329346, 0.21082010865211487, 0.21082010865211487, 0.21082010865211487, 0.10541005432605743, 0.10541005432605743, 0.10541005432605743, 0.26200541853904724, 0.11228803545236588, 0.4117228090763092, 0.13100270926952362, 0.05614401772618294, 0.03742934390902519, 0.20759500563144684, 0.4151900112628937, 0.20759500563144684, 0.29616600275039673, 0.24198928475379944, 0.27449530363082886, 0.06862382590770721, 0.050564926117658615, 0.06862382590770721, 0.3546577990055084, 0.2811065912246704, 0.20251765847206116, 0.06549078226089478, 0.04533977434039116, 0.04936997592449188, 0.6735305786132812, 0.40997713804244995, 0.2300068587064743, 0.19207589328289032, 0.07061614096164703, 0.041966162621974945, 0.055685870349407196, 0.34559616446495056, 0.2319755107164383, 0.2177729308605194, 0.08403194695711136, 0.05444323271512985, 0.06627871841192245, 0.25648233294487, 0.25648233294487, 0.17098821699619293, 0.08549410849809647, 0.17098821699619293, 0.08549410849809647, 0.17270192503929138, 0.17270192503929138, 0.5181058049201965, 0.3469052314758301, 0.3469052314758301, 0.3469052314758301, 0.5915532112121582, 0.19718441367149353, 0.19718441367149353, 0.3162955343723297, 0.28652653098106384, 0.260478675365448, 0.05674713850021362, 0.04093236103653908, 0.03907179832458496, 0.336079865694046, 0.18484391272068024, 0.2520598769187927, 0.09452246129512787, 0.07141696661710739, 0.06511547416448593, 0.4055231511592865, 0.4055231511592865, 0.21611733734607697, 0.47854551672935486, 0.10805866867303848, 0.1543695330619812, 0.03087390586733818, 0.01543695293366909, 0.185005784034729, 0.2543829679489136, 0.23125723004341125, 0.06937716901302338, 0.11562861502170563, 0.11562861502170563, 0.36260101199150085, 0.3431124687194824, 0.3431124687194824, 0.44090622663497925, 0.35898974537849426, 0.30543676018714905, 0.16435231268405914, 0.0594622939825058, 0.05761564150452614, 0.05392232909798622, 0.35001587867736816, 0.35001587867736816, 0.2973775267601013, 0.34226468205451965, 0.15710510313510895, 0.15710510313510895, 0.028054481372237206, 0.022443585097789764, 0.5082263946533203, 0.2981422245502472, 0.2462914139032364, 0.051850825548172, 0.1685151755809784, 0.090738944709301, 0.12962706387043], \"Term\": [\"abita\", \"abita\", \"abita\", \"abita\", \"abita\", \"abita\", \"aboutads\", \"aboutads\", \"aboutads\", \"aboutads\", \"aboutads\", \"aboutads\", \"accelerometer\", \"access\", \"access\", \"access\", \"access\", \"access\", \"access\", \"accessory\", \"accessory\", \"accessory\", \"accessory\", \"accessory\", \"accessory\", \"account\", \"account\", \"account\", \"account\", \"account\", \"account\", \"acsi\", \"acsi\", \"acsi\", \"acsi\", \"acsi\", \"activating\", \"activating\", \"activity\", \"activity\", \"activity\", \"activity\", \"activity\", \"activity\", \"acura\", \"acura\", \"acura\", \"acura\", \"acura\", \"acura\", \"addons\", \"addons\", \"addons\", \"addons\", \"addons\", \"addons\", \"address\", \"address\", \"address\", \"address\", \"address\", \"address\", \"addthis\", \"addthis\", \"addthis\", \"addthis\", \"addthis\", \"addthis\", \"adsfor\", \"advancing\", \"advancing\", \"advancing\", \"advancing\", \"advertiser\", \"advertiser\", \"advertiser\", \"advertiser\", \"advertiser\", \"advertiser\", \"advertising\", \"advertising\", \"advertising\", \"advertising\", \"advertising\", \"advertising\", \"advises\", \"advises\", \"advocacy\", \"advocacy\", \"advocacy\", \"advocacy\", \"advocacy\", \"affinity\", \"affinity\", \"affinity\", \"affinity\", \"allergy\", \"allergy\", \"allergy\", \"allergy\", \"allergy\", \"allergy\", \"allstate\", \"allstate\", \"allstate\", \"allstate\", \"allstate\", \"allstate\", \"also\", \"also\", \"also\", \"also\", \"also\", \"also\", \"amazon\", \"amazon\", \"amazon\", \"amazon\", \"amazon\", \"amazon\", \"america\", \"america\", \"america\", \"america\", \"america\", \"america\", \"analyse\", \"analyse\", \"analyse\", \"analyzes\", \"analyzes\", \"anaphylaxis\", \"anaphylaxis\", \"apply\", \"apply\", \"apply\", \"apply\", \"apply\", \"apply\", \"approximate\", \"atlantic\", \"atlantic\", \"atlantic\", \"atlantic\", \"atlantic\", \"atlantic\", \"austin\", \"austin\", \"austin\", \"autocomplete\", \"automatically\", \"automatically\", \"automatically\", \"automatically\", \"automatically\", \"automatically\", \"available\", \"available\", \"available\", \"available\", \"available\", \"available\", \"barnes\", \"barnes\", \"barnes\", \"barnes\", \"barnes\", \"barnes\", \"barnesandnoble\", \"barnesandnoble\", \"barnesandnoble\", \"barnesandnoble\", \"barrett\", \"barrett\", \"beacon\", \"beacon\", \"beacon\", \"beacon\", \"beacon\", \"beacon\", \"bing\", \"bing\", \"bing\", \"bing\", \"bing\", \"bing\", \"boardgamegeek\", \"boardgamegeek\", \"boardgamegeek\", \"boardgamegeek\", \"bookseller\", \"bookseller\", \"bookseller\", \"breed\", \"breed\", \"breed\", \"breed\", \"breed\", \"broker\", \"broker\", \"broker\", \"broker\", \"browser\", \"browser\", \"browser\", \"browser\", \"browser\", \"browser\", \"business\", \"business\", \"business\", \"business\", \"business\", \"business\", \"california\", \"california\", \"california\", \"california\", \"california\", \"california\", \"calvin\", \"caribou\", \"caribou\", \"caribou\", \"caribou\", \"caribou\", \"caribou\", \"certain\", \"certain\", \"certain\", \"certain\", \"certain\", \"certain\", \"change\", \"change\", \"change\", \"change\", \"change\", \"change\", \"chase\", \"chase\", \"chase\", \"chase\", \"chase\", \"chase\", \"child\", \"child\", \"child\", \"child\", \"child\", \"child\", \"citizen\", \"citizen\", \"citizen\", \"citizen\", \"citizen\", \"citizen\", \"clarity\", \"clarity\", \"clarity\", \"collaborator\", \"collaborator\", \"collaborator\", \"collaborator\", \"collect\", \"collect\", \"collect\", \"collect\", \"collect\", \"collect\", \"collected\", \"collected\", \"collected\", \"collected\", \"collected\", \"collected\", \"colocation\", \"company\", \"company\", \"company\", \"company\", \"company\", \"company\", \"completion\", \"completion\", \"comprises\", \"comprises\", \"computer\", \"computer\", \"computer\", \"computer\", \"computer\", \"computer\", \"consumer\", \"consumer\", \"consumer\", \"consumer\", \"consumer\", \"consumer\", \"contact\", \"contact\", \"contact\", \"contact\", \"contact\", \"contact\", \"content\", \"content\", \"content\", \"content\", \"content\", \"content\", \"cookiesscinews\", \"cooky\", \"cooky\", \"cooky\", \"cooky\", \"cooky\", \"cooky\", \"coremetrics\", \"coremetrics\", \"coremetrics\", \"coremetrics\", \"coverage\", \"coverage\", \"coverage\", \"coverage\", \"coverage\", \"coverage\", \"cozi\", \"cozi\", \"cozi\", \"credit\", \"credit\", \"credit\", \"credit\", \"credit\", \"credit\", \"creditcard\", \"creditcard\", \"creditcard\", \"creditcard\", \"creditcard\", \"creditcard\", \"customer\", \"customer\", \"customer\", \"customer\", \"customer\", \"customer\", \"dallas\", \"dallas\", \"dallas\", \"dallas\", \"dallas\", \"dallas\", \"dashboard\", \"dashboard\", \"dashboard\", \"dashboard\", \"data\", \"data\", \"data\", \"data\", \"data\", \"data\", \"degollado\", \"device\", \"device\", \"device\", \"device\", \"device\", \"device\", \"difficulty\", \"difficulty\", \"difficulty\", \"difficulty\", \"difficulty\", \"difficulty\", \"direct\", \"direct\", \"direct\", \"direct\", \"direct\", \"direct\", \"discipline\", \"discipline\", \"discipline\", \"disclose\", \"disclose\", \"disclose\", \"disclose\", \"disclose\", \"disclose\", \"donor\", \"donor\", \"donor\", \"donor\", \"donor\", \"donor\", \"drama\", \"drama\", \"eating\", \"echo\", \"echo\", \"echo\", \"echo\", \"echo\", \"echo\", \"education\", \"education\", \"education\", \"education\", \"education\", \"education\", \"electronic\", \"electronic\", \"electronic\", \"electronic\", \"electronic\", \"electronic\", \"email\", \"email\", \"email\", \"email\", \"email\", \"email\", \"engagement\", \"engagement\", \"enterprise\", \"enterprise\", \"enterprise\", \"enterprise\", \"enterprise\", \"enterprise\", \"entertaining\", \"entertaining\", \"entertaining\", \"event\", \"event\", \"event\", \"event\", \"event\", \"event\", \"example\", \"example\", \"example\", \"example\", \"example\", \"example\", \"fare\", \"fare\", \"fare\", \"fare\", \"fare\", \"farlex\", \"farlex\", \"farlex\", \"farlex\", \"farlex\", \"farlex\", \"feature\", \"feature\", \"feature\", \"feature\", \"feature\", \"feature\", \"flow\", \"food\", \"food\", \"food\", \"food\", \"food\", \"food\", \"foodallergy\", \"foodallergy\", \"fool\", \"fool\", \"fool\", \"fool\", \"fool\", \"fool\", \"fountain\", \"fountain\", \"fountain\", \"frederick\", \"frederick\", \"frederick\", \"frederick\", \"frederick\", \"frederick\", \"gardening\", \"gardening\", \"gardening\", \"gardening\", \"geekdo\", \"geekdo\", \"geekdo\", \"geekdo\", \"geekdo\", \"geotag\", \"geotag\", \"geotag\", \"glowlight\", \"glowlight\", \"glowlight\", \"gmail\", \"gmail\", \"gmail\", \"gmail\", \"gmail\", \"gmail\", \"google\", \"google\", \"google\", \"google\", \"google\", \"google\", \"greensboro\", \"grocery\", \"grocery\", \"grocery\", \"grocery\", \"grocery\", \"hamilton\", \"hill\", \"hill\", \"hill\", \"hill\", \"hill\", \"hill\", \"hind\", \"hind\", \"hind\", \"hind\", \"hiring\", \"hiring\", \"hiring\", \"holder\", \"holder\", \"holder\", \"holder\", \"holder\", \"holder\", \"honda\", \"honda\", \"honda\", \"honda\", \"honda\", \"honda\", \"honey\", \"houston\", \"houston\", \"houston\", \"identifiable\", \"identifiable\", \"identifiable\", \"identifiable\", \"identifiable\", \"identifiable\", \"including\", \"including\", \"including\", \"including\", \"including\", \"including\", \"information\", \"information\", \"information\", \"information\", \"information\", \"information\", \"infouptodate\", \"infouptodate\", \"instagram\", \"instagram\", \"instagram\", \"instagram\", \"instagram\", \"instagram\", \"insurance\", \"insurance\", \"insurance\", \"insurance\", \"insurance\", \"insurance\", \"interacting\", \"interacting\", \"interacting\", \"interacting\", \"interacting\", \"interacting\", \"interactive\", \"interactive\", \"interactive\", \"interactive\", \"interactive\", \"interactive\", \"investment\", \"investment\", \"investment\", \"investment\", \"investment\", \"investment\", \"isps\", \"isps\", \"isps\", \"issuer\", \"issuer\", \"issuer\", \"issuer\", \"issuer\", \"kaleida\", \"kaleida\", \"kaleida\", \"kaleida\", \"kaleida\", \"kaleida\", \"kindle\", \"kindle\", \"kindle\", \"kindle\", \"kindle\", \"kindle\", \"kinja\", \"kinja\", \"kinja\", \"kinja\", \"kinja\", \"kinja\", \"kraft\", \"kraft\", \"kraft\", \"kraft\", \"kraft\", \"kraft\", \"lark\", \"lark\", \"lark\", \"larkcrafts\", \"larkcrafts\", \"lbcs\", \"libel\", \"library\", \"library\", \"library\", \"library\", \"library\", \"library\", \"lifethreatening\", \"lifethreatening\", \"linganore\", \"linganore\", \"linganore\", \"liquor\", \"liquor\", \"liquor\", \"liquor\", \"liquor\", \"liquor\", \"loan\", \"loan\", \"loan\", \"lowenergy\", \"lowenergy\", \"lowenergy\", \"marketing\", \"marketing\", \"marketing\", \"marketing\", \"marketing\", \"marketing\", \"matching\", \"matching\", \"matching\", \"matching\", \"matching\", \"material\", \"material\", \"material\", \"material\", \"material\", \"material\", \"medianews\", \"medianews\", \"medianews\", \"medianews\", \"medianews\", \"medianews\", \"member\", \"member\", \"member\", \"member\", \"member\", \"member\", \"member_privacy\", \"member_privacy\", \"memorial\", \"memorial\", \"meredith\", \"meredith\", \"meredith\", \"meredith\", \"meredith\", \"meredith\", \"message\", \"message\", \"message\", \"message\", \"message\", \"message\", \"metadata\", \"metadata\", \"metadata\", \"metadata\", \"metadata\", \"miami\", \"miami\", \"miami\", \"miami\", \"miami\", \"miami\", \"miaminewtimes\", \"miaminewtimes\", \"military\", \"military\", \"military\", \"military\", \"military\", \"military\", \"mobile\", \"mobile\", \"mobile\", \"mobile\", \"mobile\", \"mobile\", \"mohegan\", \"mohegan\", \"mohegan\", \"mohegan\", \"mohegan\", \"mohegan\", \"momentum\", \"momentum\", \"momentum\", \"momentum\", \"montana\", \"montana\", \"montana\", \"montana\", \"name\", \"name\", \"name\", \"name\", \"name\", \"name\", \"nara\", \"nara\", \"nara\", \"nara\", \"nara\", \"nara\", \"naturalnews\", \"naturalnews\", \"naturalnews\", \"naturalnews\", \"nevada\", \"nevada\", \"nevada\", \"nevada\", \"newsletter\", \"newsletter\", \"newsletter\", \"newsletter\", \"newsletter\", \"newsletter\", \"newspost\", \"newspost\", \"newspost\", \"newspost\", \"newspost\", \"newspost\", \"nielsen\", \"nielsen\", \"nielsen\", \"nielsen\", \"nielsen\", \"nielsen\", \"noble\", \"noble\", \"noble\", \"noble\", \"noble\", \"noble\", \"nook\", \"nook\", \"nook\", \"nook\", \"nook\", \"nook\", \"nookpressnook\", \"nookpressnook\", \"nookpressnook\", \"northfield\", \"northfield\", \"northfield\", \"northfield\", \"number\", \"number\", \"number\", \"number\", \"number\", \"number\", \"nytimes\", \"nytimes\", \"nytimes\", \"nytimes\", \"nytimes\", \"nytimes\", \"offer\", \"offer\", \"offer\", \"offer\", \"offer\", \"offer\", \"onepixel\", \"onepixel\", \"onesfor\", \"online\", \"online\", \"online\", \"online\", \"online\", \"online\", \"onlinefor\", \"optout\", \"optout\", \"optout\", \"optout\", \"optout\", \"optout\", \"outlet\", \"outlet\", \"outlet\", \"outlet\", \"page\", \"page\", \"page\", \"page\", \"page\", \"page\", \"partial\", \"partial\", \"partial\", \"partial\", \"particular\", \"particular\", \"particular\", \"particular\", \"particular\", \"particular\", \"partner\", \"partner\", \"partner\", \"partner\", \"partner\", \"partner\", \"party\", \"party\", \"party\", \"party\", \"party\", \"party\", \"payment\", \"payment\", \"payment\", \"payment\", \"payment\", \"payment\", \"paymentech\", \"paymentech\", \"paymentech\", \"paymentech\", \"paymentech\", \"paymentech\", \"personal\", \"personal\", \"personal\", \"personal\", \"personal\", \"personal\", \"personally\", \"personally\", \"personally\", \"personally\", \"personally\", \"personally\", \"phone\", \"phone\", \"phone\", \"phone\", \"phone\", \"phone\", \"pittsburgh\", \"pittsburgh\", \"pittsburgh\", \"pittsburgh\", \"pittsburgh\", \"pittsburgh\", \"post\", \"post\", \"post\", \"post\", \"post\", \"post\", \"postcard\", \"postcard\", \"postcard\", \"postcard\", \"postmaster\", \"prime\", \"prime\", \"prime\", \"prime\", \"prime\", \"prime\", \"privacyscinews\", \"privacyscinews\", \"privacyscinews\", \"privacyscinews\", \"product\", \"product\", \"product\", \"product\", \"product\", \"product\", \"properlyfor\", \"protectfor\", \"provide\", \"provide\", \"provide\", \"provide\", \"provide\", \"provide\", \"provider\", \"provider\", \"provider\", \"provider\", \"provider\", \"provider\", \"proximity\", \"purged\", \"purged\", \"purpose\", \"purpose\", \"purpose\", \"purpose\", \"purpose\", \"purpose\", \"quart\", \"quart\", \"quart\", \"question\", \"question\", \"question\", \"question\", \"question\", \"question\", \"quicker\", \"quicker\", \"quicker\", \"randall\", \"randall\", \"randall\", \"ranger\", \"receive\", \"receive\", \"receive\", \"receive\", \"receive\", \"receive\", \"recipe\", \"recipe\", \"recipe\", \"recipe\", \"recipe\", \"recipe\", \"rectified\", \"rectified\", \"reddit\", \"reddit\", \"reddit\", \"reddit\", \"reddit\", \"reddit\", \"registration\", \"registration\", \"registration\", \"registration\", \"registration\", \"registration\", \"request\", \"request\", \"request\", \"request\", \"request\", \"request\", \"research\", \"research\", \"research\", \"research\", \"research\", \"research\", \"reservation\", \"reservation\", \"reservation\", \"reservation\", \"restaurantnews\", \"restaurantnews\", \"restaurantnews\", \"restaurantnews\", \"result\", \"result\", \"result\", \"result\", \"result\", \"result\", \"resume\", \"resume\", \"resume\", \"resume\", \"resume\", \"resume\", \"retailer\", \"retailer\", \"retailer\", \"retailer\", \"retailer\", \"retailer\", \"review\", \"review\", \"review\", \"review\", \"review\", \"review\", \"right\", \"right\", \"right\", \"right\", \"right\", \"right\", \"roanoke\", \"roanoke\", \"roanoke\", \"roanoke\", \"sage\", \"sage\", \"sage\", \"sage\", \"science\", \"science\", \"science\", \"science\", \"science\", \"science\", \"scienceviews\", \"scienceviews\", \"scinews\", \"scinews\", \"scinews\", \"scinews\", \"scinews\", \"scroll\", \"search\", \"search\", \"search\", \"search\", \"search\", \"search\", \"security\", \"security\", \"security\", \"security\", \"security\", \"security\", \"send\", \"send\", \"send\", \"send\", \"send\", \"send\", \"sensor\", \"sensor\", \"service\", \"service\", \"service\", \"service\", \"service\", \"service\", \"servicesif\", \"settingsfor\", \"share\", \"share\", \"share\", \"share\", \"share\", \"share\", \"shoppbs\", \"shtml\", \"shtml\", \"shtml\", \"sidearm\", \"sidearm\", \"sidearm\", \"sidearm\", \"sidearm\", \"sidearm\", \"similar\", \"similar\", \"similar\", \"similar\", \"similar\", \"similar\", \"site\", \"site\", \"site\", \"site\", \"site\", \"site\", \"skop\", \"skop\", \"skop\", \"skop\", \"smithsonian\", \"smithsonian\", \"smithsonian\", \"smithsonian\", \"smithsonian\", \"smithsonian\", \"smithsonians\", \"smithsonians\", \"smithsonians\", \"smithsonians\", \"smithsonians\", \"smithsonians\", \"snea\", \"snea\", \"snea\", \"snea\", \"snea\", \"solar\", \"solar\", \"solicited\", \"solicited\", \"solicited\", \"sparknotes\", \"sparknotes\", \"sparknotes\", \"sparknotes\", \"sparknotes\", \"sport\", \"sport\", \"sport\", \"sport\", \"sport\", \"sport\", \"station\", \"station\", \"station\", \"station\", \"station\", \"station\", \"sterling\", \"sterling\", \"sterling\", \"strength\", \"strength\", \"strength\", \"student\", \"student\", \"student\", \"student\", \"student\", \"student\", \"subscriber\", \"subscriber\", \"subscriber\", \"subscriber\", \"subscriber\", \"subscriber\", \"suggests\", \"suggests\", \"supportzacks\", \"supportzacks\", \"supportzacks\", \"tanger\", \"tanger\", \"tanger\", \"tangeroutlets\", \"taste\", \"taste\", \"taste\", \"taste\", \"technology\", \"technology\", \"technology\", \"technology\", \"technology\", \"technology\", \"telemundo\", \"telemundo\", \"telemundo\", \"telemundo\", \"telemundo\", \"telemundo\", \"textbook\", \"textbook\", \"textbook\", \"textbook\", \"thebook\", \"thebook\", \"thebook\", \"third\", \"third\", \"third\", \"third\", \"third\", \"third\", \"thrilling\", \"thrilling\", \"thrilling\", \"thursday\", \"thursday\", \"thursday\", \"time\", \"time\", \"time\", \"time\", \"time\", \"time\", \"towersfor\", \"translational\", \"translational\", \"translational\", \"translational\", \"translational\", \"tucson\", \"type\", \"type\", \"type\", \"type\", \"type\", \"type\", \"ultraviolet\", \"ultraviolet\", \"ultraviolet\", \"unisub\", \"unisub\", \"unisub\", \"unisub\", \"unsubscribed\", \"unsubscribed\", \"unsubscribing\", \"unsubscribing\", \"unsubscribing\", \"unsubscribing\", \"unsubscribing\", \"unsubscribing\", \"uptodate\", \"uptodate\", \"uptodate\", \"uptodate\", \"uptodate\", \"uptodate\", \"uptodates\", \"uptodates\", \"uptodates\", \"usage\", \"usage\", \"usage\", \"usage\", \"usage\", \"usage\", \"used\", \"used\", \"used\", \"used\", \"used\", \"used\", \"usefulfor\", \"user\", \"user\", \"user\", \"user\", \"user\", \"user\", \"using\", \"using\", \"using\", \"using\", \"using\", \"using\", \"valley\", \"valley\", \"valley\", \"valley\", \"valley\", \"valley\", \"valueclick\", \"valueclick\", \"valueclick\", \"valueclickmedia\", \"valueclickmedia\", \"valueclickmedia\", \"visibility\", \"visibility\", \"visibility\", \"visit\", \"visit\", \"visit\", \"visit\", \"visit\", \"visit\", \"visitor\", \"visitor\", \"visitor\", \"visitor\", \"visitor\", \"visitor\", \"volunteering\", \"volunteering\", \"walmart\", \"walmart\", \"walmart\", \"walmart\", \"walmart\", \"walmart\", \"washingtonian\", \"washingtonian\", \"washingtonian\", \"washingtonian\", \"washingtonian\", \"washingtonian\", \"wearever\", \"webct\", \"webct\", \"webseed\", \"website\", \"website\", \"website\", \"website\", \"website\", \"website\", \"wholly\", \"wholly\", \"yahoo\", \"yahoo\", \"yahoo\", \"yahoo\", \"yahoo\", \"yahoo\", \"youprivacy\", \"zacks\", \"zacks\", \"zacks\", \"zacks\", \"zacks\", \"zacks\"]}, \"R\": 30, \"lambda.step\": 0.01, \"plot.opts\": {\"xlab\": \"PC1\", \"ylab\": \"PC2\"}, \"topic.order\": [3, 1, 4, 5, 2, 6]};\n",
       "\n",
       "function LDAvis_load_lib(url, callback){\n",
       "  var s = document.createElement('script');\n",
       "  s.src = url;\n",
       "  s.async = true;\n",
       "  s.onreadystatechange = s.onload = callback;\n",
       "  s.onerror = function(){console.warn(\"failed to load library \" + url);};\n",
       "  document.getElementsByTagName(\"head\")[0].appendChild(s);\n",
       "}\n",
       "\n",
       "if(typeof(LDAvis) !== \"undefined\"){\n",
       "   // already loaded: just create the visualization\n",
       "   !function(LDAvis){\n",
       "       new LDAvis(\"#\" + \"ldavis_el53241121543179524049341374\", ldavis_el53241121543179524049341374_data);\n",
       "   }(LDAvis);\n",
       "}else if(typeof define === \"function\" && define.amd){\n",
       "   // require.js is available: use it to load d3/LDAvis\n",
       "   require.config({paths: {d3: \"https://cdnjs.cloudflare.com/ajax/libs/d3/3.5.5/d3.min\"}});\n",
       "   require([\"d3\"], function(d3){\n",
       "      window.d3 = d3;\n",
       "      LDAvis_load_lib(\"https://cdn.rawgit.com/bmabey/pyLDAvis/files/ldavis.v1.0.0.js\", function(){\n",
       "        new LDAvis(\"#\" + \"ldavis_el53241121543179524049341374\", ldavis_el53241121543179524049341374_data);\n",
       "      });\n",
       "    });\n",
       "}else{\n",
       "    // require.js not available: dynamically load d3 & LDAvis\n",
       "    LDAvis_load_lib(\"https://cdnjs.cloudflare.com/ajax/libs/d3/3.5.5/d3.min.js\", function(){\n",
       "         LDAvis_load_lib(\"https://cdn.rawgit.com/bmabey/pyLDAvis/files/ldavis.v1.0.0.js\", function(){\n",
       "                 new LDAvis(\"#\" + \"ldavis_el53241121543179524049341374\", ldavis_el53241121543179524049341374_data);\n",
       "            })\n",
       "         });\n",
       "}\n",
       "</script>"
      ],
      "text/plain": [
       "PreparedData(topic_coordinates=               x          y  topics  cluster       Freq\n",
       "topic                                                  \n",
       "2      15.046137   7.186164       1        1  33.274483\n",
       "0       9.724442  13.850856       2        1  27.102100\n",
       "3       1.905665   2.359922       3        1  19.214546\n",
       "4       1.679781  11.019171       4        1   9.172740\n",
       "1       7.714116   6.943252       5        1   5.801170\n",
       "5      10.264927   0.010398       6        1   5.434951, topic_info=    Category          Freq          Term         Total  loglift  logprob\n",
       "366  Default  15602.000000   information  15602.000000  30.0000  30.0000\n",
       "679  Default   4961.000000          site   4961.000000  29.0000  29.0000\n",
       "250  Default   2462.000000         email   2462.000000  28.0000  28.0000\n",
       "668  Default   4415.000000       service   4415.000000  27.0000  27.0000\n",
       "744  Default   2463.000000         third   2463.000000  26.0000  26.0000\n",
       "807  Default   2707.000000       website   2707.000000  25.0000  25.0000\n",
       "170  Default   2128.000000         cooky   2128.000000  24.0000  24.0000\n",
       "19   Default   2020.000000       address   2020.000000  23.0000  23.0000\n",
       "507  Default   2742.000000         party   2742.000000  22.0000  22.0000\n",
       "515  Default   3105.000000      personal   3105.000000  21.0000  21.0000\n",
       "778  Default   2478.000000          user   2478.000000  20.0000  20.0000\n",
       "45   Default   1502.000000          also   1502.000000  19.0000  19.0000\n",
       "187  Default   1357.000000          data   1357.000000  18.0000  18.0000\n",
       "3    Default   1520.000000        access   1520.000000  17.0000  17.0000\n",
       "745  Default   1571.000000          time   1571.000000  16.0000  16.0000\n",
       "563  Default   2311.000000       provide   2311.000000  15.0000  15.0000\n",
       "127  Default   2135.000000       collect   2135.000000  14.0000  14.0000\n",
       "969  Default   1084.000000    personally   1084.000000  13.0000  13.0000\n",
       "551  Default   1173.000000       product   1173.000000  12.0000  12.0000\n",
       "157  Default   1298.000000       contact   1298.000000  11.0000  11.0000\n",
       "927  Default   1096.000000  identifiable   1096.000000  10.0000  10.0000\n",
       "160  Default   1345.000000       content   1345.000000   9.0000   9.0000\n",
       "571  Default   1095.000000       purpose   1095.000000   8.0000   8.0000\n",
       "30   Default   1233.000000   advertising   1233.000000   7.0000   7.0000\n",
       "617  Default   1142.000000       request   1142.000000   6.0000   6.0000\n",
       "479  Default   1456.000000        online   1456.000000   5.0000   5.0000\n",
       "498  Default   1000.000000          page   1000.000000   4.0000   4.0000\n",
       "642  Default    932.000000         right    932.000000   3.0000   3.0000\n",
       "459  Default    954.000000          name    954.000000   2.0000   2.0000\n",
       "6    Default   1496.000000       account   1496.000000   1.0000   1.0000\n",
       "..       ...           ...           ...           ...      ...      ...\n",
       "969   Topic6     74.687340    personally   1084.169556   0.2371  -5.3325\n",
       "668   Topic6    239.931747       service   4415.570801  -0.0002  -4.1654\n",
       "445   Topic6     45.681866       message    613.859985   0.3143  -5.8241\n",
       "507   Topic6    156.540329         party   2742.952148   0.0488  -4.5925\n",
       "927   Topic6     72.368874  identifiable   1096.233643   0.1945  -5.3640\n",
       "759   Topic6     39.697529          type    533.092163   0.3149  -5.9645\n",
       "778   Topic6    137.938477          user   2478.187012   0.0238  -4.7190\n",
       "744   Topic6    136.718033         third   2463.687256   0.0208  -4.7279\n",
       "807   Topic6    146.422226       website   2707.598145  -0.0050  -4.6593\n",
       "30    Topic6     77.296753   advertising   1233.534912   0.1423  -5.2981\n",
       "745   Topic6     92.286110          time   1571.523071   0.0774  -5.1209\n",
       "366   Topic6    549.837463   information  15602.939453  -0.4333  -3.3362\n",
       "498   Topic6     64.177864          page   1000.467957   0.1658  -5.4841\n",
       "781   Topic6     55.866322         using    844.916748   0.1960  -5.6228\n",
       "157   Topic6     76.067062       contact   1298.752075   0.0748  -5.3142\n",
       "19    Topic6    104.762650       address   2020.407349  -0.0470  -4.9941\n",
       "45    Topic6     84.335960          also   1502.300415   0.0324  -5.2110\n",
       "3     Topic6     82.097855        access   1520.531006  -0.0066  -5.2379\n",
       "642   Topic6     57.708565         right    932.314758   0.1301  -5.5904\n",
       "6     Topic6     80.526695       account   1496.802368  -0.0102  -5.2572\n",
       "515   Topic6    134.057404      personal   3105.353271  -0.2303  -4.7475\n",
       "160   Topic6     73.901627       content   1345.488281   0.0105  -5.3431\n",
       "551   Topic6     66.393494       product   1173.121094   0.0405  -5.4502\n",
       "127   Topic6     94.146210       collect   2135.656494  -0.2094  -5.1009\n",
       "563   Topic6     95.244331       provide   2311.379150  -0.2768  -5.0894\n",
       "671   Topic6     66.188034         share   1229.355225  -0.0094  -5.4533\n",
       "212   Topic6     62.365265        device   1108.472046   0.0346  -5.5128\n",
       "107   Topic6     59.758327       certain   1022.393921   0.0727  -5.5555\n",
       "479   Topic6     67.767509        online   1456.587158  -0.1554  -5.4297\n",
       "357   Topic6     64.012794     including   1446.257935  -0.2053  -5.4867\n",
       "\n",
       "[506 rows x 6 columns], token_table=      Topic      Freq           Term\n",
       "term                                \n",
       "3219      1  0.228335          abita\n",
       "3219      2  0.456669          abita\n",
       "3219      3  0.025371          abita\n",
       "3219      4  0.177594          abita\n",
       "3219      5  0.076112          abita\n",
       "3219      6  0.050741          abita\n",
       "1944      1  0.525739       aboutads\n",
       "1944      2  0.175246       aboutads\n",
       "1944      3  0.125176       aboutads\n",
       "1944      4  0.050070       aboutads\n",
       "1944      5  0.075106       aboutads\n",
       "1944      6  0.050070       aboutads\n",
       "7504      1  0.671637  accelerometer\n",
       "3         1  0.327517         access\n",
       "3         2  0.313706         access\n",
       "3         3  0.138767         access\n",
       "3         4  0.094704         access\n",
       "3         5  0.071685         access\n",
       "3         6  0.053929         access\n",
       "6954      1  0.291174      accessory\n",
       "6954      2  0.291174      accessory\n",
       "6954      3  0.097058      accessory\n",
       "6954      4  0.097058      accessory\n",
       "6954      5  0.097058      accessory\n",
       "6954      6  0.097058      accessory\n",
       "6         1  0.362105        account\n",
       "6         2  0.308658        account\n",
       "6         3  0.159674        account\n",
       "6         4  0.074158        account\n",
       "6         5  0.041422        account\n",
       "...     ...       ...            ...\n",
       "3354      2  0.254383  washingtonian\n",
       "3354      3  0.231257  washingtonian\n",
       "3354      4  0.069377  washingtonian\n",
       "3354      5  0.115629  washingtonian\n",
       "3354      6  0.115629  washingtonian\n",
       "7251      1  0.362601       wearever\n",
       "1447      2  0.343112          webct\n",
       "1447      3  0.343112          webct\n",
       "3091      6  0.440906        webseed\n",
       "807       1  0.358990        website\n",
       "807       2  0.305437        website\n",
       "807       3  0.164352        website\n",
       "807       4  0.059462        website\n",
       "807       5  0.057616        website\n",
       "807       6  0.053922        website\n",
       "4614      1  0.350016         wholly\n",
       "4614      3  0.350016         wholly\n",
       "2260      1  0.297378          yahoo\n",
       "2260      2  0.342265          yahoo\n",
       "2260      3  0.157105          yahoo\n",
       "2260      4  0.157105          yahoo\n",
       "2260      5  0.028054          yahoo\n",
       "2260      6  0.022444          yahoo\n",
       "6914      2  0.508226     youprivacy\n",
       "1943      1  0.298142          zacks\n",
       "1943      2  0.246291          zacks\n",
       "1943      3  0.051851          zacks\n",
       "1943      4  0.168515          zacks\n",
       "1943      5  0.090739          zacks\n",
       "1943      6  0.129627          zacks\n",
       "\n",
       "[1367 rows x 3 columns], R=30, lambda_step=0.01, plot_opts={'xlab': 'PC1', 'ylab': 'PC2'}, topic_order=[3, 1, 4, 5, 2, 6])"
      ]
     },
     "execution_count": 17,
     "metadata": {},
     "output_type": "execute_result"
    }
   ],
   "source": [
    "# Visualize the topics with tsne transformation\n",
    "pyLDAvis.enable_notebook()\n",
    "vis_tsne = pyLDAvis.gensim.prepare(optimal_model, corpus, id2word, mds = 'tsne',R = 20, sort_topics = True)\n",
    "vis_tsne"
   ]
  },
  {
   "cell_type": "code",
   "execution_count": 51,
   "metadata": {
    "ExecuteTime": {
     "end_time": "2019-02-11T20:52:04.152557Z",
     "start_time": "2019-02-11T20:52:03.349104Z"
    }
   },
   "outputs": [],
   "source": [
    "df_topic_sents_keywords = format_topics_sentences(\n",
    "    ldamodel=optimal_model, corpus=corpus, texts=split_data_words)\n",
    "\n",
    "# Format\n",
    "df_dominant_topic = df_topic_sents_keywords.reset_index()\n",
    "df_dominant_topic.columns = [\n",
    "    'Document_No', 'Dominant_Topic', 'Topic_Perc_Contrib', 'Keywords', 'Text']"
   ]
  },
  {
   "cell_type": "code",
   "execution_count": 52,
   "metadata": {
    "ExecuteTime": {
     "end_time": "2019-02-11T20:52:08.237614Z",
     "start_time": "2019-02-11T20:52:08.230190Z"
    }
   },
   "outputs": [
    {
     "data": {
      "text/plain": [
       "[(0,\n",
       "  '0.052*\"information\" + 0.017*\"service\" + 0.016*\"site\" + 0.015*\"personal\" + 0.012*\"party\" + 0.011*\"website\" + 0.009*\"third\" + 0.008*\"provide\" + 0.008*\"email\" + 0.007*\"user\"'),\n",
       " (1,\n",
       "  '0.044*\"information\" + 0.017*\"site\" + 0.012*\"email\" + 0.011*\"service\" + 0.009*\"website\" + 0.009*\"third\" + 0.009*\"personal\" + 0.008*\"address\" + 0.007*\"collect\" + 0.007*\"party\"'),\n",
       " (2,\n",
       "  '0.060*\"information\" + 0.018*\"site\" + 0.016*\"service\" + 0.011*\"user\" + 0.010*\"website\" + 0.010*\"personal\" + 0.009*\"party\" + 0.009*\"cooky\" + 0.008*\"collect\" + 0.008*\"address\"'),\n",
       " (3,\n",
       "  '0.063*\"information\" + 0.018*\"site\" + 0.015*\"service\" + 0.010*\"party\" + 0.009*\"third\" + 0.009*\"personal\" + 0.009*\"provide\" + 0.009*\"user\" + 0.008*\"collect\" + 0.008*\"website\"'),\n",
       " (4,\n",
       "  '0.047*\"information\" + 0.016*\"site\" + 0.014*\"service\" + 0.012*\"email\" + 0.009*\"personal\" + 0.008*\"address\" + 0.008*\"provide\" + 0.007*\"third\" + 0.007*\"cooky\" + 0.007*\"user\"'),\n",
       " (5,\n",
       "  '0.036*\"information\" + 0.020*\"site\" + 0.016*\"service\" + 0.014*\"email\" + 0.010*\"party\" + 0.009*\"website\" + 0.009*\"cooky\" + 0.009*\"user\" + 0.009*\"third\" + 0.009*\"personal\"')]"
      ]
     },
     "execution_count": 52,
     "metadata": {},
     "output_type": "execute_result"
    }
   ],
   "source": [
    "optimal_model.show_topics(formatted=True, num_words=10)"
   ]
  },
  {
   "cell_type": "code",
   "execution_count": 53,
   "metadata": {
    "ExecuteTime": {
     "end_time": "2019-02-11T20:52:13.781509Z",
     "start_time": "2019-02-11T20:52:13.747126Z"
    }
   },
   "outputs": [
    {
     "data": {
      "text/html": [
       "<div>\n",
       "<style scoped>\n",
       "    .dataframe tbody tr th:only-of-type {\n",
       "        vertical-align: middle;\n",
       "    }\n",
       "\n",
       "    .dataframe tbody tr th {\n",
       "        vertical-align: top;\n",
       "    }\n",
       "\n",
       "    .dataframe thead th {\n",
       "        text-align: right;\n",
       "    }\n",
       "</style>\n",
       "<table border=\"1\" class=\"dataframe\">\n",
       "  <thead>\n",
       "    <tr style=\"text-align: right;\">\n",
       "      <th></th>\n",
       "      <th>doc_type</th>\n",
       "      <th>file</th>\n",
       "      <th>text</th>\n",
       "      <th>year</th>\n",
       "      <th>Document_No</th>\n",
       "      <th>Dominant_Topic</th>\n",
       "      <th>Topic_Perc_Contrib</th>\n",
       "      <th>Keywords</th>\n",
       "      <th>Text</th>\n",
       "    </tr>\n",
       "  </thead>\n",
       "  <tbody>\n",
       "    <tr>\n",
       "      <th>0</th>\n",
       "      <td>pp</td>\n",
       "      <td>/Users/dbm/Downloads/OPP-115/sanitized_policie...</td>\n",
       "      <td>Privacy Policy Last Modified March 25 2013 Thi...</td>\n",
       "      <td>2013</td>\n",
       "      <td>0</td>\n",
       "      <td>2.0</td>\n",
       "      <td>0.3610</td>\n",
       "      <td>information, site, service, user, website, per...</td>\n",
       "      <td>[last, modified, march, latinpost, site, inten...</td>\n",
       "    </tr>\n",
       "    <tr>\n",
       "      <th>1</th>\n",
       "      <td>pp</td>\n",
       "      <td>/Users/dbm/Downloads/OPP-115/sanitized_policie...</td>\n",
       "      <td>Welcome to the Google Privacy Policy When you...</td>\n",
       "      <td>2015</td>\n",
       "      <td>1</td>\n",
       "      <td>2.0</td>\n",
       "      <td>0.9922</td>\n",
       "      <td>information, site, service, user, website, per...</td>\n",
       "      <td>[welcome, google, google, service, trust, info...</td>\n",
       "    </tr>\n",
       "    <tr>\n",
       "      <th>2</th>\n",
       "      <td>pp</td>\n",
       "      <td>/Users/dbm/Downloads/OPP-115/sanitized_policie...</td>\n",
       "      <td>Web Privacy Statement Austin Community Colleg...</td>\n",
       "      <td></td>\n",
       "      <td>2</td>\n",
       "      <td>3.0</td>\n",
       "      <td>0.9234</td>\n",
       "      <td>information, site, service, party, third, pers...</td>\n",
       "      <td>[statement, austin, community, college, commit...</td>\n",
       "    </tr>\n",
       "    <tr>\n",
       "      <th>3</th>\n",
       "      <td>pp</td>\n",
       "      <td>/Users/dbm/Downloads/OPP-115/sanitized_policie...</td>\n",
       "      <td>Privacy Policy PBS is committed to protecting ...</td>\n",
       "      <td>2009</td>\n",
       "      <td>3</td>\n",
       "      <td>5.0</td>\n",
       "      <td>0.4420</td>\n",
       "      <td>information, site, service, email, party, webs...</td>\n",
       "      <td>[committed, protecting, private, information, ...</td>\n",
       "    </tr>\n",
       "    <tr>\n",
       "      <th>4</th>\n",
       "      <td>pp</td>\n",
       "      <td>/Users/dbm/Downloads/OPP-115/sanitized_policie...</td>\n",
       "      <td>Privacy Security and Accessibility Policies US...</td>\n",
       "      <td></td>\n",
       "      <td>4</td>\n",
       "      <td>2.0</td>\n",
       "      <td>0.7785</td>\n",
       "      <td>information, site, service, user, website, per...</td>\n",
       "      <td>[security, accessibility, policy, doesnt, coll...</td>\n",
       "    </tr>\n",
       "  </tbody>\n",
       "</table>\n",
       "</div>"
      ],
      "text/plain": [
       "  doc_type                                               file  \\\n",
       "0       pp  /Users/dbm/Downloads/OPP-115/sanitized_policie...   \n",
       "1       pp  /Users/dbm/Downloads/OPP-115/sanitized_policie...   \n",
       "2       pp  /Users/dbm/Downloads/OPP-115/sanitized_policie...   \n",
       "3       pp  /Users/dbm/Downloads/OPP-115/sanitized_policie...   \n",
       "4       pp  /Users/dbm/Downloads/OPP-115/sanitized_policie...   \n",
       "\n",
       "                                                text  year  Document_No  \\\n",
       "0  Privacy Policy Last Modified March 25 2013 Thi...  2013            0   \n",
       "1   Welcome to the Google Privacy Policy When you...  2015            1   \n",
       "2   Web Privacy Statement Austin Community Colleg...                  2   \n",
       "3  Privacy Policy PBS is committed to protecting ...  2009            3   \n",
       "4  Privacy Security and Accessibility Policies US...                  4   \n",
       "\n",
       "   Dominant_Topic  Topic_Perc_Contrib  \\\n",
       "0             2.0              0.3610   \n",
       "1             2.0              0.9922   \n",
       "2             3.0              0.9234   \n",
       "3             5.0              0.4420   \n",
       "4             2.0              0.7785   \n",
       "\n",
       "                                            Keywords  \\\n",
       "0  information, site, service, user, website, per...   \n",
       "1  information, site, service, user, website, per...   \n",
       "2  information, site, service, party, third, pers...   \n",
       "3  information, site, service, email, party, webs...   \n",
       "4  information, site, service, user, website, per...   \n",
       "\n",
       "                                                Text  \n",
       "0  [last, modified, march, latinpost, site, inten...  \n",
       "1  [welcome, google, google, service, trust, info...  \n",
       "2  [statement, austin, community, college, commit...  \n",
       "3  [committed, protecting, private, information, ...  \n",
       "4  [security, accessibility, policy, doesnt, coll...  "
      ]
     },
     "execution_count": 53,
     "metadata": {},
     "output_type": "execute_result"
    }
   ],
   "source": [
    "df_dominant_topic.head(2)\n",
    "# merge topic info with main df\n",
    "df_with_topic = pd.concat([df, df_dominant_topic], axis = 1)\n",
    "df_with_topic.head(5)"
   ]
  },
  {
   "cell_type": "markdown",
   "metadata": {},
   "source": [
    "### Summarize by topic"
   ]
  },
  {
   "cell_type": "code",
   "execution_count": 55,
   "metadata": {
    "ExecuteTime": {
     "end_time": "2019-02-11T20:53:30.182412Z",
     "start_time": "2019-02-11T20:52:26.435706Z"
    }
   },
   "outputs": [
    {
     "ename": "KeyboardInterrupt",
     "evalue": "",
     "output_type": "error",
     "traceback": [
      "\u001b[0;31m---------------------------------------------------------------------------\u001b[0m",
      "\u001b[0;31mKeyboardInterrupt\u001b[0m                         Traceback (most recent call last)",
      "\u001b[0;32m<ipython-input-55-4afc87e495f1>\u001b[0m in \u001b[0;36m<module>\u001b[0;34m\u001b[0m\n\u001b[1;32m     16\u001b[0m \u001b[0;32mfor\u001b[0m \u001b[0mgroup\u001b[0m\u001b[0;34m,\u001b[0m \u001b[0m_df\u001b[0m \u001b[0;32min\u001b[0m \u001b[0mtmp\u001b[0m\u001b[0;34m:\u001b[0m\u001b[0;34m\u001b[0m\u001b[0m\n\u001b[1;32m     17\u001b[0m \u001b[0;31m#     display(' '.join(_df['story']))\u001b[0m\u001b[0;34m\u001b[0m\u001b[0;34m\u001b[0m\u001b[0m\n\u001b[0;32m---> 18\u001b[0;31m     \u001b[0msummary\u001b[0m \u001b[0;34m=\u001b[0m \u001b[0msummarize\u001b[0m\u001b[0;34m(\u001b[0m\u001b[0;34m' '\u001b[0m\u001b[0;34m.\u001b[0m\u001b[0mjoin\u001b[0m\u001b[0;34m(\u001b[0m\u001b[0m_df\u001b[0m\u001b[0;34m[\u001b[0m\u001b[0;34m'text'\u001b[0m\u001b[0;34m]\u001b[0m\u001b[0;34m)\u001b[0m\u001b[0;34m,\u001b[0m \u001b[0mratio\u001b[0m \u001b[0;34m=\u001b[0m \u001b[0;36m.05\u001b[0m\u001b[0;34m,\u001b[0m \u001b[0msplit\u001b[0m \u001b[0;34m=\u001b[0m \u001b[0;32mTrue\u001b[0m\u001b[0;34m)\u001b[0m\u001b[0;34m\u001b[0m\u001b[0m\n\u001b[0m\u001b[1;32m     19\u001b[0m     \u001b[0msummary_stories\u001b[0m\u001b[0;34m.\u001b[0m\u001b[0mappend\u001b[0m\u001b[0;34m(\u001b[0m\u001b[0;34m{\u001b[0m\u001b[0;34m'Dominant Topic'\u001b[0m\u001b[0;34m:\u001b[0m\u001b[0mgroup\u001b[0m\u001b[0;34m,\u001b[0m \u001b[0;34m'Summary'\u001b[0m\u001b[0;34m:\u001b[0m\u001b[0msummary\u001b[0m\u001b[0;34m}\u001b[0m\u001b[0;34m)\u001b[0m\u001b[0;34m\u001b[0m\u001b[0m\n\u001b[1;32m     20\u001b[0m \u001b[0;34m\u001b[0m\u001b[0m\n",
      "\u001b[0;32m/anaconda3/envs/insight_s19/lib/python3.6/site-packages/gensim/summarization/summarizer.py\u001b[0m in \u001b[0;36msummarize\u001b[0;34m(text, ratio, word_count, split)\u001b[0m\n\u001b[1;32m    428\u001b[0m     \u001b[0mcorpus\u001b[0m \u001b[0;34m=\u001b[0m \u001b[0m_build_corpus\u001b[0m\u001b[0;34m(\u001b[0m\u001b[0msentences\u001b[0m\u001b[0;34m)\u001b[0m\u001b[0;34m\u001b[0m\u001b[0m\n\u001b[1;32m    429\u001b[0m \u001b[0;34m\u001b[0m\u001b[0m\n\u001b[0;32m--> 430\u001b[0;31m     \u001b[0mmost_important_docs\u001b[0m \u001b[0;34m=\u001b[0m \u001b[0msummarize_corpus\u001b[0m\u001b[0;34m(\u001b[0m\u001b[0mcorpus\u001b[0m\u001b[0;34m,\u001b[0m \u001b[0mratio\u001b[0m\u001b[0;34m=\u001b[0m\u001b[0mratio\u001b[0m \u001b[0;32mif\u001b[0m \u001b[0mword_count\u001b[0m \u001b[0;32mis\u001b[0m \u001b[0;32mNone\u001b[0m \u001b[0;32melse\u001b[0m \u001b[0;36m1\u001b[0m\u001b[0;34m)\u001b[0m\u001b[0;34m\u001b[0m\u001b[0m\n\u001b[0m\u001b[1;32m    431\u001b[0m \u001b[0;34m\u001b[0m\u001b[0m\n\u001b[1;32m    432\u001b[0m     \u001b[0;31m# If couldn't get important docs, the algorithm ends.\u001b[0m\u001b[0;34m\u001b[0m\u001b[0;34m\u001b[0m\u001b[0m\n",
      "\u001b[0;32m/anaconda3/envs/insight_s19/lib/python3.6/site-packages/gensim/summarization/summarizer.py\u001b[0m in \u001b[0;36msummarize_corpus\u001b[0;34m(corpus, ratio)\u001b[0m\n\u001b[1;32m    358\u001b[0m \u001b[0;34m\u001b[0m\u001b[0m\n\u001b[1;32m    359\u001b[0m     \u001b[0mgraph\u001b[0m \u001b[0;34m=\u001b[0m \u001b[0m_build_graph\u001b[0m\u001b[0;34m(\u001b[0m\u001b[0mhashable_corpus\u001b[0m\u001b[0;34m)\u001b[0m\u001b[0;34m\u001b[0m\u001b[0m\n\u001b[0;32m--> 360\u001b[0;31m     \u001b[0m_set_graph_edge_weights\u001b[0m\u001b[0;34m(\u001b[0m\u001b[0mgraph\u001b[0m\u001b[0;34m)\u001b[0m\u001b[0;34m\u001b[0m\u001b[0m\n\u001b[0m\u001b[1;32m    361\u001b[0m     \u001b[0m_remove_unreachable_nodes\u001b[0m\u001b[0;34m(\u001b[0m\u001b[0mgraph\u001b[0m\u001b[0;34m)\u001b[0m\u001b[0;34m\u001b[0m\u001b[0m\n\u001b[1;32m    362\u001b[0m \u001b[0;34m\u001b[0m\u001b[0m\n",
      "\u001b[0;32m/anaconda3/envs/insight_s19/lib/python3.6/site-packages/gensim/summarization/summarizer.py\u001b[0m in \u001b[0;36m_set_graph_edge_weights\u001b[0;34m(graph)\u001b[0m\n\u001b[1;32m     95\u001b[0m \u001b[0;34m\u001b[0m\u001b[0m\n\u001b[1;32m     96\u001b[0m             \u001b[0;32mif\u001b[0m \u001b[0;32mnot\u001b[0m \u001b[0mgraph\u001b[0m\u001b[0;34m.\u001b[0m\u001b[0mhas_edge\u001b[0m\u001b[0;34m(\u001b[0m\u001b[0medge_1\u001b[0m\u001b[0;34m)\u001b[0m\u001b[0;34m:\u001b[0m\u001b[0;34m\u001b[0m\u001b[0m\n\u001b[0;32m---> 97\u001b[0;31m                 \u001b[0mgraph\u001b[0m\u001b[0;34m.\u001b[0m\u001b[0madd_edge\u001b[0m\u001b[0;34m(\u001b[0m\u001b[0medge_1\u001b[0m\u001b[0;34m,\u001b[0m \u001b[0mweights\u001b[0m\u001b[0;34m[\u001b[0m\u001b[0mi\u001b[0m\u001b[0;34m]\u001b[0m\u001b[0;34m[\u001b[0m\u001b[0mj\u001b[0m\u001b[0;34m]\u001b[0m\u001b[0;34m)\u001b[0m\u001b[0;34m\u001b[0m\u001b[0m\n\u001b[0m\u001b[1;32m     98\u001b[0m             \u001b[0;32mif\u001b[0m \u001b[0;32mnot\u001b[0m \u001b[0mgraph\u001b[0m\u001b[0;34m.\u001b[0m\u001b[0mhas_edge\u001b[0m\u001b[0;34m(\u001b[0m\u001b[0medge_2\u001b[0m\u001b[0;34m)\u001b[0m\u001b[0;34m:\u001b[0m\u001b[0;34m\u001b[0m\u001b[0m\n\u001b[1;32m     99\u001b[0m                 \u001b[0mgraph\u001b[0m\u001b[0;34m.\u001b[0m\u001b[0madd_edge\u001b[0m\u001b[0;34m(\u001b[0m\u001b[0medge_2\u001b[0m\u001b[0;34m,\u001b[0m \u001b[0mweights\u001b[0m\u001b[0;34m[\u001b[0m\u001b[0mj\u001b[0m\u001b[0;34m]\u001b[0m\u001b[0;34m[\u001b[0m\u001b[0mi\u001b[0m\u001b[0;34m]\u001b[0m\u001b[0;34m)\u001b[0m\u001b[0;34m\u001b[0m\u001b[0m\n",
      "\u001b[0;32m/anaconda3/envs/insight_s19/lib/python3.6/site-packages/gensim/summarization/graph.py\u001b[0m in \u001b[0;36madd_edge\u001b[0;34m(self, edge, wt, label, attrs)\u001b[0m\n\u001b[1;32m    312\u001b[0m             \u001b[0mattrs\u001b[0m \u001b[0;34m=\u001b[0m \u001b[0;34m[\u001b[0m\u001b[0;34m]\u001b[0m\u001b[0;34m\u001b[0m\u001b[0m\n\u001b[1;32m    313\u001b[0m         \u001b[0mu\u001b[0m\u001b[0;34m,\u001b[0m \u001b[0mv\u001b[0m \u001b[0;34m=\u001b[0m \u001b[0medge\u001b[0m\u001b[0;34m\u001b[0m\u001b[0m\n\u001b[0;32m--> 314\u001b[0;31m         \u001b[0;32mif\u001b[0m \u001b[0mv\u001b[0m \u001b[0;32mnot\u001b[0m \u001b[0;32min\u001b[0m \u001b[0mself\u001b[0m\u001b[0;34m.\u001b[0m\u001b[0mnode_neighbors\u001b[0m\u001b[0;34m[\u001b[0m\u001b[0mu\u001b[0m\u001b[0;34m]\u001b[0m \u001b[0;32mand\u001b[0m \u001b[0mu\u001b[0m \u001b[0;32mnot\u001b[0m \u001b[0;32min\u001b[0m \u001b[0mself\u001b[0m\u001b[0;34m.\u001b[0m\u001b[0mnode_neighbors\u001b[0m\u001b[0;34m[\u001b[0m\u001b[0mv\u001b[0m\u001b[0;34m]\u001b[0m\u001b[0;34m:\u001b[0m\u001b[0;34m\u001b[0m\u001b[0m\n\u001b[0m\u001b[1;32m    315\u001b[0m             \u001b[0mself\u001b[0m\u001b[0;34m.\u001b[0m\u001b[0mnode_neighbors\u001b[0m\u001b[0;34m[\u001b[0m\u001b[0mu\u001b[0m\u001b[0;34m]\u001b[0m\u001b[0;34m.\u001b[0m\u001b[0mappend\u001b[0m\u001b[0;34m(\u001b[0m\u001b[0mv\u001b[0m\u001b[0;34m)\u001b[0m\u001b[0;34m\u001b[0m\u001b[0m\n\u001b[1;32m    316\u001b[0m             \u001b[0;32mif\u001b[0m \u001b[0mu\u001b[0m \u001b[0;34m!=\u001b[0m \u001b[0mv\u001b[0m\u001b[0;34m:\u001b[0m\u001b[0;34m\u001b[0m\u001b[0m\n",
      "\u001b[0;31mKeyboardInterrupt\u001b[0m: "
     ]
    }
   ],
   "source": [
    "# Get the top n documents for each topic\n",
    "tmp = df_with_topic.groupby('Dominant_Topic')\n",
    "\n",
    "# dfs = []\n",
    "# # top_n = 3\n",
    "\n",
    "# for group, _df in tmp:\n",
    "#     indices = _df['Topic_Perc_Contrib'].sort_values(ascending=False)\n",
    "#     _df = _df[_df['Topic_Perc_Contrib'].isin(indices[:])].sort_values('Topic_Perc_Contrib', ascending=False)\n",
    "#     dfs.append(_df)\n",
    "\n",
    "# dfs = pd.concat(dfs, axis=0)\n",
    "\n",
    "summary_stories = []\n",
    "\n",
    "for group, _df in tmp:  \n",
    "#     display(' '.join(_df['story']))\n",
    "    summary = summarize(' '.join(_df['text']), ratio = .05, split = True)   \n",
    "    summary_stories.append({'Dominant Topic':group, 'Summary':summary})\n",
    "\n",
    "\n",
    "# df_with_topic = dfs.join(df.set_index('Document_No'), on='Document_No')\n",
    "# df_with_topic.head(5)"
   ]
  },
  {
   "cell_type": "code",
   "execution_count": null,
   "metadata": {
    "ExecuteTime": {
     "end_time": "2019-02-11T20:53:30.187518Z",
     "start_time": "2019-02-11T20:52:27.670Z"
    }
   },
   "outputs": [],
   "source": [
    "summary_df = pd.DataFrame(summary_stories).head(2)"
   ]
  },
  {
   "cell_type": "markdown",
   "metadata": {},
   "source": [
    "## Apply saved model to new data"
   ]
  },
  {
   "cell_type": "code",
   "execution_count": 96,
   "metadata": {
    "ExecuteTime": {
     "end_time": "2019-02-13T00:10:46.131439Z",
     "start_time": "2019-02-13T00:10:45.657897Z"
    }
   },
   "outputs": [
    {
     "name": "stdout",
     "output_type": "stream",
     "text": [
      "Number of words in the new document: 443\n",
      "CPU times: user 43.2 ms, sys: 2.23 ms, total: 45.5 ms\n",
      "Wall time: 470 ms\n"
     ]
    }
   ],
   "source": [
    "%%time\n",
    "# Clean, lemmatize, and tokenize text\n",
    "url = 'https://machinebox.io/privacy'\n",
    "new_co_name = list(url.split('/')[2])\n",
    "new_pp = get_new_pp(url = url)\n",
    "new_pp_words = tokenize(pd.Series(new_pp), stop_words=stop_words,\n",
    "                      frequent_words=(frequent_words+new_co_name))\n",
    "# print(len(new_pp_words))\n",
    "print(f'Number of words in the new document: {len(new_pp_words[0])}')"
   ]
  },
  {
   "cell_type": "code",
   "execution_count": 117,
   "metadata": {
    "ExecuteTime": {
     "end_time": "2019-02-13T03:46:46.023443Z",
     "start_time": "2019-02-13T03:46:46.020564Z"
    }
   },
   "outputs": [],
   "source": [
    "# Convert pd series to flattened list \n",
    "new_pp_words = sum(new_pp_words.tolist(), [])"
   ]
  },
  {
   "cell_type": "code",
   "execution_count": 116,
   "metadata": {
    "ExecuteTime": {
     "end_time": "2019-02-13T03:43:10.540830Z",
     "start_time": "2019-02-13T03:43:10.521977Z"
    }
   },
   "outputs": [
    {
     "name": "stdout",
     "output_type": "stream",
     "text": [
      "[(2, 1), (4, 2), (5, 1), (6, 7), (8, 1), (15, 1), (16, 1), (19, 4), (22, 1), (32, 1), (40, 1), (43, 1), (49, 1), (53, 1), (55, 1), (73, 1), (75, 2), (76, 1), (77, 1), (84, 1), (97, 3), (98, 2), (127, 4), (136, 1), (137, 4), (147, 1), (154, 2), (157, 1), (158, 2), (160, 2), (163, 1), (177, 4), (183, 2), (198, 1), (199, 1), (207, 2), (213, 1), (216, 2), (220, 3), (223, 2), (243, 1), (252, 2), (258, 1), (260, 1), (277, 1), (289, 1), (300, 2), (314, 1), (325, 1), (332, 1), (341, 1), (352, 2), (355, 1), (357, 5), (366, 31), (375, 1), (377, 1), (378, 1), (406, 2), (422, 1), (433, 3), (462, 3), (474, 2), (482, 1), (496, 2), (497, 3), (506, 2), (509, 5), (515, 18), (522, 1), (532, 1), (534, 2), (540, 3), (541, 1), (548, 1), (549, 4), (550, 3), (551, 1), (552, 1), (556, 1), (560, 2), (561, 2), (562, 1), (563, 8), (564, 1), (565, 4), (566, 1), (571, 5), (573, 1), (580, 3), (581, 1), (592, 3), (595, 1), (602, 1), (605, 1), (617, 5), (620, 1), (621, 1), (622, 1), (623, 1), (627, 1), (640, 1), (655, 4), (658, 1), (664, 1), (668, 6), (669, 1), (686, 1), (688, 1), (702, 2), (718, 1), (719, 4), (746, 2), (751, 1), (752, 2), (753, 2), (761, 2), (772, 4), (788, 1), (791, 1), (796, 1), (807, 6), (809, 1), (814, 1), (835, 3), (852, 1), (859, 1), (861, 1), (862, 1), (870, 1), (878, 1), (887, 1), (939, 2), (949, 1), (959, 1), (960, 2), (961, 1), (980, 1), (988, 1), (1029, 1), (1031, 1), (1041, 1), (1068, 1), (1069, 1), (1161, 1), (1242, 1), (1262, 1), (1325, 1), (1359, 1), (1385, 1), (1403, 1), (1471, 1), (1497, 1), (1506, 1), (1524, 1), (1546, 1), (1548, 3), (1603, 2), (1632, 1), (1712, 1), (1798, 1), (1814, 1), (1821, 1), (1856, 1), (1889, 1), (1987, 1), (2023, 1), (2072, 1), (2081, 1), (2107, 1), (2144, 1), (2209, 1), (2235, 22), (2251, 1), (2254, 1), (2310, 1), (2349, 1), (2377, 1), (2411, 1), (2446, 1), (2642, 1), (2820, 1), (3033, 1), (3372, 2), (3858, 1), (3999, 1), (4002, 1), (4052, 1), (4311, 1), (4365, 4), (5065, 1), (5149, 1), (5411, 1), (5434, 1), (5579, 1), (6456, 1), (6854, 2), (7113, 6), (7180, 1), (7294, 1)]\n",
      "[(0, 0.5053236), (2, 0.41041872), (3, 0.0829788)]\n"
     ]
    }
   ],
   "source": [
    "new_doc_bow = id2word.doc2bow(new_pp_words)\n",
    "print(new_doc_bow)\n",
    "print(optimal_model.get_document_topics(new_doc_bow))"
   ]
  },
  {
   "cell_type": "code",
   "execution_count": 143,
   "metadata": {
    "ExecuteTime": {
     "end_time": "2019-02-13T04:32:58.416666Z",
     "start_time": "2019-02-13T04:32:58.409803Z"
    }
   },
   "outputs": [
    {
     "data": {
      "text/plain": [
       "[(0, 0.48909467), (2, 0.42385474), (3, 0.08577168)]"
      ]
     },
     "execution_count": 143,
     "metadata": {},
     "output_type": "execute_result"
    }
   ],
   "source": [
    "# Create a new corpus, made of previously unseen documents.\n",
    "\n",
    "# other_corpus = [common_dictionary.doc2bow(text) for text in new_pp_words]\n",
    "# other_corpus[0]\n",
    "# unseen_doc = other_corpus[0]\n",
    "vector = optimal_model[new_doc_bow]  # get topic probability distribution for a document\n",
    "vector\n",
    "# vector = lda[unseen_doc]  # get topic probability distribution for a document\n",
    "# # Update the model by incrementally training on the new corpus\n",
    "\n",
    "# optimal_model.update(new_doc_bow)\n",
    "# vector = lda[unseen_doc]"
   ]
  },
  {
   "cell_type": "code",
   "execution_count": 146,
   "metadata": {
    "ExecuteTime": {
     "end_time": "2019-02-13T04:33:39.652879Z",
     "start_time": "2019-02-13T04:33:39.650023Z"
    }
   },
   "outputs": [],
   "source": [
    "vector[0][0]\n",
    "prob=0.3"
   ]
  },
  {
   "cell_type": "code",
   "execution_count": 148,
   "metadata": {
    "ExecuteTime": {
     "end_time": "2019-02-13T04:36:41.960283Z",
     "start_time": "2019-02-13T04:36:41.956205Z"
    }
   },
   "outputs": [],
   "source": [
    "def get_topics_4_new_docs(model=optimal_model, topics=vector, prob = .3):\n",
    "    topic_keywords = [model.show_topics()[topic[0]] for topic in vector if topic[1] > prob]\n",
    "    return topic_keywords"
   ]
  },
  {
   "cell_type": "code",
   "execution_count": 149,
   "metadata": {
    "ExecuteTime": {
     "end_time": "2019-02-13T04:37:15.095747Z",
     "start_time": "2019-02-13T04:37:15.090011Z"
    }
   },
   "outputs": [
    {
     "data": {
      "text/plain": [
       "[(0,\n",
       "  '0.052*\"information\" + 0.017*\"service\" + 0.016*\"site\" + 0.015*\"personal\" + 0.012*\"party\" + 0.011*\"website\" + 0.009*\"third\" + 0.008*\"provide\" + 0.008*\"email\" + 0.007*\"user\"'),\n",
       " (2,\n",
       "  '0.060*\"information\" + 0.018*\"site\" + 0.016*\"service\" + 0.011*\"user\" + 0.010*\"website\" + 0.010*\"personal\" + 0.009*\"party\" + 0.009*\"cooky\" + 0.008*\"collect\" + 0.008*\"address\"')]"
      ]
     },
     "execution_count": 149,
     "metadata": {},
     "output_type": "execute_result"
    }
   ],
   "source": [
    "get_topics_4_new_docs(model = optimal_model, topics=vector)"
   ]
  },
  {
   "cell_type": "code",
   "execution_count": null,
   "metadata": {},
   "outputs": [],
   "source": [
    "lda_index = similarities.MatrixSimilarity(lda_model[corpus])\n",
    " \n",
    "# Let's perform some queries\n",
    "similarities = lda_index[lda_model[bow]]\n",
    "# Sort the similarities\n",
    "similarities = sorted(enumerate(similarities), key=lambda item: -item[1])\n",
    " \n",
    "# Top most similar documents:\n",
    "print(similarities[:10])\n",
    "# [(104, 0.87591344), (178, 0.86124849), (31, 0.8604598), (77, 0.84932965), (85, 0.84843522), (135, 0.84421808), (215, 0.84184396), (353, 0.84038532), (254, 0.83498049), (13, 0.82832891)]\n",
    " \n",
    "# Let's see what's the most similar document\n",
    "document_id, similarity = similarities[0]\n",
    "print(data[document_id][:1000])"
   ]
  },
  {
   "cell_type": "markdown",
   "metadata": {},
   "source": [
    "## References\n",
    "- https://radimrehurek.com/gensim/models/ldamodel.html\n",
    "- https://nbviewer.jupyter.org/github/bmabey/hacker_news_topic_modelling/blob/master/HN%20Topic%20Model%20Talk.ipynb\n",
    "- https://towardsdatascience.com/topic-modelling-in-python-with-nltk-and-gensim-4ef03213cd21"
   ]
  },
  {
   "cell_type": "code",
   "execution_count": null,
   "metadata": {},
   "outputs": [],
   "source": []
  }
 ],
 "metadata": {
  "kernelspec": {
   "display_name": "Python 3",
   "language": "python",
   "name": "python3"
  },
  "language_info": {
   "codemirror_mode": {
    "name": "ipython",
    "version": 3
   },
   "file_extension": ".py",
   "mimetype": "text/x-python",
   "name": "python",
   "nbconvert_exporter": "python",
   "pygments_lexer": "ipython3",
   "version": "3.6.0"
  },
  "latex_envs": {
   "LaTeX_envs_menu_present": true,
   "autoclose": false,
   "autocomplete": true,
   "bibliofile": "biblio.bib",
   "cite_by": "apalike",
   "current_citInitial": 1,
   "eqLabelWithNumbers": true,
   "eqNumInitial": 1,
   "hotkeys": {
    "equation": "Ctrl-E",
    "itemize": "Ctrl-I"
   },
   "labels_anchors": false,
   "latex_user_defs": false,
   "report_style_numbering": false,
   "user_envs_cfg": false
  },
  "toc": {
   "base_numbering": 1,
   "nav_menu": {},
   "number_sections": true,
   "sideBar": true,
   "skip_h1_title": false,
   "title_cell": "Table of Contents",
   "title_sidebar": "Contents",
   "toc_cell": false,
   "toc_position": {},
   "toc_section_display": true,
   "toc_window_display": false
  },
  "varInspector": {
   "cols": {
    "lenName": 16,
    "lenType": 16,
    "lenVar": 40
   },
   "kernels_config": {
    "python": {
     "delete_cmd_postfix": "",
     "delete_cmd_prefix": "del ",
     "library": "var_list.py",
     "varRefreshCmd": "print(var_dic_list())"
    },
    "r": {
     "delete_cmd_postfix": ") ",
     "delete_cmd_prefix": "rm(",
     "library": "var_list.r",
     "varRefreshCmd": "cat(var_dic_list()) "
    }
   },
   "types_to_exclude": [
    "module",
    "function",
    "builtin_function_or_method",
    "instance",
    "_Feature"
   ],
   "window_display": false
  }
 },
 "nbformat": 4,
 "nbformat_minor": 2
}
